{
  "nbformat": 4,
  "nbformat_minor": 0,
  "metadata": {
    "colab": {
      "provenance": [],
      "authorship_tag": "ABX9TyP4uMdSVZ3ebceTxxiDqoBH",
      "include_colab_link": true
    },
    "kernelspec": {
      "name": "python3",
      "display_name": "Python 3"
    },
    "language_info": {
      "name": "python"
    },
    "widgets": {
      "application/vnd.jupyter.widget-state+json": {
        "adaaafc63c334fab91d19e31e02154b6": {
          "model_module": "jupyter-leaflet",
          "model_name": "LeafletMapModel",
          "model_module_version": "^0.20",
          "state": {
            "_dom_classes": [],
            "_model_module": "jupyter-leaflet",
            "_model_module_version": "^0.20",
            "_model_name": "LeafletMapModel",
            "_view_count": null,
            "_view_module": "jupyter-leaflet",
            "_view_module_version": "^0.20",
            "_view_name": "LeafletMapView",
            "bottom": 486422,
            "bounce_at_zoom_limits": true,
            "box_zoom": true,
            "center": [
              12.990385039285822,
              77.5530050751905
            ],
            "close_popup_on_click": true,
            "controls": [
              "IPY_MODEL_904fe10094144547b510a0654c685cb0",
              "IPY_MODEL_0cd5aa7a6e054eab8703ff7733545fec",
              "IPY_MODEL_f5e0cfacef1b412caa32f3b9a53eee62",
              "IPY_MODEL_c528b24fa0264ca69082e48f0e207dac",
              "IPY_MODEL_72a34f0ae6514a69a7efca7e7e297009",
              "IPY_MODEL_f47de84d9fc44f2fa6eae7eaec100454",
              "IPY_MODEL_44d684e60e3844a79b1d1ae6660e6010",
              "IPY_MODEL_f03071ce0d704f528d8b231abc820ec9"
            ],
            "crs": {
              "name": "EPSG3857",
              "custom": false
            },
            "default_style": "IPY_MODEL_143c936ead6a4ee794e94cedbc85abb6",
            "double_click_zoom": true,
            "dragging": true,
            "dragging_style": "IPY_MODEL_58b573ef51c34922b4b842bf22ba1741",
            "east": 77.68775939941408,
            "fullscreen": false,
            "inertia": true,
            "inertia_deceleration": 3000,
            "inertia_max_speed": 1500,
            "interpolation": "bilinear",
            "keyboard": true,
            "keyboard_pan_offset": 80,
            "keyboard_zoom_offset": 1,
            "layers": [
              "IPY_MODEL_bdace35764f247f59a1e53ea417748a8",
              "IPY_MODEL_bb0459caf749414d8f3cf8af73aec6b4"
            ],
            "layout": "IPY_MODEL_c4aa8e8bdedc4abe97af5ef733f8aabd",
            "left": 749785,
            "max_zoom": 24,
            "min_zoom": null,
            "modisdate": "2025-09-19",
            "north": 13.090848157714122,
            "options": [
              "bounce_at_zoom_limits",
              "box_zoom",
              "center",
              "close_popup_on_click",
              "double_click_zoom",
              "dragging",
              "fullscreen",
              "inertia",
              "inertia_deceleration",
              "inertia_max_speed",
              "interpolation",
              "keyboard",
              "keyboard_pan_offset",
              "keyboard_zoom_offset",
              "max_zoom",
              "min_zoom",
              "prefer_canvas",
              "scroll_wheel_zoom",
              "tap",
              "tap_tolerance",
              "touch_zoom",
              "world_copy_jump",
              "zoom",
              "zoom_animation_threshold",
              "zoom_delta",
              "zoom_snap"
            ],
            "panes": {},
            "prefer_canvas": false,
            "right": 750570,
            "scroll_wheel_zoom": true,
            "south": 12.890126532221059,
            "style": "IPY_MODEL_2999f409d17e458eadfe2a11d90b5ab4",
            "tap": true,
            "tap_tolerance": 15,
            "top": 485822,
            "touch_zoom": true,
            "west": 77.41825103759767,
            "window_url": "https://j0rxy9yc3sg-496ff2e9c6d22116-0-colab.googleusercontent.com/outputframe.html?vrz=colab_20250916-060051_RC00_807562249",
            "world_copy_jump": false,
            "zoom": 12,
            "zoom_animation_threshold": 4,
            "zoom_delta": 1,
            "zoom_snap": 1
          }
        },
        "904fe10094144547b510a0654c685cb0": {
          "model_module": "jupyter-leaflet",
          "model_name": "LeafletWidgetControlModel",
          "model_module_version": "^0.20",
          "state": {
            "_model_module": "jupyter-leaflet",
            "_model_module_version": "^0.20",
            "_model_name": "LeafletWidgetControlModel",
            "_view_count": null,
            "_view_module": "jupyter-leaflet",
            "_view_module_version": "^0.20",
            "_view_name": "LeafletWidgetControlView",
            "max_height": null,
            "max_width": null,
            "min_height": null,
            "min_width": null,
            "options": [
              "position",
              "transparent_bg"
            ],
            "position": "topleft",
            "transparent_bg": false,
            "widget": "IPY_MODEL_ed90e022064f43f6a69e5e495da44ffb"
          }
        },
        "0cd5aa7a6e054eab8703ff7733545fec": {
          "model_module": "jupyter-leaflet",
          "model_name": "LeafletZoomControlModel",
          "model_module_version": "^0.20",
          "state": {
            "_model_module": "jupyter-leaflet",
            "_model_module_version": "^0.20",
            "_model_name": "LeafletZoomControlModel",
            "_view_count": null,
            "_view_module": "jupyter-leaflet",
            "_view_module_version": "^0.20",
            "_view_name": "LeafletZoomControlView",
            "options": [
              "position",
              "zoom_in_text",
              "zoom_in_title",
              "zoom_out_text",
              "zoom_out_title"
            ],
            "position": "topleft",
            "zoom_in_text": "+",
            "zoom_in_title": "Zoom in",
            "zoom_out_text": "-",
            "zoom_out_title": "Zoom out"
          }
        },
        "f5e0cfacef1b412caa32f3b9a53eee62": {
          "model_module": "jupyter-leaflet",
          "model_name": "LeafletFullScreenControlModel",
          "model_module_version": "^0.20",
          "state": {
            "_model_module": "jupyter-leaflet",
            "_model_module_version": "^0.20",
            "_model_name": "LeafletFullScreenControlModel",
            "_view_count": null,
            "_view_module": "jupyter-leaflet",
            "_view_module_version": "^0.20",
            "_view_name": "LeafletFullScreenControlView",
            "options": [
              "position"
            ],
            "position": "topleft"
          }
        },
        "c528b24fa0264ca69082e48f0e207dac": {
          "model_module": "jupyter-leaflet",
          "model_name": "LeafletDrawControlModel",
          "model_module_version": "^0.20",
          "state": {
            "_model_module": "jupyter-leaflet",
            "_model_module_version": "^0.20",
            "_model_name": "LeafletDrawControlModel",
            "_view_count": null,
            "_view_module": "jupyter-leaflet",
            "_view_module_version": "^0.20",
            "_view_name": "LeafletDrawControlView",
            "circle": {},
            "circlemarker": {},
            "data": [],
            "edit": true,
            "marker": {
              "shapeOptions": {
                "color": "#3388ff"
              }
            },
            "options": [
              "position"
            ],
            "polygon": {
              "shapeOptions": {}
            },
            "polyline": {
              "shapeOptions": {}
            },
            "position": "topleft",
            "rectangle": {
              "shapeOptions": {
                "color": "#3388ff"
              }
            },
            "remove": true
          }
        },
        "72a34f0ae6514a69a7efca7e7e297009": {
          "model_module": "jupyter-leaflet",
          "model_name": "LeafletScaleControlModel",
          "model_module_version": "^0.20",
          "state": {
            "_model_module": "jupyter-leaflet",
            "_model_module_version": "^0.20",
            "_model_name": "LeafletScaleControlModel",
            "_view_count": null,
            "_view_module": "jupyter-leaflet",
            "_view_module_version": "^0.20",
            "_view_name": "LeafletScaleControlView",
            "imperial": true,
            "max_width": 100,
            "metric": true,
            "options": [
              "imperial",
              "max_width",
              "metric",
              "position",
              "update_when_idle"
            ],
            "position": "bottomleft",
            "update_when_idle": false
          }
        },
        "f47de84d9fc44f2fa6eae7eaec100454": {
          "model_module": "jupyter-leaflet",
          "model_name": "LeafletMeasureControlModel",
          "model_module_version": "^0.20",
          "state": {
            "_custom_units": {},
            "_model_module": "jupyter-leaflet",
            "_model_module_version": "^0.20",
            "_model_name": "LeafletMeasureControlModel",
            "_view_count": null,
            "_view_module": "jupyter-leaflet",
            "_view_module_version": "^0.20",
            "_view_name": "LeafletMeasureControlView",
            "active_color": "orange",
            "capture_z_index": 10000,
            "completed_color": "#C8F2BE",
            "options": [
              "active_color",
              "capture_z_index",
              "completed_color",
              "popup_options",
              "position",
              "primary_area_unit",
              "primary_length_unit",
              "secondary_area_unit",
              "secondary_length_unit"
            ],
            "popup_options": {
              "className": "leaflet-measure-resultpopup",
              "autoPanPadding": [
                10,
                10
              ]
            },
            "position": "bottomleft",
            "primary_area_unit": "acres",
            "primary_length_unit": "kilometers",
            "secondary_area_unit": null,
            "secondary_length_unit": null
          }
        },
        "44d684e60e3844a79b1d1ae6660e6010": {
          "model_module": "jupyter-leaflet",
          "model_name": "LeafletWidgetControlModel",
          "model_module_version": "^0.20",
          "state": {
            "_model_module": "jupyter-leaflet",
            "_model_module_version": "^0.20",
            "_model_name": "LeafletWidgetControlModel",
            "_view_count": null,
            "_view_module": "jupyter-leaflet",
            "_view_module_version": "^0.20",
            "_view_name": "LeafletWidgetControlView",
            "max_height": null,
            "max_width": null,
            "min_height": null,
            "min_width": null,
            "options": [
              "position",
              "transparent_bg"
            ],
            "position": "topright",
            "transparent_bg": false,
            "widget": "IPY_MODEL_848491f8bfb0453baff3a7e28d5de47e"
          }
        },
        "f03071ce0d704f528d8b231abc820ec9": {
          "model_module": "jupyter-leaflet",
          "model_name": "LeafletAttributionControlModel",
          "model_module_version": "^0.20",
          "state": {
            "_model_module": "jupyter-leaflet",
            "_model_module_version": "^0.20",
            "_model_name": "LeafletAttributionControlModel",
            "_view_count": null,
            "_view_module": "jupyter-leaflet",
            "_view_module_version": "^0.20",
            "_view_name": "LeafletAttributionControlView",
            "options": [
              "position",
              "prefix"
            ],
            "position": "bottomright",
            "prefix": "ipyleaflet"
          }
        },
        "143c936ead6a4ee794e94cedbc85abb6": {
          "model_module": "jupyter-leaflet",
          "model_name": "LeafletMapStyleModel",
          "model_module_version": "^0.20",
          "state": {
            "_model_module": "jupyter-leaflet",
            "_model_module_version": "^0.20",
            "_model_name": "LeafletMapStyleModel",
            "_view_count": null,
            "_view_module": "@jupyter-widgets/base",
            "_view_module_version": "1.2.0",
            "_view_name": "StyleView",
            "cursor": "grab"
          }
        },
        "58b573ef51c34922b4b842bf22ba1741": {
          "model_module": "jupyter-leaflet",
          "model_name": "LeafletMapStyleModel",
          "model_module_version": "^0.20",
          "state": {
            "_model_module": "jupyter-leaflet",
            "_model_module_version": "^0.20",
            "_model_name": "LeafletMapStyleModel",
            "_view_count": null,
            "_view_module": "@jupyter-widgets/base",
            "_view_module_version": "1.2.0",
            "_view_name": "StyleView",
            "cursor": "move"
          }
        },
        "bdace35764f247f59a1e53ea417748a8": {
          "model_module": "jupyter-leaflet",
          "model_name": "LeafletTileLayerModel",
          "model_module_version": "^0.20",
          "state": {
            "_model_module": "jupyter-leaflet",
            "_model_module_version": "^0.20",
            "_model_name": "LeafletTileLayerModel",
            "_view_count": null,
            "_view_module": "jupyter-leaflet",
            "_view_module_version": "^0.20",
            "_view_name": "LeafletTileLayerView",
            "attribution": "&copy; <a href=\"https://www.openstreetmap.org/copyright\">OpenStreetMap</a> contributors",
            "base": true,
            "bottom": true,
            "bounds": null,
            "detect_retina": false,
            "loading": false,
            "max_native_zoom": null,
            "max_zoom": 30,
            "min_native_zoom": null,
            "min_zoom": 1,
            "name": "OpenStreetMap.Mapnik",
            "no_wrap": false,
            "opacity": 1,
            "options": [
              "attribution",
              "bounds",
              "detect_retina",
              "max_native_zoom",
              "max_zoom",
              "min_native_zoom",
              "min_zoom",
              "no_wrap",
              "pm_ignore",
              "tile_size",
              "tms",
              "zoom_offset"
            ],
            "pane": "",
            "pm_ignore": true,
            "popup": null,
            "popup_max_height": null,
            "popup_max_width": 300,
            "popup_min_width": 50,
            "show_loading": false,
            "snap_ignore": true,
            "subitems": [],
            "tile_size": 256,
            "tms": false,
            "url": "https://tile.openstreetmap.org/{z}/{x}/{y}.png",
            "visible": true,
            "zoom_offset": 0
          }
        },
        "bb0459caf749414d8f3cf8af73aec6b4": {
          "model_module": "jupyter-leaflet",
          "model_name": "LeafletTileLayerModel",
          "model_module_version": "^0.20",
          "state": {
            "_model_module": "jupyter-leaflet",
            "_model_module_version": "^0.20",
            "_model_name": "LeafletTileLayerModel",
            "_view_count": null,
            "_view_module": "jupyter-leaflet",
            "_view_module_version": "^0.20",
            "_view_name": "LeafletTileLayerView",
            "attribution": "Google Earth Engine",
            "base": false,
            "bottom": true,
            "bounds": null,
            "detect_retina": false,
            "loading": false,
            "max_native_zoom": null,
            "max_zoom": 24,
            "min_native_zoom": null,
            "min_zoom": 0,
            "name": "Smallzone",
            "no_wrap": false,
            "opacity": 1,
            "options": [
              "attribution",
              "bounds",
              "detect_retina",
              "max_native_zoom",
              "max_zoom",
              "min_native_zoom",
              "min_zoom",
              "no_wrap",
              "pm_ignore",
              "tile_size",
              "tms",
              "zoom_offset"
            ],
            "pane": "",
            "pm_ignore": true,
            "popup": null,
            "popup_max_height": null,
            "popup_max_width": 300,
            "popup_min_width": 50,
            "show_loading": false,
            "snap_ignore": true,
            "subitems": [],
            "tile_size": 256,
            "tms": false,
            "url": "https://earthengine.googleapis.com/v1/projects/opencity-bbmp-climatehackathon/maps/e1037edd18884f23e748052206c49169-cde8d50969a472b37f66c7891e157d7b/tiles/{z}/{x}/{y}",
            "visible": true,
            "zoom_offset": 0
          }
        },
        "c4aa8e8bdedc4abe97af5ef733f8aabd": {
          "model_module": "@jupyter-widgets/base",
          "model_name": "LayoutModel",
          "model_module_version": "1.2.0",
          "state": {
            "_model_module": "@jupyter-widgets/base",
            "_model_module_version": "1.2.0",
            "_model_name": "LayoutModel",
            "_view_count": null,
            "_view_module": "@jupyter-widgets/base",
            "_view_module_version": "1.2.0",
            "_view_name": "LayoutView",
            "align_content": null,
            "align_items": null,
            "align_self": null,
            "border": null,
            "bottom": null,
            "display": null,
            "flex": null,
            "flex_flow": null,
            "grid_area": null,
            "grid_auto_columns": null,
            "grid_auto_flow": null,
            "grid_auto_rows": null,
            "grid_column": null,
            "grid_gap": null,
            "grid_row": null,
            "grid_template_areas": null,
            "grid_template_columns": null,
            "grid_template_rows": null,
            "height": "600px",
            "justify_content": null,
            "justify_items": null,
            "left": null,
            "margin": null,
            "max_height": null,
            "max_width": null,
            "min_height": null,
            "min_width": null,
            "object_fit": null,
            "object_position": null,
            "order": null,
            "overflow": null,
            "overflow_x": null,
            "overflow_y": null,
            "padding": null,
            "right": null,
            "top": null,
            "visibility": null,
            "width": null
          }
        },
        "2999f409d17e458eadfe2a11d90b5ab4": {
          "model_module": "jupyter-leaflet",
          "model_name": "LeafletMapStyleModel",
          "model_module_version": "^0.20",
          "state": {
            "_model_module": "jupyter-leaflet",
            "_model_module_version": "^0.20",
            "_model_name": "LeafletMapStyleModel",
            "_view_count": null,
            "_view_module": "@jupyter-widgets/base",
            "_view_module_version": "1.2.0",
            "_view_name": "StyleView",
            "cursor": "grab"
          }
        },
        "ed90e022064f43f6a69e5e495da44ffb": {
          "model_module": "@jupyter-widgets/controls",
          "model_name": "HBoxModel",
          "model_module_version": "1.5.0",
          "state": {
            "_dom_classes": [
              "geemap-colab"
            ],
            "_model_module": "@jupyter-widgets/controls",
            "_model_module_version": "1.5.0",
            "_model_name": "HBoxModel",
            "_view_count": null,
            "_view_module": "@jupyter-widgets/controls",
            "_view_module_version": "1.5.0",
            "_view_name": "HBoxView",
            "box_style": "",
            "children": [
              "IPY_MODEL_294349c004914685806e0d44866c7fc4"
            ],
            "layout": "IPY_MODEL_f9f56eb6e1664c3bae8b01df2dd98a5b"
          }
        },
        "848491f8bfb0453baff3a7e28d5de47e": {
          "model_module": "@jupyter-widgets/controls",
          "model_name": "VBoxModel",
          "model_module_version": "1.5.0",
          "state": {
            "_dom_classes": [
              "geemap-colab"
            ],
            "_model_module": "@jupyter-widgets/controls",
            "_model_module_version": "1.5.0",
            "_model_name": "VBoxModel",
            "_view_count": null,
            "_view_module": "@jupyter-widgets/controls",
            "_view_module_version": "1.5.0",
            "_view_name": "VBoxView",
            "box_style": "",
            "children": [
              "IPY_MODEL_4270d3441e3d4ae2bae3cfd4f14ab65e",
              "IPY_MODEL_427f467e4c2b45caa9a19ce15de90c0e"
            ],
            "layout": "IPY_MODEL_f5e24069a5bc46a59028441dc7c6e5e6"
          }
        },
        "294349c004914685806e0d44866c7fc4": {
          "model_module": "@jupyter-widgets/controls",
          "model_name": "ToggleButtonModel",
          "model_module_version": "1.5.0",
          "state": {
            "_dom_classes": [],
            "_model_module": "@jupyter-widgets/controls",
            "_model_module_version": "1.5.0",
            "_model_name": "ToggleButtonModel",
            "_view_count": null,
            "_view_module": "@jupyter-widgets/controls",
            "_view_module_version": "1.5.0",
            "_view_name": "ToggleButtonView",
            "button_style": "",
            "description": "",
            "description_tooltip": null,
            "disabled": false,
            "icon": "globe",
            "layout": "IPY_MODEL_446f342e3f5e4011832d3131cd78b062",
            "style": "IPY_MODEL_badf186a60a347f3bd436eac9be4897a",
            "tooltip": "Search location/data",
            "value": false
          }
        },
        "f9f56eb6e1664c3bae8b01df2dd98a5b": {
          "model_module": "@jupyter-widgets/base",
          "model_name": "LayoutModel",
          "model_module_version": "1.2.0",
          "state": {
            "_model_module": "@jupyter-widgets/base",
            "_model_module_version": "1.2.0",
            "_model_name": "LayoutModel",
            "_view_count": null,
            "_view_module": "@jupyter-widgets/base",
            "_view_module_version": "1.2.0",
            "_view_name": "LayoutView",
            "align_content": null,
            "align_items": null,
            "align_self": null,
            "border": null,
            "bottom": null,
            "display": null,
            "flex": null,
            "flex_flow": null,
            "grid_area": null,
            "grid_auto_columns": null,
            "grid_auto_flow": null,
            "grid_auto_rows": null,
            "grid_column": null,
            "grid_gap": null,
            "grid_row": null,
            "grid_template_areas": null,
            "grid_template_columns": null,
            "grid_template_rows": null,
            "height": null,
            "justify_content": null,
            "justify_items": null,
            "left": null,
            "margin": null,
            "max_height": null,
            "max_width": null,
            "min_height": null,
            "min_width": null,
            "object_fit": null,
            "object_position": null,
            "order": null,
            "overflow": null,
            "overflow_x": null,
            "overflow_y": null,
            "padding": null,
            "right": null,
            "top": null,
            "visibility": null,
            "width": null
          }
        },
        "4270d3441e3d4ae2bae3cfd4f14ab65e": {
          "model_module": "@jupyter-widgets/controls",
          "model_name": "HBoxModel",
          "model_module_version": "1.5.0",
          "state": {
            "_dom_classes": [],
            "_model_module": "@jupyter-widgets/controls",
            "_model_module_version": "1.5.0",
            "_model_name": "HBoxModel",
            "_view_count": null,
            "_view_module": "@jupyter-widgets/controls",
            "_view_module_version": "1.5.0",
            "_view_name": "HBoxView",
            "box_style": "",
            "children": [
              "IPY_MODEL_66bbffc7d8d24837845897c9b1c71683",
              "IPY_MODEL_e45eafb5f59e43aebb39f9d890c14535"
            ],
            "layout": "IPY_MODEL_b3ee511fe9b04e5a920b6403fa9c8122"
          }
        },
        "427f467e4c2b45caa9a19ce15de90c0e": {
          "model_module": "@jupyter-widgets/controls",
          "model_name": "VBoxModel",
          "model_module_version": "1.5.0",
          "state": {
            "_dom_classes": [],
            "_model_module": "@jupyter-widgets/controls",
            "_model_module_version": "1.5.0",
            "_model_name": "VBoxModel",
            "_view_count": null,
            "_view_module": "@jupyter-widgets/controls",
            "_view_module_version": "1.5.0",
            "_view_name": "VBoxView",
            "box_style": "",
            "children": [
              "IPY_MODEL_8fc74078bd2b46c59da9eb207c9e7f32"
            ],
            "layout": "IPY_MODEL_fd364edfea6b468f90bf92b6ed78665a"
          }
        },
        "f5e24069a5bc46a59028441dc7c6e5e6": {
          "model_module": "@jupyter-widgets/base",
          "model_name": "LayoutModel",
          "model_module_version": "1.2.0",
          "state": {
            "_model_module": "@jupyter-widgets/base",
            "_model_module_version": "1.2.0",
            "_model_name": "LayoutModel",
            "_view_count": null,
            "_view_module": "@jupyter-widgets/base",
            "_view_module_version": "1.2.0",
            "_view_name": "LayoutView",
            "align_content": null,
            "align_items": null,
            "align_self": null,
            "border": null,
            "bottom": null,
            "display": null,
            "flex": null,
            "flex_flow": null,
            "grid_area": null,
            "grid_auto_columns": null,
            "grid_auto_flow": null,
            "grid_auto_rows": null,
            "grid_column": null,
            "grid_gap": null,
            "grid_row": null,
            "grid_template_areas": null,
            "grid_template_columns": null,
            "grid_template_rows": null,
            "height": null,
            "justify_content": null,
            "justify_items": null,
            "left": null,
            "margin": null,
            "max_height": null,
            "max_width": null,
            "min_height": null,
            "min_width": null,
            "object_fit": null,
            "object_position": null,
            "order": null,
            "overflow": null,
            "overflow_x": null,
            "overflow_y": null,
            "padding": null,
            "right": null,
            "top": null,
            "visibility": null,
            "width": null
          }
        },
        "446f342e3f5e4011832d3131cd78b062": {
          "model_module": "@jupyter-widgets/base",
          "model_name": "LayoutModel",
          "model_module_version": "1.2.0",
          "state": {
            "_model_module": "@jupyter-widgets/base",
            "_model_module_version": "1.2.0",
            "_model_name": "LayoutModel",
            "_view_count": null,
            "_view_module": "@jupyter-widgets/base",
            "_view_module_version": "1.2.0",
            "_view_name": "LayoutView",
            "align_content": null,
            "align_items": null,
            "align_self": null,
            "border": null,
            "bottom": null,
            "display": null,
            "flex": null,
            "flex_flow": null,
            "grid_area": null,
            "grid_auto_columns": null,
            "grid_auto_flow": null,
            "grid_auto_rows": null,
            "grid_column": null,
            "grid_gap": null,
            "grid_row": null,
            "grid_template_areas": null,
            "grid_template_columns": null,
            "grid_template_rows": null,
            "height": "28px",
            "justify_content": null,
            "justify_items": null,
            "left": null,
            "margin": null,
            "max_height": null,
            "max_width": null,
            "min_height": null,
            "min_width": null,
            "object_fit": null,
            "object_position": null,
            "order": null,
            "overflow": null,
            "overflow_x": null,
            "overflow_y": null,
            "padding": "0px 0px 0px 4px",
            "right": null,
            "top": null,
            "visibility": null,
            "width": "28px"
          }
        },
        "badf186a60a347f3bd436eac9be4897a": {
          "model_module": "@jupyter-widgets/controls",
          "model_name": "DescriptionStyleModel",
          "model_module_version": "1.5.0",
          "state": {
            "_model_module": "@jupyter-widgets/controls",
            "_model_module_version": "1.5.0",
            "_model_name": "DescriptionStyleModel",
            "_view_count": null,
            "_view_module": "@jupyter-widgets/base",
            "_view_module_version": "1.2.0",
            "_view_name": "StyleView",
            "description_width": ""
          }
        },
        "66bbffc7d8d24837845897c9b1c71683": {
          "model_module": "@jupyter-widgets/controls",
          "model_name": "ToggleButtonModel",
          "model_module_version": "1.5.0",
          "state": {
            "_dom_classes": [],
            "_model_module": "@jupyter-widgets/controls",
            "_model_module_version": "1.5.0",
            "_model_name": "ToggleButtonModel",
            "_view_count": null,
            "_view_module": "@jupyter-widgets/controls",
            "_view_module_version": "1.5.0",
            "_view_name": "ToggleButtonView",
            "button_style": "",
            "description": "",
            "description_tooltip": null,
            "disabled": false,
            "icon": "server",
            "layout": "IPY_MODEL_223b0f343cd3434285bcd29a1a93295d",
            "style": "IPY_MODEL_dfe42f7dd40f4cb996e0beb5470abf5b",
            "tooltip": "Layers",
            "value": true
          }
        },
        "e45eafb5f59e43aebb39f9d890c14535": {
          "model_module": "@jupyter-widgets/controls",
          "model_name": "ToggleButtonModel",
          "model_module_version": "1.5.0",
          "state": {
            "_dom_classes": [],
            "_model_module": "@jupyter-widgets/controls",
            "_model_module_version": "1.5.0",
            "_model_name": "ToggleButtonModel",
            "_view_count": null,
            "_view_module": "@jupyter-widgets/controls",
            "_view_module_version": "1.5.0",
            "_view_name": "ToggleButtonView",
            "button_style": "",
            "description": "",
            "description_tooltip": null,
            "disabled": false,
            "icon": "wrench",
            "layout": "IPY_MODEL_3f6725836d6647969e11298073d58ae6",
            "style": "IPY_MODEL_964a0cf9975a419caa51219757605a5a",
            "tooltip": "Toolbar",
            "value": false
          }
        },
        "b3ee511fe9b04e5a920b6403fa9c8122": {
          "model_module": "@jupyter-widgets/base",
          "model_name": "LayoutModel",
          "model_module_version": "1.2.0",
          "state": {
            "_model_module": "@jupyter-widgets/base",
            "_model_module_version": "1.2.0",
            "_model_name": "LayoutModel",
            "_view_count": null,
            "_view_module": "@jupyter-widgets/base",
            "_view_module_version": "1.2.0",
            "_view_name": "LayoutView",
            "align_content": null,
            "align_items": "center",
            "align_self": null,
            "border": null,
            "bottom": null,
            "display": "flex",
            "flex": null,
            "flex_flow": null,
            "grid_area": null,
            "grid_auto_columns": null,
            "grid_auto_flow": null,
            "grid_auto_rows": null,
            "grid_column": null,
            "grid_gap": null,
            "grid_row": null,
            "grid_template_areas": null,
            "grid_template_columns": null,
            "grid_template_rows": null,
            "height": null,
            "justify_content": "flex-end",
            "justify_items": null,
            "left": null,
            "margin": null,
            "max_height": null,
            "max_width": null,
            "min_height": null,
            "min_width": null,
            "object_fit": null,
            "object_position": null,
            "order": null,
            "overflow": null,
            "overflow_x": null,
            "overflow_y": null,
            "padding": null,
            "right": null,
            "top": null,
            "visibility": null,
            "width": null
          }
        },
        "8fc74078bd2b46c59da9eb207c9e7f32": {
          "model_module": "@jupyter-widgets/controls",
          "model_name": "VBoxModel",
          "model_module_version": "1.5.0",
          "state": {
            "_dom_classes": [
              "geemap-colab"
            ],
            "_model_module": "@jupyter-widgets/controls",
            "_model_module_version": "1.5.0",
            "_model_name": "VBoxModel",
            "_view_count": null,
            "_view_module": "@jupyter-widgets/controls",
            "_view_module_version": "1.5.0",
            "_view_name": "VBoxView",
            "box_style": "",
            "children": [
              "IPY_MODEL_0bd514c5613b4e8da2d9c5f3b18f42a8",
              "IPY_MODEL_9e06875b0cdb49fc80aa167828cb6f6d"
            ],
            "layout": "IPY_MODEL_daa96354550c423a8e35f49ae174cf7b"
          }
        },
        "fd364edfea6b468f90bf92b6ed78665a": {
          "model_module": "@jupyter-widgets/base",
          "model_name": "LayoutModel",
          "model_module_version": "1.2.0",
          "state": {
            "_model_module": "@jupyter-widgets/base",
            "_model_module_version": "1.2.0",
            "_model_name": "LayoutModel",
            "_view_count": null,
            "_view_module": "@jupyter-widgets/base",
            "_view_module_version": "1.2.0",
            "_view_name": "LayoutView",
            "align_content": null,
            "align_items": null,
            "align_self": null,
            "border": null,
            "bottom": null,
            "display": null,
            "flex": null,
            "flex_flow": null,
            "grid_area": null,
            "grid_auto_columns": null,
            "grid_auto_flow": null,
            "grid_auto_rows": null,
            "grid_column": null,
            "grid_gap": null,
            "grid_row": null,
            "grid_template_areas": null,
            "grid_template_columns": null,
            "grid_template_rows": null,
            "height": null,
            "justify_content": null,
            "justify_items": null,
            "left": null,
            "margin": null,
            "max_height": null,
            "max_width": null,
            "min_height": null,
            "min_width": null,
            "object_fit": null,
            "object_position": null,
            "order": null,
            "overflow": null,
            "overflow_x": null,
            "overflow_y": null,
            "padding": null,
            "right": null,
            "top": null,
            "visibility": null,
            "width": null
          }
        },
        "223b0f343cd3434285bcd29a1a93295d": {
          "model_module": "@jupyter-widgets/base",
          "model_name": "LayoutModel",
          "model_module_version": "1.2.0",
          "state": {
            "_model_module": "@jupyter-widgets/base",
            "_model_module_version": "1.2.0",
            "_model_name": "LayoutModel",
            "_view_count": null,
            "_view_module": "@jupyter-widgets/base",
            "_view_module_version": "1.2.0",
            "_view_name": "LayoutView",
            "align_content": null,
            "align_items": null,
            "align_self": null,
            "border": null,
            "bottom": null,
            "display": null,
            "flex": null,
            "flex_flow": null,
            "grid_area": null,
            "grid_auto_columns": null,
            "grid_auto_flow": null,
            "grid_auto_rows": null,
            "grid_column": null,
            "grid_gap": null,
            "grid_row": null,
            "grid_template_areas": null,
            "grid_template_columns": null,
            "grid_template_rows": null,
            "height": "28px",
            "justify_content": null,
            "justify_items": null,
            "left": null,
            "margin": null,
            "max_height": null,
            "max_width": null,
            "min_height": null,
            "min_width": null,
            "object_fit": null,
            "object_position": null,
            "order": null,
            "overflow": null,
            "overflow_x": null,
            "overflow_y": null,
            "padding": null,
            "right": null,
            "top": null,
            "visibility": null,
            "width": "72px"
          }
        },
        "dfe42f7dd40f4cb996e0beb5470abf5b": {
          "model_module": "@jupyter-widgets/controls",
          "model_name": "DescriptionStyleModel",
          "model_module_version": "1.5.0",
          "state": {
            "_model_module": "@jupyter-widgets/controls",
            "_model_module_version": "1.5.0",
            "_model_name": "DescriptionStyleModel",
            "_view_count": null,
            "_view_module": "@jupyter-widgets/base",
            "_view_module_version": "1.2.0",
            "_view_name": "StyleView",
            "description_width": ""
          }
        },
        "3f6725836d6647969e11298073d58ae6": {
          "model_module": "@jupyter-widgets/base",
          "model_name": "LayoutModel",
          "model_module_version": "1.2.0",
          "state": {
            "_model_module": "@jupyter-widgets/base",
            "_model_module_version": "1.2.0",
            "_model_name": "LayoutModel",
            "_view_count": null,
            "_view_module": "@jupyter-widgets/base",
            "_view_module_version": "1.2.0",
            "_view_name": "LayoutView",
            "align_content": null,
            "align_items": null,
            "align_self": null,
            "border": null,
            "bottom": null,
            "display": null,
            "flex": null,
            "flex_flow": null,
            "grid_area": null,
            "grid_auto_columns": null,
            "grid_auto_flow": null,
            "grid_auto_rows": null,
            "grid_column": null,
            "grid_gap": null,
            "grid_row": null,
            "grid_template_areas": null,
            "grid_template_columns": null,
            "grid_template_rows": null,
            "height": "28px",
            "justify_content": null,
            "justify_items": null,
            "left": null,
            "margin": null,
            "max_height": null,
            "max_width": null,
            "min_height": null,
            "min_width": null,
            "object_fit": null,
            "object_position": null,
            "order": null,
            "overflow": null,
            "overflow_x": null,
            "overflow_y": null,
            "padding": "0px 0px 0px 4px",
            "right": null,
            "top": null,
            "visibility": null,
            "width": "28px"
          }
        },
        "964a0cf9975a419caa51219757605a5a": {
          "model_module": "@jupyter-widgets/controls",
          "model_name": "DescriptionStyleModel",
          "model_module_version": "1.5.0",
          "state": {
            "_model_module": "@jupyter-widgets/controls",
            "_model_module_version": "1.5.0",
            "_model_name": "DescriptionStyleModel",
            "_view_count": null,
            "_view_module": "@jupyter-widgets/base",
            "_view_module_version": "1.2.0",
            "_view_name": "StyleView",
            "description_width": ""
          }
        },
        "0bd514c5613b4e8da2d9c5f3b18f42a8": {
          "model_module": "@jupyter-widgets/controls",
          "model_name": "HBoxModel",
          "model_module_version": "1.5.0",
          "state": {
            "_dom_classes": [],
            "_model_module": "@jupyter-widgets/controls",
            "_model_module_version": "1.5.0",
            "_model_name": "HBoxModel",
            "_view_count": null,
            "_view_module": "@jupyter-widgets/controls",
            "_view_module_version": "1.5.0",
            "_view_name": "HBoxView",
            "box_style": "",
            "children": [
              "IPY_MODEL_36a7c4749bd5443f912865d200b79db6",
              "IPY_MODEL_921c1c1358a74328adf830f715c8a8fe"
            ],
            "layout": "IPY_MODEL_9c73b6c93e944a74bc9ccb49d5be28c3"
          }
        },
        "9e06875b0cdb49fc80aa167828cb6f6d": {
          "model_module": "@jupyter-widgets/controls",
          "model_name": "VBoxModel",
          "model_module_version": "1.5.0",
          "state": {
            "_dom_classes": [],
            "_model_module": "@jupyter-widgets/controls",
            "_model_module_version": "1.5.0",
            "_model_name": "VBoxModel",
            "_view_count": null,
            "_view_module": "@jupyter-widgets/controls",
            "_view_module_version": "1.5.0",
            "_view_name": "VBoxView",
            "box_style": "",
            "children": [
              "IPY_MODEL_1551133dbb4d4d91a6fc1a716c1d3c03",
              "IPY_MODEL_de08cd547b52480ca7de4a3608a4b8cd",
              "IPY_MODEL_d9267454ef994d04b3a5ac5c08eec99e"
            ],
            "layout": "IPY_MODEL_c28924500b5346b6a8c9c111c2e9257d"
          }
        },
        "daa96354550c423a8e35f49ae174cf7b": {
          "model_module": "@jupyter-widgets/base",
          "model_name": "LayoutModel",
          "model_module_version": "1.2.0",
          "state": {
            "_model_module": "@jupyter-widgets/base",
            "_model_module_version": "1.2.0",
            "_model_name": "LayoutModel",
            "_view_count": null,
            "_view_module": "@jupyter-widgets/base",
            "_view_module_version": "1.2.0",
            "_view_name": "LayoutView",
            "align_content": null,
            "align_items": null,
            "align_self": null,
            "border": null,
            "bottom": null,
            "display": null,
            "flex": null,
            "flex_flow": null,
            "grid_area": null,
            "grid_auto_columns": null,
            "grid_auto_flow": null,
            "grid_auto_rows": null,
            "grid_column": null,
            "grid_gap": null,
            "grid_row": null,
            "grid_template_areas": null,
            "grid_template_columns": null,
            "grid_template_rows": null,
            "height": null,
            "justify_content": null,
            "justify_items": null,
            "left": null,
            "margin": null,
            "max_height": null,
            "max_width": null,
            "min_height": null,
            "min_width": null,
            "object_fit": null,
            "object_position": null,
            "order": null,
            "overflow": null,
            "overflow_x": null,
            "overflow_y": null,
            "padding": null,
            "right": null,
            "top": null,
            "visibility": null,
            "width": null
          }
        },
        "36a7c4749bd5443f912865d200b79db6": {
          "model_module": "@jupyter-widgets/controls",
          "model_name": "ButtonModel",
          "model_module_version": "1.5.0",
          "state": {
            "_dom_classes": [],
            "_model_module": "@jupyter-widgets/controls",
            "_model_module_version": "1.5.0",
            "_model_name": "ButtonModel",
            "_view_count": null,
            "_view_module": "@jupyter-widgets/controls",
            "_view_module_version": "1.5.0",
            "_view_name": "ButtonView",
            "button_style": "primary",
            "description": "",
            "disabled": false,
            "icon": "times",
            "layout": "IPY_MODEL_a242e32a3a3f44e1865558d2eb85f1fb",
            "style": "IPY_MODEL_607c8a8bce9648c2b608318eaeb7fcf5",
            "tooltip": "Close the tool"
          }
        },
        "921c1c1358a74328adf830f715c8a8fe": {
          "model_module": "@jupyter-widgets/controls",
          "model_name": "ToggleButtonModel",
          "model_module_version": "1.5.0",
          "state": {
            "_dom_classes": [],
            "_model_module": "@jupyter-widgets/controls",
            "_model_module_version": "1.5.0",
            "_model_name": "ToggleButtonModel",
            "_view_count": null,
            "_view_module": "@jupyter-widgets/controls",
            "_view_module_version": "1.5.0",
            "_view_name": "ToggleButtonView",
            "button_style": "",
            "description": "",
            "description_tooltip": null,
            "disabled": false,
            "icon": "server",
            "layout": "IPY_MODEL_c1de2fa20fd2432a9538e615e81db171",
            "style": "IPY_MODEL_b483264c75004216a7a55fda6238072c",
            "tooltip": "Layer Manager",
            "value": true
          }
        },
        "9c73b6c93e944a74bc9ccb49d5be28c3": {
          "model_module": "@jupyter-widgets/base",
          "model_name": "LayoutModel",
          "model_module_version": "1.2.0",
          "state": {
            "_model_module": "@jupyter-widgets/base",
            "_model_module_version": "1.2.0",
            "_model_name": "LayoutModel",
            "_view_count": null,
            "_view_module": "@jupyter-widgets/base",
            "_view_module_version": "1.2.0",
            "_view_name": "LayoutView",
            "align_content": null,
            "align_items": null,
            "align_self": null,
            "border": null,
            "bottom": null,
            "display": "none",
            "flex": null,
            "flex_flow": null,
            "grid_area": null,
            "grid_auto_columns": null,
            "grid_auto_flow": null,
            "grid_auto_rows": null,
            "grid_column": null,
            "grid_gap": null,
            "grid_row": null,
            "grid_template_areas": null,
            "grid_template_columns": null,
            "grid_template_rows": null,
            "height": null,
            "justify_content": null,
            "justify_items": null,
            "left": null,
            "margin": null,
            "max_height": null,
            "max_width": null,
            "min_height": null,
            "min_width": null,
            "object_fit": null,
            "object_position": null,
            "order": null,
            "overflow": null,
            "overflow_x": null,
            "overflow_y": null,
            "padding": null,
            "right": null,
            "top": null,
            "visibility": null,
            "width": null
          }
        },
        "1551133dbb4d4d91a6fc1a716c1d3c03": {
          "model_module": "@jupyter-widgets/controls",
          "model_name": "CheckboxModel",
          "model_module_version": "1.5.0",
          "state": {
            "_dom_classes": [],
            "_model_module": "@jupyter-widgets/controls",
            "_model_module_version": "1.5.0",
            "_model_name": "CheckboxModel",
            "_view_count": null,
            "_view_module": "@jupyter-widgets/controls",
            "_view_module_version": "1.5.0",
            "_view_name": "CheckboxView",
            "description": "All layers on/off",
            "description_tooltip": null,
            "disabled": false,
            "indent": false,
            "layout": "IPY_MODEL_5911fa89b00b409ab61cacd9793f28e7",
            "style": "IPY_MODEL_0ea27a7af11b4228bc2c104f9adbf915",
            "value": false
          }
        },
        "de08cd547b52480ca7de4a3608a4b8cd": {
          "model_module": "@jupyter-widgets/controls",
          "model_name": "HBoxModel",
          "model_module_version": "1.5.0",
          "state": {
            "_dom_classes": [],
            "_model_module": "@jupyter-widgets/controls",
            "_model_module_version": "1.5.0",
            "_model_name": "HBoxModel",
            "_view_count": null,
            "_view_module": "@jupyter-widgets/controls",
            "_view_module_version": "1.5.0",
            "_view_name": "HBoxView",
            "box_style": "",
            "children": [
              "IPY_MODEL_ef796a6ce9824f1f882982e2abaef00e",
              "IPY_MODEL_05ce42f629994c7fb2a59916df25fa6d",
              "IPY_MODEL_3d96e0998c6d485a9bf69f50c7b247df",
              "IPY_MODEL_82d753a217a64b4eb5fe61bd0a13107c"
            ],
            "layout": "IPY_MODEL_8d8b983eb71449b4b35df6cbf8a4d0b1"
          }
        },
        "d9267454ef994d04b3a5ac5c08eec99e": {
          "model_module": "@jupyter-widgets/controls",
          "model_name": "HBoxModel",
          "model_module_version": "1.5.0",
          "state": {
            "_dom_classes": [],
            "_model_module": "@jupyter-widgets/controls",
            "_model_module_version": "1.5.0",
            "_model_name": "HBoxModel",
            "_view_count": null,
            "_view_module": "@jupyter-widgets/controls",
            "_view_module_version": "1.5.0",
            "_view_name": "HBoxView",
            "box_style": "",
            "children": [
              "IPY_MODEL_7219191ab3564a1ab37df5eee8816ddb",
              "IPY_MODEL_504ab1cfcd8d4787920947710bb2029e",
              "IPY_MODEL_beaa00586ac347d59822617ce1cf023d",
              "IPY_MODEL_f8f8f68c97b541b5b1a5d822d8792663"
            ],
            "layout": "IPY_MODEL_927e4f35c4d143eaaf66289157f11518"
          }
        },
        "c28924500b5346b6a8c9c111c2e9257d": {
          "model_module": "@jupyter-widgets/base",
          "model_name": "LayoutModel",
          "model_module_version": "1.2.0",
          "state": {
            "_model_module": "@jupyter-widgets/base",
            "_model_module_version": "1.2.0",
            "_model_name": "LayoutModel",
            "_view_count": null,
            "_view_module": "@jupyter-widgets/base",
            "_view_module_version": "1.2.0",
            "_view_name": "LayoutView",
            "align_content": null,
            "align_items": null,
            "align_self": null,
            "border": null,
            "bottom": null,
            "display": null,
            "flex": null,
            "flex_flow": null,
            "grid_area": null,
            "grid_auto_columns": null,
            "grid_auto_flow": null,
            "grid_auto_rows": null,
            "grid_column": null,
            "grid_gap": null,
            "grid_row": null,
            "grid_template_areas": null,
            "grid_template_columns": null,
            "grid_template_rows": null,
            "height": null,
            "justify_content": null,
            "justify_items": null,
            "left": null,
            "margin": null,
            "max_height": null,
            "max_width": null,
            "min_height": null,
            "min_width": null,
            "object_fit": null,
            "object_position": null,
            "order": null,
            "overflow": null,
            "overflow_x": null,
            "overflow_y": null,
            "padding": null,
            "right": null,
            "top": null,
            "visibility": null,
            "width": null
          }
        },
        "a242e32a3a3f44e1865558d2eb85f1fb": {
          "model_module": "@jupyter-widgets/base",
          "model_name": "LayoutModel",
          "model_module_version": "1.2.0",
          "state": {
            "_model_module": "@jupyter-widgets/base",
            "_model_module_version": "1.2.0",
            "_model_name": "LayoutModel",
            "_view_count": null,
            "_view_module": "@jupyter-widgets/base",
            "_view_module_version": "1.2.0",
            "_view_name": "LayoutView",
            "align_content": null,
            "align_items": null,
            "align_self": null,
            "border": null,
            "bottom": null,
            "display": null,
            "flex": null,
            "flex_flow": null,
            "grid_area": null,
            "grid_auto_columns": null,
            "grid_auto_flow": null,
            "grid_auto_rows": null,
            "grid_column": null,
            "grid_gap": null,
            "grid_row": null,
            "grid_template_areas": null,
            "grid_template_columns": null,
            "grid_template_rows": null,
            "height": "28px",
            "justify_content": null,
            "justify_items": null,
            "left": null,
            "margin": null,
            "max_height": null,
            "max_width": null,
            "min_height": null,
            "min_width": null,
            "object_fit": null,
            "object_position": null,
            "order": null,
            "overflow": null,
            "overflow_x": null,
            "overflow_y": null,
            "padding": "0px",
            "right": null,
            "top": null,
            "visibility": null,
            "width": "28px"
          }
        },
        "607c8a8bce9648c2b608318eaeb7fcf5": {
          "model_module": "@jupyter-widgets/controls",
          "model_name": "ButtonStyleModel",
          "model_module_version": "1.5.0",
          "state": {
            "_model_module": "@jupyter-widgets/controls",
            "_model_module_version": "1.5.0",
            "_model_name": "ButtonStyleModel",
            "_view_count": null,
            "_view_module": "@jupyter-widgets/base",
            "_view_module_version": "1.2.0",
            "_view_name": "StyleView",
            "button_color": null,
            "font_weight": ""
          }
        },
        "c1de2fa20fd2432a9538e615e81db171": {
          "model_module": "@jupyter-widgets/base",
          "model_name": "LayoutModel",
          "model_module_version": "1.2.0",
          "state": {
            "_model_module": "@jupyter-widgets/base",
            "_model_module_version": "1.2.0",
            "_model_name": "LayoutModel",
            "_view_count": null,
            "_view_module": "@jupyter-widgets/base",
            "_view_module_version": "1.2.0",
            "_view_name": "LayoutView",
            "align_content": null,
            "align_items": null,
            "align_self": null,
            "border": null,
            "bottom": null,
            "display": null,
            "flex": null,
            "flex_flow": null,
            "grid_area": null,
            "grid_auto_columns": null,
            "grid_auto_flow": null,
            "grid_auto_rows": null,
            "grid_column": null,
            "grid_gap": null,
            "grid_row": null,
            "grid_template_areas": null,
            "grid_template_columns": null,
            "grid_template_rows": null,
            "height": "28px",
            "justify_content": null,
            "justify_items": null,
            "left": null,
            "margin": null,
            "max_height": null,
            "max_width": null,
            "min_height": null,
            "min_width": null,
            "object_fit": null,
            "object_position": null,
            "order": null,
            "overflow": null,
            "overflow_x": null,
            "overflow_y": null,
            "padding": "0px 0px 0px 4px",
            "right": null,
            "top": null,
            "visibility": null,
            "width": "28px"
          }
        },
        "b483264c75004216a7a55fda6238072c": {
          "model_module": "@jupyter-widgets/controls",
          "model_name": "DescriptionStyleModel",
          "model_module_version": "1.5.0",
          "state": {
            "_model_module": "@jupyter-widgets/controls",
            "_model_module_version": "1.5.0",
            "_model_name": "DescriptionStyleModel",
            "_view_count": null,
            "_view_module": "@jupyter-widgets/base",
            "_view_module_version": "1.2.0",
            "_view_name": "StyleView",
            "description_width": ""
          }
        },
        "5911fa89b00b409ab61cacd9793f28e7": {
          "model_module": "@jupyter-widgets/base",
          "model_name": "LayoutModel",
          "model_module_version": "1.2.0",
          "state": {
            "_model_module": "@jupyter-widgets/base",
            "_model_module_version": "1.2.0",
            "_model_name": "LayoutModel",
            "_view_count": null,
            "_view_module": "@jupyter-widgets/base",
            "_view_module_version": "1.2.0",
            "_view_name": "LayoutView",
            "align_content": null,
            "align_items": null,
            "align_self": null,
            "border": null,
            "bottom": null,
            "display": null,
            "flex": null,
            "flex_flow": null,
            "grid_area": null,
            "grid_auto_columns": null,
            "grid_auto_flow": null,
            "grid_auto_rows": null,
            "grid_column": null,
            "grid_gap": null,
            "grid_row": null,
            "grid_template_areas": null,
            "grid_template_columns": null,
            "grid_template_rows": null,
            "height": "18px",
            "justify_content": null,
            "justify_items": null,
            "left": null,
            "margin": null,
            "max_height": null,
            "max_width": null,
            "min_height": null,
            "min_width": null,
            "object_fit": null,
            "object_position": null,
            "order": null,
            "overflow": null,
            "overflow_x": null,
            "overflow_y": null,
            "padding": "0px 4px 25px 4px",
            "right": null,
            "top": null,
            "visibility": null,
            "width": "30ex"
          }
        },
        "0ea27a7af11b4228bc2c104f9adbf915": {
          "model_module": "@jupyter-widgets/controls",
          "model_name": "DescriptionStyleModel",
          "model_module_version": "1.5.0",
          "state": {
            "_model_module": "@jupyter-widgets/controls",
            "_model_module_version": "1.5.0",
            "_model_name": "DescriptionStyleModel",
            "_view_count": null,
            "_view_module": "@jupyter-widgets/base",
            "_view_module_version": "1.2.0",
            "_view_name": "StyleView",
            "description_width": ""
          }
        },
        "ef796a6ce9824f1f882982e2abaef00e": {
          "model_module": "@jupyter-widgets/controls",
          "model_name": "CheckboxModel",
          "model_module_version": "1.5.0",
          "state": {
            "_dom_classes": [],
            "_model_module": "@jupyter-widgets/controls",
            "_model_module_version": "1.5.0",
            "_model_name": "CheckboxModel",
            "_view_count": null,
            "_view_module": "@jupyter-widgets/controls",
            "_view_module_version": "1.5.0",
            "_view_name": "CheckboxView",
            "description": "OpenStreetMap.Mapnik",
            "description_tooltip": null,
            "disabled": false,
            "indent": false,
            "layout": "IPY_MODEL_02618c3fd66b447ca6bf245a56445887",
            "style": "IPY_MODEL_93951b49ec6c4d86a1febd66556ae8a6",
            "value": true
          }
        },
        "05ce42f629994c7fb2a59916df25fa6d": {
          "model_module": "@jupyter-widgets/controls",
          "model_name": "FloatSliderModel",
          "model_module_version": "1.5.0",
          "state": {
            "_dom_classes": [],
            "_model_module": "@jupyter-widgets/controls",
            "_model_module_version": "1.5.0",
            "_model_name": "FloatSliderModel",
            "_view_count": null,
            "_view_module": "@jupyter-widgets/controls",
            "_view_module_version": "1.5.0",
            "_view_name": "FloatSliderView",
            "continuous_update": true,
            "description": "",
            "description_tooltip": null,
            "disabled": false,
            "layout": "IPY_MODEL_e5eef05645b5481584ee8b6b1395e068",
            "max": 1,
            "min": 0,
            "orientation": "horizontal",
            "readout": false,
            "readout_format": ".2f",
            "step": 0.01,
            "style": "IPY_MODEL_add074ed633845e2ad3fc482ba1daa20",
            "value": 1
          }
        },
        "3d96e0998c6d485a9bf69f50c7b247df": {
          "model_module": "@jupyter-widgets/controls",
          "model_name": "ButtonModel",
          "model_module_version": "1.5.0",
          "state": {
            "_dom_classes": [],
            "_model_module": "@jupyter-widgets/controls",
            "_model_module_version": "1.5.0",
            "_model_name": "ButtonModel",
            "_view_count": null,
            "_view_module": "@jupyter-widgets/controls",
            "_view_module_version": "1.5.0",
            "_view_name": "ButtonView",
            "button_style": "",
            "description": "",
            "disabled": false,
            "icon": "gear",
            "layout": "IPY_MODEL_562d6a2946584c0ea39e0c21bd2e387b",
            "style": "IPY_MODEL_5322323a9ddf4a05b1a4392ac651b4ec",
            "tooltip": "OpenStreetMap.Mapnik"
          }
        },
        "82d753a217a64b4eb5fe61bd0a13107c": {
          "model_module": "@jupyter-widgets/controls",
          "model_name": "ButtonModel",
          "model_module_version": "1.5.0",
          "state": {
            "_dom_classes": [],
            "_model_module": "@jupyter-widgets/controls",
            "_model_module_version": "1.5.0",
            "_model_name": "ButtonModel",
            "_view_count": null,
            "_view_module": "@jupyter-widgets/controls",
            "_view_module_version": "1.5.0",
            "_view_name": "ButtonView",
            "button_style": "",
            "description": "",
            "disabled": false,
            "icon": "times",
            "layout": "IPY_MODEL_2f2aee88f63449959fd68365f80db957",
            "style": "IPY_MODEL_0aee8e1c9e514419be00c859939121b4",
            "tooltip": "Loaded"
          }
        },
        "8d8b983eb71449b4b35df6cbf8a4d0b1": {
          "model_module": "@jupyter-widgets/base",
          "model_name": "LayoutModel",
          "model_module_version": "1.2.0",
          "state": {
            "_model_module": "@jupyter-widgets/base",
            "_model_module_version": "1.2.0",
            "_model_name": "LayoutModel",
            "_view_count": null,
            "_view_module": "@jupyter-widgets/base",
            "_view_module_version": "1.2.0",
            "_view_name": "LayoutView",
            "align_content": null,
            "align_items": null,
            "align_self": null,
            "border": null,
            "bottom": null,
            "display": null,
            "flex": null,
            "flex_flow": null,
            "grid_area": null,
            "grid_auto_columns": null,
            "grid_auto_flow": null,
            "grid_auto_rows": null,
            "grid_column": null,
            "grid_gap": null,
            "grid_row": null,
            "grid_template_areas": null,
            "grid_template_columns": null,
            "grid_template_rows": null,
            "height": null,
            "justify_content": null,
            "justify_items": null,
            "left": null,
            "margin": null,
            "max_height": null,
            "max_width": null,
            "min_height": null,
            "min_width": null,
            "object_fit": null,
            "object_position": null,
            "order": null,
            "overflow": null,
            "overflow_x": null,
            "overflow_y": null,
            "padding": "0px 4px 0px 4px",
            "right": null,
            "top": null,
            "visibility": null,
            "width": null
          }
        },
        "7219191ab3564a1ab37df5eee8816ddb": {
          "model_module": "@jupyter-widgets/controls",
          "model_name": "CheckboxModel",
          "model_module_version": "1.5.0",
          "state": {
            "_dom_classes": [],
            "_model_module": "@jupyter-widgets/controls",
            "_model_module_version": "1.5.0",
            "_model_name": "CheckboxModel",
            "_view_count": null,
            "_view_module": "@jupyter-widgets/controls",
            "_view_module_version": "1.5.0",
            "_view_name": "CheckboxView",
            "description": "Smallzone",
            "description_tooltip": null,
            "disabled": false,
            "indent": false,
            "layout": "IPY_MODEL_ca2bd753f252467eb83313b08994fe5e",
            "style": "IPY_MODEL_bf08d8376dc24ca59cf02126630f2e2a",
            "value": true
          }
        },
        "504ab1cfcd8d4787920947710bb2029e": {
          "model_module": "@jupyter-widgets/controls",
          "model_name": "FloatSliderModel",
          "model_module_version": "1.5.0",
          "state": {
            "_dom_classes": [],
            "_model_module": "@jupyter-widgets/controls",
            "_model_module_version": "1.5.0",
            "_model_name": "FloatSliderModel",
            "_view_count": null,
            "_view_module": "@jupyter-widgets/controls",
            "_view_module_version": "1.5.0",
            "_view_name": "FloatSliderView",
            "continuous_update": true,
            "description": "",
            "description_tooltip": null,
            "disabled": false,
            "layout": "IPY_MODEL_cfd67cce21494155a718645a377214f1",
            "max": 1,
            "min": 0,
            "orientation": "horizontal",
            "readout": false,
            "readout_format": ".2f",
            "step": 0.01,
            "style": "IPY_MODEL_b9a860721a6a421781a7329ec3b400ce",
            "value": 1
          }
        },
        "beaa00586ac347d59822617ce1cf023d": {
          "model_module": "@jupyter-widgets/controls",
          "model_name": "ButtonModel",
          "model_module_version": "1.5.0",
          "state": {
            "_dom_classes": [],
            "_model_module": "@jupyter-widgets/controls",
            "_model_module_version": "1.5.0",
            "_model_name": "ButtonModel",
            "_view_count": null,
            "_view_module": "@jupyter-widgets/controls",
            "_view_module_version": "1.5.0",
            "_view_name": "ButtonView",
            "button_style": "",
            "description": "",
            "disabled": false,
            "icon": "gear",
            "layout": "IPY_MODEL_e26f8e6353394197beb1f6367fdbb428",
            "style": "IPY_MODEL_458086597cdc45e9b1228476ff07f7f9",
            "tooltip": "Smallzone"
          }
        },
        "f8f8f68c97b541b5b1a5d822d8792663": {
          "model_module": "@jupyter-widgets/controls",
          "model_name": "ButtonModel",
          "model_module_version": "1.5.0",
          "state": {
            "_dom_classes": [],
            "_model_module": "@jupyter-widgets/controls",
            "_model_module_version": "1.5.0",
            "_model_name": "ButtonModel",
            "_view_count": null,
            "_view_module": "@jupyter-widgets/controls",
            "_view_module_version": "1.5.0",
            "_view_name": "ButtonView",
            "button_style": "",
            "description": "",
            "disabled": false,
            "icon": "times",
            "layout": "IPY_MODEL_73b17d8ac7474ba38d682d55ff43952e",
            "style": "IPY_MODEL_3a163207c39a417088f993eed0175e41",
            "tooltip": "Loaded"
          }
        },
        "927e4f35c4d143eaaf66289157f11518": {
          "model_module": "@jupyter-widgets/base",
          "model_name": "LayoutModel",
          "model_module_version": "1.2.0",
          "state": {
            "_model_module": "@jupyter-widgets/base",
            "_model_module_version": "1.2.0",
            "_model_name": "LayoutModel",
            "_view_count": null,
            "_view_module": "@jupyter-widgets/base",
            "_view_module_version": "1.2.0",
            "_view_name": "LayoutView",
            "align_content": null,
            "align_items": null,
            "align_self": null,
            "border": null,
            "bottom": null,
            "display": null,
            "flex": null,
            "flex_flow": null,
            "grid_area": null,
            "grid_auto_columns": null,
            "grid_auto_flow": null,
            "grid_auto_rows": null,
            "grid_column": null,
            "grid_gap": null,
            "grid_row": null,
            "grid_template_areas": null,
            "grid_template_columns": null,
            "grid_template_rows": null,
            "height": null,
            "justify_content": null,
            "justify_items": null,
            "left": null,
            "margin": null,
            "max_height": null,
            "max_width": null,
            "min_height": null,
            "min_width": null,
            "object_fit": null,
            "object_position": null,
            "order": null,
            "overflow": null,
            "overflow_x": null,
            "overflow_y": null,
            "padding": "0px 4px 0px 4px",
            "right": null,
            "top": null,
            "visibility": null,
            "width": null
          }
        },
        "02618c3fd66b447ca6bf245a56445887": {
          "model_module": "@jupyter-widgets/base",
          "model_name": "LayoutModel",
          "model_module_version": "1.2.0",
          "state": {
            "_model_module": "@jupyter-widgets/base",
            "_model_module_version": "1.2.0",
            "_model_name": "LayoutModel",
            "_view_count": null,
            "_view_module": "@jupyter-widgets/base",
            "_view_module_version": "1.2.0",
            "_view_name": "LayoutView",
            "align_content": null,
            "align_items": null,
            "align_self": null,
            "border": null,
            "bottom": null,
            "display": null,
            "flex": null,
            "flex_flow": null,
            "grid_area": null,
            "grid_auto_columns": null,
            "grid_auto_flow": null,
            "grid_auto_rows": null,
            "grid_column": null,
            "grid_gap": null,
            "grid_row": null,
            "grid_template_areas": null,
            "grid_template_columns": null,
            "grid_template_rows": null,
            "height": "18px",
            "justify_content": null,
            "justify_items": null,
            "left": null,
            "margin": null,
            "max_height": null,
            "max_width": null,
            "min_height": null,
            "min_width": null,
            "object_fit": null,
            "object_position": null,
            "order": null,
            "overflow": null,
            "overflow_x": null,
            "overflow_y": null,
            "padding": null,
            "right": null,
            "top": null,
            "visibility": null,
            "width": "140px"
          }
        },
        "93951b49ec6c4d86a1febd66556ae8a6": {
          "model_module": "@jupyter-widgets/controls",
          "model_name": "DescriptionStyleModel",
          "model_module_version": "1.5.0",
          "state": {
            "_model_module": "@jupyter-widgets/controls",
            "_model_module_version": "1.5.0",
            "_model_name": "DescriptionStyleModel",
            "_view_count": null,
            "_view_module": "@jupyter-widgets/base",
            "_view_module_version": "1.2.0",
            "_view_name": "StyleView",
            "description_width": ""
          }
        },
        "e5eef05645b5481584ee8b6b1395e068": {
          "model_module": "@jupyter-widgets/base",
          "model_name": "LayoutModel",
          "model_module_version": "1.2.0",
          "state": {
            "_model_module": "@jupyter-widgets/base",
            "_model_module_version": "1.2.0",
            "_model_name": "LayoutModel",
            "_view_count": null,
            "_view_module": "@jupyter-widgets/base",
            "_view_module_version": "1.2.0",
            "_view_name": "LayoutView",
            "align_content": null,
            "align_items": null,
            "align_self": null,
            "border": null,
            "bottom": null,
            "display": null,
            "flex": null,
            "flex_flow": null,
            "grid_area": null,
            "grid_auto_columns": null,
            "grid_auto_flow": null,
            "grid_auto_rows": null,
            "grid_column": null,
            "grid_gap": null,
            "grid_row": null,
            "grid_template_areas": null,
            "grid_template_columns": null,
            "grid_template_rows": null,
            "height": null,
            "justify_content": null,
            "justify_items": null,
            "left": null,
            "margin": null,
            "max_height": null,
            "max_width": null,
            "min_height": null,
            "min_width": null,
            "object_fit": null,
            "object_position": null,
            "order": null,
            "overflow": null,
            "overflow_x": null,
            "overflow_y": null,
            "padding": "0px 3px 0px 0px",
            "right": null,
            "top": null,
            "visibility": null,
            "width": "70px"
          }
        },
        "add074ed633845e2ad3fc482ba1daa20": {
          "model_module": "@jupyter-widgets/controls",
          "model_name": "SliderStyleModel",
          "model_module_version": "1.5.0",
          "state": {
            "_model_module": "@jupyter-widgets/controls",
            "_model_module_version": "1.5.0",
            "_model_name": "SliderStyleModel",
            "_view_count": null,
            "_view_module": "@jupyter-widgets/base",
            "_view_module_version": "1.2.0",
            "_view_name": "StyleView",
            "description_width": "",
            "handle_color": null
          }
        },
        "562d6a2946584c0ea39e0c21bd2e387b": {
          "model_module": "@jupyter-widgets/base",
          "model_name": "LayoutModel",
          "model_module_version": "1.2.0",
          "state": {
            "_model_module": "@jupyter-widgets/base",
            "_model_module_version": "1.2.0",
            "_model_name": "LayoutModel",
            "_view_count": null,
            "_view_module": "@jupyter-widgets/base",
            "_view_module_version": "1.2.0",
            "_view_name": "LayoutView",
            "align_content": null,
            "align_items": null,
            "align_self": null,
            "border": null,
            "bottom": null,
            "display": null,
            "flex": null,
            "flex_flow": null,
            "grid_area": null,
            "grid_auto_columns": null,
            "grid_auto_flow": null,
            "grid_auto_rows": null,
            "grid_column": null,
            "grid_gap": null,
            "grid_row": null,
            "grid_template_areas": null,
            "grid_template_columns": null,
            "grid_template_rows": null,
            "height": "25px",
            "justify_content": null,
            "justify_items": null,
            "left": null,
            "margin": null,
            "max_height": null,
            "max_width": null,
            "min_height": null,
            "min_width": null,
            "object_fit": null,
            "object_position": null,
            "order": null,
            "overflow": null,
            "overflow_x": null,
            "overflow_y": null,
            "padding": "0px",
            "right": null,
            "top": null,
            "visibility": null,
            "width": "25px"
          }
        },
        "5322323a9ddf4a05b1a4392ac651b4ec": {
          "model_module": "@jupyter-widgets/controls",
          "model_name": "ButtonStyleModel",
          "model_module_version": "1.5.0",
          "state": {
            "_model_module": "@jupyter-widgets/controls",
            "_model_module_version": "1.5.0",
            "_model_name": "ButtonStyleModel",
            "_view_count": null,
            "_view_module": "@jupyter-widgets/base",
            "_view_module_version": "1.2.0",
            "_view_name": "StyleView",
            "button_color": null,
            "font_weight": ""
          }
        },
        "2f2aee88f63449959fd68365f80db957": {
          "model_module": "@jupyter-widgets/base",
          "model_name": "LayoutModel",
          "model_module_version": "1.2.0",
          "state": {
            "_model_module": "@jupyter-widgets/base",
            "_model_module_version": "1.2.0",
            "_model_name": "LayoutModel",
            "_view_count": null,
            "_view_module": "@jupyter-widgets/base",
            "_view_module_version": "1.2.0",
            "_view_name": "LayoutView",
            "align_content": null,
            "align_items": null,
            "align_self": null,
            "border": null,
            "bottom": null,
            "display": null,
            "flex": null,
            "flex_flow": null,
            "grid_area": null,
            "grid_auto_columns": null,
            "grid_auto_flow": null,
            "grid_auto_rows": null,
            "grid_column": null,
            "grid_gap": null,
            "grid_row": null,
            "grid_template_areas": null,
            "grid_template_columns": null,
            "grid_template_rows": null,
            "height": "25px",
            "justify_content": null,
            "justify_items": null,
            "left": null,
            "margin": null,
            "max_height": null,
            "max_width": null,
            "min_height": null,
            "min_width": null,
            "object_fit": null,
            "object_position": null,
            "order": null,
            "overflow": null,
            "overflow_x": null,
            "overflow_y": null,
            "padding": "0px",
            "right": null,
            "top": null,
            "visibility": null,
            "width": "25px"
          }
        },
        "0aee8e1c9e514419be00c859939121b4": {
          "model_module": "@jupyter-widgets/controls",
          "model_name": "ButtonStyleModel",
          "model_module_version": "1.5.0",
          "state": {
            "_model_module": "@jupyter-widgets/controls",
            "_model_module_version": "1.5.0",
            "_model_name": "ButtonStyleModel",
            "_view_count": null,
            "_view_module": "@jupyter-widgets/base",
            "_view_module_version": "1.2.0",
            "_view_name": "StyleView",
            "button_color": null,
            "font_weight": ""
          }
        },
        "ca2bd753f252467eb83313b08994fe5e": {
          "model_module": "@jupyter-widgets/base",
          "model_name": "LayoutModel",
          "model_module_version": "1.2.0",
          "state": {
            "_model_module": "@jupyter-widgets/base",
            "_model_module_version": "1.2.0",
            "_model_name": "LayoutModel",
            "_view_count": null,
            "_view_module": "@jupyter-widgets/base",
            "_view_module_version": "1.2.0",
            "_view_name": "LayoutView",
            "align_content": null,
            "align_items": null,
            "align_self": null,
            "border": null,
            "bottom": null,
            "display": null,
            "flex": null,
            "flex_flow": null,
            "grid_area": null,
            "grid_auto_columns": null,
            "grid_auto_flow": null,
            "grid_auto_rows": null,
            "grid_column": null,
            "grid_gap": null,
            "grid_row": null,
            "grid_template_areas": null,
            "grid_template_columns": null,
            "grid_template_rows": null,
            "height": "18px",
            "justify_content": null,
            "justify_items": null,
            "left": null,
            "margin": null,
            "max_height": null,
            "max_width": null,
            "min_height": null,
            "min_width": null,
            "object_fit": null,
            "object_position": null,
            "order": null,
            "overflow": null,
            "overflow_x": null,
            "overflow_y": null,
            "padding": null,
            "right": null,
            "top": null,
            "visibility": null,
            "width": "140px"
          }
        },
        "bf08d8376dc24ca59cf02126630f2e2a": {
          "model_module": "@jupyter-widgets/controls",
          "model_name": "DescriptionStyleModel",
          "model_module_version": "1.5.0",
          "state": {
            "_model_module": "@jupyter-widgets/controls",
            "_model_module_version": "1.5.0",
            "_model_name": "DescriptionStyleModel",
            "_view_count": null,
            "_view_module": "@jupyter-widgets/base",
            "_view_module_version": "1.2.0",
            "_view_name": "StyleView",
            "description_width": ""
          }
        },
        "cfd67cce21494155a718645a377214f1": {
          "model_module": "@jupyter-widgets/base",
          "model_name": "LayoutModel",
          "model_module_version": "1.2.0",
          "state": {
            "_model_module": "@jupyter-widgets/base",
            "_model_module_version": "1.2.0",
            "_model_name": "LayoutModel",
            "_view_count": null,
            "_view_module": "@jupyter-widgets/base",
            "_view_module_version": "1.2.0",
            "_view_name": "LayoutView",
            "align_content": null,
            "align_items": null,
            "align_self": null,
            "border": null,
            "bottom": null,
            "display": null,
            "flex": null,
            "flex_flow": null,
            "grid_area": null,
            "grid_auto_columns": null,
            "grid_auto_flow": null,
            "grid_auto_rows": null,
            "grid_column": null,
            "grid_gap": null,
            "grid_row": null,
            "grid_template_areas": null,
            "grid_template_columns": null,
            "grid_template_rows": null,
            "height": null,
            "justify_content": null,
            "justify_items": null,
            "left": null,
            "margin": null,
            "max_height": null,
            "max_width": null,
            "min_height": null,
            "min_width": null,
            "object_fit": null,
            "object_position": null,
            "order": null,
            "overflow": null,
            "overflow_x": null,
            "overflow_y": null,
            "padding": "0px 3px 0px 0px",
            "right": null,
            "top": null,
            "visibility": null,
            "width": "70px"
          }
        },
        "b9a860721a6a421781a7329ec3b400ce": {
          "model_module": "@jupyter-widgets/controls",
          "model_name": "SliderStyleModel",
          "model_module_version": "1.5.0",
          "state": {
            "_model_module": "@jupyter-widgets/controls",
            "_model_module_version": "1.5.0",
            "_model_name": "SliderStyleModel",
            "_view_count": null,
            "_view_module": "@jupyter-widgets/base",
            "_view_module_version": "1.2.0",
            "_view_name": "StyleView",
            "description_width": "",
            "handle_color": null
          }
        },
        "e26f8e6353394197beb1f6367fdbb428": {
          "model_module": "@jupyter-widgets/base",
          "model_name": "LayoutModel",
          "model_module_version": "1.2.0",
          "state": {
            "_model_module": "@jupyter-widgets/base",
            "_model_module_version": "1.2.0",
            "_model_name": "LayoutModel",
            "_view_count": null,
            "_view_module": "@jupyter-widgets/base",
            "_view_module_version": "1.2.0",
            "_view_name": "LayoutView",
            "align_content": null,
            "align_items": null,
            "align_self": null,
            "border": null,
            "bottom": null,
            "display": null,
            "flex": null,
            "flex_flow": null,
            "grid_area": null,
            "grid_auto_columns": null,
            "grid_auto_flow": null,
            "grid_auto_rows": null,
            "grid_column": null,
            "grid_gap": null,
            "grid_row": null,
            "grid_template_areas": null,
            "grid_template_columns": null,
            "grid_template_rows": null,
            "height": "25px",
            "justify_content": null,
            "justify_items": null,
            "left": null,
            "margin": null,
            "max_height": null,
            "max_width": null,
            "min_height": null,
            "min_width": null,
            "object_fit": null,
            "object_position": null,
            "order": null,
            "overflow": null,
            "overflow_x": null,
            "overflow_y": null,
            "padding": "0px",
            "right": null,
            "top": null,
            "visibility": null,
            "width": "25px"
          }
        },
        "458086597cdc45e9b1228476ff07f7f9": {
          "model_module": "@jupyter-widgets/controls",
          "model_name": "ButtonStyleModel",
          "model_module_version": "1.5.0",
          "state": {
            "_model_module": "@jupyter-widgets/controls",
            "_model_module_version": "1.5.0",
            "_model_name": "ButtonStyleModel",
            "_view_count": null,
            "_view_module": "@jupyter-widgets/base",
            "_view_module_version": "1.2.0",
            "_view_name": "StyleView",
            "button_color": null,
            "font_weight": ""
          }
        },
        "73b17d8ac7474ba38d682d55ff43952e": {
          "model_module": "@jupyter-widgets/base",
          "model_name": "LayoutModel",
          "model_module_version": "1.2.0",
          "state": {
            "_model_module": "@jupyter-widgets/base",
            "_model_module_version": "1.2.0",
            "_model_name": "LayoutModel",
            "_view_count": null,
            "_view_module": "@jupyter-widgets/base",
            "_view_module_version": "1.2.0",
            "_view_name": "LayoutView",
            "align_content": null,
            "align_items": null,
            "align_self": null,
            "border": null,
            "bottom": null,
            "display": null,
            "flex": null,
            "flex_flow": null,
            "grid_area": null,
            "grid_auto_columns": null,
            "grid_auto_flow": null,
            "grid_auto_rows": null,
            "grid_column": null,
            "grid_gap": null,
            "grid_row": null,
            "grid_template_areas": null,
            "grid_template_columns": null,
            "grid_template_rows": null,
            "height": "25px",
            "justify_content": null,
            "justify_items": null,
            "left": null,
            "margin": null,
            "max_height": null,
            "max_width": null,
            "min_height": null,
            "min_width": null,
            "object_fit": null,
            "object_position": null,
            "order": null,
            "overflow": null,
            "overflow_x": null,
            "overflow_y": null,
            "padding": "0px",
            "right": null,
            "top": null,
            "visibility": null,
            "width": "25px"
          }
        },
        "3a163207c39a417088f993eed0175e41": {
          "model_module": "@jupyter-widgets/controls",
          "model_name": "ButtonStyleModel",
          "model_module_version": "1.5.0",
          "state": {
            "_model_module": "@jupyter-widgets/controls",
            "_model_module_version": "1.5.0",
            "_model_name": "ButtonStyleModel",
            "_view_count": null,
            "_view_module": "@jupyter-widgets/base",
            "_view_module_version": "1.2.0",
            "_view_name": "StyleView",
            "button_color": null,
            "font_weight": ""
          }
        }
      }
    }
  },
  "cells": [
    {
      "cell_type": "markdown",
      "metadata": {
        "id": "view-in-github",
        "colab_type": "text"
      },
      "source": [
        "<a href=\"https://colab.research.google.com/github/prathamrg/OpenCityHackathon_TreeCoverAreaChangeMonitoring/blob/main/OpenCity_Climate_Hackathon_Tree_Cover_Change.ipynb\" target=\"_parent\"><img src=\"https://colab.research.google.com/assets/colab-badge.svg\" alt=\"Open In Colab\"/></a>"
      ]
    },
    {
      "cell_type": "markdown",
      "source": [
        "**Notebook Developed during the Open City Climate Hackathon in Bengaluru, India in August 2025 conducted with the following objective:**\n",
        "\n",
        "\"To collate data from a range of sources (including ones which are typically not collected by city agencies frequently, but are essential for measuring key outcome indicators) for a few selected climate action KPIs for the city (derived from Bengaluru Climate Action Plan - BCAP)• To analyse data to measure the outcomes of the selected KPIs to track the progress of climate actions implemented in the city• To visualize the measured outcomes in a user-friendly interface, which could be plugged into existing CAC-MER dashboards (if any)\""
      ],
      "metadata": {
        "id": "8zIPcbl2y4rn"
      }
    },
    {
      "cell_type": "markdown",
      "source": [
        "**The specific KPI chosen by our team was:**\n",
        "Area of tree canopy cover – Annual change in the city’s tree canopy cover (‘Tree canopy cover’ refers to the layer of leaves, branches, and stems of trees that, when viewed from above, covers the ground)"
      ],
      "metadata": {
        "id": "YcGxYVaM0-XJ"
      }
    },
    {
      "cell_type": "markdown",
      "source": [
        "**Our team comprises of the following members:**\n",
        "\n",
        "Pratham R. Goel (Lead Data Scientist at Sustainability and Transition Finance Insights Team, HSBC)\n",
        "\n",
        "Ayush Bhosle (Data Analyst at Sustainability and Transition Finance Insights Team, HSBC)\n",
        "\n",
        "Srivalli (Independent GIS Expert)\n",
        "\n",
        "Karthik (Student of Public Policy Studies)\n",
        "\n",
        "With Expert Support from: Ganesh (GIS Expert at World Resources Institute)"
      ],
      "metadata": {
        "id": "FZOS3zVU2Hy1"
      }
    },
    {
      "cell_type": "code",
      "source": [],
      "metadata": {
        "id": "fFlRKNi42Jt7"
      },
      "execution_count": null,
      "outputs": []
    },
    {
      "cell_type": "markdown",
      "source": [
        "The Dataset chosen by us is **\"Landsat Collection 2 Tier 1 Level 2 Annual NDVI Composite\"** https://developers.google.com/earth-engine/datasets/catalog/LANDSAT_COMPOSITES_C02_T1_L2_ANNUAL_NDVI because of its high resolution of 30m and annual temporality that smoothens out noise from variations in cloud cover across seasons"
      ],
      "metadata": {
        "id": "8u0so1QD1uFe"
      }
    },
    {
      "cell_type": "markdown",
      "source": [
        "**Code:**"
      ],
      "metadata": {
        "id": "yqywJCKy3Yhv"
      }
    },
    {
      "cell_type": "code",
      "source": [
        "!pip install pycrs"
      ],
      "metadata": {
        "colab": {
          "base_uri": "https://localhost:8080/",
          "height": 211
        },
        "id": "pzVtvosHEezA",
        "outputId": "bc21c90f-ab1d-4ee3-dd15-9ec06a7743ee"
      },
      "execution_count": null,
      "outputs": [
        {
          "output_type": "display_data",
          "data": {
            "text/plain": [
              "<IPython.core.display.HTML object>"
            ],
            "text/html": [
              "\n",
              "            <style>\n",
              "                .geemap-dark {\n",
              "                    --jp-widgets-color: white;\n",
              "                    --jp-widgets-label-color: white;\n",
              "                    --jp-ui-font-color1: white;\n",
              "                    --jp-layout-color2: #454545;\n",
              "                    background-color: #383838;\n",
              "                }\n",
              "\n",
              "                .geemap-dark .jupyter-button {\n",
              "                    --jp-layout-color3: #383838;\n",
              "                }\n",
              "\n",
              "                .geemap-colab {\n",
              "                    background-color: var(--colab-primary-surface-color, white);\n",
              "                }\n",
              "\n",
              "                .geemap-colab .jupyter-button {\n",
              "                    --jp-layout-color3: var(--colab-primary-surface-color, white);\n",
              "                }\n",
              "            </style>\n",
              "            "
            ]
          },
          "metadata": {}
        },
        {
          "output_type": "stream",
          "name": "stdout",
          "text": [
            "Collecting pycrs\n",
            "  Downloading PyCRS-1.0.2.tar.gz (36 kB)\n",
            "  Preparing metadata (setup.py) ... \u001b[?25l\u001b[?25hdone\n",
            "Building wheels for collected packages: pycrs\n",
            "  Building wheel for pycrs (setup.py) ... \u001b[?25l\u001b[?25hdone\n",
            "  Created wheel for pycrs: filename=PyCRS-1.0.2-py3-none-any.whl size=32686 sha256=ad2f66176fc325915736d0b424af6175d6f1a5454caf8468d3442b5061922ead\n",
            "  Stored in directory: /root/.cache/pip/wheels/b5/4a/72/1ba05f57ddf2cc80ad21a26512097762561d646ff3ff85f729\n",
            "Successfully built pycrs\n",
            "Installing collected packages: pycrs\n",
            "Successfully installed pycrs-1.0.2\n"
          ]
        }
      ]
    },
    {
      "cell_type": "code",
      "execution_count": null,
      "metadata": {
        "id": "PEWXF7vl_F9M"
      },
      "outputs": [],
      "source": [
        "import ee\n",
        "import geemap"
      ]
    },
    {
      "cell_type": "code",
      "source": [
        "ee.Authenticate()"
      ],
      "metadata": {
        "colab": {
          "base_uri": "https://localhost:8080/",
          "height": 17
        },
        "id": "_2KTt89eAwLJ",
        "outputId": "9eb99947-67da-4f56-df09-479a46a17bfd"
      },
      "execution_count": null,
      "outputs": [
        {
          "output_type": "display_data",
          "data": {
            "text/plain": [
              "<IPython.core.display.HTML object>"
            ],
            "text/html": [
              "\n",
              "            <style>\n",
              "                .geemap-dark {\n",
              "                    --jp-widgets-color: white;\n",
              "                    --jp-widgets-label-color: white;\n",
              "                    --jp-ui-font-color1: white;\n",
              "                    --jp-layout-color2: #454545;\n",
              "                    background-color: #383838;\n",
              "                }\n",
              "\n",
              "                .geemap-dark .jupyter-button {\n",
              "                    --jp-layout-color3: #383838;\n",
              "                }\n",
              "\n",
              "                .geemap-colab {\n",
              "                    background-color: var(--colab-primary-surface-color, white);\n",
              "                }\n",
              "\n",
              "                .geemap-colab .jupyter-button {\n",
              "                    --jp-layout-color3: var(--colab-primary-surface-color, white);\n",
              "                }\n",
              "            </style>\n",
              "            "
            ]
          },
          "metadata": {}
        }
      ]
    },
    {
      "cell_type": "code",
      "source": [
        "ee.Initialize(project='opencity-bbmp-climatehackathon')"
      ],
      "metadata": {
        "colab": {
          "base_uri": "https://localhost:8080/",
          "height": 54
        },
        "id": "_xRz2--dJzB1",
        "outputId": "d33bb9e2-c716-43ee-f582-378908179d60"
      },
      "execution_count": null,
      "outputs": [
        {
          "output_type": "display_data",
          "data": {
            "text/plain": [
              "<IPython.core.display.HTML object>"
            ],
            "text/html": [
              "\n",
              "            <style>\n",
              "                .geemap-dark {\n",
              "                    --jp-widgets-color: white;\n",
              "                    --jp-widgets-label-color: white;\n",
              "                    --jp-ui-font-color1: white;\n",
              "                    --jp-layout-color2: #454545;\n",
              "                    background-color: #383838;\n",
              "                }\n",
              "\n",
              "                .geemap-dark .jupyter-button {\n",
              "                    --jp-layout-color3: #383838;\n",
              "                }\n",
              "\n",
              "                .geemap-colab {\n",
              "                    background-color: var(--colab-primary-surface-color, white);\n",
              "                }\n",
              "\n",
              "                .geemap-colab .jupyter-button {\n",
              "                    --jp-layout-color3: var(--colab-primary-surface-color, white);\n",
              "                }\n",
              "            </style>\n",
              "            "
            ]
          },
          "metadata": {}
        },
        {
          "output_type": "stream",
          "name": "stderr",
          "text": [
            "*** Earth Engine *** Share your feedback by taking our Annual Developer Satisfaction Survey: https://google.qualtrics.com/jfe/form/SV_7TDKVSyKvBdmMqW?ref=4i2o6\n"
          ]
        }
      ]
    },
    {
      "cell_type": "code",
      "source": [
        "from google.colab import files\n",
        "uploaded = files.upload()  # upload Bengaluru.geojson or shapefile\n"
      ],
      "metadata": {
        "colab": {
          "base_uri": "https://localhost:8080/",
          "height": 73
        },
        "id": "QSM27T4cBf1D",
        "outputId": "6a60c43b-c972-43bb-fea3-1c911a0d6b8c"
      },
      "execution_count": null,
      "outputs": [
        {
          "output_type": "display_data",
          "data": {
            "text/plain": [
              "<IPython.core.display.HTML object>"
            ],
            "text/html": [
              "\n",
              "            <style>\n",
              "                .geemap-dark {\n",
              "                    --jp-widgets-color: white;\n",
              "                    --jp-widgets-label-color: white;\n",
              "                    --jp-ui-font-color1: white;\n",
              "                    --jp-layout-color2: #454545;\n",
              "                    background-color: #383838;\n",
              "                }\n",
              "\n",
              "                .geemap-dark .jupyter-button {\n",
              "                    --jp-layout-color3: #383838;\n",
              "                }\n",
              "\n",
              "                .geemap-colab {\n",
              "                    background-color: var(--colab-primary-surface-color, white);\n",
              "                }\n",
              "\n",
              "                .geemap-colab .jupyter-button {\n",
              "                    --jp-layout-color3: var(--colab-primary-surface-color, white);\n",
              "                }\n",
              "            </style>\n",
              "            "
            ]
          },
          "metadata": {}
        },
        {
          "output_type": "display_data",
          "data": {
            "text/plain": [
              "<IPython.core.display.HTML object>"
            ],
            "text/html": [
              "\n",
              "     <input type=\"file\" id=\"files-1e19d78b-64e7-4ba0-83e7-c428ab461dfa\" name=\"files[]\" multiple disabled\n",
              "        style=\"border:none\" />\n",
              "     <output id=\"result-1e19d78b-64e7-4ba0-83e7-c428ab461dfa\">\n",
              "      Upload widget is only available when the cell has been executed in the\n",
              "      current browser session. Please rerun this cell to enable.\n",
              "      </output>\n",
              "      <script>// Copyright 2017 Google LLC\n",
              "//\n",
              "// Licensed under the Apache License, Version 2.0 (the \"License\");\n",
              "// you may not use this file except in compliance with the License.\n",
              "// You may obtain a copy of the License at\n",
              "//\n",
              "//      http://www.apache.org/licenses/LICENSE-2.0\n",
              "//\n",
              "// Unless required by applicable law or agreed to in writing, software\n",
              "// distributed under the License is distributed on an \"AS IS\" BASIS,\n",
              "// WITHOUT WARRANTIES OR CONDITIONS OF ANY KIND, either express or implied.\n",
              "// See the License for the specific language governing permissions and\n",
              "// limitations under the License.\n",
              "\n",
              "/**\n",
              " * @fileoverview Helpers for google.colab Python module.\n",
              " */\n",
              "(function(scope) {\n",
              "function span(text, styleAttributes = {}) {\n",
              "  const element = document.createElement('span');\n",
              "  element.textContent = text;\n",
              "  for (const key of Object.keys(styleAttributes)) {\n",
              "    element.style[key] = styleAttributes[key];\n",
              "  }\n",
              "  return element;\n",
              "}\n",
              "\n",
              "// Max number of bytes which will be uploaded at a time.\n",
              "const MAX_PAYLOAD_SIZE = 100 * 1024;\n",
              "\n",
              "function _uploadFiles(inputId, outputId) {\n",
              "  const steps = uploadFilesStep(inputId, outputId);\n",
              "  const outputElement = document.getElementById(outputId);\n",
              "  // Cache steps on the outputElement to make it available for the next call\n",
              "  // to uploadFilesContinue from Python.\n",
              "  outputElement.steps = steps;\n",
              "\n",
              "  return _uploadFilesContinue(outputId);\n",
              "}\n",
              "\n",
              "// This is roughly an async generator (not supported in the browser yet),\n",
              "// where there are multiple asynchronous steps and the Python side is going\n",
              "// to poll for completion of each step.\n",
              "// This uses a Promise to block the python side on completion of each step,\n",
              "// then passes the result of the previous step as the input to the next step.\n",
              "function _uploadFilesContinue(outputId) {\n",
              "  const outputElement = document.getElementById(outputId);\n",
              "  const steps = outputElement.steps;\n",
              "\n",
              "  const next = steps.next(outputElement.lastPromiseValue);\n",
              "  return Promise.resolve(next.value.promise).then((value) => {\n",
              "    // Cache the last promise value to make it available to the next\n",
              "    // step of the generator.\n",
              "    outputElement.lastPromiseValue = value;\n",
              "    return next.value.response;\n",
              "  });\n",
              "}\n",
              "\n",
              "/**\n",
              " * Generator function which is called between each async step of the upload\n",
              " * process.\n",
              " * @param {string} inputId Element ID of the input file picker element.\n",
              " * @param {string} outputId Element ID of the output display.\n",
              " * @return {!Iterable<!Object>} Iterable of next steps.\n",
              " */\n",
              "function* uploadFilesStep(inputId, outputId) {\n",
              "  const inputElement = document.getElementById(inputId);\n",
              "  inputElement.disabled = false;\n",
              "\n",
              "  const outputElement = document.getElementById(outputId);\n",
              "  outputElement.innerHTML = '';\n",
              "\n",
              "  const pickedPromise = new Promise((resolve) => {\n",
              "    inputElement.addEventListener('change', (e) => {\n",
              "      resolve(e.target.files);\n",
              "    });\n",
              "  });\n",
              "\n",
              "  const cancel = document.createElement('button');\n",
              "  inputElement.parentElement.appendChild(cancel);\n",
              "  cancel.textContent = 'Cancel upload';\n",
              "  const cancelPromise = new Promise((resolve) => {\n",
              "    cancel.onclick = () => {\n",
              "      resolve(null);\n",
              "    };\n",
              "  });\n",
              "\n",
              "  // Wait for the user to pick the files.\n",
              "  const files = yield {\n",
              "    promise: Promise.race([pickedPromise, cancelPromise]),\n",
              "    response: {\n",
              "      action: 'starting',\n",
              "    }\n",
              "  };\n",
              "\n",
              "  cancel.remove();\n",
              "\n",
              "  // Disable the input element since further picks are not allowed.\n",
              "  inputElement.disabled = true;\n",
              "\n",
              "  if (!files) {\n",
              "    return {\n",
              "      response: {\n",
              "        action: 'complete',\n",
              "      }\n",
              "    };\n",
              "  }\n",
              "\n",
              "  for (const file of files) {\n",
              "    const li = document.createElement('li');\n",
              "    li.append(span(file.name, {fontWeight: 'bold'}));\n",
              "    li.append(span(\n",
              "        `(${file.type || 'n/a'}) - ${file.size} bytes, ` +\n",
              "        `last modified: ${\n",
              "            file.lastModifiedDate ? file.lastModifiedDate.toLocaleDateString() :\n",
              "                                    'n/a'} - `));\n",
              "    const percent = span('0% done');\n",
              "    li.appendChild(percent);\n",
              "\n",
              "    outputElement.appendChild(li);\n",
              "\n",
              "    const fileDataPromise = new Promise((resolve) => {\n",
              "      const reader = new FileReader();\n",
              "      reader.onload = (e) => {\n",
              "        resolve(e.target.result);\n",
              "      };\n",
              "      reader.readAsArrayBuffer(file);\n",
              "    });\n",
              "    // Wait for the data to be ready.\n",
              "    let fileData = yield {\n",
              "      promise: fileDataPromise,\n",
              "      response: {\n",
              "        action: 'continue',\n",
              "      }\n",
              "    };\n",
              "\n",
              "    // Use a chunked sending to avoid message size limits. See b/62115660.\n",
              "    let position = 0;\n",
              "    do {\n",
              "      const length = Math.min(fileData.byteLength - position, MAX_PAYLOAD_SIZE);\n",
              "      const chunk = new Uint8Array(fileData, position, length);\n",
              "      position += length;\n",
              "\n",
              "      const base64 = btoa(String.fromCharCode.apply(null, chunk));\n",
              "      yield {\n",
              "        response: {\n",
              "          action: 'append',\n",
              "          file: file.name,\n",
              "          data: base64,\n",
              "        },\n",
              "      };\n",
              "\n",
              "      let percentDone = fileData.byteLength === 0 ?\n",
              "          100 :\n",
              "          Math.round((position / fileData.byteLength) * 100);\n",
              "      percent.textContent = `${percentDone}% done`;\n",
              "\n",
              "    } while (position < fileData.byteLength);\n",
              "  }\n",
              "\n",
              "  // All done.\n",
              "  yield {\n",
              "    response: {\n",
              "      action: 'complete',\n",
              "    }\n",
              "  };\n",
              "}\n",
              "\n",
              "scope.google = scope.google || {};\n",
              "scope.google.colab = scope.google.colab || {};\n",
              "scope.google.colab._files = {\n",
              "  _uploadFiles,\n",
              "  _uploadFilesContinue,\n",
              "};\n",
              "})(self);\n",
              "</script> "
            ]
          },
          "metadata": {}
        },
        {
          "output_type": "stream",
          "name": "stdout",
          "text": [
            "Saving Smallzone.zip to Smallzone.zip\n"
          ]
        }
      ]
    },
    {
      "cell_type": "code",
      "source": [
        "import zipfile\n",
        "import os\n",
        "\n",
        "zip_path = \"Smallzone.zip\"  # name of your uploaded file\n",
        "with zipfile.ZipFile(zip_path, 'r') as zip_ref:\n",
        "    zip_ref.extractall(\"Smallzone_shp\")\n",
        "\n",
        "os.listdir(\"Smallzone_shp\")  # check extracted files\n"
      ],
      "metadata": {
        "colab": {
          "base_uri": "https://localhost:8080/",
          "height": 104
        },
        "id": "jXMYhqvNEGaH",
        "outputId": "3a33c52e-e6ba-435b-a52a-101aae67d97a"
      },
      "execution_count": null,
      "outputs": [
        {
          "output_type": "display_data",
          "data": {
            "text/plain": [
              "<IPython.core.display.HTML object>"
            ],
            "text/html": [
              "\n",
              "            <style>\n",
              "                .geemap-dark {\n",
              "                    --jp-widgets-color: white;\n",
              "                    --jp-widgets-label-color: white;\n",
              "                    --jp-ui-font-color1: white;\n",
              "                    --jp-layout-color2: #454545;\n",
              "                    background-color: #383838;\n",
              "                }\n",
              "\n",
              "                .geemap-dark .jupyter-button {\n",
              "                    --jp-layout-color3: #383838;\n",
              "                }\n",
              "\n",
              "                .geemap-colab {\n",
              "                    background-color: var(--colab-primary-surface-color, white);\n",
              "                }\n",
              "\n",
              "                .geemap-colab .jupyter-button {\n",
              "                    --jp-layout-color3: var(--colab-primary-surface-color, white);\n",
              "                }\n",
              "            </style>\n",
              "            "
            ]
          },
          "metadata": {}
        },
        {
          "output_type": "execute_result",
          "data": {
            "text/plain": [
              "['Smallzone.dbf',\n",
              " 'Smallzone.shx',\n",
              " 'Smallzone.prj',\n",
              " 'Smallzone.cpg',\n",
              " 'Smallzone.shp']"
            ]
          },
          "metadata": {},
          "execution_count": 6
        }
      ]
    },
    {
      "cell_type": "code",
      "source": [
        "import geemap\n",
        "smallzone = geemap.shp_to_ee(\"Smallzone_shp/Smallzone.shp\")\n"
      ],
      "metadata": {
        "colab": {
          "base_uri": "https://localhost:8080/",
          "height": 106
        },
        "id": "21-efMr0EWgq",
        "outputId": "d462ee77-dbdd-433b-b008-11e74436081b"
      },
      "execution_count": null,
      "outputs": [
        {
          "output_type": "display_data",
          "data": {
            "text/plain": [
              "<IPython.core.display.HTML object>"
            ],
            "text/html": [
              "\n",
              "            <style>\n",
              "                .geemap-dark {\n",
              "                    --jp-widgets-color: white;\n",
              "                    --jp-widgets-label-color: white;\n",
              "                    --jp-ui-font-color1: white;\n",
              "                    --jp-layout-color2: #454545;\n",
              "                    background-color: #383838;\n",
              "                }\n",
              "\n",
              "                .geemap-dark .jupyter-button {\n",
              "                    --jp-layout-color3: #383838;\n",
              "                }\n",
              "\n",
              "                .geemap-colab {\n",
              "                    background-color: var(--colab-primary-surface-color, white);\n",
              "                }\n",
              "\n",
              "                .geemap-colab .jupyter-button {\n",
              "                    --jp-layout-color3: var(--colab-primary-surface-color, white);\n",
              "                }\n",
              "            </style>\n",
              "            "
            ]
          },
          "metadata": {}
        },
        {
          "output_type": "stream",
          "name": "stderr",
          "text": [
            "/usr/local/lib/python3.12/dist-packages/pyogrio/raw.py:723: RuntimeWarning: Field created_da create as date field, though DateTime requested.\n",
            "  ogr_write(\n",
            "/usr/local/lib/python3.12/dist-packages/pyogrio/raw.py:723: RuntimeWarning: Field last_edi_1 create as date field, though DateTime requested.\n",
            "  ogr_write(\n"
          ]
        }
      ]
    },
    {
      "cell_type": "code",
      "source": [
        "smallzone"
      ],
      "metadata": {
        "colab": {
          "base_uri": "https://localhost:8080/",
          "height": 68
        },
        "id": "ed5d1oOqKV-d",
        "outputId": "db00677f-8d82-4488-cf22-1e6cfe0166d6"
      },
      "execution_count": null,
      "outputs": [
        {
          "output_type": "display_data",
          "data": {
            "text/plain": [
              "<IPython.core.display.HTML object>"
            ],
            "text/html": [
              "\n",
              "            <style>\n",
              "                .geemap-dark {\n",
              "                    --jp-widgets-color: white;\n",
              "                    --jp-widgets-label-color: white;\n",
              "                    --jp-ui-font-color1: white;\n",
              "                    --jp-layout-color2: #454545;\n",
              "                    background-color: #383838;\n",
              "                }\n",
              "\n",
              "                .geemap-dark .jupyter-button {\n",
              "                    --jp-layout-color3: #383838;\n",
              "                }\n",
              "\n",
              "                .geemap-colab {\n",
              "                    background-color: var(--colab-primary-surface-color, white);\n",
              "                }\n",
              "\n",
              "                .geemap-colab .jupyter-button {\n",
              "                    --jp-layout-color3: var(--colab-primary-surface-color, white);\n",
              "                }\n",
              "            </style>\n",
              "            "
            ]
          },
          "metadata": {}
        },
        {
          "output_type": "execute_result",
          "data": {
            "text/plain": [
              "<ee.featurecollection.FeatureCollection at 0x7e4c6ea98a10>"
            ],
            "text/html": [
              "<div><style>:root {\n",
              "  --font-color-primary: var(--jp-content-font-color0, rgba(0, 0, 0, 1));\n",
              "  --font-color-secondary: var(--jp-content-font-color2, rgba(0, 0, 0, 0.7));\n",
              "  --font-color-accent: rgba(123, 31, 162, 1);\n",
              "  --border-color: var(--jp-border-color2, #e0e0e0);\n",
              "  --background-color: var(--jp-layout-color0, white);\n",
              "  --background-color-row-even: var(--jp-layout-color1, white);\n",
              "  --background-color-row-odd: var(--jp-layout-color2, #eeeeee);\n",
              "}\n",
              "\n",
              "html[theme=\"dark\"],\n",
              "body[data-theme=\"dark\"],\n",
              "body.vscode-dark {\n",
              "  --font-color-primary: rgba(255, 255, 255, 1);\n",
              "  --font-color-secondary: rgba(255, 255, 255, 0.7);\n",
              "  --font-color-accent: rgb(173, 132, 190);\n",
              "  --border-color: #2e2e2e;\n",
              "  --background-color: #111111;\n",
              "  --background-color-row-even: #111111;\n",
              "  --background-color-row-odd: #313131;\n",
              "}\n",
              "\n",
              ".eerepr {\n",
              "  padding: 1em;\n",
              "  line-height: 1.5em;\n",
              "  min-width: 300px;\n",
              "  max-width: 1200px;\n",
              "  overflow-y: scroll;\n",
              "  max-height: 600px;\n",
              "  border: 1px solid var(--border-color);\n",
              "  font-family: monospace;\n",
              "  font-size: 14px;\n",
              "}\n",
              "\n",
              ".eerepr li {\n",
              "  list-style-type: none;\n",
              "  margin: 0;\n",
              "}\n",
              "\n",
              ".eerepr ul {\n",
              "  padding-left: 1.5em !important;\n",
              "  margin: 0;\n",
              "}\n",
              "\n",
              ".eerepr > ul {\n",
              "  padding-left: 0 !important;\n",
              "}\n",
              "\n",
              ".eerepr summary {\n",
              "  color: var(--font-color-secondary);\n",
              "  cursor: pointer;\n",
              "  margin: 0;\n",
              "}\n",
              "\n",
              ".eerepr summary:hover {\n",
              "  color: var(--font-color-primary);\n",
              "  background-color: var(--background-color-row-odd)\n",
              "}\n",
              "\n",
              ".ee-k {\n",
              "  color: var(--font-color-accent);\n",
              "  margin-right: 6px;\n",
              "}\n",
              "\n",
              ".ee-v {\n",
              "  color: var(--font-color-primary);\n",
              "}\n",
              "\n",
              ".eerepr details > summary::before {\n",
              "  content: '▼';\n",
              "  display: inline-block;\n",
              "  margin-right: 6px;\n",
              "  transition: transform 0.2s;\n",
              "  transform: rotate(-90deg);\n",
              "}\n",
              "\n",
              ".eerepr details[open] > summary::before {\n",
              "  transform: rotate(0deg);\n",
              "}\n",
              "\n",
              ".eerepr details summary::-webkit-details-marker {\n",
              "  display:none;\n",
              "}\n",
              "\n",
              ".eerepr details summary {\n",
              "  list-style-type: none;\n",
              "}\n",
              "</style><div class='eerepr'><ul><li><details><summary>FeatureCollection (1 element, 12 columns)</summary><ul><li><span class='ee-k'>type:</span><span class='ee-v'>FeatureCollection</span></li><li><details><summary>columns: Object (12 properties)</summary><ul><li><span class='ee-k'>KGISTownCo:</span><span class='ee-v'>String</span></li><li><span class='ee-k'>OBJECTID:</span><span class='ee-v'>Integer</span></li><li><span class='ee-k'>SHAPE_Area:</span><span class='ee-v'>Float</span></li><li><span class='ee-k'>SHAPE_Leng:</span><span class='ee-v'>Float</span></li><li><span class='ee-k'>ZONEID:</span><span class='ee-v'>Integer</span></li><li><span class='ee-k'>ZoneCode:</span><span class='ee-v'>Integer</span></li><li><span class='ee-k'>ZoneName:</span><span class='ee-v'>String</span></li><li><span class='ee-k'>created_da:</span><span class='ee-v'>Object</span></li><li><span class='ee-k'>created_us:</span><span class='ee-v'>String</span></li><li><span class='ee-k'>last_edi_1:</span><span class='ee-v'>Object</span></li><li><span class='ee-k'>last_edite:</span><span class='ee-v'>String</span></li><li><span class='ee-k'>system:index:</span><span class='ee-v'>String</span></li></ul></details></li><li><details><summary>features: List (1 element)</summary><ul><li><details><summary>0: Feature (Polygon, 11 properties)</summary><ul><li><span class='ee-k'>type:</span><span class='ee-v'>Feature</span></li><li><span class='ee-k'>id:</span><span class='ee-v'>0</span></li><li><details><summary>geometry: Polygon (2213 vertices)</summary><ul><li><span class='ee-k'>type:</span><span class='ee-v'>Polygon</span></li><li><details><summary>coordinates: List (1 element)</summary><ul><li><details><summary>0: List (2213 elements)</summary><ul><li><details><summary>0: [77.58287082479909, 12.971842863388865]</summary><ul><li><span class='ee-k'>0:</span><span class='ee-v'>77.58287082479909</span></li><li><span class='ee-k'>1:</span><span class='ee-v'>12.971842863388865</span></li></ul></details></li><li><details><summary>1: [77.58284174617953, 12.971312454039495]</summary><ul><li><span class='ee-k'>0:</span><span class='ee-v'>77.58284174617953</span></li><li><span class='ee-k'>1:</span><span class='ee-v'>12.971312454039495</span></li></ul></details></li><li><details><summary>2: [77.5828416692288, 12.971300718187754]</summary><ul><li><span class='ee-k'>0:</span><span class='ee-v'>77.5828416692288</span></li><li><span class='ee-k'>1:</span><span class='ee-v'>12.971300718187754</span></li></ul></details></li><li><details><summary>3: [77.5828356291044, 12.970385357333663]</summary><ul><li><span class='ee-k'>0:</span><span class='ee-v'>77.5828356291044</span></li><li><span class='ee-k'>1:</span><span class='ee-v'>12.970385357333663</span></li></ul></details></li><li><details><summary>4: [77.58279600564848, 12.970330313761334]</summary><ul><li><span class='ee-k'>0:</span><span class='ee-v'>77.58279600564848</span></li><li><span class='ee-k'>1:</span><span class='ee-v'>12.970330313761334</span></li></ul></details></li><li><details><summary>5: [77.58279123541682, 12.970323685593126]</summary><ul><li><span class='ee-k'>0:</span><span class='ee-v'>77.58279123541682</span></li><li><span class='ee-k'>1:</span><span class='ee-v'>12.970323685593126</span></li></ul></details></li><li><details><summary>6: [77.58297860924017, 12.970125327266201]</summary><ul><li><span class='ee-k'>0:</span><span class='ee-v'>77.58297860924017</span></li><li><span class='ee-k'>1:</span><span class='ee-v'>12.970125327266201</span></li></ul></details></li><li><details><summary>7: [77.58290166038829, 12.969921687584733]</summary><ul><li><span class='ee-k'>0:</span><span class='ee-v'>77.58290166038829</span></li><li><span class='ee-k'>1:</span><span class='ee-v'>12.969921687584733</span></li></ul></details></li><li><details><summary>8: [77.58288175356859, 12.969868086175866]</summary><ul><li><span class='ee-k'>0:</span><span class='ee-v'>77.58288175356859</span></li><li><span class='ee-k'>1:</span><span class='ee-v'>12.969868086175866</span></li></ul></details></li><li><details><summary>9: [77.58283976427617, 12.969755011797883]</summary><ul><li><span class='ee-k'>0:</span><span class='ee-v'>77.58283976427617</span></li><li><span class='ee-k'>1:</span><span class='ee-v'>12.969755011797883</span></li></ul></details></li><li><details><summary>10: [77.58275834518827, 12.96953576066399]</summary><ul><li><span class='ee-k'>0:</span><span class='ee-v'>77.58275834518827</span></li><li><span class='ee-k'>1:</span><span class='ee-v'>12.96953576066399</span></li></ul></details></li><li><details><summary>11: [77.58266478702893, 12.969284855027345]</summary><ul><li><span class='ee-k'>0:</span><span class='ee-v'>77.58266478702893</span></li><li><span class='ee-k'>1:</span><span class='ee-v'>12.969284855027345</span></li></ul></details></li><li><details><summary>12: [77.58260013255732, 12.969156756390586]</summary><ul><li><span class='ee-k'>0:</span><span class='ee-v'>77.58260013255732</span></li><li><span class='ee-k'>1:</span><span class='ee-v'>12.969156756390586</span></li></ul></details></li><li><details><summary>13: [77.58261329087172, 12.969148719732148]</summary><ul><li><span class='ee-k'>0:</span><span class='ee-v'>77.58261329087172</span></li><li><span class='ee-k'>1:</span><span class='ee-v'>12.969148719732148</span></li></ul></details></li><li><details><summary>14: [77.58243344502239, 12.968681844390714]</summary><ul><li><span class='ee-k'>0:</span><span class='ee-v'>77.58243344502239</span></li><li><span class='ee-k'>1:</span><span class='ee-v'>12.968681844390714</span></li></ul></details></li><li><details><summary>15: [77.58241678968866, 12.968630061783188]</summary><ul><li><span class='ee-k'>0:</span><span class='ee-v'>77.58241678968866</span></li><li><span class='ee-k'>1:</span><span class='ee-v'>12.968630061783188</span></li></ul></details></li><li><details><summary>16: [77.5824056180008, 12.968596108382824]</summary><ul><li><span class='ee-k'>0:</span><span class='ee-v'>77.5824056180008</span></li><li><span class='ee-k'>1:</span><span class='ee-v'>12.968596108382824</span></li></ul></details></li><li><details><summary>17: [77.58237126321778, 12.968491697058043]</summary><ul><li><span class='ee-k'>0:</span><span class='ee-v'>77.58237126321778</span></li><li><span class='ee-k'>1:</span><span class='ee-v'>12.968491697058043</span></li></ul></details></li><li><details><summary>18: [77.5823662152165, 12.968476357927113]</summary><ul><li><span class='ee-k'>0:</span><span class='ee-v'>77.5823662152165</span></li><li><span class='ee-k'>1:</span><span class='ee-v'>12.968476357927113</span></li></ul></details></li><li><details><summary>19: [77.58234842728142, 12.968422296325503]</summary><ul><li><span class='ee-k'>0:</span><span class='ee-v'>77.58234842728142</span></li><li><span class='ee-k'>1:</span><span class='ee-v'>12.968422296325503</span></li></ul></details></li><li><details><summary>20: [77.58234308539728, 12.968406062088869]</summary><ul><li><span class='ee-k'>0:</span><span class='ee-v'>77.58234308539728</span></li><li><span class='ee-k'>1:</span><span class='ee-v'>12.968406062088869</span></li></ul></details></li><li><details><summary>21: [77.58234044191484, 12.968401007368128]</summary><ul><li><span class='ee-k'>0:</span><span class='ee-v'>77.58234044191484</span></li><li><span class='ee-k'>1:</span><span class='ee-v'>12.968401007368128</span></li></ul></details></li><li><details><summary>22: [77.5823378002654, 12.968395951725698]</summary><ul><li><span class='ee-k'>0:</span><span class='ee-v'>77.5823378002654</span></li><li><span class='ee-k'>1:</span><span class='ee-v'>12.968395951725698</span></li></ul></details></li><li><details><summary>23: [77.58208860542275, 12.967903790305995]</summary><ul><li><span class='ee-k'>0:</span><span class='ee-v'>77.58208860542275</span></li><li><span class='ee-k'>1:</span><span class='ee-v'>12.967903790305995</span></li></ul></details></li><li><details><summary>24: [77.5820400225583, 12.96783030311069]</summary><ul><li><span class='ee-k'>0:</span><span class='ee-v'>77.5820400225583</span></li><li><span class='ee-k'>1:</span><span class='ee-v'>12.96783030311069</span></li></ul></details></li><li><details><summary>25: [77.58195583825749, 12.967702961753094]</summary><ul><li><span class='ee-k'>0:</span><span class='ee-v'>77.58195583825749</span></li><li><span class='ee-k'>1:</span><span class='ee-v'>12.967702961753094</span></li></ul></details></li><li><details><summary>26: [77.5819037983538, 12.967625556263636]</summary><ul><li><span class='ee-k'>0:</span><span class='ee-v'>77.5819037983538</span></li><li><span class='ee-k'>1:</span><span class='ee-v'>12.967625556263636</span></li></ul></details></li><li><details><summary>27: [77.58184629770882, 12.967521101661758]</summary><ul><li><span class='ee-k'>0:</span><span class='ee-v'>77.58184629770882</span></li><li><span class='ee-k'>1:</span><span class='ee-v'>12.967521101661758</span></li></ul></details></li><li><details><summary>28: [77.5815775549941, 12.967031391986866]</summary><ul><li><span class='ee-k'>0:</span><span class='ee-v'>77.5815775549941</span></li><li><span class='ee-k'>1:</span><span class='ee-v'>12.967031391986866</span></li></ul></details></li><li><details><summary>29: [77.58139799453359, 12.96670341772317]</summary><ul><li><span class='ee-k'>0:</span><span class='ee-v'>77.58139799453359</span></li><li><span class='ee-k'>1:</span><span class='ee-v'>12.96670341772317</span></li></ul></details></li><li><details><summary>30: [77.5813469053504, 12.966606239794983]</summary><ul><li><span class='ee-k'>0:</span><span class='ee-v'>77.5813469053504</span></li><li><span class='ee-k'>1:</span><span class='ee-v'>12.966606239794983</span></li></ul></details></li><li><details><summary>31: [77.58129522335588, 12.966507938426197]</summary><ul><li><span class='ee-k'>0:</span><span class='ee-v'>77.58129522335588</span></li><li><span class='ee-k'>1:</span><span class='ee-v'>12.966507938426197</span></li></ul></details></li><li><details><summary>32: [77.58126944573223, 12.966520615606697]</summary><ul><li><span class='ee-k'>0:</span><span class='ee-v'>77.58126944573223</span></li><li><span class='ee-k'>1:</span><span class='ee-v'>12.966520615606697</span></li></ul></details></li><li><details><summary>33: [77.58105953266332, 12.966654826654253]</summary><ul><li><span class='ee-k'>0:</span><span class='ee-v'>77.58105953266332</span></li><li><span class='ee-k'>1:</span><span class='ee-v'>12.966654826654253</span></li></ul></details></li><li><details><summary>34: [77.58091086814248, 12.966754550877507]</summary><ul><li><span class='ee-k'>0:</span><span class='ee-v'>77.58091086814248</span></li><li><span class='ee-k'>1:</span><span class='ee-v'>12.966754550877507</span></li></ul></details></li><li><details><summary>35: [77.5805792955547, 12.966936955616703]</summary><ul><li><span class='ee-k'>0:</span><span class='ee-v'>77.5805792955547</span></li><li><span class='ee-k'>1:</span><span class='ee-v'>12.966936955616703</span></li></ul></details></li><li><details><summary>36: [77.58047546410047, 12.966994075761338]</summary><ul><li><span class='ee-k'>0:</span><span class='ee-v'>77.58047546410047</span></li><li><span class='ee-k'>1:</span><span class='ee-v'>12.966994075761338</span></li></ul></details></li><li><details><summary>37: [77.58012483171024, 12.96718696562186]</summary><ul><li><span class='ee-k'>0:</span><span class='ee-v'>77.58012483171024</span></li><li><span class='ee-k'>1:</span><span class='ee-v'>12.96718696562186</span></li></ul></details></li><li><details><summary>38: [77.57984257888687, 12.967341090561291]</summary><ul><li><span class='ee-k'>0:</span><span class='ee-v'>77.57984257888687</span></li><li><span class='ee-k'>1:</span><span class='ee-v'>12.967341090561291</span></li></ul></details></li><li><details><summary>39: [77.57951453945502, 12.96752164505824]</summary><ul><li><span class='ee-k'>0:</span><span class='ee-v'>77.57951453945502</span></li><li><span class='ee-k'>1:</span><span class='ee-v'>12.96752164505824</span></li></ul></details></li><li><details><summary>40: [77.5790891662744, 12.967755111308668]</summary><ul><li><span class='ee-k'>0:</span><span class='ee-v'>77.5790891662744</span></li><li><span class='ee-k'>1:</span><span class='ee-v'>12.967755111308668</span></li></ul></details></li><li><details><summary>41: [77.5786769641195, 12.96798167061214]</summary><ul><li><span class='ee-k'>0:</span><span class='ee-v'>77.5786769641195</span></li><li><span class='ee-k'>1:</span><span class='ee-v'>12.96798167061214</span></li></ul></details></li><li><details><summary>42: [77.57867608229999, 12.967979859814594]</summary><ul><li><span class='ee-k'>0:</span><span class='ee-v'>77.57867608229999</span></li><li><span class='ee-k'>1:</span><span class='ee-v'>12.967979859814594</span></li></ul></details></li><li><details><summary>43: [77.57854344483836, 12.967707444185914]</summary><ul><li><span class='ee-k'>0:</span><span class='ee-v'>77.57854344483836</span></li><li><span class='ee-k'>1:</span><span class='ee-v'>12.967707444185914</span></li></ul></details></li><li><details><summary>44: [77.57837640112817, 12.967364661280552]</summary><ul><li><span class='ee-k'>0:</span><span class='ee-v'>77.57837640112817</span></li><li><span class='ee-k'>1:</span><span class='ee-v'>12.967364661280552</span></li></ul></details></li><li><details><summary>45: [77.57821224861408, 12.967043871007412]</summary><ul><li><span class='ee-k'>0:</span><span class='ee-v'>77.57821224861408</span></li><li><span class='ee-k'>1:</span><span class='ee-v'>12.967043871007412</span></li></ul></details></li><li><details><summary>46: [77.57805499700649, 12.96673656294804]</summary><ul><li><span class='ee-k'>0:</span><span class='ee-v'>77.57805499700649</span></li><li><span class='ee-k'>1:</span><span class='ee-v'>12.96673656294804</span></li></ul></details></li><li><details><summary>47: [77.5779797157347, 12.966582594744601]</summary><ul><li><span class='ee-k'>0:</span><span class='ee-v'>77.5779797157347</span></li><li><span class='ee-k'>1:</span><span class='ee-v'>12.966582594744601</span></li></ul></details></li><li><details><summary>48: [77.57789295365646, 12.966404646262939]</summary><ul><li><span class='ee-k'>0:</span><span class='ee-v'>77.57789295365646</span></li><li><span class='ee-k'>1:</span><span class='ee-v'>12.966404646262939</span></li></ul></details></li><li><details><summary>49: [77.57779190721882, 12.966197398666493]</summary><ul><li><span class='ee-k'>0:</span><span class='ee-v'>77.57779190721882</span></li><li><span class='ee-k'>1:</span><span class='ee-v'>12.966197398666493</span></li></ul></details></li><li><details><summary>50: [77.57766640360258, 12.965939990052968]</summary><ul><li><span class='ee-k'>0:</span><span class='ee-v'>77.57766640360258</span></li><li><span class='ee-k'>1:</span><span class='ee-v'>12.965939990052968</span></li></ul></details></li><li><details><summary>51: [77.57761093529113, 12.965826224754828]</summary><ul><li><span class='ee-k'>0:</span><span class='ee-v'>77.57761093529113</span></li><li><span class='ee-k'>1:</span><span class='ee-v'>12.965826224754828</span></li></ul></details></li><li><details><summary>52: [77.57759387904291, 12.965791385196212]</summary><ul><li><span class='ee-k'>0:</span><span class='ee-v'>77.57759387904291</span></li><li><span class='ee-k'>1:</span><span class='ee-v'>12.965791385196212</span></li></ul></details></li><li><details><summary>53: [77.57748469566727, 12.965528792491002]</summary><ul><li><span class='ee-k'>0:</span><span class='ee-v'>77.57748469566727</span></li><li><span class='ee-k'>1:</span><span class='ee-v'>12.965528792491002</span></li></ul></details></li><li><details><summary>54: [77.57736895056247, 12.965250416440417]</summary><ul><li><span class='ee-k'>0:</span><span class='ee-v'>77.57736895056247</span></li><li><span class='ee-k'>1:</span><span class='ee-v'>12.965250416440417</span></li></ul></details></li><li><details><summary>55: [77.57730914549386, 12.965124737772856]</summary><ul><li><span class='ee-k'>0:</span><span class='ee-v'>77.57730914549386</span></li><li><span class='ee-k'>1:</span><span class='ee-v'>12.965124737772856</span></li></ul></details></li><li><details><summary>56: [77.57724239745438, 12.964984469433666]</summary><ul><li><span class='ee-k'>0:</span><span class='ee-v'>77.57724239745438</span></li><li><span class='ee-k'>1:</span><span class='ee-v'>12.964984469433666</span></li></ul></details></li><li><details><summary>57: [77.57722414442719, 12.964946112822638]</summary><ul><li><span class='ee-k'>0:</span><span class='ee-v'>77.57722414442719</span></li><li><span class='ee-k'>1:</span><span class='ee-v'>12.964946112822638</span></li></ul></details></li><li><details><summary>58: [77.57713086627237, 12.964750092630249]</summary><ul><li><span class='ee-k'>0:</span><span class='ee-v'>77.57713086627237</span></li><li><span class='ee-k'>1:</span><span class='ee-v'>12.964750092630249</span></li></ul></details></li><li><details><summary>59: [77.57709295642483, 12.964670427265675]</summary><ul><li><span class='ee-k'>0:</span><span class='ee-v'>77.57709295642483</span></li><li><span class='ee-k'>1:</span><span class='ee-v'>12.964670427265675</span></li></ul></details></li><li><details><summary>60: [77.57699760351554, 12.964468096181545]</summary><ul><li><span class='ee-k'>0:</span><span class='ee-v'>77.57699760351554</span></li><li><span class='ee-k'>1:</span><span class='ee-v'>12.964468096181545</span></li></ul></details></li><li><details><summary>61: [77.57693111102947, 12.964328720478893]</summary><ul><li><span class='ee-k'>0:</span><span class='ee-v'>77.57693111102947</span></li><li><span class='ee-k'>1:</span><span class='ee-v'>12.964328720478893</span></li></ul></details></li><li><details><summary>62: [77.5768604833275, 12.964179221921926]</summary><ul><li><span class='ee-k'>0:</span><span class='ee-v'>77.5768604833275</span></li><li><span class='ee-k'>1:</span><span class='ee-v'>12.964179221921926</span></li></ul></details></li><li><details><summary>63: [77.57682672113621, 12.964104328072615]</summary><ul><li><span class='ee-k'>0:</span><span class='ee-v'>77.57682672113621</span></li><li><span class='ee-k'>1:</span><span class='ee-v'>12.964104328072615</span></li></ul></details></li><li><details><summary>64: [77.57681334787432, 12.964074663028061]</summary><ul><li><span class='ee-k'>0:</span><span class='ee-v'>77.57681334787432</span></li><li><span class='ee-k'>1:</span><span class='ee-v'>12.964074663028061</span></li></ul></details></li><li><details><summary>65: [77.57681285790173, 12.964074851279385]</summary><ul><li><span class='ee-k'>0:</span><span class='ee-v'>77.57681285790173</span></li><li><span class='ee-k'>1:</span><span class='ee-v'>12.964074851279385</span></li></ul></details></li><li><details><summary>66: [77.57675313310712, 12.964097845427277]</summary><ul><li><span class='ee-k'>0:</span><span class='ee-v'>77.57675313310712</span></li><li><span class='ee-k'>1:</span><span class='ee-v'>12.964097845427277</span></li></ul></details></li><li><details><summary>67: [77.57671741172163, 12.964003901911791]</summary><ul><li><span class='ee-k'>0:</span><span class='ee-v'>77.57671741172163</span></li><li><span class='ee-k'>1:</span><span class='ee-v'>12.964003901911791</span></li></ul></details></li><li><details><summary>68: [77.57665431047778, 12.963837953766507]</summary><ul><li><span class='ee-k'>0:</span><span class='ee-v'>77.57665431047778</span></li><li><span class='ee-k'>1:</span><span class='ee-v'>12.963837953766507</span></li></ul></details></li><li><details><summary>69: [77.57634212418232, 12.963014955546196]</summary><ul><li><span class='ee-k'>0:</span><span class='ee-v'>77.57634212418232</span></li><li><span class='ee-k'>1:</span><span class='ee-v'>12.963014955546196</span></li></ul></details></li><li><details><summary>70: [77.5761660801412, 12.962550857548447]</summary><ul><li><span class='ee-k'>0:</span><span class='ee-v'>77.5761660801412</span></li><li><span class='ee-k'>1:</span><span class='ee-v'>12.962550857548447</span></li></ul></details></li><li><details><summary>71: [77.57607113213614, 12.962430397592513]</summary><ul><li><span class='ee-k'>0:</span><span class='ee-v'>77.57607113213614</span></li><li><span class='ee-k'>1:</span><span class='ee-v'>12.962430397592513</span></li></ul></details></li><li><details><summary>72: [77.57604066071664, 12.962391738047273]</summary><ul><li><span class='ee-k'>0:</span><span class='ee-v'>77.57604066071664</span></li><li><span class='ee-k'>1:</span><span class='ee-v'>12.962391738047273</span></li></ul></details></li><li><details><summary>73: [77.57601894340021, 12.962364284937996]</summary><ul><li><span class='ee-k'>0:</span><span class='ee-v'>77.57601894340021</span></li><li><span class='ee-k'>1:</span><span class='ee-v'>12.962364284937996</span></li></ul></details></li><li><details><summary>74: [77.57595024488793, 12.962277442557276]</summary><ul><li><span class='ee-k'>0:</span><span class='ee-v'>77.57595024488793</span></li><li><span class='ee-k'>1:</span><span class='ee-v'>12.962277442557276</span></li></ul></details></li><li><details><summary>75: [77.57559109485729, 12.961869364718085]</summary><ul><li><span class='ee-k'>0:</span><span class='ee-v'>77.57559109485729</span></li><li><span class='ee-k'>1:</span><span class='ee-v'>12.961869364718085</span></li></ul></details></li><li><details><summary>76: [77.57552557136405, 12.961794914056506]</summary><ul><li><span class='ee-k'>0:</span><span class='ee-v'>77.57552557136405</span></li><li><span class='ee-k'>1:</span><span class='ee-v'>12.961794914056506</span></li></ul></details></li><li><details><summary>77: [77.57526646395273, 12.961456426485766]</summary><ul><li><span class='ee-k'>0:</span><span class='ee-v'>77.57526646395273</span></li><li><span class='ee-k'>1:</span><span class='ee-v'>12.961456426485766</span></li></ul></details></li><li><details><summary>78: [77.57518126568556, 12.961345467806806]</summary><ul><li><span class='ee-k'>0:</span><span class='ee-v'>77.57518126568556</span></li><li><span class='ee-k'>1:</span><span class='ee-v'>12.961345467806806</span></li></ul></details></li><li><details><summary>79: [77.57511866452003, 12.96120322951223]</summary><ul><li><span class='ee-k'>0:</span><span class='ee-v'>77.57511866452003</span></li><li><span class='ee-k'>1:</span><span class='ee-v'>12.96120322951223</span></li></ul></details></li><li><details><summary>80: [77.5750733845772, 12.961100344757648]</summary><ul><li><span class='ee-k'>0:</span><span class='ee-v'>77.5750733845772</span></li><li><span class='ee-k'>1:</span><span class='ee-v'>12.961100344757648</span></li></ul></details></li><li><details><summary>81: [77.57500104542316, 12.960936746770477]</summary><ul><li><span class='ee-k'>0:</span><span class='ee-v'>77.57500104542316</span></li><li><span class='ee-k'>1:</span><span class='ee-v'>12.960936746770477</span></li></ul></details></li><li><details><summary>82: [77.57490185808112, 12.960712430709627]</summary><ul><li><span class='ee-k'>0:</span><span class='ee-v'>77.57490185808112</span></li><li><span class='ee-k'>1:</span><span class='ee-v'>12.960712430709627</span></li></ul></details></li><li><details><summary>83: [77.57462599906012, 12.960088392417271]</summary><ul><li><span class='ee-k'>0:</span><span class='ee-v'>77.57462599906012</span></li><li><span class='ee-k'>1:</span><span class='ee-v'>12.960088392417271</span></li></ul></details></li><li><details><summary>84: [77.57451443285522, 12.95977331073355]</summary><ul><li><span class='ee-k'>0:</span><span class='ee-v'>77.57451443285522</span></li><li><span class='ee-k'>1:</span><span class='ee-v'>12.95977331073355</span></li></ul></details></li><li><details><summary>85: [77.57451441577436, 12.959773262116286]</summary><ul><li><span class='ee-k'>0:</span><span class='ee-v'>77.57451441577436</span></li><li><span class='ee-k'>1:</span><span class='ee-v'>12.959773262116286</span></li></ul></details></li><li><details><summary>86: [77.57450496184484, 12.959746563864144]</summary><ul><li><span class='ee-k'>0:</span><span class='ee-v'>77.57450496184484</span></li><li><span class='ee-k'>1:</span><span class='ee-v'>12.959746563864144</span></li></ul></details></li><li><details><summary>87: [77.57450207205154, 12.959738401784154]</summary><ul><li><span class='ee-k'>0:</span><span class='ee-v'>77.57450207205154</span></li><li><span class='ee-k'>1:</span><span class='ee-v'>12.959738401784154</span></li></ul></details></li><li><details><summary>88: [77.57373952308461, 12.957582182867748]</summary><ul><li><span class='ee-k'>0:</span><span class='ee-v'>77.57373952308461</span></li><li><span class='ee-k'>1:</span><span class='ee-v'>12.957582182867748</span></li></ul></details></li><li><details><summary>89: [77.5737154292572, 12.957537814172085]</summary><ul><li><span class='ee-k'>0:</span><span class='ee-v'>77.5737154292572</span></li><li><span class='ee-k'>1:</span><span class='ee-v'>12.957537814172085</span></li></ul></details></li><li><details><summary>90: [77.57369316447797, 12.957496814421026]</summary><ul><li><span class='ee-k'>0:</span><span class='ee-v'>77.57369316447797</span></li><li><span class='ee-k'>1:</span><span class='ee-v'>12.957496814421026</span></li></ul></details></li><li><details><summary>91: [77.57368000349, 12.957478310891558]</summary><ul><li><span class='ee-k'>0:</span><span class='ee-v'>77.57368000349</span></li><li><span class='ee-k'>1:</span><span class='ee-v'>12.957478310891558</span></li></ul></details></li><li><details><summary>92: [77.57365168786927, 12.957438499356208]</summary><ul><li><span class='ee-k'>0:</span><span class='ee-v'>77.57365168786927</span></li><li><span class='ee-k'>1:</span><span class='ee-v'>12.957438499356208</span></li></ul></details></li><li><details><summary>93: [77.57355778024342, 12.957376186211942]</summary><ul><li><span class='ee-k'>0:</span><span class='ee-v'>77.57355778024342</span></li><li><span class='ee-k'>1:</span><span class='ee-v'>12.957376186211942</span></li></ul></details></li><li><details><summary>94: [77.57352881131534, 12.957358403583662]</summary><ul><li><span class='ee-k'>0:</span><span class='ee-v'>77.57352881131534</span></li><li><span class='ee-k'>1:</span><span class='ee-v'>12.957358403583662</span></li></ul></details></li><li><details><summary>95: [77.57343610148818, 12.957300595788999]</summary><ul><li><span class='ee-k'>0:</span><span class='ee-v'>77.57343610148818</span></li><li><span class='ee-k'>1:</span><span class='ee-v'>12.957300595788999</span></li></ul></details></li><li><details><summary>96: [77.57337939621725, 12.957272923490194]</summary><ul><li><span class='ee-k'>0:</span><span class='ee-v'>77.57337939621725</span></li><li><span class='ee-k'>1:</span><span class='ee-v'>12.957272923490194</span></li></ul></details></li><li><details><summary>97: [77.57326462998282, 12.957253730207473]</summary><ul><li><span class='ee-k'>0:</span><span class='ee-v'>77.57326462998282</span></li><li><span class='ee-k'>1:</span><span class='ee-v'>12.957253730207473</span></li></ul></details></li><li><details><summary>98: [77.5730854704526, 12.957243078444847]</summary><ul><li><span class='ee-k'>0:</span><span class='ee-v'>77.5730854704526</span></li><li><span class='ee-k'>1:</span><span class='ee-v'>12.957243078444847</span></li></ul></details></li><li><details><summary>99: [77.5721445893889, 12.957228659738652]</summary><ul><li><span class='ee-k'>0:</span><span class='ee-v'>77.5721445893889</span></li><li><span class='ee-k'>1:</span><span class='ee-v'>12.957228659738652</span></li></ul></details></li><li><details><summary>100: [77.57208533808867, 12.957227800470037]</summary><ul><li><span class='ee-k'>0:</span><span class='ee-v'>77.57208533808867</span></li><li><span class='ee-k'>1:</span><span class='ee-v'>12.957227800470037</span></li></ul></details></li><li><details><summary>101: [77.5717685569477, 12.957223208859721]</summary><ul><li><span class='ee-k'>0:</span><span class='ee-v'>77.5717685569477</span></li><li><span class='ee-k'>1:</span><span class='ee-v'>12.957223208859721</span></li></ul></details></li><li><details><summary>102: [77.57154827321904, 12.957220015465884]</summary><ul><li><span class='ee-k'>0:</span><span class='ee-v'>77.57154827321904</span></li><li><span class='ee-k'>1:</span><span class='ee-v'>12.957220015465884</span></li></ul></details></li><li><details><summary>103: [77.57075458379333, 12.957208508748058]</summary><ul><li><span class='ee-k'>0:</span><span class='ee-v'>77.57075458379333</span></li><li><span class='ee-k'>1:</span><span class='ee-v'>12.957208508748058</span></li></ul></details></li><li><details><summary>104: [77.57042342495576, 12.957197097264453]</summary><ul><li><span class='ee-k'>0:</span><span class='ee-v'>77.57042342495576</span></li><li><span class='ee-k'>1:</span><span class='ee-v'>12.957197097264453</span></li></ul></details></li><li><details><summary>105: [77.56963094851835, 12.95716991107384]</summary><ul><li><span class='ee-k'>0:</span><span class='ee-v'>77.56963094851835</span></li><li><span class='ee-k'>1:</span><span class='ee-v'>12.95716991107384</span></li></ul></details></li><li><details><summary>106: [77.56857353752923, 12.957132913784248]</summary><ul><li><span class='ee-k'>0:</span><span class='ee-v'>77.56857353752923</span></li><li><span class='ee-k'>1:</span><span class='ee-v'>12.957132913784248</span></li></ul></details></li><li><details><summary>107: [77.56853549724953, 12.957131563469826]</summary><ul><li><span class='ee-k'>0:</span><span class='ee-v'>77.56853549724953</span></li><li><span class='ee-k'>1:</span><span class='ee-v'>12.957131563469826</span></li></ul></details></li><li><details><summary>108: [77.5680472221749, 12.957114226403421]</summary><ul><li><span class='ee-k'>0:</span><span class='ee-v'>77.5680472221749</span></li><li><span class='ee-k'>1:</span><span class='ee-v'>12.957114226403421</span></li></ul></details></li><li><details><summary>109: [77.5679044897526, 12.957109158235724]</summary><ul><li><span class='ee-k'>0:</span><span class='ee-v'>77.5679044897526</span></li><li><span class='ee-k'>1:</span><span class='ee-v'>12.957109158235724</span></li></ul></details></li><li><details><summary>110: [77.5678688379804, 12.957107892679247]</summary><ul><li><span class='ee-k'>0:</span><span class='ee-v'>77.5678688379804</span></li><li><span class='ee-k'>1:</span><span class='ee-v'>12.957107892679247</span></li></ul></details></li><li><details><summary>111: [77.56777701915105, 12.957104632420455]</summary><ul><li><span class='ee-k'>0:</span><span class='ee-v'>77.56777701915105</span></li><li><span class='ee-k'>1:</span><span class='ee-v'>12.957104632420455</span></li></ul></details></li><li><details><summary>112: [77.56740557469637, 12.957094743658827]</summary><ul><li><span class='ee-k'>0:</span><span class='ee-v'>77.56740557469637</span></li><li><span class='ee-k'>1:</span><span class='ee-v'>12.957094743658827</span></li></ul></details></li><li><details><summary>113: [77.56598429411024, 12.957056806242626]</summary><ul><li><span class='ee-k'>0:</span><span class='ee-v'>77.56598429411024</span></li><li><span class='ee-k'>1:</span><span class='ee-v'>12.957056806242626</span></li></ul></details></li><li><details><summary>114: [77.56559553002893, 12.95704668622931]</summary><ul><li><span class='ee-k'>0:</span><span class='ee-v'>77.56559553002893</span></li><li><span class='ee-k'>1:</span><span class='ee-v'>12.95704668622931</span></li></ul></details></li><li><details><summary>115: [77.56500875432879, 12.95703141076674]</summary><ul><li><span class='ee-k'>0:</span><span class='ee-v'>77.56500875432879</span></li><li><span class='ee-k'>1:</span><span class='ee-v'>12.95703141076674</span></li></ul></details></li><li><details><summary>116: [77.56457222273689, 12.957019540000347]</summary><ul><li><span class='ee-k'>0:</span><span class='ee-v'>77.56457222273689</span></li><li><span class='ee-k'>1:</span><span class='ee-v'>12.957019540000347</span></li></ul></details></li><li><details><summary>117: [77.5645209770783, 12.957018146602218]</summary><ul><li><span class='ee-k'>0:</span><span class='ee-v'>77.5645209770783</span></li><li><span class='ee-k'>1:</span><span class='ee-v'>12.957018146602218</span></li></ul></details></li><li><details><summary>118: [77.56443344074579, 12.957015620840052]</summary><ul><li><span class='ee-k'>0:</span><span class='ee-v'>77.56443344074579</span></li><li><span class='ee-k'>1:</span><span class='ee-v'>12.957015620840052</span></li></ul></details></li><li><details><summary>119: [77.56423628750458, 12.957010361162922]</summary><ul><li><span class='ee-k'>0:</span><span class='ee-v'>77.56423628750458</span></li><li><span class='ee-k'>1:</span><span class='ee-v'>12.957010361162922</span></li></ul></details></li><li><details><summary>120: [77.56353678992667, 12.95699170049192]</summary><ul><li><span class='ee-k'>0:</span><span class='ee-v'>77.56353678992667</span></li><li><span class='ee-k'>1:</span><span class='ee-v'>12.95699170049192</span></li></ul></details></li><li><details><summary>121: [77.56335619311274, 12.956986754150474]</summary><ul><li><span class='ee-k'>0:</span><span class='ee-v'>77.56335619311274</span></li><li><span class='ee-k'>1:</span><span class='ee-v'>12.956986754150474</span></li></ul></details></li><li><details><summary>122: [77.5633548091376, 12.956986716279042]</summary><ul><li><span class='ee-k'>0:</span><span class='ee-v'>77.5633548091376</span></li><li><span class='ee-k'>1:</span><span class='ee-v'>12.956986716279042</span></li></ul></details></li><li><details><summary>123: [77.56335700340797, 12.956863598883277]</summary><ul><li><span class='ee-k'>0:</span><span class='ee-v'>77.56335700340797</span></li><li><span class='ee-k'>1:</span><span class='ee-v'>12.956863598883277</span></li></ul></details></li><li><details><summary>124: [77.56336322207471, 12.956627509945461]</summary><ul><li><span class='ee-k'>0:</span><span class='ee-v'>77.56336322207471</span></li><li><span class='ee-k'>1:</span><span class='ee-v'>12.956627509945461</span></li></ul></details></li><li><details><summary>125: [77.56337533604012, 12.956276647624358]</summary><ul><li><span class='ee-k'>0:</span><span class='ee-v'>77.56337533604012</span></li><li><span class='ee-k'>1:</span><span class='ee-v'>12.956276647624358</span></li></ul></details></li><li><details><summary>126: [77.56339430809919, 12.955727136483004]</summary><ul><li><span class='ee-k'>0:</span><span class='ee-v'>77.56339430809919</span></li><li><span class='ee-k'>1:</span><span class='ee-v'>12.955727136483004</span></li></ul></details></li><li><details><summary>127: [77.56339681746343, 12.955409773067236]</summary><ul><li><span class='ee-k'>0:</span><span class='ee-v'>77.56339681746343</span></li><li><span class='ee-k'>1:</span><span class='ee-v'>12.955409773067236</span></li></ul></details></li><li><details><summary>128: [77.56340045058727, 12.955276833588945]</summary><ul><li><span class='ee-k'>0:</span><span class='ee-v'>77.56340045058727</span></li><li><span class='ee-k'>1:</span><span class='ee-v'>12.955276833588945</span></li></ul></details></li><li><details><summary>129: [77.56341231695222, 12.95484270220765]</summary><ul><li><span class='ee-k'>0:</span><span class='ee-v'>77.56341231695222</span></li><li><span class='ee-k'>1:</span><span class='ee-v'>12.95484270220765</span></li></ul></details></li><li><details><summary>130: [77.56341364820369, 12.954700046136967]</summary><ul><li><span class='ee-k'>0:</span><span class='ee-v'>77.56341364820369</span></li><li><span class='ee-k'>1:</span><span class='ee-v'>12.954700046136967</span></li></ul></details></li><li><details><summary>131: [77.56341725942335, 12.954313002796384]</summary><ul><li><span class='ee-k'>0:</span><span class='ee-v'>77.56341725942335</span></li><li><span class='ee-k'>1:</span><span class='ee-v'>12.954313002796384</span></li></ul></details></li><li><details><summary>132: [77.56342904601496, 12.9539458579903]</summary><ul><li><span class='ee-k'>0:</span><span class='ee-v'>77.56342904601496</span></li><li><span class='ee-k'>1:</span><span class='ee-v'>12.9539458579903</span></li></ul></details></li><li><details><summary>133: [77.56337120248945, 12.95391932369186]</summary><ul><li><span class='ee-k'>0:</span><span class='ee-v'>77.56337120248945</span></li><li><span class='ee-k'>1:</span><span class='ee-v'>12.95391932369186</span></li></ul></details></li><li><details><summary>134: [77.56331694004412, 12.953905176644074]</summary><ul><li><span class='ee-k'>0:</span><span class='ee-v'>77.56331694004412</span></li><li><span class='ee-k'>1:</span><span class='ee-v'>12.953905176644074</span></li></ul></details></li><li><details><summary>135: [77.56316744009575, 12.95386712192654]</summary><ul><li><span class='ee-k'>0:</span><span class='ee-v'>77.56316744009575</span></li><li><span class='ee-k'>1:</span><span class='ee-v'>12.95386712192654</span></li></ul></details></li><li><details><summary>136: [77.56301164163223, 12.953832517061718]</summary><ul><li><span class='ee-k'>0:</span><span class='ee-v'>77.56301164163223</span></li><li><span class='ee-k'>1:</span><span class='ee-v'>12.953832517061718</span></li></ul></details></li><li><details><summary>137: [77.56294644070293, 12.953818476678475]</summary><ul><li><span class='ee-k'>0:</span><span class='ee-v'>77.56294644070293</span></li><li><span class='ee-k'>1:</span><span class='ee-v'>12.953818476678475</span></li></ul></details></li><li><details><summary>138: [77.56284135829615, 12.953789019179291]</summary><ul><li><span class='ee-k'>0:</span><span class='ee-v'>77.56284135829615</span></li><li><span class='ee-k'>1:</span><span class='ee-v'>12.953789019179291</span></li></ul></details></li><li><details><summary>139: [77.56274373640963, 12.953757229577638]</summary><ul><li><span class='ee-k'>0:</span><span class='ee-v'>77.56274373640963</span></li><li><span class='ee-k'>1:</span><span class='ee-v'>12.953757229577638</span></li></ul></details></li><li><details><summary>140: [77.5626603905793, 12.953714006255796]</summary><ul><li><span class='ee-k'>0:</span><span class='ee-v'>77.5626603905793</span></li><li><span class='ee-k'>1:</span><span class='ee-v'>12.953714006255796</span></li></ul></details></li><li><details><summary>141: [77.56258854646103, 12.953669540406354]</summary><ul><li><span class='ee-k'>0:</span><span class='ee-v'>77.56258854646103</span></li><li><span class='ee-k'>1:</span><span class='ee-v'>12.953669540406354</span></li></ul></details></li><li><details><summary>142: [77.56258622164216, 12.95366730554573]</summary><ul><li><span class='ee-k'>0:</span><span class='ee-v'>77.56258622164216</span></li><li><span class='ee-k'>1:</span><span class='ee-v'>12.95366730554573</span></li></ul></details></li><li><details><summary>143: [77.56250773247706, 12.953592412509066]</summary><ul><li><span class='ee-k'>0:</span><span class='ee-v'>77.56250773247706</span></li><li><span class='ee-k'>1:</span><span class='ee-v'>12.953592412509066</span></li></ul></details></li><li><details><summary>144: [77.56243658929, 12.953503896222825]</summary><ul><li><span class='ee-k'>0:</span><span class='ee-v'>77.56243658929</span></li><li><span class='ee-k'>1:</span><span class='ee-v'>12.953503896222825</span></li></ul></details></li><li><details><summary>145: [77.56235833214342, 12.953451588148589]</summary><ul><li><span class='ee-k'>0:</span><span class='ee-v'>77.56235833214342</span></li><li><span class='ee-k'>1:</span><span class='ee-v'>12.953451588148589</span></li></ul></details></li><li><details><summary>146: [77.56235328621644, 12.95344817936447]</summary><ul><li><span class='ee-k'>0:</span><span class='ee-v'>77.56235328621644</span></li><li><span class='ee-k'>1:</span><span class='ee-v'>12.95344817936447</span></li></ul></details></li><li><details><summary>147: [77.56233814379401, 12.95343794944321]</summary><ul><li><span class='ee-k'>0:</span><span class='ee-v'>77.56233814379401</span></li><li><span class='ee-k'>1:</span><span class='ee-v'>12.95343794944321</span></li></ul></details></li><li><details><summary>148: [77.5623063275491, 12.953416454848151]</summary><ul><li><span class='ee-k'>0:</span><span class='ee-v'>77.5623063275491</span></li><li><span class='ee-k'>1:</span><span class='ee-v'>12.953416454848151</span></li></ul></details></li><li><details><summary>149: [77.56229572182824, 12.953409289985048]</summary><ul><li><span class='ee-k'>0:</span><span class='ee-v'>77.56229572182824</span></li><li><span class='ee-k'>1:</span><span class='ee-v'>12.953409289985048</span></li></ul></details></li><li><details><summary>150: [77.56221960748027, 12.953397616308884]</summary><ul><li><span class='ee-k'>0:</span><span class='ee-v'>77.56221960748027</span></li><li><span class='ee-k'>1:</span><span class='ee-v'>12.953397616308884</span></li></ul></details></li><li><details><summary>151: [77.5621234142756, 12.95339291606674]</summary><ul><li><span class='ee-k'>0:</span><span class='ee-v'>77.5621234142756</span></li><li><span class='ee-k'>1:</span><span class='ee-v'>12.95339291606674</span></li></ul></details></li><li><details><summary>152: [77.56201510908026, 12.953386076299381]</summary><ul><li><span class='ee-k'>0:</span><span class='ee-v'>77.56201510908026</span></li><li><span class='ee-k'>1:</span><span class='ee-v'>12.953386076299381</span></li></ul></details></li><li><details><summary>153: [77.56182845617622, 12.953374360583823]</summary><ul><li><span class='ee-k'>0:</span><span class='ee-v'>77.56182845617622</span></li><li><span class='ee-k'>1:</span><span class='ee-v'>12.953374360583823</span></li></ul></details></li><li><details><summary>154: [77.56169194447631, 12.953367798138359]</summary><ul><li><span class='ee-k'>0:</span><span class='ee-v'>77.56169194447631</span></li><li><span class='ee-k'>1:</span><span class='ee-v'>12.953367798138359</span></li></ul></details></li><li><details><summary>155: [77.56120174374033, 12.95334212774353]</summary><ul><li><span class='ee-k'>0:</span><span class='ee-v'>77.56120174374033</span></li><li><span class='ee-k'>1:</span><span class='ee-v'>12.95334212774353</span></li></ul></details></li><li><details><summary>156: [77.56102408356928, 12.953365331959914]</summary><ul><li><span class='ee-k'>0:</span><span class='ee-v'>77.56102408356928</span></li><li><span class='ee-k'>1:</span><span class='ee-v'>12.953365331959914</span></li></ul></details></li><li><details><summary>157: [77.56076260898709, 12.953468412701314]</summary><ul><li><span class='ee-k'>0:</span><span class='ee-v'>77.56076260898709</span></li><li><span class='ee-k'>1:</span><span class='ee-v'>12.953468412701314</span></li></ul></details></li><li><details><summary>158: [77.56059351110704, 12.95355410771518]</summary><ul><li><span class='ee-k'>0:</span><span class='ee-v'>77.56059351110704</span></li><li><span class='ee-k'>1:</span><span class='ee-v'>12.95355410771518</span></li></ul></details></li><li><details><summary>159: [77.56048081423663, 12.953611219260607]</summary><ul><li><span class='ee-k'>0:</span><span class='ee-v'>77.56048081423663</span></li><li><span class='ee-k'>1:</span><span class='ee-v'>12.953611219260607</span></li></ul></details></li><li><details><summary>160: [77.5603569096339, 12.953655351661547]</summary><ul><li><span class='ee-k'>0:</span><span class='ee-v'>77.5603569096339</span></li><li><span class='ee-k'>1:</span><span class='ee-v'>12.953655351661547</span></li></ul></details></li><li><details><summary>161: [77.56025797639975, 12.953664229540498]</summary><ul><li><span class='ee-k'>0:</span><span class='ee-v'>77.56025797639975</span></li><li><span class='ee-k'>1:</span><span class='ee-v'>12.953664229540498</span></li></ul></details></li><li><details><summary>162: [77.56010847712419, 12.953682639047388]</summary><ul><li><span class='ee-k'>0:</span><span class='ee-v'>77.56010847712419</span></li><li><span class='ee-k'>1:</span><span class='ee-v'>12.953682639047388</span></li></ul></details></li><li><details><summary>163: [77.55981137726899, 12.95367991287286]</summary><ul><li><span class='ee-k'>0:</span><span class='ee-v'>77.55981137726899</span></li><li><span class='ee-k'>1:</span><span class='ee-v'>12.95367991287286</span></li></ul></details></li><li><details><summary>164: [77.55966077150708, 12.953646384176059]</summary><ul><li><span class='ee-k'>0:</span><span class='ee-v'>77.55966077150708</span></li><li><span class='ee-k'>1:</span><span class='ee-v'>12.953646384176059</span></li></ul></details></li><li><details><summary>165: [77.55950407456906, 12.953580164896257]</summary><ul><li><span class='ee-k'>0:</span><span class='ee-v'>77.55950407456906</span></li><li><span class='ee-k'>1:</span><span class='ee-v'>12.953580164896257</span></li></ul></details></li><li><details><summary>166: [77.55934672128357, 12.953506046698642]</summary><ul><li><span class='ee-k'>0:</span><span class='ee-v'>77.55934672128357</span></li><li><span class='ee-k'>1:</span><span class='ee-v'>12.953506046698642</span></li></ul></details></li><li><details><summary>167: [77.55913143266763, 12.953396359363953]</summary><ul><li><span class='ee-k'>0:</span><span class='ee-v'>77.55913143266763</span></li><li><span class='ee-k'>1:</span><span class='ee-v'>12.953396359363953</span></li></ul></details></li><li><details><summary>168: [77.55880779175384, 12.953218847703804]</summary><ul><li><span class='ee-k'>0:</span><span class='ee-v'>77.55880779175384</span></li><li><span class='ee-k'>1:</span><span class='ee-v'>12.953218847703804</span></li></ul></details></li><li><details><summary>169: [77.55861633732638, 12.953187978310181]</summary><ul><li><span class='ee-k'>0:</span><span class='ee-v'>77.55861633732638</span></li><li><span class='ee-k'>1:</span><span class='ee-v'>12.953187978310181</span></li></ul></details></li><li><details><summary>170: [77.55847757957403, 12.95318708282421]</summary><ul><li><span class='ee-k'>0:</span><span class='ee-v'>77.55847757957403</span></li><li><span class='ee-k'>1:</span><span class='ee-v'>12.95318708282421</span></li></ul></details></li><li><details><summary>171: [77.55847810910923, 12.953182560328774]</summary><ul><li><span class='ee-k'>0:</span><span class='ee-v'>77.55847810910923</span></li><li><span class='ee-k'>1:</span><span class='ee-v'>12.953182560328774</span></li></ul></details></li><li><details><summary>172: [77.55848219547686, 12.953131700634446]</summary><ul><li><span class='ee-k'>0:</span><span class='ee-v'>77.55848219547686</span></li><li><span class='ee-k'>1:</span><span class='ee-v'>12.953131700634446</span></li></ul></details></li><li><details><summary>173: [77.55789822070982, 12.953169057865374]</summary><ul><li><span class='ee-k'>0:</span><span class='ee-v'>77.55789822070982</span></li><li><span class='ee-k'>1:</span><span class='ee-v'>12.953169057865374</span></li></ul></details></li><li><details><summary>174: [77.55759731038899, 12.953187823626566]</summary><ul><li><span class='ee-k'>0:</span><span class='ee-v'>77.55759731038899</span></li><li><span class='ee-k'>1:</span><span class='ee-v'>12.953187823626566</span></li></ul></details></li><li><details><summary>175: [77.55653354274278, 12.95326038092816]</summary><ul><li><span class='ee-k'>0:</span><span class='ee-v'>77.55653354274278</span></li><li><span class='ee-k'>1:</span><span class='ee-v'>12.95326038092816</span></li></ul></details></li><li><details><summary>176: [77.55631394766007, 12.952954230708604]</summary><ul><li><span class='ee-k'>0:</span><span class='ee-v'>77.55631394766007</span></li><li><span class='ee-k'>1:</span><span class='ee-v'>12.952954230708604</span></li></ul></details></li><li><details><summary>177: [77.55596867306511, 12.952405379333126]</summary><ul><li><span class='ee-k'>0:</span><span class='ee-v'>77.55596867306511</span></li><li><span class='ee-k'>1:</span><span class='ee-v'>12.952405379333126</span></li></ul></details></li><li><details><summary>178: [77.55578980147271, 12.952027681251506]</summary><ul><li><span class='ee-k'>0:</span><span class='ee-v'>77.55578980147271</span></li><li><span class='ee-k'>1:</span><span class='ee-v'>12.952027681251506</span></li></ul></details></li><li><details><summary>179: [77.5556501560375, 12.951657503345917]</summary><ul><li><span class='ee-k'>0:</span><span class='ee-v'>77.5556501560375</span></li><li><span class='ee-k'>1:</span><span class='ee-v'>12.951657503345917</span></li></ul></details></li><li><details><summary>180: [77.55579229781871, 12.951595125055709]</summary><ul><li><span class='ee-k'>0:</span><span class='ee-v'>77.55579229781871</span></li><li><span class='ee-k'>1:</span><span class='ee-v'>12.951595125055709</span></li></ul></details></li><li><details><summary>181: [77.55582613506674, 12.951582370450316]</summary><ul><li><span class='ee-k'>0:</span><span class='ee-v'>77.55582613506674</span></li><li><span class='ee-k'>1:</span><span class='ee-v'>12.951582370450316</span></li></ul></details></li><li><details><summary>182: [77.55607861913793, 12.951500840066803]</summary><ul><li><span class='ee-k'>0:</span><span class='ee-v'>77.55607861913793</span></li><li><span class='ee-k'>1:</span><span class='ee-v'>12.951500840066803</span></li></ul></details></li><li><details><summary>183: [77.55618794808565, 12.951438783594334]</summary><ul><li><span class='ee-k'>0:</span><span class='ee-v'>77.55618794808565</span></li><li><span class='ee-k'>1:</span><span class='ee-v'>12.951438783594334</span></li></ul></details></li><li><details><summary>184: [77.55630816842131, 12.951372102894876]</summary><ul><li><span class='ee-k'>0:</span><span class='ee-v'>77.55630816842131</span></li><li><span class='ee-k'>1:</span><span class='ee-v'>12.951372102894876</span></li></ul></details></li><li><details><summary>185: [77.55643679354341, 12.951339219414622]</summary><ul><li><span class='ee-k'>0:</span><span class='ee-v'>77.55643679354341</span></li><li><span class='ee-k'>1:</span><span class='ee-v'>12.951339219414622</span></li></ul></details></li><li><details><summary>186: [77.55656835452378, 12.951311953685858]</summary><ul><li><span class='ee-k'>0:</span><span class='ee-v'>77.55656835452378</span></li><li><span class='ee-k'>1:</span><span class='ee-v'>12.951311953685858</span></li></ul></details></li><li><details><summary>187: [77.556652757506, 12.951289668074464]</summary><ul><li><span class='ee-k'>0:</span><span class='ee-v'>77.556652757506</span></li><li><span class='ee-k'>1:</span><span class='ee-v'>12.951289668074464</span></li></ul></details></li><li><details><summary>188: [77.55671867024667, 12.951260787983307]</summary><ul><li><span class='ee-k'>0:</span><span class='ee-v'>77.55671867024667</span></li><li><span class='ee-k'>1:</span><span class='ee-v'>12.951260787983307</span></li></ul></details></li><li><details><summary>189: [77.55680227860309, 12.951217052956752]</summary><ul><li><span class='ee-k'>0:</span><span class='ee-v'>77.55680227860309</span></li><li><span class='ee-k'>1:</span><span class='ee-v'>12.951217052956752</span></li></ul></details></li><li><details><summary>190: [77.55691272444001, 12.95120806353106]</summary><ul><li><span class='ee-k'>0:</span><span class='ee-v'>77.55691272444001</span></li><li><span class='ee-k'>1:</span><span class='ee-v'>12.95120806353106</span></li></ul></details></li><li><details><summary>191: [77.55699331666915, 12.951207272396822]</summary><ul><li><span class='ee-k'>0:</span><span class='ee-v'>77.55699331666915</span></li><li><span class='ee-k'>1:</span><span class='ee-v'>12.951207272396822</span></li></ul></details></li><li><details><summary>192: [77.55704458486849, 12.951210157083075]</summary><ul><li><span class='ee-k'>0:</span><span class='ee-v'>77.55704458486849</span></li><li><span class='ee-k'>1:</span><span class='ee-v'>12.951210157083075</span></li></ul></details></li><li><details><summary>193: [77.55713985611625, 12.951180988687105]</summary><ul><li><span class='ee-k'>0:</span><span class='ee-v'>77.55713985611625</span></li><li><span class='ee-k'>1:</span><span class='ee-v'>12.951180988687105</span></li></ul></details></li><li><details><summary>194: [77.55727795541942, 12.951061053833614]</summary><ul><li><span class='ee-k'>0:</span><span class='ee-v'>77.55727795541942</span></li><li><span class='ee-k'>1:</span><span class='ee-v'>12.951061053833614</span></li></ul></details></li><li><details><summary>195: [77.55737244287934, 12.950955099003616]</summary><ul><li><span class='ee-k'>0:</span><span class='ee-v'>77.55737244287934</span></li><li><span class='ee-k'>1:</span><span class='ee-v'>12.950955099003616</span></li></ul></details></li><li><details><summary>196: [77.55743046849157, 12.950886769844422]</summary><ul><li><span class='ee-k'>0:</span><span class='ee-v'>77.55743046849157</span></li><li><span class='ee-k'>1:</span><span class='ee-v'>12.950886769844422</span></li></ul></details></li><li><details><summary>197: [77.55749626575432, 12.950846597480568]</summary><ul><li><span class='ee-k'>0:</span><span class='ee-v'>77.55749626575432</span></li><li><span class='ee-k'>1:</span><span class='ee-v'>12.950846597480568</span></li></ul></details></li><li><details><summary>198: [77.55758749565832, 12.950816339308396]</summary><ul><li><span class='ee-k'>0:</span><span class='ee-v'>77.55758749565832</span></li><li><span class='ee-k'>1:</span><span class='ee-v'>12.950816339308396</span></li></ul></details></li><li><details><summary>199: [77.55761307752832, 12.950784467049395]</summary><ul><li><span class='ee-k'>0:</span><span class='ee-v'>77.55761307752832</span></li><li><span class='ee-k'>1:</span><span class='ee-v'>12.950784467049395</span></li></ul></details></li><li><details><summary>200: [77.55762693814984, 12.95067591583184]</summary><ul><li><span class='ee-k'>0:</span><span class='ee-v'>77.55762693814984</span></li><li><span class='ee-k'>1:</span><span class='ee-v'>12.95067591583184</span></li></ul></details></li><li><details><summary>201: [77.55764125979628, 12.950612533056235]</summary><ul><li><span class='ee-k'>0:</span><span class='ee-v'>77.55764125979628</span></li><li><span class='ee-k'>1:</span><span class='ee-v'>12.950612533056235</span></li></ul></details></li><li><details><summary>202: [77.55764753314038, 12.950493892419242]</summary><ul><li><span class='ee-k'>0:</span><span class='ee-v'>77.55764753314038</span></li><li><span class='ee-k'>1:</span><span class='ee-v'>12.950493892419242</span></li></ul></details></li><li><details><summary>203: [77.55766514736081, 12.95041466677711]</summary><ul><li><span class='ee-k'>0:</span><span class='ee-v'>77.55766514736081</span></li><li><span class='ee-k'>1:</span><span class='ee-v'>12.95041466677711</span></li></ul></details></li><li><details><summary>204: [77.55774507078073, 12.950348381222316]</summary><ul><li><span class='ee-k'>0:</span><span class='ee-v'>77.55774507078073</span></li><li><span class='ee-k'>1:</span><span class='ee-v'>12.950348381222316</span></li></ul></details></li><li><details><summary>205: [77.55784455560487, 12.950337240450674]</summary><ul><li><span class='ee-k'>0:</span><span class='ee-v'>77.55784455560487</span></li><li><span class='ee-k'>1:</span><span class='ee-v'>12.950337240450674</span></li></ul></details></li><li><details><summary>206: [77.55797274253932, 12.950317912527238]</summary><ul><li><span class='ee-k'>0:</span><span class='ee-v'>77.55797274253932</span></li><li><span class='ee-k'>1:</span><span class='ee-v'>12.950317912527238</span></li></ul></details></li><li><details><summary>207: [77.55806423730178, 12.950313626079245]</summary><ul><li><span class='ee-k'>0:</span><span class='ee-v'>77.55806423730178</span></li><li><span class='ee-k'>1:</span><span class='ee-v'>12.950313626079245</span></li></ul></details></li><li><details><summary>208: [77.55807893923324, 12.95028750725467]</summary><ul><li><span class='ee-k'>0:</span><span class='ee-v'>77.55807893923324</span></li><li><span class='ee-k'>1:</span><span class='ee-v'>12.95028750725467</span></li></ul></details></li><li><details><summary>209: [77.55807284696205, 12.950141884301226]</summary><ul><li><span class='ee-k'>0:</span><span class='ee-v'>77.55807284696205</span></li><li><span class='ee-k'>1:</span><span class='ee-v'>12.950141884301226</span></li></ul></details></li><li><details><summary>210: [77.55790346862058, 12.950138662547818]</summary><ul><li><span class='ee-k'>0:</span><span class='ee-v'>77.55790346862058</span></li><li><span class='ee-k'>1:</span><span class='ee-v'>12.950138662547818</span></li></ul></details></li><li><details><summary>211: [77.55783791020482, 12.950137415344141]</summary><ul><li><span class='ee-k'>0:</span><span class='ee-v'>77.55783791020482</span></li><li><span class='ee-k'>1:</span><span class='ee-v'>12.950137415344141</span></li></ul></details></li><li><details><summary>212: [77.55782869971002, 12.950137505783252]</summary><ul><li><span class='ee-k'>0:</span><span class='ee-v'>77.55782869971002</span></li><li><span class='ee-k'>1:</span><span class='ee-v'>12.950137505783252</span></li></ul></details></li><li><details><summary>213: [77.55750249809813, 12.950103440888347]</summary><ul><li><span class='ee-k'>0:</span><span class='ee-v'>77.55750249809813</span></li><li><span class='ee-k'>1:</span><span class='ee-v'>12.950103440888347</span></li></ul></details></li><li><details><summary>214: [77.55739126972037, 12.950092110318414]</summary><ul><li><span class='ee-k'>0:</span><span class='ee-v'>77.55739126972037</span></li><li><span class='ee-k'>1:</span><span class='ee-v'>12.950092110318414</span></li></ul></details></li><li><details><summary>215: [77.55717389016436, 12.950059235268238]</summary><ul><li><span class='ee-k'>0:</span><span class='ee-v'>77.55717389016436</span></li><li><span class='ee-k'>1:</span><span class='ee-v'>12.950059235268238</span></li></ul></details></li><li><details><summary>216: [77.55699630003267, 12.950032745410828]</summary><ul><li><span class='ee-k'>0:</span><span class='ee-v'>77.55699630003267</span></li><li><span class='ee-k'>1:</span><span class='ee-v'>12.950032745410828</span></li></ul></details></li><li><details><summary>217: [77.55694323785201, 12.950018140531032]</summary><ul><li><span class='ee-k'>0:</span><span class='ee-v'>77.55694323785201</span></li><li><span class='ee-k'>1:</span><span class='ee-v'>12.950018140531032</span></li></ul></details></li><li><details><summary>218: [77.55676652066728, 12.949969499941973]</summary><ul><li><span class='ee-k'>0:</span><span class='ee-v'>77.55676652066728</span></li><li><span class='ee-k'>1:</span><span class='ee-v'>12.949969499941973</span></li></ul></details></li><li><details><summary>219: [77.55676424108555, 12.949971780965752]</summary><ul><li><span class='ee-k'>0:</span><span class='ee-v'>77.55676424108555</span></li><li><span class='ee-k'>1:</span><span class='ee-v'>12.949971780965752</span></li></ul></details></li><li><details><summary>220: [77.55675570993543, 12.94998202862261]</summary><ul><li><span class='ee-k'>0:</span><span class='ee-v'>77.55675570993543</span></li><li><span class='ee-k'>1:</span><span class='ee-v'>12.94998202862261</span></li></ul></details></li><li><details><summary>221: [77.55672090598284, 12.950012861991363]</summary><ul><li><span class='ee-k'>0:</span><span class='ee-v'>77.55672090598284</span></li><li><span class='ee-k'>1:</span><span class='ee-v'>12.950012861991363</span></li></ul></details></li><li><details><summary>222: [77.55668790963652, 12.950051582890827]</summary><ul><li><span class='ee-k'>0:</span><span class='ee-v'>77.55668790963652</span></li><li><span class='ee-k'>1:</span><span class='ee-v'>12.950051582890827</span></li></ul></details></li><li><details><summary>223: [77.55656389081553, 12.950140887422696]</summary><ul><li><span class='ee-k'>0:</span><span class='ee-v'>77.55656389081553</span></li><li><span class='ee-k'>1:</span><span class='ee-v'>12.950140887422696</span></li></ul></details></li><li><details><summary>224: [77.5565271921878, 12.950160179596235]</summary><ul><li><span class='ee-k'>0:</span><span class='ee-v'>77.5565271921878</span></li><li><span class='ee-k'>1:</span><span class='ee-v'>12.950160179596235</span></li></ul></details></li><li><details><summary>225: [77.55635373073504, 12.950251365127766]</summary><ul><li><span class='ee-k'>0:</span><span class='ee-v'>77.55635373073504</span></li><li><span class='ee-k'>1:</span><span class='ee-v'>12.950251365127766</span></li></ul></details></li><li><details><summary>226: [77.55616896819056, 12.950311903155443]</summary><ul><li><span class='ee-k'>0:</span><span class='ee-v'>77.55616896819056</span></li><li><span class='ee-k'>1:</span><span class='ee-v'>12.950311903155443</span></li></ul></details></li><li><details><summary>227: [77.55606027693565, 12.950326893836488]</summary><ul><li><span class='ee-k'>0:</span><span class='ee-v'>77.55606027693565</span></li><li><span class='ee-k'>1:</span><span class='ee-v'>12.950326893836488</span></li></ul></details></li><li><details><summary>228: [77.55603673982905, 12.950330140543015]</summary><ul><li><span class='ee-k'>0:</span><span class='ee-v'>77.55603673982905</span></li><li><span class='ee-k'>1:</span><span class='ee-v'>12.950330140543015</span></li></ul></details></li><li><details><summary>229: [77.55581998195063, 12.950358241850997]</summary><ul><li><span class='ee-k'>0:</span><span class='ee-v'>77.55581998195063</span></li><li><span class='ee-k'>1:</span><span class='ee-v'>12.950358241850997</span></li></ul></details></li><li><details><summary>230: [77.5557332189257, 12.950374903676883]</summary><ul><li><span class='ee-k'>0:</span><span class='ee-v'>77.5557332189257</span></li><li><span class='ee-k'>1:</span><span class='ee-v'>12.950374903676883</span></li></ul></details></li><li><details><summary>231: [77.5556970216083, 12.950382034769198]</summary><ul><li><span class='ee-k'>0:</span><span class='ee-v'>77.5556970216083</span></li><li><span class='ee-k'>1:</span><span class='ee-v'>12.950382034769198</span></li></ul></details></li><li><details><summary>232: [77.55557575365577, 12.950402423052264]</summary><ul><li><span class='ee-k'>0:</span><span class='ee-v'>77.55557575365577</span></li><li><span class='ee-k'>1:</span><span class='ee-v'>12.950402423052264</span></li></ul></details></li><li><details><summary>233: [77.55551838367076, 12.95042218442288]</summary><ul><li><span class='ee-k'>0:</span><span class='ee-v'>77.55551838367076</span></li><li><span class='ee-k'>1:</span><span class='ee-v'>12.95042218442288</span></li></ul></details></li><li><details><summary>234: [77.55551143031175, 12.95042420682384]</summary><ul><li><span class='ee-k'>0:</span><span class='ee-v'>77.55551143031175</span></li><li><span class='ee-k'>1:</span><span class='ee-v'>12.95042420682384</span></li></ul></details></li><li><details><summary>235: [77.55548222088237, 12.950432703126575]</summary><ul><li><span class='ee-k'>0:</span><span class='ee-v'>77.55548222088237</span></li><li><span class='ee-k'>1:</span><span class='ee-v'>12.950432703126575</span></li></ul></details></li><li><details><summary>236: [77.55498900886569, 12.950562896442648]</summary><ul><li><span class='ee-k'>0:</span><span class='ee-v'>77.55498900886569</span></li><li><span class='ee-k'>1:</span><span class='ee-v'>12.950562896442648</span></li></ul></details></li><li><details><summary>237: [77.55485347599341, 12.9500201578621]</summary><ul><li><span class='ee-k'>0:</span><span class='ee-v'>77.55485347599341</span></li><li><span class='ee-k'>1:</span><span class='ee-v'>12.9500201578621</span></li></ul></details></li><li><details><summary>238: [77.5547957378123, 12.949788944768894]</summary><ul><li><span class='ee-k'>0:</span><span class='ee-v'>77.5547957378123</span></li><li><span class='ee-k'>1:</span><span class='ee-v'>12.949788944768894</span></li></ul></details></li><li><details><summary>239: [77.55460399804771, 12.949842774158352]</summary><ul><li><span class='ee-k'>0:</span><span class='ee-v'>77.55460399804771</span></li><li><span class='ee-k'>1:</span><span class='ee-v'>12.949842774158352</span></li></ul></details></li><li><details><summary>240: [77.55453633510527, 12.949982344873769]</summary><ul><li><span class='ee-k'>0:</span><span class='ee-v'>77.55453633510527</span></li><li><span class='ee-k'>1:</span><span class='ee-v'>12.949982344873769</span></li></ul></details></li><li><details><summary>241: [77.55440338084281, 12.950211772652544]</summary><ul><li><span class='ee-k'>0:</span><span class='ee-v'>77.55440338084281</span></li><li><span class='ee-k'>1:</span><span class='ee-v'>12.950211772652544</span></li></ul></details></li><li><details><summary>242: [77.55425360538015, 12.950541875439873]</summary><ul><li><span class='ee-k'>0:</span><span class='ee-v'>77.55425360538015</span></li><li><span class='ee-k'>1:</span><span class='ee-v'>12.950541875439873</span></li></ul></details></li><li><details><summary>243: [77.55394812574012, 12.95073346832266]</summary><ul><li><span class='ee-k'>0:</span><span class='ee-v'>77.55394812574012</span></li><li><span class='ee-k'>1:</span><span class='ee-v'>12.95073346832266</span></li></ul></details></li><li><details><summary>244: [77.55375551011113, 12.95075794332056]</summary><ul><li><span class='ee-k'>0:</span><span class='ee-v'>77.55375551011113</span></li><li><span class='ee-k'>1:</span><span class='ee-v'>12.95075794332056</span></li></ul></details></li><li><details><summary>245: [77.55362339618468, 12.950787471703292]</summary><ul><li><span class='ee-k'>0:</span><span class='ee-v'>77.55362339618468</span></li><li><span class='ee-k'>1:</span><span class='ee-v'>12.950787471703292</span></li></ul></details></li><li><details><summary>246: [77.553560026042, 12.950798605622406]</summary><ul><li><span class='ee-k'>0:</span><span class='ee-v'>77.553560026042</span></li><li><span class='ee-k'>1:</span><span class='ee-v'>12.950798605622406</span></li></ul></details></li><li><details><summary>247: [77.55354314676461, 12.950801570921003]</summary><ul><li><span class='ee-k'>0:</span><span class='ee-v'>77.55354314676461</span></li><li><span class='ee-k'>1:</span><span class='ee-v'>12.950801570921003</span></li></ul></details></li><li><details><summary>248: [77.55353489424279, 12.950803020566147]</summary><ul><li><span class='ee-k'>0:</span><span class='ee-v'>77.55353489424279</span></li><li><span class='ee-k'>1:</span><span class='ee-v'>12.950803020566147</span></li></ul></details></li><li><details><summary>249: [77.55342679684833, 12.950816502834336]</summary><ul><li><span class='ee-k'>0:</span><span class='ee-v'>77.55342679684833</span></li><li><span class='ee-k'>1:</span><span class='ee-v'>12.950816502834336</span></li></ul></details></li><li><details><summary>250: [77.55341538645143, 12.950817753952144]</summary><ul><li><span class='ee-k'>0:</span><span class='ee-v'>77.55341538645143</span></li><li><span class='ee-k'>1:</span><span class='ee-v'>12.950817753952144</span></li></ul></details></li><li><details><summary>251: [77.55341014545115, 12.950818328432218]</summary><ul><li><span class='ee-k'>0:</span><span class='ee-v'>77.55341014545115</span></li><li><span class='ee-k'>1:</span><span class='ee-v'>12.950818328432218</span></li></ul></details></li><li><details><summary>252: [77.55335893806847, 12.950823943988713]</summary><ul><li><span class='ee-k'>0:</span><span class='ee-v'>77.55335893806847</span></li><li><span class='ee-k'>1:</span><span class='ee-v'>12.950823943988713</span></li></ul></details></li><li><details><summary>253: [77.5532904921153, 12.950830261553989]</summary><ul><li><span class='ee-k'>0:</span><span class='ee-v'>77.5532904921153</span></li><li><span class='ee-k'>1:</span><span class='ee-v'>12.950830261553989</span></li></ul></details></li><li><details><summary>254: [77.55323857798462, 12.95082762908164]</summary><ul><li><span class='ee-k'>0:</span><span class='ee-v'>77.55323857798462</span></li><li><span class='ee-k'>1:</span><span class='ee-v'>12.95082762908164</span></li></ul></details></li><li><details><summary>255: [77.55319717866288, 12.950825530475708]</summary><ul><li><span class='ee-k'>0:</span><span class='ee-v'>77.55319717866288</span></li><li><span class='ee-k'>1:</span><span class='ee-v'>12.950825530475708</span></li></ul></details></li><li><details><summary>256: [77.55312847865297, 12.95080700527819]</summary><ul><li><span class='ee-k'>0:</span><span class='ee-v'>77.55312847865297</span></li><li><span class='ee-k'>1:</span><span class='ee-v'>12.95080700527819</span></li></ul></details></li><li><details><summary>257: [77.55294558215378, 12.950655209279878]</summary><ul><li><span class='ee-k'>0:</span><span class='ee-v'>77.55294558215378</span></li><li><span class='ee-k'>1:</span><span class='ee-v'>12.950655209279878</span></li></ul></details></li><li><details><summary>258: [77.55276674767741, 12.950563227693253]</summary><ul><li><span class='ee-k'>0:</span><span class='ee-v'>77.55276674767741</span></li><li><span class='ee-k'>1:</span><span class='ee-v'>12.950563227693253</span></li></ul></details></li><li><details><summary>259: [77.55272640502913, 12.950615571236241]</summary><ul><li><span class='ee-k'>0:</span><span class='ee-v'>77.55272640502913</span></li><li><span class='ee-k'>1:</span><span class='ee-v'>12.950615571236241</span></li></ul></details></li><li><details><summary>260: [77.55269944778072, 12.950650847294094]</summary><ul><li><span class='ee-k'>0:</span><span class='ee-v'>77.55269944778072</span></li><li><span class='ee-k'>1:</span><span class='ee-v'>12.950650847294094</span></li></ul></details></li><li><details><summary>261: [77.55225598145591, 12.95123114758765]</summary><ul><li><span class='ee-k'>0:</span><span class='ee-v'>77.55225598145591</span></li><li><span class='ee-k'>1:</span><span class='ee-v'>12.95123114758765</span></li></ul></details></li><li><details><summary>262: [77.55209121353104, 12.951446205107763]</summary><ul><li><span class='ee-k'>0:</span><span class='ee-v'>77.55209121353104</span></li><li><span class='ee-k'>1:</span><span class='ee-v'>12.951446205107763</span></li></ul></details></li><li><details><summary>263: [77.55190915952036, 12.95167008529846]</summary><ul><li><span class='ee-k'>0:</span><span class='ee-v'>77.55190915952036</span></li><li><span class='ee-k'>1:</span><span class='ee-v'>12.95167008529846</span></li></ul></details></li><li><details><summary>264: [77.55189946969841, 12.951682001143077]</summary><ul><li><span class='ee-k'>0:</span><span class='ee-v'>77.55189946969841</span></li><li><span class='ee-k'>1:</span><span class='ee-v'>12.951682001143077</span></li></ul></details></li><li><details><summary>265: [77.55188413483785, 12.951700859392222]</summary><ul><li><span class='ee-k'>0:</span><span class='ee-v'>77.55188413483785</span></li><li><span class='ee-k'>1:</span><span class='ee-v'>12.951700859392222</span></li></ul></details></li><li><details><summary>266: [77.55180805317377, 12.951794553959218]</summary><ul><li><span class='ee-k'>0:</span><span class='ee-v'>77.55180805317377</span></li><li><span class='ee-k'>1:</span><span class='ee-v'>12.951794553959218</span></li></ul></details></li><li><details><summary>267: [77.55176263399981, 12.951850275512252]</summary><ul><li><span class='ee-k'>0:</span><span class='ee-v'>77.55176263399981</span></li><li><span class='ee-k'>1:</span><span class='ee-v'>12.951850275512252</span></li></ul></details></li><li><details><summary>268: [77.55176242383861, 12.951850533251244]</summary><ul><li><span class='ee-k'>0:</span><span class='ee-v'>77.55176242383861</span></li><li><span class='ee-k'>1:</span><span class='ee-v'>12.951850533251244</span></li></ul></details></li><li><details><summary>269: [77.55174896447538, 12.951867044897305]</summary><ul><li><span class='ee-k'>0:</span><span class='ee-v'>77.55174896447538</span></li><li><span class='ee-k'>1:</span><span class='ee-v'>12.951867044897305</span></li></ul></details></li><li><details><summary>270: [77.55174332017646, 12.951873970127249]</summary><ul><li><span class='ee-k'>0:</span><span class='ee-v'>77.55174332017646</span></li><li><span class='ee-k'>1:</span><span class='ee-v'>12.951873970127249</span></li></ul></details></li><li><details><summary>271: [77.55167442849223, 12.951958486420864]</summary><ul><li><span class='ee-k'>0:</span><span class='ee-v'>77.55167442849223</span></li><li><span class='ee-k'>1:</span><span class='ee-v'>12.951958486420864</span></li></ul></details></li><li><details><summary>272: [77.55158346090018, 12.95207118115458]</summary><ul><li><span class='ee-k'>0:</span><span class='ee-v'>77.55158346090018</span></li><li><span class='ee-k'>1:</span><span class='ee-v'>12.95207118115458</span></li></ul></details></li><li><details><summary>273: [77.55147719459202, 12.951981875847336]</summary><ul><li><span class='ee-k'>0:</span><span class='ee-v'>77.55147719459202</span></li><li><span class='ee-k'>1:</span><span class='ee-v'>12.951981875847336</span></li></ul></details></li><li><details><summary>274: [77.55146982596457, 12.951993241320478]</summary><ul><li><span class='ee-k'>0:</span><span class='ee-v'>77.55146982596457</span></li><li><span class='ee-k'>1:</span><span class='ee-v'>12.951993241320478</span></li></ul></details></li><li><details><summary>275: [77.55146304449876, 12.952005730370725]</summary><ul><li><span class='ee-k'>0:</span><span class='ee-v'>77.55146304449876</span></li><li><span class='ee-k'>1:</span><span class='ee-v'>12.952005730370725</span></li></ul></details></li><li><details><summary>276: [77.55136891099612, 12.952090222834924]</summary><ul><li><span class='ee-k'>0:</span><span class='ee-v'>77.55136891099612</span></li><li><span class='ee-k'>1:</span><span class='ee-v'>12.952090222834924</span></li></ul></details></li><li><details><summary>277: [77.55132244324679, 12.95210648862088]</summary><ul><li><span class='ee-k'>0:</span><span class='ee-v'>77.55132244324679</span></li><li><span class='ee-k'>1:</span><span class='ee-v'>12.95210648862088</span></li></ul></details></li><li><details><summary>278: [77.55129664332902, 12.952112524411241]</summary><ul><li><span class='ee-k'>0:</span><span class='ee-v'>77.55129664332902</span></li><li><span class='ee-k'>1:</span><span class='ee-v'>12.952112524411241</span></li></ul></details></li><li><details><summary>279: [77.55121159316823, 12.95213241967128]</summary><ul><li><span class='ee-k'>0:</span><span class='ee-v'>77.55121159316823</span></li><li><span class='ee-k'>1:</span><span class='ee-v'>12.95213241967128</span></li></ul></details></li><li><details><summary>280: [77.55116086579233, 12.952126140569858]</summary><ul><li><span class='ee-k'>0:</span><span class='ee-v'>77.55116086579233</span></li><li><span class='ee-k'>1:</span><span class='ee-v'>12.952126140569858</span></li></ul></details></li><li><details><summary>281: [77.5510932602135, 12.95210195750534]</summary><ul><li><span class='ee-k'>0:</span><span class='ee-v'>77.5510932602135</span></li><li><span class='ee-k'>1:</span><span class='ee-v'>12.95210195750534</span></li></ul></details></li><li><details><summary>282: [77.55099010860997, 12.952079075722072]</summary><ul><li><span class='ee-k'>0:</span><span class='ee-v'>77.55099010860997</span></li><li><span class='ee-k'>1:</span><span class='ee-v'>12.952079075722072</span></li></ul></details></li><li><details><summary>283: [77.55089822607523, 12.952058694537117]</summary><ul><li><span class='ee-k'>0:</span><span class='ee-v'>77.55089822607523</span></li><li><span class='ee-k'>1:</span><span class='ee-v'>12.952058694537117</span></li></ul></details></li><li><details><summary>284: [77.5508248170624, 12.952086517390699]</summary><ul><li><span class='ee-k'>0:</span><span class='ee-v'>77.5508248170624</span></li><li><span class='ee-k'>1:</span><span class='ee-v'>12.952086517390699</span></li></ul></details></li><li><details><summary>285: [77.55072338444558, 12.952132683942134]</summary><ul><li><span class='ee-k'>0:</span><span class='ee-v'>77.55072338444558</span></li><li><span class='ee-k'>1:</span><span class='ee-v'>12.952132683942134</span></li></ul></details></li><li><details><summary>286: [77.55071832326401, 12.952132829274449]</summary><ul><li><span class='ee-k'>0:</span><span class='ee-v'>77.55071832326401</span></li><li><span class='ee-k'>1:</span><span class='ee-v'>12.952132829274449</span></li></ul></details></li><li><details><summary>287: [77.55048395429733, 12.952139545940915]</summary><ul><li><span class='ee-k'>0:</span><span class='ee-v'>77.55048395429733</span></li><li><span class='ee-k'>1:</span><span class='ee-v'>12.952139545940915</span></li></ul></details></li><li><details><summary>288: [77.54950266310735, 12.952283543522059]</summary><ul><li><span class='ee-k'>0:</span><span class='ee-v'>77.54950266310735</span></li><li><span class='ee-k'>1:</span><span class='ee-v'>12.952283543522059</span></li></ul></details></li><li><details><summary>289: [77.54913143858458, 12.952351548892898]</summary><ul><li><span class='ee-k'>0:</span><span class='ee-v'>77.54913143858458</span></li><li><span class='ee-k'>1:</span><span class='ee-v'>12.952351548892898</span></li></ul></details></li><li><details><summary>290: [77.54912334480866, 12.952348240115958]</summary><ul><li><span class='ee-k'>0:</span><span class='ee-v'>77.54912334480866</span></li><li><span class='ee-k'>1:</span><span class='ee-v'>12.952348240115958</span></li></ul></details></li><li><details><summary>291: [77.54915681927105, 12.95263927984364]</summary><ul><li><span class='ee-k'>0:</span><span class='ee-v'>77.54915681927105</span></li><li><span class='ee-k'>1:</span><span class='ee-v'>12.95263927984364</span></li></ul></details></li><li><details><summary>292: [77.54917168914461, 12.952766716158584]</summary><ul><li><span class='ee-k'>0:</span><span class='ee-v'>77.54917168914461</span></li><li><span class='ee-k'>1:</span><span class='ee-v'>12.952766716158584</span></li></ul></details></li><li><details><summary>293: [77.54918709383138, 12.952898729606861]</summary><ul><li><span class='ee-k'>0:</span><span class='ee-v'>77.54918709383138</span></li><li><span class='ee-k'>1:</span><span class='ee-v'>12.952898729606861</span></li></ul></details></li><li><details><summary>294: [77.5491877039668, 12.952902111627255]</summary><ul><li><span class='ee-k'>0:</span><span class='ee-v'>77.5491877039668</span></li><li><span class='ee-k'>1:</span><span class='ee-v'>12.952902111627255</span></li></ul></details></li><li><details><summary>295: [77.5492152037202, 12.953171752508197]</summary><ul><li><span class='ee-k'>0:</span><span class='ee-v'>77.5492152037202</span></li><li><span class='ee-k'>1:</span><span class='ee-v'>12.953171752508197</span></li></ul></details></li><li><details><summary>296: [77.54921834715587, 12.953202213669288]</summary><ul><li><span class='ee-k'>0:</span><span class='ee-v'>77.54921834715587</span></li><li><span class='ee-k'>1:</span><span class='ee-v'>12.953202213669288</span></li></ul></details></li><li><details><summary>297: [77.54922940332202, 12.953309349403881]</summary><ul><li><span class='ee-k'>0:</span><span class='ee-v'>77.54922940332202</span></li><li><span class='ee-k'>1:</span><span class='ee-v'>12.953309349403881</span></li></ul></details></li><li><details><summary>298: [77.54923755819831, 12.953388365192982]</summary><ul><li><span class='ee-k'>0:</span><span class='ee-v'>77.54923755819831</span></li><li><span class='ee-k'>1:</span><span class='ee-v'>12.953388365192982</span></li></ul></details></li><li><details><summary>299: [77.54924292190803, 12.9534628485162]</summary><ul><li><span class='ee-k'>0:</span><span class='ee-v'>77.54924292190803</span></li><li><span class='ee-k'>1:</span><span class='ee-v'>12.9534628485162</span></li></ul></details></li><li><details><summary>300: [77.54926312966917, 12.953737074448803]</summary><ul><li><span class='ee-k'>0:</span><span class='ee-v'>77.54926312966917</span></li><li><span class='ee-k'>1:</span><span class='ee-v'>12.953737074448803</span></li></ul></details></li><li><details><summary>301: [77.5492636287903, 12.953743849160785]</summary><ul><li><span class='ee-k'>0:</span><span class='ee-v'>77.5492636287903</span></li><li><span class='ee-k'>1:</span><span class='ee-v'>12.953743849160785</span></li></ul></details></li><li><details><summary>302: [77.5492642734036, 12.953750618834722]</summary><ul><li><span class='ee-k'>0:</span><span class='ee-v'>77.5492642734036</span></li><li><span class='ee-k'>1:</span><span class='ee-v'>12.953750618834722</span></li></ul></details></li><li><details><summary>303: [77.54927434257074, 12.954004619661871]</summary><ul><li><span class='ee-k'>0:</span><span class='ee-v'>77.54927434257074</span></li><li><span class='ee-k'>1:</span><span class='ee-v'>12.954004619661871</span></li></ul></details></li><li><details><summary>304: [77.5492881864903, 12.954346671315331]</summary><ul><li><span class='ee-k'>0:</span><span class='ee-v'>77.5492881864903</span></li><li><span class='ee-k'>1:</span><span class='ee-v'>12.954346671315331</span></li></ul></details></li><li><details><summary>305: [77.54929499000897, 12.954392907267671]</summary><ul><li><span class='ee-k'>0:</span><span class='ee-v'>77.54929499000897</span></li><li><span class='ee-k'>1:</span><span class='ee-v'>12.954392907267671</span></li></ul></details></li><li><details><summary>306: [77.54934621817466, 12.954731204932063]</summary><ul><li><span class='ee-k'>0:</span><span class='ee-v'>77.54934621817466</span></li><li><span class='ee-k'>1:</span><span class='ee-v'>12.954731204932063</span></li></ul></details></li><li><details><summary>307: [77.5495814834132, 12.954710832354678]</summary><ul><li><span class='ee-k'>0:</span><span class='ee-v'>77.5495814834132</span></li><li><span class='ee-k'>1:</span><span class='ee-v'>12.954710832354678</span></li></ul></details></li><li><details><summary>308: [77.54956727554952, 12.954729040743677]</summary><ul><li><span class='ee-k'>0:</span><span class='ee-v'>77.54956727554952</span></li><li><span class='ee-k'>1:</span><span class='ee-v'>12.954729040743677</span></li></ul></details></li><li><details><summary>309: [77.54946073405071, 12.954858321553727]</summary><ul><li><span class='ee-k'>0:</span><span class='ee-v'>77.54946073405071</span></li><li><span class='ee-k'>1:</span><span class='ee-v'>12.954858321553727</span></li></ul></details></li><li><details><summary>310: [77.54930737755551, 12.95504440972666]</summary><ul><li><span class='ee-k'>0:</span><span class='ee-v'>77.54930737755551</span></li><li><span class='ee-k'>1:</span><span class='ee-v'>12.95504440972666</span></li></ul></details></li><li><details><summary>311: [77.54921540369914, 12.955192122190587]</summary><ul><li><span class='ee-k'>0:</span><span class='ee-v'>77.54921540369914</span></li><li><span class='ee-k'>1:</span><span class='ee-v'>12.955192122190587</span></li></ul></details></li><li><details><summary>312: [77.54896919458301, 12.95558754036441]</summary><ul><li><span class='ee-k'>0:</span><span class='ee-v'>77.54896919458301</span></li><li><span class='ee-k'>1:</span><span class='ee-v'>12.95558754036441</span></li></ul></details></li><li><details><summary>313: [77.54846735089005, 12.95645526135315]</summary><ul><li><span class='ee-k'>0:</span><span class='ee-v'>77.54846735089005</span></li><li><span class='ee-k'>1:</span><span class='ee-v'>12.95645526135315</span></li></ul></details></li><li><details><summary>314: [77.54841226405436, 12.956555857445215]</summary><ul><li><span class='ee-k'>0:</span><span class='ee-v'>77.54841226405436</span></li><li><span class='ee-k'>1:</span><span class='ee-v'>12.956555857445215</span></li></ul></details></li><li><details><summary>315: [77.54840517563008, 12.956568803004457]</summary><ul><li><span class='ee-k'>0:</span><span class='ee-v'>77.54840517563008</span></li><li><span class='ee-k'>1:</span><span class='ee-v'>12.956568803004457</span></li></ul></details></li><li><details><summary>316: [77.54837578145938, 12.956622169260035]</summary><ul><li><span class='ee-k'>0:</span><span class='ee-v'>77.54837578145938</span></li><li><span class='ee-k'>1:</span><span class='ee-v'>12.956622169260035</span></li></ul></details></li><li><details><summary>317: [77.54834523744405, 12.956677416037108]</summary><ul><li><span class='ee-k'>0:</span><span class='ee-v'>77.54834523744405</span></li><li><span class='ee-k'>1:</span><span class='ee-v'>12.956677416037108</span></li></ul></details></li><li><details><summary>318: [77.5483100378199, 12.956741083498178]</summary><ul><li><span class='ee-k'>0:</span><span class='ee-v'>77.5483100378199</span></li><li><span class='ee-k'>1:</span><span class='ee-v'>12.956741083498178</span></li></ul></details></li><li><details><summary>319: [77.54830327107044, 12.956753323915779]</summary><ul><li><span class='ee-k'>0:</span><span class='ee-v'>77.54830327107044</span></li><li><span class='ee-k'>1:</span><span class='ee-v'>12.956753323915779</span></li></ul></details></li><li><details><summary>320: [77.54823949472889, 12.95686868092387]</summary><ul><li><span class='ee-k'>0:</span><span class='ee-v'>77.54823949472889</span></li><li><span class='ee-k'>1:</span><span class='ee-v'>12.95686868092387</span></li></ul></details></li><li><details><summary>321: [77.54812798370087, 12.957070379446177]</summary><ul><li><span class='ee-k'>0:</span><span class='ee-v'>77.54812798370087</span></li><li><span class='ee-k'>1:</span><span class='ee-v'>12.957070379446177</span></li></ul></details></li><li><details><summary>322: [77.54806880674212, 12.957177416588594]</summary><ul><li><span class='ee-k'>0:</span><span class='ee-v'>77.54806880674212</span></li><li><span class='ee-k'>1:</span><span class='ee-v'>12.957177416588594</span></li></ul></details></li><li><details><summary>323: [77.54791389743527, 12.957456748112115]</summary><ul><li><span class='ee-k'>0:</span><span class='ee-v'>77.54791389743527</span></li><li><span class='ee-k'>1:</span><span class='ee-v'>12.957456748112115</span></li></ul></details></li><li><details><summary>324: [77.5477278999208, 12.957792850398226]</summary><ul><li><span class='ee-k'>0:</span><span class='ee-v'>77.5477278999208</span></li><li><span class='ee-k'>1:</span><span class='ee-v'>12.957792850398226</span></li></ul></details></li><li><details><summary>325: [77.54759108082033, 12.958040384440014]</summary><ul><li><span class='ee-k'>0:</span><span class='ee-v'>77.54759108082033</span></li><li><span class='ee-k'>1:</span><span class='ee-v'>12.958040384440014</span></li></ul></details></li><li><details><summary>326: [77.54724397500418, 12.958668300404222]</summary><ul><li><span class='ee-k'>0:</span><span class='ee-v'>77.54724397500418</span></li><li><span class='ee-k'>1:</span><span class='ee-v'>12.958668300404222</span></li></ul></details></li><li><details><summary>327: [77.5472377573836, 12.958679654559127]</summary><ul><li><span class='ee-k'>0:</span><span class='ee-v'>77.5472377573836</span></li><li><span class='ee-k'>1:</span><span class='ee-v'>12.958679654559127</span></li></ul></details></li><li><details><summary>328: [77.54712242483001, 12.958905898613995]</summary><ul><li><span class='ee-k'>0:</span><span class='ee-v'>77.54712242483001</span></li><li><span class='ee-k'>1:</span><span class='ee-v'>12.958905898613995</span></li></ul></details></li><li><details><summary>329: [77.54709889659979, 12.958952052876242]</summary><ul><li><span class='ee-k'>0:</span><span class='ee-v'>77.54709889659979</span></li><li><span class='ee-k'>1:</span><span class='ee-v'>12.958952052876242</span></li></ul></details></li><li><details><summary>330: [77.54708325486033, 12.958980210639192]</summary><ul><li><span class='ee-k'>0:</span><span class='ee-v'>77.54708325486033</span></li><li><span class='ee-k'>1:</span><span class='ee-v'>12.958980210639192</span></li></ul></details></li><li><details><summary>331: [77.54686991483956, 12.959364240726778]</summary><ul><li><span class='ee-k'>0:</span><span class='ee-v'>77.54686991483956</span></li><li><span class='ee-k'>1:</span><span class='ee-v'>12.959364240726778</span></li></ul></details></li><li><details><summary>332: [77.54686528219581, 12.959372571734285]</summary><ul><li><span class='ee-k'>0:</span><span class='ee-v'>77.54686528219581</span></li><li><span class='ee-k'>1:</span><span class='ee-v'>12.959372571734285</span></li></ul></details></li><li><details><summary>333: [77.5466312103593, 12.959793469019134]</summary><ul><li><span class='ee-k'>0:</span><span class='ee-v'>77.5466312103593</span></li><li><span class='ee-k'>1:</span><span class='ee-v'>12.959793469019134</span></li></ul></details></li><li><details><summary>334: [77.54662679299864, 12.959801412138955]</summary><ul><li><span class='ee-k'>0:</span><span class='ee-v'>77.54662679299864</span></li><li><span class='ee-k'>1:</span><span class='ee-v'>12.959801412138955</span></li></ul></details></li><li><details><summary>335: [77.54662227940946, 12.959810490953256]</summary><ul><li><span class='ee-k'>0:</span><span class='ee-v'>77.54662227940946</span></li><li><span class='ee-k'>1:</span><span class='ee-v'>12.959810490953256</span></li></ul></details></li><li><details><summary>336: [77.54637856945408, 12.96028039788921]</summary><ul><li><span class='ee-k'>0:</span><span class='ee-v'>77.54637856945408</span></li><li><span class='ee-k'>1:</span><span class='ee-v'>12.96028039788921</span></li></ul></details></li><li><details><summary>337: [77.5463179230551, 12.960397333169203]</summary><ul><li><span class='ee-k'>0:</span><span class='ee-v'>77.5463179230551</span></li><li><span class='ee-k'>1:</span><span class='ee-v'>12.960397333169203</span></li></ul></details></li><li><details><summary>338: [77.54629025422535, 12.96045068155248]</summary><ul><li><span class='ee-k'>0:</span><span class='ee-v'>77.54629025422535</span></li><li><span class='ee-k'>1:</span><span class='ee-v'>12.96045068155248</span></li></ul></details></li><li><details><summary>339: [77.54625749611667, 12.960513117088585]</summary><ul><li><span class='ee-k'>0:</span><span class='ee-v'>77.54625749611667</span></li><li><span class='ee-k'>1:</span><span class='ee-v'>12.960513117088585</span></li></ul></details></li><li><details><summary>340: [77.54623548076451, 12.960556246174782]</summary><ul><li><span class='ee-k'>0:</span><span class='ee-v'>77.54623548076451</span></li><li><span class='ee-k'>1:</span><span class='ee-v'>12.960556246174782</span></li></ul></details></li><li><details><summary>341: [77.54617450998863, 12.960660136758467]</summary><ul><li><span class='ee-k'>0:</span><span class='ee-v'>77.54617450998863</span></li><li><span class='ee-k'>1:</span><span class='ee-v'>12.960660136758467</span></li></ul></details></li><li><details><summary>342: [77.54606683175628, 12.960843616996794]</summary><ul><li><span class='ee-k'>0:</span><span class='ee-v'>77.54606683175628</span></li><li><span class='ee-k'>1:</span><span class='ee-v'>12.960843616996794</span></li></ul></details></li><li><details><summary>343: [77.54596234390044, 12.961022067132053]</summary><ul><li><span class='ee-k'>0:</span><span class='ee-v'>77.54596234390044</span></li><li><span class='ee-k'>1:</span><span class='ee-v'>12.961022067132053</span></li></ul></details></li><li><details><summary>344: [77.54582009255395, 12.961265012836838]</summary><ul><li><span class='ee-k'>0:</span><span class='ee-v'>77.54582009255395</span></li><li><span class='ee-k'>1:</span><span class='ee-v'>12.961265012836838</span></li></ul></details></li><li><details><summary>345: [77.54576972905569, 12.961351334725904]</summary><ul><li><span class='ee-k'>0:</span><span class='ee-v'>77.54576972905569</span></li><li><span class='ee-k'>1:</span><span class='ee-v'>12.961351334725904</span></li></ul></details></li><li><details><summary>346: [77.54559346531289, 12.961623290864654]</summary><ul><li><span class='ee-k'>0:</span><span class='ee-v'>77.54559346531289</span></li><li><span class='ee-k'>1:</span><span class='ee-v'>12.961623290864654</span></li></ul></details></li><li><details><summary>347: [77.5455141213426, 12.961745709572458]</summary><ul><li><span class='ee-k'>0:</span><span class='ee-v'>77.5455141213426</span></li><li><span class='ee-k'>1:</span><span class='ee-v'>12.961745709572458</span></li></ul></details></li><li><details><summary>348: [77.54547213159017, 12.961810495826489]</summary><ul><li><span class='ee-k'>0:</span><span class='ee-v'>77.54547213159017</span></li><li><span class='ee-k'>1:</span><span class='ee-v'>12.961810495826489</span></li></ul></details></li><li><details><summary>349: [77.5452127615822, 12.96217893627395]</summary><ul><li><span class='ee-k'>0:</span><span class='ee-v'>77.5452127615822</span></li><li><span class='ee-k'>1:</span><span class='ee-v'>12.96217893627395</span></li></ul></details></li><li><details><summary>350: [77.54517133323463, 12.962238066733622]</summary><ul><li><span class='ee-k'>0:</span><span class='ee-v'>77.54517133323463</span></li><li><span class='ee-k'>1:</span><span class='ee-v'>12.962238066733622</span></li></ul></details></li><li><details><summary>351: [77.54526665420052, 12.962326352805142]</summary><ul><li><span class='ee-k'>0:</span><span class='ee-v'>77.54526665420052</span></li><li><span class='ee-k'>1:</span><span class='ee-v'>12.962326352805142</span></li></ul></details></li><li><details><summary>352: [77.54534915987304, 12.962400081925734]</summary><ul><li><span class='ee-k'>0:</span><span class='ee-v'>77.54534915987304</span></li><li><span class='ee-k'>1:</span><span class='ee-v'>12.962400081925734</span></li></ul></details></li><li><details><summary>353: [77.54539626055525, 12.96244592394614]</summary><ul><li><span class='ee-k'>0:</span><span class='ee-v'>77.54539626055525</span></li><li><span class='ee-k'>1:</span><span class='ee-v'>12.96244592394614</span></li></ul></details></li><li><details><summary>354: [77.54541862988363, 12.962468477949894]</summary><ul><li><span class='ee-k'>0:</span><span class='ee-v'>77.54541862988363</span></li><li><span class='ee-k'>1:</span><span class='ee-v'>12.962468477949894</span></li></ul></details></li><li><details><summary>355: [77.54544396082905, 12.962494018756868]</summary><ul><li><span class='ee-k'>0:</span><span class='ee-v'>77.54544396082905</span></li><li><span class='ee-k'>1:</span><span class='ee-v'>12.962494018756868</span></li></ul></details></li><li><details><summary>356: [77.54552385316758, 12.962593748020351]</summary><ul><li><span class='ee-k'>0:</span><span class='ee-v'>77.54552385316758</span></li><li><span class='ee-k'>1:</span><span class='ee-v'>12.962593748020351</span></li></ul></details></li><li><details><summary>357: [77.545546372397, 12.962656770415693]</summary><ul><li><span class='ee-k'>0:</span><span class='ee-v'>77.545546372397</span></li><li><span class='ee-k'>1:</span><span class='ee-v'>12.962656770415693</span></li></ul></details></li><li><details><summary>358: [77.54552770668298, 12.96268970363548]</summary><ul><li><span class='ee-k'>0:</span><span class='ee-v'>77.54552770668298</span></li><li><span class='ee-k'>1:</span><span class='ee-v'>12.96268970363548</span></li></ul></details></li><li><details><summary>359: [77.54552459678828, 12.962691612358881]</summary><ul><li><span class='ee-k'>0:</span><span class='ee-v'>77.54552459678828</span></li><li><span class='ee-k'>1:</span><span class='ee-v'>12.962691612358881</span></li></ul></details></li><li><details><summary>360: [77.54543043638283, 12.96274938030307]</summary><ul><li><span class='ee-k'>0:</span><span class='ee-v'>77.54543043638283</span></li><li><span class='ee-k'>1:</span><span class='ee-v'>12.96274938030307</span></li></ul></details></li><li><details><summary>361: [77.54535446842849, 12.962808848604745]</summary><ul><li><span class='ee-k'>0:</span><span class='ee-v'>77.54535446842849</span></li><li><span class='ee-k'>1:</span><span class='ee-v'>12.962808848604745</span></li></ul></details></li><li><details><summary>362: [77.54514594935239, 12.962912527846184]</summary><ul><li><span class='ee-k'>0:</span><span class='ee-v'>77.54514594935239</span></li><li><span class='ee-k'>1:</span><span class='ee-v'>12.962912527846184</span></li></ul></details></li><li><details><summary>363: [77.54495159276365, 12.962993481791452]</summary><ul><li><span class='ee-k'>0:</span><span class='ee-v'>77.54495159276365</span></li><li><span class='ee-k'>1:</span><span class='ee-v'>12.962993481791452</span></li></ul></details></li><li><details><summary>364: [77.54474885411415, 12.963099362910894]</summary><ul><li><span class='ee-k'>0:</span><span class='ee-v'>77.54474885411415</span></li><li><span class='ee-k'>1:</span><span class='ee-v'>12.963099362910894</span></li></ul></details></li><li><details><summary>365: [77.54467762678145, 12.963152438754955]</summary><ul><li><span class='ee-k'>0:</span><span class='ee-v'>77.54467762678145</span></li><li><span class='ee-k'>1:</span><span class='ee-v'>12.963152438754955</span></li></ul></details></li><li><details><summary>366: [77.54460142760891, 12.963209220430734]</summary><ul><li><span class='ee-k'>0:</span><span class='ee-v'>77.54460142760891</span></li><li><span class='ee-k'>1:</span><span class='ee-v'>12.963209220430734</span></li></ul></details></li><li><details><summary>367: [77.54455008509487, 12.963312491793603]</summary><ul><li><span class='ee-k'>0:</span><span class='ee-v'>77.54455008509487</span></li><li><span class='ee-k'>1:</span><span class='ee-v'>12.963312491793603</span></li></ul></details></li><li><details><summary>368: [77.54442367471599, 12.96328097613319]</summary><ul><li><span class='ee-k'>0:</span><span class='ee-v'>77.54442367471599</span></li><li><span class='ee-k'>1:</span><span class='ee-v'>12.96328097613319</span></li></ul></details></li><li><details><summary>369: [77.54420882900742, 12.963555246041745]</summary><ul><li><span class='ee-k'>0:</span><span class='ee-v'>77.54420882900742</span></li><li><span class='ee-k'>1:</span><span class='ee-v'>12.963555246041745</span></li></ul></details></li><li><details><summary>370: [77.54393088511738, 12.963909186957714]</summary><ul><li><span class='ee-k'>0:</span><span class='ee-v'>77.54393088511738</span></li><li><span class='ee-k'>1:</span><span class='ee-v'>12.963909186957714</span></li></ul></details></li><li><details><summary>371: [77.54386495291826, 12.963993401289205]</summary><ul><li><span class='ee-k'>0:</span><span class='ee-v'>77.54386495291826</span></li><li><span class='ee-k'>1:</span><span class='ee-v'>12.963993401289205</span></li></ul></details></li><li><details><summary>372: [77.5439044214441, 12.964024636832292]</summary><ul><li><span class='ee-k'>0:</span><span class='ee-v'>77.5439044214441</span></li><li><span class='ee-k'>1:</span><span class='ee-v'>12.964024636832292</span></li></ul></details></li><li><details><summary>373: [77.54402807469246, 12.964078506126198]</summary><ul><li><span class='ee-k'>0:</span><span class='ee-v'>77.54402807469246</span></li><li><span class='ee-k'>1:</span><span class='ee-v'>12.964078506126198</span></li></ul></details></li><li><details><summary>374: [77.54414015804262, 12.964127335085998]</summary><ul><li><span class='ee-k'>0:</span><span class='ee-v'>77.54414015804262</span></li><li><span class='ee-k'>1:</span><span class='ee-v'>12.964127335085998</span></li></ul></details></li><li><details><summary>375: [77.5443531916318, 12.964220141653648]</summary><ul><li><span class='ee-k'>0:</span><span class='ee-v'>77.5443531916318</span></li><li><span class='ee-k'>1:</span><span class='ee-v'>12.964220141653648</span></li></ul></details></li><li><details><summary>376: [77.54441772416477, 12.964231061524002]</summary><ul><li><span class='ee-k'>0:</span><span class='ee-v'>77.54441772416477</span></li><li><span class='ee-k'>1:</span><span class='ee-v'>12.964231061524002</span></li></ul></details></li><li><details><summary>377: [77.54449821266685, 12.96424468212649]</summary><ul><li><span class='ee-k'>0:</span><span class='ee-v'>77.54449821266685</span></li><li><span class='ee-k'>1:</span><span class='ee-v'>12.96424468212649</span></li></ul></details></li><li><details><summary>378: [77.54463462685536, 12.964267766262825]</summary><ul><li><span class='ee-k'>0:</span><span class='ee-v'>77.54463462685536</span></li><li><span class='ee-k'>1:</span><span class='ee-v'>12.964267766262825</span></li></ul></details></li><li><details><summary>379: [77.54471505907054, 12.964281376502647]</summary><ul><li><span class='ee-k'>0:</span><span class='ee-v'>77.54471505907054</span></li><li><span class='ee-k'>1:</span><span class='ee-v'>12.964281376502647</span></li></ul></details></li><li><details><summary>380: [77.54476960057484, 12.964290606017611]</summary><ul><li><span class='ee-k'>0:</span><span class='ee-v'>77.54476960057484</span></li><li><span class='ee-k'>1:</span><span class='ee-v'>12.964290606017611</span></li></ul></details></li><li><details><summary>381: [77.54537500415785, 12.96426537989235]</summary><ul><li><span class='ee-k'>0:</span><span class='ee-v'>77.54537500415785</span></li><li><span class='ee-k'>1:</span><span class='ee-v'>12.96426537989235</span></li></ul></details></li><li><details><summary>382: [77.54569041254484, 12.964252237254813]</summary><ul><li><span class='ee-k'>0:</span><span class='ee-v'>77.54569041254484</span></li><li><span class='ee-k'>1:</span><span class='ee-v'>12.964252237254813</span></li></ul></details></li><li><details><summary>383: [77.5460006195871, 12.964240167850804]</summary><ul><li><span class='ee-k'>0:</span><span class='ee-v'>77.5460006195871</span></li><li><span class='ee-k'>1:</span><span class='ee-v'>12.964240167850804</span></li></ul></details></li><li><details><summary>384: [77.54620633076337, 12.964273809560881]</summary><ul><li><span class='ee-k'>0:</span><span class='ee-v'>77.54620633076337</span></li><li><span class='ee-k'>1:</span><span class='ee-v'>12.964273809560881</span></li></ul></details></li><li><details><summary>385: [77.5463720210289, 12.964300905896708]</summary><ul><li><span class='ee-k'>0:</span><span class='ee-v'>77.5463720210289</span></li><li><span class='ee-k'>1:</span><span class='ee-v'>12.964300905896708</span></li></ul></details></li><li><details><summary>386: [77.54704391884404, 12.964531605787917]</summary><ul><li><span class='ee-k'>0:</span><span class='ee-v'>77.54704391884404</span></li><li><span class='ee-k'>1:</span><span class='ee-v'>12.964531605787917</span></li></ul></details></li><li><details><summary>387: [77.54725341455138, 12.964603537261972]</summary><ul><li><span class='ee-k'>0:</span><span class='ee-v'>77.54725341455138</span></li><li><span class='ee-k'>1:</span><span class='ee-v'>12.964603537261972</span></li></ul></details></li><li><details><summary>388: [77.54748521228544, 12.964683125723809]</summary><ul><li><span class='ee-k'>0:</span><span class='ee-v'>77.54748521228544</span></li><li><span class='ee-k'>1:</span><span class='ee-v'>12.964683125723809</span></li></ul></details></li><li><details><summary>389: [77.54778871286855, 12.964787333343049]</summary><ul><li><span class='ee-k'>0:</span><span class='ee-v'>77.54778871286855</span></li><li><span class='ee-k'>1:</span><span class='ee-v'>12.964787333343049</span></li></ul></details></li><li><details><summary>390: [77.54849472723578, 12.965140676351714]</summary><ul><li><span class='ee-k'>0:</span><span class='ee-v'>77.54849472723578</span></li><li><span class='ee-k'>1:</span><span class='ee-v'>12.965140676351714</span></li></ul></details></li><li><details><summary>391: [77.54850291139923, 12.965146666574775]</summary><ul><li><span class='ee-k'>0:</span><span class='ee-v'>77.54850291139923</span></li><li><span class='ee-k'>1:</span><span class='ee-v'>12.965146666574775</span></li></ul></details></li><li><details><summary>392: [77.54850297543422, 12.965146712927778]</summary><ul><li><span class='ee-k'>0:</span><span class='ee-v'>77.54850297543422</span></li><li><span class='ee-k'>1:</span><span class='ee-v'>12.965146712927778</span></li></ul></details></li><li><details><summary>393: [77.54850690880565, 12.965149591691455]</summary><ul><li><span class='ee-k'>0:</span><span class='ee-v'>77.54850690880565</span></li><li><span class='ee-k'>1:</span><span class='ee-v'>12.965149591691455</span></li></ul></details></li><li><details><summary>394: [77.54862571768317, 12.96523123057184]</summary><ul><li><span class='ee-k'>0:</span><span class='ee-v'>77.54862571768317</span></li><li><span class='ee-k'>1:</span><span class='ee-v'>12.96523123057184</span></li></ul></details></li><li><details><summary>395: [77.54879046146745, 12.965344433706647]</summary><ul><li><span class='ee-k'>0:</span><span class='ee-v'>77.54879046146745</span></li><li><span class='ee-k'>1:</span><span class='ee-v'>12.965344433706647</span></li></ul></details></li><li><details><summary>396: [77.54881478749378, 12.965361148935495]</summary><ul><li><span class='ee-k'>0:</span><span class='ee-v'>77.54881478749378</span></li><li><span class='ee-k'>1:</span><span class='ee-v'>12.965361148935495</span></li></ul></details></li><li><details><summary>397: [77.54894314938615, 12.965466842751164]</summary><ul><li><span class='ee-k'>0:</span><span class='ee-v'>77.54894314938615</span></li><li><span class='ee-k'>1:</span><span class='ee-v'>12.965466842751164</span></li></ul></details></li><li><details><summary>398: [77.54905043341971, 12.965555181434643]</summary><ul><li><span class='ee-k'>0:</span><span class='ee-v'>77.54905043341971</span></li><li><span class='ee-k'>1:</span><span class='ee-v'>12.965555181434643</span></li></ul></details></li><li><details><summary>399: [77.54934056812175, 12.965794077959544]</summary><ul><li><span class='ee-k'>0:</span><span class='ee-v'>77.54934056812175</span></li><li><span class='ee-k'>1:</span><span class='ee-v'>12.965794077959544</span></li></ul></details></li><li><details><summary>400: [77.55006312766862, 12.96638903040734]</summary><ul><li><span class='ee-k'>0:</span><span class='ee-v'>77.55006312766862</span></li><li><span class='ee-k'>1:</span><span class='ee-v'>12.96638903040734</span></li></ul></details></li><li><details><summary>401: [77.5505072302378, 12.966952693744144]</summary><ul><li><span class='ee-k'>0:</span><span class='ee-v'>77.5505072302378</span></li><li><span class='ee-k'>1:</span><span class='ee-v'>12.966952693744144</span></li></ul></details></li><li><details><summary>402: [77.55074195816418, 12.967250613348195]</summary><ul><li><span class='ee-k'>0:</span><span class='ee-v'>77.55074195816418</span></li><li><span class='ee-k'>1:</span><span class='ee-v'>12.967250613348195</span></li></ul></details></li><li><details><summary>403: [77.55074775385522, 12.967257969440155]</summary><ul><li><span class='ee-k'>0:</span><span class='ee-v'>77.55074775385522</span></li><li><span class='ee-k'>1:</span><span class='ee-v'>12.967257969440155</span></li></ul></details></li><li><details><summary>404: [77.55076244000462, 12.967276609353004]</summary><ul><li><span class='ee-k'>0:</span><span class='ee-v'>77.55076244000462</span></li><li><span class='ee-k'>1:</span><span class='ee-v'>12.967276609353004</span></li></ul></details></li><li><details><summary>405: [77.55094390547072, 12.967506337094722]</summary><ul><li><span class='ee-k'>0:</span><span class='ee-v'>77.55094390547072</span></li><li><span class='ee-k'>1:</span><span class='ee-v'>12.967506337094722</span></li></ul></details></li><li><details><summary>406: [77.55095437950966, 12.967519699605688]</summary><ul><li><span class='ee-k'>0:</span><span class='ee-v'>77.55095437950966</span></li><li><span class='ee-k'>1:</span><span class='ee-v'>12.967519699605688</span></li></ul></details></li><li><details><summary>407: [77.55096336205202, 12.967531158688857]</summary><ul><li><span class='ee-k'>0:</span><span class='ee-v'>77.55096336205202</span></li><li><span class='ee-k'>1:</span><span class='ee-v'>12.967531158688857</span></li></ul></details></li><li><details><summary>408: [77.55101857340564, 12.967601597879712]</summary><ul><li><span class='ee-k'>0:</span><span class='ee-v'>77.55101857340564</span></li><li><span class='ee-k'>1:</span><span class='ee-v'>12.967601597879712</span></li></ul></details></li><li><details><summary>409: [77.55109110856334, 12.967674425790157]</summary><ul><li><span class='ee-k'>0:</span><span class='ee-v'>77.55109110856334</span></li><li><span class='ee-k'>1:</span><span class='ee-v'>12.967674425790157</span></li></ul></details></li><li><details><summary>410: [77.55109376208982, 12.96767708937896]</summary><ul><li><span class='ee-k'>0:</span><span class='ee-v'>77.55109376208982</span></li><li><span class='ee-k'>1:</span><span class='ee-v'>12.96767708937896</span></li></ul></details></li><li><details><summary>411: [77.55110350505892, 12.967686872303233]</summary><ul><li><span class='ee-k'>0:</span><span class='ee-v'>77.55110350505892</span></li><li><span class='ee-k'>1:</span><span class='ee-v'>12.967686872303233</span></li></ul></details></li><li><details><summary>412: [77.55112328137247, 12.967706728024808]</summary><ul><li><span class='ee-k'>0:</span><span class='ee-v'>77.55112328137247</span></li><li><span class='ee-k'>1:</span><span class='ee-v'>12.967706728024808</span></li></ul></details></li><li><details><summary>413: [77.5511848330264, 12.967768264612541]</summary><ul><li><span class='ee-k'>0:</span><span class='ee-v'>77.5511848330264</span></li><li><span class='ee-k'>1:</span><span class='ee-v'>12.967768264612541</span></li></ul></details></li><li><details><summary>414: [77.55122507639236, 12.967808498691976]</summary><ul><li><span class='ee-k'>0:</span><span class='ee-v'>77.55122507639236</span></li><li><span class='ee-k'>1:</span><span class='ee-v'>12.967808498691976</span></li></ul></details></li><li><details><summary>415: [77.5512358083162, 12.967815528095972]</summary><ul><li><span class='ee-k'>0:</span><span class='ee-v'>77.5512358083162</span></li><li><span class='ee-k'>1:</span><span class='ee-v'>12.967815528095972</span></li></ul></details></li><li><details><summary>416: [77.55124136532292, 12.967819167860815]</summary><ul><li><span class='ee-k'>0:</span><span class='ee-v'>77.55124136532292</span></li><li><span class='ee-k'>1:</span><span class='ee-v'>12.967819167860815</span></li></ul></details></li><li><details><summary>417: [77.55130155576705, 12.967858595577555]</summary><ul><li><span class='ee-k'>0:</span><span class='ee-v'>77.55130155576705</span></li><li><span class='ee-k'>1:</span><span class='ee-v'>12.967858595577555</span></li></ul></details></li><li><details><summary>418: [77.55156521442025, 12.968031301432843]</summary><ul><li><span class='ee-k'>0:</span><span class='ee-v'>77.55156521442025</span></li><li><span class='ee-k'>1:</span><span class='ee-v'>12.968031301432843</span></li></ul></details></li><li><details><summary>419: [77.55159198122892, 12.968048835311777]</summary><ul><li><span class='ee-k'>0:</span><span class='ee-v'>77.55159198122892</span></li><li><span class='ee-k'>1:</span><span class='ee-v'>12.968048835311777</span></li></ul></details></li><li><details><summary>420: [77.55186591088179, 12.968148917345262]</summary><ul><li><span class='ee-k'>0:</span><span class='ee-v'>77.55186591088179</span></li><li><span class='ee-k'>1:</span><span class='ee-v'>12.968148917345262</span></li></ul></details></li><li><details><summary>421: [77.5520728061217, 12.968224811445841]</summary><ul><li><span class='ee-k'>0:</span><span class='ee-v'>77.5520728061217</span></li><li><span class='ee-k'>1:</span><span class='ee-v'>12.968224811445841</span></li></ul></details></li><li><details><summary>422: [77.55214959305614, 12.968245515395765]</summary><ul><li><span class='ee-k'>0:</span><span class='ee-v'>77.55214959305614</span></li><li><span class='ee-k'>1:</span><span class='ee-v'>12.968245515395765</span></li></ul></details></li><li><details><summary>423: [77.5523703179208, 12.968306442331356]</summary><ul><li><span class='ee-k'>0:</span><span class='ee-v'>77.5523703179208</span></li><li><span class='ee-k'>1:</span><span class='ee-v'>12.968306442331356</span></li></ul></details></li><li><details><summary>424: [77.55241452516309, 12.968318644429154]</summary><ul><li><span class='ee-k'>0:</span><span class='ee-v'>77.55241452516309</span></li><li><span class='ee-k'>1:</span><span class='ee-v'>12.968318644429154</span></li></ul></details></li><li><details><summary>425: [77.5526464957034, 12.968382675289725]</summary><ul><li><span class='ee-k'>0:</span><span class='ee-v'>77.5526464957034</span></li><li><span class='ee-k'>1:</span><span class='ee-v'>12.968382675289725</span></li></ul></details></li><li><details><summary>426: [77.55269861543613, 12.968397061964094]</summary><ul><li><span class='ee-k'>0:</span><span class='ee-v'>77.55269861543613</span></li><li><span class='ee-k'>1:</span><span class='ee-v'>12.968397061964094</span></li></ul></details></li><li><details><summary>427: [77.5527777862898, 12.968418915010682]</summary><ul><li><span class='ee-k'>0:</span><span class='ee-v'>77.5527777862898</span></li><li><span class='ee-k'>1:</span><span class='ee-v'>12.968418915010682</span></li></ul></details></li><li><details><summary>428: [77.55285858692481, 12.96844177565956]</summary><ul><li><span class='ee-k'>0:</span><span class='ee-v'>77.55285858692481</span></li><li><span class='ee-k'>1:</span><span class='ee-v'>12.96844177565956</span></li></ul></details></li><li><details><summary>429: [77.55300201181467, 12.968482353860901]</summary><ul><li><span class='ee-k'>0:</span><span class='ee-v'>77.55300201181467</span></li><li><span class='ee-k'>1:</span><span class='ee-v'>12.968482353860901</span></li></ul></details></li><li><details><summary>430: [77.55316527797977, 12.96852854560259]</summary><ul><li><span class='ee-k'>0:</span><span class='ee-v'>77.55316527797977</span></li><li><span class='ee-k'>1:</span><span class='ee-v'>12.96852854560259</span></li></ul></details></li><li><details><summary>431: [77.55349148338262, 12.968620836187391]</summary><ul><li><span class='ee-k'>0:</span><span class='ee-v'>77.55349148338262</span></li><li><span class='ee-k'>1:</span><span class='ee-v'>12.968620836187391</span></li></ul></details></li><li><details><summary>432: [77.55350875433254, 12.968625445069682]</summary><ul><li><span class='ee-k'>0:</span><span class='ee-v'>77.55350875433254</span></li><li><span class='ee-k'>1:</span><span class='ee-v'>12.968625445069682</span></li></ul></details></li><li><details><summary>433: [77.55351539594074, 12.968627217518355]</summary><ul><li><span class='ee-k'>0:</span><span class='ee-v'>77.55351539594074</span></li><li><span class='ee-k'>1:</span><span class='ee-v'>12.968627217518355</span></li></ul></details></li><li><details><summary>434: [77.55379539282177, 12.968701932675664]</summary><ul><li><span class='ee-k'>0:</span><span class='ee-v'>77.55379539282177</span></li><li><span class='ee-k'>1:</span><span class='ee-v'>12.968701932675664</span></li></ul></details></li><li><details><summary>435: [77.55405788237208, 12.968771975028115]</summary><ul><li><span class='ee-k'>0:</span><span class='ee-v'>77.55405788237208</span></li><li><span class='ee-k'>1:</span><span class='ee-v'>12.968771975028115</span></li></ul></details></li><li><details><summary>436: [77.55441809891921, 12.968868096270743]</summary><ul><li><span class='ee-k'>0:</span><span class='ee-v'>77.55441809891921</span></li><li><span class='ee-k'>1:</span><span class='ee-v'>12.968868096270743</span></li></ul></details></li><li><details><summary>437: [77.55448565184788, 12.968886630575332]</summary><ul><li><span class='ee-k'>0:</span><span class='ee-v'>77.55448565184788</span></li><li><span class='ee-k'>1:</span><span class='ee-v'>12.968886630575332</span></li></ul></details></li><li><details><summary>438: [77.55449692560568, 12.968888971864091]</summary><ul><li><span class='ee-k'>0:</span><span class='ee-v'>77.55449692560568</span></li><li><span class='ee-k'>1:</span><span class='ee-v'>12.968888971864091</span></li></ul></details></li><li><details><summary>439: [77.55450123034679, 12.968889865578499]</summary><ul><li><span class='ee-k'>0:</span><span class='ee-v'>77.55450123034679</span></li><li><span class='ee-k'>1:</span><span class='ee-v'>12.968889865578499</span></li></ul></details></li><li><details><summary>440: [77.55555387988665, 12.969169281793974]</summary><ul><li><span class='ee-k'>0:</span><span class='ee-v'>77.55555387988665</span></li><li><span class='ee-k'>1:</span><span class='ee-v'>12.969169281793974</span></li></ul></details></li><li><details><summary>441: [77.55558024741606, 12.96917628115848]</summary><ul><li><span class='ee-k'>0:</span><span class='ee-v'>77.55558024741606</span></li><li><span class='ee-k'>1:</span><span class='ee-v'>12.96917628115848</span></li></ul></details></li><li><details><summary>442: [77.55566280330764, 12.969198058421949]</summary><ul><li><span class='ee-k'>0:</span><span class='ee-v'>77.55566280330764</span></li><li><span class='ee-k'>1:</span><span class='ee-v'>12.969198058421949</span></li></ul></details></li><li><details><summary>443: [77.55594517179998, 12.969260461585938]</summary><ul><li><span class='ee-k'>0:</span><span class='ee-v'>77.55594517179998</span></li><li><span class='ee-k'>1:</span><span class='ee-v'>12.969260461585938</span></li></ul></details></li><li><details><summary>444: [77.55611291106068, 12.969297532085722]</summary><ul><li><span class='ee-k'>0:</span><span class='ee-v'>77.55611291106068</span></li><li><span class='ee-k'>1:</span><span class='ee-v'>12.969297532085722</span></li></ul></details></li><li><details><summary>445: [77.5565342916997, 12.969402935653877]</summary><ul><li><span class='ee-k'>0:</span><span class='ee-v'>77.5565342916997</span></li><li><span class='ee-k'>1:</span><span class='ee-v'>12.969402935653877</span></li></ul></details></li><li><details><summary>446: [77.55686353480101, 12.96939405311791]</summary><ul><li><span class='ee-k'>0:</span><span class='ee-v'>77.55686353480101</span></li><li><span class='ee-k'>1:</span><span class='ee-v'>12.96939405311791</span></li></ul></details></li><li><details><summary>447: [77.55711330805403, 12.969383692717395]</summary><ul><li><span class='ee-k'>0:</span><span class='ee-v'>77.55711330805403</span></li><li><span class='ee-k'>1:</span><span class='ee-v'>12.969383692717395</span></li></ul></details></li><li><details><summary>448: [77.5571577557503, 12.970014546594877]</summary><ul><li><span class='ee-k'>0:</span><span class='ee-v'>77.5571577557503</span></li><li><span class='ee-k'>1:</span><span class='ee-v'>12.970014546594877</span></li></ul></details></li><li><details><summary>449: [77.55717552861898, 12.970288798321915]</summary><ul><li><span class='ee-k'>0:</span><span class='ee-v'>77.55717552861898</span></li><li><span class='ee-k'>1:</span><span class='ee-v'>12.970288798321915</span></li></ul></details></li><li><details><summary>450: [77.5571858681808, 12.970286438028982]</summary><ul><li><span class='ee-k'>0:</span><span class='ee-v'>77.5571858681808</span></li><li><span class='ee-k'>1:</span><span class='ee-v'>12.970286438028982</span></li></ul></details></li><li><details><summary>451: [77.55735592983663, 12.97025088643014]</summary><ul><li><span class='ee-k'>0:</span><span class='ee-v'>77.55735592983663</span></li><li><span class='ee-k'>1:</span><span class='ee-v'>12.97025088643014</span></li></ul></details></li><li><details><summary>452: [77.55737545754612, 12.970246177150843]</summary><ul><li><span class='ee-k'>0:</span><span class='ee-v'>77.55737545754612</span></li><li><span class='ee-k'>1:</span><span class='ee-v'>12.970246177150843</span></li></ul></details></li><li><details><summary>453: [77.55753349585203, 12.970943659759893]</summary><ul><li><span class='ee-k'>0:</span><span class='ee-v'>77.55753349585203</span></li><li><span class='ee-k'>1:</span><span class='ee-v'>12.970943659759893</span></li></ul></details></li><li><details><summary>454: [77.55754307543819, 12.970985364968316]</summary><ul><li><span class='ee-k'>0:</span><span class='ee-v'>77.55754307543819</span></li><li><span class='ee-k'>1:</span><span class='ee-v'>12.970985364968316</span></li></ul></details></li><li><details><summary>455: [77.55769900059123, 12.971875996693527]</summary><ul><li><span class='ee-k'>0:</span><span class='ee-v'>77.55769900059123</span></li><li><span class='ee-k'>1:</span><span class='ee-v'>12.971875996693527</span></li></ul></details></li><li><details><summary>456: [77.55770938796503, 12.971934619323159]</summary><ul><li><span class='ee-k'>0:</span><span class='ee-v'>77.55770938796503</span></li><li><span class='ee-k'>1:</span><span class='ee-v'>12.971934619323159</span></li></ul></details></li><li><details><summary>457: [77.55772239692712, 12.97198529193911]</summary><ul><li><span class='ee-k'>0:</span><span class='ee-v'>77.55772239692712</span></li><li><span class='ee-k'>1:</span><span class='ee-v'>12.97198529193911</span></li></ul></details></li><li><details><summary>458: [77.55779094000705, 12.972252286295516]</summary><ul><li><span class='ee-k'>0:</span><span class='ee-v'>77.55779094000705</span></li><li><span class='ee-k'>1:</span><span class='ee-v'>12.972252286295516</span></li></ul></details></li><li><details><summary>459: [77.55791088493392, 12.972720904807655]</summary><ul><li><span class='ee-k'>0:</span><span class='ee-v'>77.55791088493392</span></li><li><span class='ee-k'>1:</span><span class='ee-v'>12.972720904807655</span></li></ul></details></li><li><details><summary>460: [77.55792311503637, 12.972790803414568]</summary><ul><li><span class='ee-k'>0:</span><span class='ee-v'>77.55792311503637</span></li><li><span class='ee-k'>1:</span><span class='ee-v'>12.972790803414568</span></li></ul></details></li><li><details><summary>461: [77.55792516188295, 12.972806647100981]</summary><ul><li><span class='ee-k'>0:</span><span class='ee-v'>77.55792516188295</span></li><li><span class='ee-k'>1:</span><span class='ee-v'>12.972806647100981</span></li></ul></details></li><li><details><summary>462: [77.5579424977996, 12.972940811753372]</summary><ul><li><span class='ee-k'>0:</span><span class='ee-v'>77.5579424977996</span></li><li><span class='ee-k'>1:</span><span class='ee-v'>12.972940811753372</span></li></ul></details></li><li><details><summary>463: [77.55795103117109, 12.972987030040578]</summary><ul><li><span class='ee-k'>0:</span><span class='ee-v'>77.55795103117109</span></li><li><span class='ee-k'>1:</span><span class='ee-v'>12.972987030040578</span></li></ul></details></li><li><details><summary>464: [77.55797900006093, 12.973019505294294]</summary><ul><li><span class='ee-k'>0:</span><span class='ee-v'>77.55797900006093</span></li><li><span class='ee-k'>1:</span><span class='ee-v'>12.973019505294294</span></li></ul></details></li><li><details><summary>465: [77.55794987867279, 12.973718842276158]</summary><ul><li><span class='ee-k'>0:</span><span class='ee-v'>77.55794987867279</span></li><li><span class='ee-k'>1:</span><span class='ee-v'>12.973718842276158</span></li></ul></details></li><li><details><summary>466: [77.55789710966465, 12.973738559798827]</summary><ul><li><span class='ee-k'>0:</span><span class='ee-v'>77.55789710966465</span></li><li><span class='ee-k'>1:</span><span class='ee-v'>12.973738559798827</span></li></ul></details></li><li><details><summary>467: [77.55817577226243, 12.974215122914831]</summary><ul><li><span class='ee-k'>0:</span><span class='ee-v'>77.55817577226243</span></li><li><span class='ee-k'>1:</span><span class='ee-v'>12.974215122914831</span></li></ul></details></li><li><details><summary>468: [77.55836065102098, 12.97453130130932]</summary><ul><li><span class='ee-k'>0:</span><span class='ee-v'>77.55836065102098</span></li><li><span class='ee-k'>1:</span><span class='ee-v'>12.97453130130932</span></li></ul></details></li><li><details><summary>469: [77.55836828690178, 12.974547041209313]</summary><ul><li><span class='ee-k'>0:</span><span class='ee-v'>77.55836828690178</span></li><li><span class='ee-k'>1:</span><span class='ee-v'>12.974547041209313</span></li></ul></details></li><li><details><summary>470: [77.55841299828762, 12.974639201196759]</summary><ul><li><span class='ee-k'>0:</span><span class='ee-v'>77.55841299828762</span></li><li><span class='ee-k'>1:</span><span class='ee-v'>12.974639201196759</span></li></ul></details></li><li><details><summary>471: [77.55843050414278, 12.974675732827524]</summary><ul><li><span class='ee-k'>0:</span><span class='ee-v'>77.55843050414278</span></li><li><span class='ee-k'>1:</span><span class='ee-v'>12.974675732827524</span></li></ul></details></li><li><details><summary>472: [77.55845123972405, 12.974719006803744]</summary><ul><li><span class='ee-k'>0:</span><span class='ee-v'>77.55845123972405</span></li><li><span class='ee-k'>1:</span><span class='ee-v'>12.974719006803744</span></li></ul></details></li><li><details><summary>473: [77.55845829603804, 12.974751754567867]</summary><ul><li><span class='ee-k'>0:</span><span class='ee-v'>77.55845829603804</span></li><li><span class='ee-k'>1:</span><span class='ee-v'>12.974751754567867</span></li></ul></details></li><li><details><summary>474: [77.55847247541166, 12.974817560227022]</summary><ul><li><span class='ee-k'>0:</span><span class='ee-v'>77.55847247541166</span></li><li><span class='ee-k'>1:</span><span class='ee-v'>12.974817560227022</span></li></ul></details></li><li><details><summary>475: [77.5584796497592, 12.97485085884056]</summary><ul><li><span class='ee-k'>0:</span><span class='ee-v'>77.5584796497592</span></li><li><span class='ee-k'>1:</span><span class='ee-v'>12.97485085884056</span></li></ul></details></li><li><details><summary>476: [77.55853051276247, 12.974976469306036]</summary><ul><li><span class='ee-k'>0:</span><span class='ee-v'>77.55853051276247</span></li><li><span class='ee-k'>1:</span><span class='ee-v'>12.974976469306036</span></li></ul></details></li><li><details><summary>477: [77.55866867215747, 12.975317666565541]</summary><ul><li><span class='ee-k'>0:</span><span class='ee-v'>77.55866867215747</span></li><li><span class='ee-k'>1:</span><span class='ee-v'>12.975317666565541</span></li></ul></details></li><li><details><summary>478: [77.55870325745003, 12.975546579434841]</summary><ul><li><span class='ee-k'>0:</span><span class='ee-v'>77.55870325745003</span></li><li><span class='ee-k'>1:</span><span class='ee-v'>12.975546579434841</span></li></ul></details></li><li><details><summary>479: [77.55871210702122, 12.975736218381845]</summary><ul><li><span class='ee-k'>0:</span><span class='ee-v'>77.55871210702122</span></li><li><span class='ee-k'>1:</span><span class='ee-v'>12.975736218381845</span></li></ul></details></li><li><details><summary>480: [77.55865255755884, 12.975734160859778]</summary><ul><li><span class='ee-k'>0:</span><span class='ee-v'>77.55865255755884</span></li><li><span class='ee-k'>1:</span><span class='ee-v'>12.975734160859778</span></li></ul></details></li><li><details><summary>481: [77.55812691541793, 12.975716001937071]</summary><ul><li><span class='ee-k'>0:</span><span class='ee-v'>77.55812691541793</span></li><li><span class='ee-k'>1:</span><span class='ee-v'>12.975716001937071</span></li></ul></details></li><li><details><summary>482: [77.557755992562, 12.975703840411947]</summary><ul><li><span class='ee-k'>0:</span><span class='ee-v'>77.557755992562</span></li><li><span class='ee-k'>1:</span><span class='ee-v'>12.975703840411947</span></li></ul></details></li><li><details><summary>483: [77.55756301355325, 12.975694445424317]</summary><ul><li><span class='ee-k'>0:</span><span class='ee-v'>77.55756301355325</span></li><li><span class='ee-k'>1:</span><span class='ee-v'>12.975694445424317</span></li></ul></details></li><li><details><summary>484: [77.55684694333813, 12.975655299379453]</summary><ul><li><span class='ee-k'>0:</span><span class='ee-v'>77.55684694333813</span></li><li><span class='ee-k'>1:</span><span class='ee-v'>12.975655299379453</span></li></ul></details></li><li><details><summary>485: [77.55675763388159, 12.97565041712219]</summary><ul><li><span class='ee-k'>0:</span><span class='ee-v'>77.55675763388159</span></li><li><span class='ee-k'>1:</span><span class='ee-v'>12.97565041712219</span></li></ul></details></li><li><details><summary>486: [77.55636134144969, 12.975639301687185]</summary><ul><li><span class='ee-k'>0:</span><span class='ee-v'>77.55636134144969</span></li><li><span class='ee-k'>1:</span><span class='ee-v'>12.975639301687185</span></li></ul></details></li><li><details><summary>487: [77.5562467334446, 12.975636088208713]</summary><ul><li><span class='ee-k'>0:</span><span class='ee-v'>77.5562467334446</span></li><li><span class='ee-k'>1:</span><span class='ee-v'>12.975636088208713</span></li></ul></details></li><li><details><summary>488: [77.55547559441075, 12.975614458395954]</summary><ul><li><span class='ee-k'>0:</span><span class='ee-v'>77.55547559441075</span></li><li><span class='ee-k'>1:</span><span class='ee-v'>12.975614458395954</span></li></ul></details></li><li><details><summary>489: [77.55449349057875, 12.975574418382969]</summary><ul><li><span class='ee-k'>0:</span><span class='ee-v'>77.55449349057875</span></li><li><span class='ee-k'>1:</span><span class='ee-v'>12.975574418382969</span></li></ul></details></li><li><details><summary>490: [77.55447217755622, 12.975573498440784]</summary><ul><li><span class='ee-k'>0:</span><span class='ee-v'>77.55447217755622</span></li><li><span class='ee-k'>1:</span><span class='ee-v'>12.975573498440784</span></li></ul></details></li><li><details><summary>491: [77.55433105887153, 12.975568108820273]</summary><ul><li><span class='ee-k'>0:</span><span class='ee-v'>77.55433105887153</span></li><li><span class='ee-k'>1:</span><span class='ee-v'>12.975568108820273</span></li></ul></details></li><li><details><summary>492: [77.55429880724431, 12.975567296319694]</summary><ul><li><span class='ee-k'>0:</span><span class='ee-v'>77.55429880724431</span></li><li><span class='ee-k'>1:</span><span class='ee-v'>12.975567296319694</span></li></ul></details></li><li><details><summary>493: [77.55378978112834, 12.975506795337479]</summary><ul><li><span class='ee-k'>0:</span><span class='ee-v'>77.55378978112834</span></li><li><span class='ee-k'>1:</span><span class='ee-v'>12.975506795337479</span></li></ul></details></li><li><details><summary>494: [77.55359671814986, 12.975489741340189]</summary><ul><li><span class='ee-k'>0:</span><span class='ee-v'>77.55359671814986</span></li><li><span class='ee-k'>1:</span><span class='ee-v'>12.975489741340189</span></li></ul></details></li><li><details><summary>495: [77.55346763297804, 12.975478337979494]</summary><ul><li><span class='ee-k'>0:</span><span class='ee-v'>77.55346763297804</span></li><li><span class='ee-k'>1:</span><span class='ee-v'>12.975478337979494</span></li></ul></details></li><li><details><summary>496: [77.55341116667766, 12.975474375180077]</summary><ul><li><span class='ee-k'>0:</span><span class='ee-v'>77.55341116667766</span></li><li><span class='ee-k'>1:</span><span class='ee-v'>12.975474375180077</span></li></ul></details></li><li><details><summary>497: [77.553306892876, 12.975468623169734]</summary><ul><li><span class='ee-k'>0:</span><span class='ee-v'>77.553306892876</span></li><li><span class='ee-k'>1:</span><span class='ee-v'>12.975468623169734</span></li></ul></details></li><li><details><summary>498: [77.55329871809637, 12.975466124965457]</summary><ul><li><span class='ee-k'>0:</span><span class='ee-v'>77.55329871809637</span></li><li><span class='ee-k'>1:</span><span class='ee-v'>12.975466124965457</span></li></ul></details></li><li><details><summary>499: [77.55314574927691, 12.975419385808014]</summary><ul><li><span class='ee-k'>0:</span><span class='ee-v'>77.55314574927691</span></li><li><span class='ee-k'>1:</span><span class='ee-v'>12.975419385808014</span></li></ul></details></li><li><details><summary>500: [77.55296153097005, 12.975365857582382]</summary><ul><li><span class='ee-k'>0:</span><span class='ee-v'>77.55296153097005</span></li><li><span class='ee-k'>1:</span><span class='ee-v'>12.975365857582382</span></li></ul></details></li><li><details><summary>501: [77.55293188494365, 12.975348473339603]</summary><ul><li><span class='ee-k'>0:</span><span class='ee-v'>77.55293188494365</span></li><li><span class='ee-k'>1:</span><span class='ee-v'>12.975348473339603</span></li></ul></details></li><li><details><summary>502: [77.55279147783797, 12.97526613712085]</summary><ul><li><span class='ee-k'>0:</span><span class='ee-v'>77.55279147783797</span></li><li><span class='ee-k'>1:</span><span class='ee-v'>12.97526613712085</span></li></ul></details></li><li><details><summary>503: [77.55277211914073, 12.97525478455409]</summary><ul><li><span class='ee-k'>0:</span><span class='ee-v'>77.55277211914073</span></li><li><span class='ee-k'>1:</span><span class='ee-v'>12.97525478455409</span></li></ul></details></li><li><details><summary>504: [77.55254677105346, 12.975120348267009]</summary><ul><li><span class='ee-k'>0:</span><span class='ee-v'>77.55254677105346</span></li><li><span class='ee-k'>1:</span><span class='ee-v'>12.975120348267009</span></li></ul></details></li><li><details><summary>505: [77.55248192940692, 12.97507725905091]</summary><ul><li><span class='ee-k'>0:</span><span class='ee-v'>77.55248192940692</span></li><li><span class='ee-k'>1:</span><span class='ee-v'>12.97507725905091</span></li></ul></details></li><li><details><summary>506: [77.55230561381217, 12.974960092398057]</summary><ul><li><span class='ee-k'>0:</span><span class='ee-v'>77.55230561381217</span></li><li><span class='ee-k'>1:</span><span class='ee-v'>12.974960092398057</span></li></ul></details></li><li><details><summary>507: [77.55217228889768, 12.97487218417281]</summary><ul><li><span class='ee-k'>0:</span><span class='ee-v'>77.55217228889768</span></li><li><span class='ee-k'>1:</span><span class='ee-v'>12.97487218417281</span></li></ul></details></li><li><details><summary>508: [77.55204086363632, 12.974744730774034]</summary><ul><li><span class='ee-k'>0:</span><span class='ee-v'>77.55204086363632</span></li><li><span class='ee-k'>1:</span><span class='ee-v'>12.974744730774034</span></li></ul></details></li><li><details><summary>509: [77.55191235164897, 12.974620636675635]</summary><ul><li><span class='ee-k'>0:</span><span class='ee-v'>77.55191235164897</span></li><li><span class='ee-k'>1:</span><span class='ee-v'>12.974620636675635</span></li></ul></details></li><li><details><summary>510: [77.55180998889679, 12.974520001756694]</summary><ul><li><span class='ee-k'>0:</span><span class='ee-v'>77.55180998889679</span></li><li><span class='ee-k'>1:</span><span class='ee-v'>12.974520001756694</span></li></ul></details></li><li><details><summary>511: [77.55178731711933, 12.974498767020139]</summary><ul><li><span class='ee-k'>0:</span><span class='ee-v'>77.55178731711933</span></li><li><span class='ee-k'>1:</span><span class='ee-v'>12.974498767020139</span></li></ul></details></li><li><details><summary>512: [77.55177780202912, 12.974491217105315]</summary><ul><li><span class='ee-k'>0:</span><span class='ee-v'>77.55177780202912</span></li><li><span class='ee-k'>1:</span><span class='ee-v'>12.974491217105315</span></li></ul></details></li><li><details><summary>513: [77.55138098772095, 12.974176378369446]</summary><ul><li><span class='ee-k'>0:</span><span class='ee-v'>77.55138098772095</span></li><li><span class='ee-k'>1:</span><span class='ee-v'>12.974176378369446</span></li></ul></details></li><li><details><summary>514: [77.55095933388658, 12.97387559644511]</summary><ul><li><span class='ee-k'>0:</span><span class='ee-v'>77.55095933388658</span></li><li><span class='ee-k'>1:</span><span class='ee-v'>12.97387559644511</span></li></ul></details></li><li><details><summary>515: [77.55079739906695, 12.973796796599594]</summary><ul><li><span class='ee-k'>0:</span><span class='ee-v'>77.55079739906695</span></li><li><span class='ee-k'>1:</span><span class='ee-v'>12.973796796599594</span></li></ul></details></li><li><details><summary>516: [77.55062719299713, 12.973713972425497]</summary><ul><li><span class='ee-k'>0:</span><span class='ee-v'>77.55062719299713</span></li><li><span class='ee-k'>1:</span><span class='ee-v'>12.973713972425497</span></li></ul></details></li><li><details><summary>517: [77.55046865303683, 12.973694070101866]</summary><ul><li><span class='ee-k'>0:</span><span class='ee-v'>77.55046865303683</span></li><li><span class='ee-k'>1:</span><span class='ee-v'>12.973694070101866</span></li></ul></details></li><li><details><summary>518: [77.55029268046526, 12.97371499445785]</summary><ul><li><span class='ee-k'>0:</span><span class='ee-v'>77.55029268046526</span></li><li><span class='ee-k'>1:</span><span class='ee-v'>12.97371499445785</span></li></ul></details></li><li><details><summary>519: [77.55012765791365, 12.97373694065127]</summary><ul><li><span class='ee-k'>0:</span><span class='ee-v'>77.55012765791365</span></li><li><span class='ee-k'>1:</span><span class='ee-v'>12.97373694065127</span></li></ul></details></li><li><details><summary>520: [77.5499782716842, 12.973767768051987]</summary><ul><li><span class='ee-k'>0:</span><span class='ee-v'>77.5499782716842</span></li><li><span class='ee-k'>1:</span><span class='ee-v'>12.973767768051987</span></li></ul></details></li><li><details><summary>521: [77.54987564486008, 12.973810559509262]</summary><ul><li><span class='ee-k'>0:</span><span class='ee-v'>77.54987564486008</span></li><li><span class='ee-k'>1:</span><span class='ee-v'>12.973810559509262</span></li></ul></details></li><li><details><summary>522: [77.54960718897644, 12.973965651043681]</summary><ul><li><span class='ee-k'>0:</span><span class='ee-v'>77.54960718897644</span></li><li><span class='ee-k'>1:</span><span class='ee-v'>12.973965651043681</span></li></ul></details></li><li><details><summary>523: [77.54915692914909, 12.97436302564615]</summary><ul><li><span class='ee-k'>0:</span><span class='ee-v'>77.54915692914909</span></li><li><span class='ee-k'>1:</span><span class='ee-v'>12.97436302564615</span></li></ul></details></li><li><details><summary>524: [77.54835976829034, 12.975066552143488]</summary><ul><li><span class='ee-k'>0:</span><span class='ee-v'>77.54835976829034</span></li><li><span class='ee-k'>1:</span><span class='ee-v'>12.975066552143488</span></li></ul></details></li><li><details><summary>525: [77.54809972877825, 12.974707570274074]</summary><ul><li><span class='ee-k'>0:</span><span class='ee-v'>77.54809972877825</span></li><li><span class='ee-k'>1:</span><span class='ee-v'>12.974707570274074</span></li></ul></details></li><li><details><summary>526: [77.5479649921075, 12.974521567160773]</summary><ul><li><span class='ee-k'>0:</span><span class='ee-v'>77.5479649921075</span></li><li><span class='ee-k'>1:</span><span class='ee-v'>12.974521567160773</span></li></ul></details></li><li><details><summary>527: [77.54789959156851, 12.974431861545376]</summary><ul><li><span class='ee-k'>0:</span><span class='ee-v'>77.54789959156851</span></li><li><span class='ee-k'>1:</span><span class='ee-v'>12.974431861545376</span></li></ul></details></li><li><details><summary>528: [77.54773807007307, 12.974288889790802]</summary><ul><li><span class='ee-k'>0:</span><span class='ee-v'>77.54773807007307</span></li><li><span class='ee-k'>1:</span><span class='ee-v'>12.974288889790802</span></li></ul></details></li><li><details><summary>529: [77.54741043078126, 12.974229986375105]</summary><ul><li><span class='ee-k'>0:</span><span class='ee-v'>77.54741043078126</span></li><li><span class='ee-k'>1:</span><span class='ee-v'>12.974229986375105</span></li></ul></details></li><li><details><summary>530: [77.54719560911764, 12.974224185361685]</summary><ul><li><span class='ee-k'>0:</span><span class='ee-v'>77.54719560911764</span></li><li><span class='ee-k'>1:</span><span class='ee-v'>12.974224185361685</span></li></ul></details></li><li><details><summary>531: [77.54667052547664, 12.974212130653775]</summary><ul><li><span class='ee-k'>0:</span><span class='ee-v'>77.54667052547664</span></li><li><span class='ee-k'>1:</span><span class='ee-v'>12.974212130653775</span></li></ul></details></li><li><details><summary>532: [77.54611703234526, 12.974199422462677]</summary><ul><li><span class='ee-k'>0:</span><span class='ee-v'>77.54611703234526</span></li><li><span class='ee-k'>1:</span><span class='ee-v'>12.974199422462677</span></li></ul></details></li><li><details><summary>533: [77.54464203609862, 12.97416555161154]</summary><ul><li><span class='ee-k'>0:</span><span class='ee-v'>77.54464203609862</span></li><li><span class='ee-k'>1:</span><span class='ee-v'>12.97416555161154</span></li></ul></details></li><li><details><summary>534: [77.54447156150633, 12.974161636275975]</summary><ul><li><span class='ee-k'>0:</span><span class='ee-v'>77.54447156150633</span></li><li><span class='ee-k'>1:</span><span class='ee-v'>12.974161636275975</span></li></ul></details></li><li><details><summary>535: [77.54418420877253, 12.97415767175727]</summary><ul><li><span class='ee-k'>0:</span><span class='ee-v'>77.54418420877253</span></li><li><span class='ee-k'>1:</span><span class='ee-v'>12.97415767175727</span></li></ul></details></li><li><details><summary>536: [77.54366043469355, 12.974118751570003]</summary><ul><li><span class='ee-k'>0:</span><span class='ee-v'>77.54366043469355</span></li><li><span class='ee-k'>1:</span><span class='ee-v'>12.974118751570003</span></li></ul></details></li><li><details><summary>537: [77.54338637085117, 12.974062706811376]</summary><ul><li><span class='ee-k'>0:</span><span class='ee-v'>77.54338637085117</span></li><li><span class='ee-k'>1:</span><span class='ee-v'>12.974062706811376</span></li></ul></details></li><li><details><summary>538: [77.54337459591846, 12.974060204630158]</summary><ul><li><span class='ee-k'>0:</span><span class='ee-v'>77.54337459591846</span></li><li><span class='ee-k'>1:</span><span class='ee-v'>12.974060204630158</span></li></ul></details></li><li><details><summary>539: [77.54229407046161, 12.973830580654674]</summary><ul><li><span class='ee-k'>0:</span><span class='ee-v'>77.54229407046161</span></li><li><span class='ee-k'>1:</span><span class='ee-v'>12.973830580654674</span></li></ul></details></li><li><details><summary>540: [77.5416358194324, 12.973690826501326]</summary><ul><li><span class='ee-k'>0:</span><span class='ee-v'>77.5416358194324</span></li><li><span class='ee-k'>1:</span><span class='ee-v'>12.973690826501326</span></li></ul></details></li><li><details><summary>541: [77.54163366922319, 12.973690369581425]</summary><ul><li><span class='ee-k'>0:</span><span class='ee-v'>77.54163366922319</span></li><li><span class='ee-k'>1:</span><span class='ee-v'>12.973690369581425</span></li></ul></details></li><li><details><summary>542: [77.54085498321145, 12.973525042235444]</summary><ul><li><span class='ee-k'>0:</span><span class='ee-v'>77.54085498321145</span></li><li><span class='ee-k'>1:</span><span class='ee-v'>12.973525042235444</span></li></ul></details></li><li><details><summary>543: [77.54061484050705, 12.973473022138775]</summary><ul><li><span class='ee-k'>0:</span><span class='ee-v'>77.54061484050705</span></li><li><span class='ee-k'>1:</span><span class='ee-v'>12.973473022138775</span></li></ul></details></li><li><details><summary>544: [77.53956298200144, 12.973245163933518]</summary><ul><li><span class='ee-k'>0:</span><span class='ee-v'>77.53956298200144</span></li><li><span class='ee-k'>1:</span><span class='ee-v'>12.973245163933518</span></li></ul></details></li><li><details><summary>545: [77.53921819416276, 12.97315964813143]</summary><ul><li><span class='ee-k'>0:</span><span class='ee-v'>77.53921819416276</span></li><li><span class='ee-k'>1:</span><span class='ee-v'>12.97315964813143</span></li></ul></details></li><li><details><summary>546: [77.53914680080372, 12.973141940600373]</summary><ul><li><span class='ee-k'>0:</span><span class='ee-v'>77.53914680080372</span></li><li><span class='ee-k'>1:</span><span class='ee-v'>12.973141940600373</span></li></ul></details></li><li><details><summary>547: [77.53894341476092, 12.973071648663304]</summary><ul><li><span class='ee-k'>0:</span><span class='ee-v'>77.53894341476092</span></li><li><span class='ee-k'>1:</span><span class='ee-v'>12.973071648663304</span></li></ul></details></li><li><details><summary>548: [77.53892185301085, 12.97305938043298]</summary><ul><li><span class='ee-k'>0:</span><span class='ee-v'>77.53892185301085</span></li><li><span class='ee-k'>1:</span><span class='ee-v'>12.97305938043298</span></li></ul></details></li><li><details><summary>549: [77.53876388800944, 12.972969502183112]</summary><ul><li><span class='ee-k'>0:</span><span class='ee-v'>77.53876388800944</span></li><li><span class='ee-k'>1:</span><span class='ee-v'>12.972969502183112</span></li></ul></details></li><li><details><summary>550: [77.53862174590485, 12.972920069510526]</summary><ul><li><span class='ee-k'>0:</span><span class='ee-v'>77.53862174590485</span></li><li><span class='ee-k'>1:</span><span class='ee-v'>12.972920069510526</span></li></ul></details></li><li><details><summary>551: [77.53859276523309, 12.972901153653833]</summary><ul><li><span class='ee-k'>0:</span><span class='ee-v'>77.53859276523309</span></li><li><span class='ee-k'>1:</span><span class='ee-v'>12.972901153653833</span></li></ul></details></li><li><details><summary>552: [77.53833775383033, 12.972736500701313]</summary><ul><li><span class='ee-k'>0:</span><span class='ee-v'>77.53833775383033</span></li><li><span class='ee-k'>1:</span><span class='ee-v'>12.972736500701313</span></li></ul></details></li><li><details><summary>553: [77.53800510978256, 12.972411109663673]</summary><ul><li><span class='ee-k'>0:</span><span class='ee-v'>77.53800510978256</span></li><li><span class='ee-k'>1:</span><span class='ee-v'>12.972411109663673</span></li></ul></details></li><li><details><summary>554: [77.53790300758428, 12.972278844081712]</summary><ul><li><span class='ee-k'>0:</span><span class='ee-v'>77.53790300758428</span></li><li><span class='ee-k'>1:</span><span class='ee-v'>12.972278844081712</span></li></ul></details></li><li><details><summary>555: [77.53782368208499, 12.97212151074854]</summary><ul><li><span class='ee-k'>0:</span><span class='ee-v'>77.53782368208499</span></li><li><span class='ee-k'>1:</span><span class='ee-v'>12.97212151074854</span></li></ul></details></li><li><details><summary>556: [77.53781595720656, 12.97209787001735]</summary><ul><li><span class='ee-k'>0:</span><span class='ee-v'>77.53781595720656</span></li><li><span class='ee-k'>1:</span><span class='ee-v'>12.97209787001735</span></li></ul></details></li><li><details><summary>557: [77.53758935565892, 12.971424681371861]</summary><ul><li><span class='ee-k'>0:</span><span class='ee-v'>77.53758935565892</span></li><li><span class='ee-k'>1:</span><span class='ee-v'>12.971424681371861</span></li></ul></details></li><li><details><summary>558: [77.5375420812838, 12.971284236350149]</summary><ul><li><span class='ee-k'>0:</span><span class='ee-v'>77.5375420812838</span></li><li><span class='ee-k'>1:</span><span class='ee-v'>12.971284236350149</span></li></ul></details></li><li><details><summary>559: [77.53747080417011, 12.971072484116956]</summary><ul><li><span class='ee-k'>0:</span><span class='ee-v'>77.53747080417011</span></li><li><span class='ee-k'>1:</span><span class='ee-v'>12.971072484116956</span></li></ul></details></li><li><details><summary>560: [77.53737605449197, 12.970790999627548]</summary><ul><li><span class='ee-k'>0:</span><span class='ee-v'>77.53737605449197</span></li><li><span class='ee-k'>1:</span><span class='ee-v'>12.970790999627548</span></li></ul></details></li><li><details><summary>561: [77.53644364811412, 12.968155179922695]</summary><ul><li><span class='ee-k'>0:</span><span class='ee-v'>77.53644364811412</span></li><li><span class='ee-k'>1:</span><span class='ee-v'>12.968155179922695</span></li></ul></details></li><li><details><summary>562: [77.53617886450343, 12.967480157276766]</summary><ul><li><span class='ee-k'>0:</span><span class='ee-v'>77.53617886450343</span></li><li><span class='ee-k'>1:</span><span class='ee-v'>12.967480157276766</span></li></ul></details></li><li><details><summary>563: [77.53608194257772, 12.967233776563761]</summary><ul><li><span class='ee-k'>0:</span><span class='ee-v'>77.53608194257772</span></li><li><span class='ee-k'>1:</span><span class='ee-v'>12.967233776563761</span></li></ul></details></li><li><details><summary>564: [77.53549347378048, 12.966093231215678]</summary><ul><li><span class='ee-k'>0:</span><span class='ee-v'>77.53549347378048</span></li><li><span class='ee-k'>1:</span><span class='ee-v'>12.966093231215678</span></li></ul></details></li><li><details><summary>565: [77.53544426597696, 12.96599100485136]</summary><ul><li><span class='ee-k'>0:</span><span class='ee-v'>77.53544426597696</span></li><li><span class='ee-k'>1:</span><span class='ee-v'>12.96599100485136</span></li></ul></details></li><li><details><summary>566: [77.53544366466691, 12.965989755787191]</summary><ul><li><span class='ee-k'>0:</span><span class='ee-v'>77.53544366466691</span></li><li><span class='ee-k'>1:</span><span class='ee-v'>12.965989755787191</span></li></ul></details></li><li><details><summary>567: [77.53510349033158, 12.965278258833477]</summary><ul><li><span class='ee-k'>0:</span><span class='ee-v'>77.53510349033158</span></li><li><span class='ee-k'>1:</span><span class='ee-v'>12.965278258833477</span></li></ul></details></li><li><details><summary>568: [77.53489821127975, 12.964835490642434]</summary><ul><li><span class='ee-k'>0:</span><span class='ee-v'>77.53489821127975</span></li><li><span class='ee-k'>1:</span><span class='ee-v'>12.964835490642434</span></li></ul></details></li><li><details><summary>569: [77.5346891057073, 12.96438446915085]</summary><ul><li><span class='ee-k'>0:</span><span class='ee-v'>77.5346891057073</span></li><li><span class='ee-k'>1:</span><span class='ee-v'>12.96438446915085</span></li></ul></details></li><li><details><summary>570: [77.53431163336388, 12.964520278490713]</summary><ul><li><span class='ee-k'>0:</span><span class='ee-v'>77.53431163336388</span></li><li><span class='ee-k'>1:</span><span class='ee-v'>12.964520278490713</span></li></ul></details></li><li><details><summary>571: [77.5339674752022, 12.964591390461369]</summary><ul><li><span class='ee-k'>0:</span><span class='ee-v'>77.5339674752022</span></li><li><span class='ee-k'>1:</span><span class='ee-v'>12.964591390461369</span></li></ul></details></li><li><details><summary>572: [77.5338246599111, 12.964621329047416]</summary><ul><li><span class='ee-k'>0:</span><span class='ee-v'>77.5338246599111</span></li><li><span class='ee-k'>1:</span><span class='ee-v'>12.964621329047416</span></li></ul></details></li><li><details><summary>573: [77.53345900939038, 12.964697981965331]</summary><ul><li><span class='ee-k'>0:</span><span class='ee-v'>77.53345900939038</span></li><li><span class='ee-k'>1:</span><span class='ee-v'>12.964697981965331</span></li></ul></details></li><li><details><summary>574: [77.53311060349533, 12.96474767672725]</summary><ul><li><span class='ee-k'>0:</span><span class='ee-v'>77.53311060349533</span></li><li><span class='ee-k'>1:</span><span class='ee-v'>12.96474767672725</span></li></ul></details></li><li><details><summary>575: [77.53275375343398, 12.964702588423828]</summary><ul><li><span class='ee-k'>0:</span><span class='ee-v'>77.53275375343398</span></li><li><span class='ee-k'>1:</span><span class='ee-v'>12.964702588423828</span></li></ul></details></li><li><details><summary>576: [77.53250474826078, 12.964670835213633]</summary><ul><li><span class='ee-k'>0:</span><span class='ee-v'>77.53250474826078</span></li><li><span class='ee-k'>1:</span><span class='ee-v'>12.964670835213633</span></li></ul></details></li><li><details><summary>577: [77.5324822213632, 12.964667962752813]</summary><ul><li><span class='ee-k'>0:</span><span class='ee-v'>77.5324822213632</span></li><li><span class='ee-k'>1:</span><span class='ee-v'>12.964667962752813</span></li></ul></details></li><li><details><summary>578: [77.53233652338047, 12.9646648632475]</summary><ul><li><span class='ee-k'>0:</span><span class='ee-v'>77.53233652338047</span></li><li><span class='ee-k'>1:</span><span class='ee-v'>12.9646648632475</span></li></ul></details></li><li><details><summary>579: [77.53202151221988, 12.964657764424185]</summary><ul><li><span class='ee-k'>0:</span><span class='ee-v'>77.53202151221988</span></li><li><span class='ee-k'>1:</span><span class='ee-v'>12.964657764424185</span></li></ul></details></li><li><details><summary>580: [77.53197083911873, 12.964657128127705]</summary><ul><li><span class='ee-k'>0:</span><span class='ee-v'>77.53197083911873</span></li><li><span class='ee-k'>1:</span><span class='ee-v'>12.964657128127705</span></li></ul></details></li><li><details><summary>581: [77.53177085387253, 12.964637616348082]</summary><ul><li><span class='ee-k'>0:</span><span class='ee-v'>77.53177085387253</span></li><li><span class='ee-k'>1:</span><span class='ee-v'>12.964637616348082</span></li></ul></details></li><li><details><summary>582: [77.5317265020555, 12.964635789158946]</summary><ul><li><span class='ee-k'>0:</span><span class='ee-v'>77.5317265020555</span></li><li><span class='ee-k'>1:</span><span class='ee-v'>12.964635789158946</span></li></ul></details></li><li><details><summary>583: [77.53150935998755, 12.964627737527183]</summary><ul><li><span class='ee-k'>0:</span><span class='ee-v'>77.53150935998755</span></li><li><span class='ee-k'>1:</span><span class='ee-v'>12.964627737527183</span></li></ul></details></li><li><details><summary>584: [77.5314552208017, 12.964626052483684]</summary><ul><li><span class='ee-k'>0:</span><span class='ee-v'>77.5314552208017</span></li><li><span class='ee-k'>1:</span><span class='ee-v'>12.964626052483684</span></li></ul></details></li><li><details><summary>585: [77.53145071741615, 12.96462591198297]</summary><ul><li><span class='ee-k'>0:</span><span class='ee-v'>77.53145071741615</span></li><li><span class='ee-k'>1:</span><span class='ee-v'>12.96462591198297</span></li></ul></details></li><li><details><summary>586: [77.53131584448424, 12.964621714577518]</summary><ul><li><span class='ee-k'>0:</span><span class='ee-v'>77.53131584448424</span></li><li><span class='ee-k'>1:</span><span class='ee-v'>12.964621714577518</span></li></ul></details></li><li><details><summary>587: [77.53085346506313, 12.96461717712098]</summary><ul><li><span class='ee-k'>0:</span><span class='ee-v'>77.53085346506313</span></li><li><span class='ee-k'>1:</span><span class='ee-v'>12.96461717712098</span></li></ul></details></li><li><details><summary>588: [77.53084828375137, 12.96461722751194]</summary><ul><li><span class='ee-k'>0:</span><span class='ee-v'>77.53084828375137</span></li><li><span class='ee-k'>1:</span><span class='ee-v'>12.96461722751194</span></li></ul></details></li><li><details><summary>589: [77.53062671864535, 12.964627287664195]</summary><ul><li><span class='ee-k'>0:</span><span class='ee-v'>77.53062671864535</span></li><li><span class='ee-k'>1:</span><span class='ee-v'>12.964627287664195</span></li></ul></details></li><li><details><summary>590: [77.53050964087006, 12.964664565211674]</summary><ul><li><span class='ee-k'>0:</span><span class='ee-v'>77.53050964087006</span></li><li><span class='ee-k'>1:</span><span class='ee-v'>12.964664565211674</span></li></ul></details></li><li><details><summary>591: [77.53039191885411, 12.964695072907851]</summary><ul><li><span class='ee-k'>0:</span><span class='ee-v'>77.53039191885411</span></li><li><span class='ee-k'>1:</span><span class='ee-v'>12.964695072907851</span></li></ul></details></li><li><details><summary>592: [77.53038736448384, 12.964696268221887]</summary><ul><li><span class='ee-k'>0:</span><span class='ee-v'>77.53038736448384</span></li><li><span class='ee-k'>1:</span><span class='ee-v'>12.964696268221887</span></li></ul></details></li><li><details><summary>593: [77.53038732497603, 12.964696278544288]</summary><ul><li><span class='ee-k'>0:</span><span class='ee-v'>77.53038732497603</span></li><li><span class='ee-k'>1:</span><span class='ee-v'>12.964696278544288</span></li></ul></details></li><li><details><summary>594: [77.52996296535447, 12.964807660752005]</summary><ul><li><span class='ee-k'>0:</span><span class='ee-v'>77.52996296535447</span></li><li><span class='ee-k'>1:</span><span class='ee-v'>12.964807660752005</span></li></ul></details></li><li><details><summary>595: [77.52984813308514, 12.96483926947492]</summary><ul><li><span class='ee-k'>0:</span><span class='ee-v'>77.52984813308514</span></li><li><span class='ee-k'>1:</span><span class='ee-v'>12.96483926947492</span></li></ul></details></li><li><details><summary>596: [77.52949676185364, 12.964937550228393]</summary><ul><li><span class='ee-k'>0:</span><span class='ee-v'>77.52949676185364</span></li><li><span class='ee-k'>1:</span><span class='ee-v'>12.964937550228393</span></li></ul></details></li><li><details><summary>597: [77.52932737973956, 12.964926773855868]</summary><ul><li><span class='ee-k'>0:</span><span class='ee-v'>77.52932737973956</span></li><li><span class='ee-k'>1:</span><span class='ee-v'>12.964926773855868</span></li></ul></details></li><li><details><summary>598: [77.52922482477932, 12.964919865236993]</summary><ul><li><span class='ee-k'>0:</span><span class='ee-v'>77.52922482477932</span></li><li><span class='ee-k'>1:</span><span class='ee-v'>12.964919865236993</span></li></ul></details></li><li><details><summary>599: [77.52850725333134, 12.96484552573306]</summary><ul><li><span class='ee-k'>0:</span><span class='ee-v'>77.52850725333134</span></li><li><span class='ee-k'>1:</span><span class='ee-v'>12.96484552573306</span></li></ul></details></li><li><details><summary>600: [77.52796546523064, 12.964788675471562]</summary><ul><li><span class='ee-k'>0:</span><span class='ee-v'>77.52796546523064</span></li><li><span class='ee-k'>1:</span><span class='ee-v'>12.964788675471562</span></li></ul></details></li><li><details><summary>601: [77.52753202337065, 12.964742065180063]</summary><ul><li><span class='ee-k'>0:</span><span class='ee-v'>77.52753202337065</span></li><li><span class='ee-k'>1:</span><span class='ee-v'>12.964742065180063</span></li></ul></details></li><li><details><summary>602: [77.5271905028872, 12.964698984886384]</summary><ul><li><span class='ee-k'>0:</span><span class='ee-v'>77.5271905028872</span></li><li><span class='ee-k'>1:</span><span class='ee-v'>12.964698984886384</span></li></ul></details></li><li><details><summary>603: [77.52685867860073, 12.964657127241807]</summary><ul><li><span class='ee-k'>0:</span><span class='ee-v'>77.52685867860073</span></li><li><span class='ee-k'>1:</span><span class='ee-v'>12.964657127241807</span></li></ul></details></li><li><details><summary>604: [77.52670763917271, 12.964638265560081]</summary><ul><li><span class='ee-k'>0:</span><span class='ee-v'>77.52670763917271</span></li><li><span class='ee-k'>1:</span><span class='ee-v'>12.964638265560081</span></li></ul></details></li><li><details><summary>605: [77.52670971400214, 12.964615658459712]</summary><ul><li><span class='ee-k'>0:</span><span class='ee-v'>77.52670971400214</span></li><li><span class='ee-k'>1:</span><span class='ee-v'>12.964615658459712</span></li></ul></details></li><li><details><summary>606: [77.52650114986824, 12.964601872577004]</summary><ul><li><span class='ee-k'>0:</span><span class='ee-v'>77.52650114986824</span></li><li><span class='ee-k'>1:</span><span class='ee-v'>12.964601872577004</span></li></ul></details></li><li><details><summary>607: [77.52643374699875, 12.964598009575692]</summary><ul><li><span class='ee-k'>0:</span><span class='ee-v'>77.52643374699875</span></li><li><span class='ee-k'>1:</span><span class='ee-v'>12.964598009575692</span></li></ul></details></li><li><details><summary>608: [77.5264288680524, 12.964456888448124]</summary><ul><li><span class='ee-k'>0:</span><span class='ee-v'>77.5264288680524</span></li><li><span class='ee-k'>1:</span><span class='ee-v'>12.964456888448124</span></li></ul></details></li><li><details><summary>609: [77.52647311760911, 12.964334489275439]</summary><ul><li><span class='ee-k'>0:</span><span class='ee-v'>77.52647311760911</span></li><li><span class='ee-k'>1:</span><span class='ee-v'>12.964334489275439</span></li></ul></details></li><li><details><summary>610: [77.5265406803819, 12.964126033322858]</summary><ul><li><span class='ee-k'>0:</span><span class='ee-v'>77.5265406803819</span></li><li><span class='ee-k'>1:</span><span class='ee-v'>12.964126033322858</span></li></ul></details></li><li><details><summary>611: [77.52659711657311, 12.963956083221635]</summary><ul><li><span class='ee-k'>0:</span><span class='ee-v'>77.52659711657311</span></li><li><span class='ee-k'>1:</span><span class='ee-v'>12.963956083221635</span></li></ul></details></li><li><details><summary>612: [77.52662246463983, 12.963900499079244]</summary><ul><li><span class='ee-k'>0:</span><span class='ee-v'>77.52662246463983</span></li><li><span class='ee-k'>1:</span><span class='ee-v'>12.963900499079244</span></li></ul></details></li><li><details><summary>613: [77.5266561290686, 12.96381321245484]</summary><ul><li><span class='ee-k'>0:</span><span class='ee-v'>77.5266561290686</span></li><li><span class='ee-k'>1:</span><span class='ee-v'>12.96381321245484</span></li></ul></details></li><li><details><summary>614: [77.52669154337876, 12.963728167535901]</summary><ul><li><span class='ee-k'>0:</span><span class='ee-v'>77.52669154337876</span></li><li><span class='ee-k'>1:</span><span class='ee-v'>12.963728167535901</span></li></ul></details></li><li><details><summary>615: [77.52672865057708, 12.963639718136308]</summary><ul><li><span class='ee-k'>0:</span><span class='ee-v'>77.52672865057708</span></li><li><span class='ee-k'>1:</span><span class='ee-v'>12.963639718136308</span></li></ul></details></li><li><details><summary>616: [77.5267314818185, 12.963604707970894]</summary><ul><li><span class='ee-k'>0:</span><span class='ee-v'>77.5267314818185</span></li><li><span class='ee-k'>1:</span><span class='ee-v'>12.963604707970894</span></li></ul></details></li><li><details><summary>617: [77.52673888798012, 12.963513131789924]</summary><ul><li><span class='ee-k'>0:</span><span class='ee-v'>77.52673888798012</span></li><li><span class='ee-k'>1:</span><span class='ee-v'>12.963513131789924</span></li></ul></details></li><li><details><summary>618: [77.52673281200786, 12.963367504915478]</summary><ul><li><span class='ee-k'>0:</span><span class='ee-v'>77.52673281200786</span></li><li><span class='ee-k'>1:</span><span class='ee-v'>12.963367504915478</span></li></ul></details></li><li><details><summary>619: [77.52671006355627, 12.963224298601245]</summary><ul><li><span class='ee-k'>0:</span><span class='ee-v'>77.52671006355627</span></li><li><span class='ee-k'>1:</span><span class='ee-v'>12.963224298601245</span></li></ul></details></li><li><details><summary>620: [77.52662717467788, 12.962998104396375]</summary><ul><li><span class='ee-k'>0:</span><span class='ee-v'>77.52662717467788</span></li><li><span class='ee-k'>1:</span><span class='ee-v'>12.962998104396375</span></li></ul></details></li><li><details><summary>621: [77.5265899710478, 12.962905859040616]</summary><ul><li><span class='ee-k'>0:</span><span class='ee-v'>77.5265899710478</span></li><li><span class='ee-k'>1:</span><span class='ee-v'>12.962905859040616</span></li></ul></details></li><li><details><summary>622: [77.52657518552388, 12.962810008000506]</summary><ul><li><span class='ee-k'>0:</span><span class='ee-v'>77.52657518552388</span></li><li><span class='ee-k'>1:</span><span class='ee-v'>12.962810008000506</span></li></ul></details></li><li><details><summary>623: [77.52657204490023, 12.962784063485838]</summary><ul><li><span class='ee-k'>0:</span><span class='ee-v'>77.52657204490023</span></li><li><span class='ee-k'>1:</span><span class='ee-v'>12.962784063485838</span></li></ul></details></li><li><details><summary>624: [77.52660244913831, 12.962601943306476]</summary><ul><li><span class='ee-k'>0:</span><span class='ee-v'>77.52660244913831</span></li><li><span class='ee-k'>1:</span><span class='ee-v'>12.962601943306476</span></li></ul></details></li><li><details><summary>625: [77.52666585080826, 12.962323508222573]</summary><ul><li><span class='ee-k'>0:</span><span class='ee-v'>77.52666585080826</span></li><li><span class='ee-k'>1:</span><span class='ee-v'>12.962323508222573</span></li></ul></details></li><li><details><summary>626: [77.52671433570873, 12.961993267948854]</summary><ul><li><span class='ee-k'>0:</span><span class='ee-v'>77.52671433570873</span></li><li><span class='ee-k'>1:</span><span class='ee-v'>12.961993267948854</span></li></ul></details></li><li><details><summary>627: [77.52630279196113, 12.962005168236168]</summary><ul><li><span class='ee-k'>0:</span><span class='ee-v'>77.52630279196113</span></li><li><span class='ee-k'>1:</span><span class='ee-v'>12.962005168236168</span></li></ul></details></li><li><details><summary>628: [77.52630422823, 12.962033388001236]</summary><ul><li><span class='ee-k'>0:</span><span class='ee-v'>77.52630422823</span></li><li><span class='ee-k'>1:</span><span class='ee-v'>12.962033388001236</span></li></ul></details></li><li><details><summary>629: [77.52631240690718, 12.962216263028287]</summary><ul><li><span class='ee-k'>0:</span><span class='ee-v'>77.52631240690718</span></li><li><span class='ee-k'>1:</span><span class='ee-v'>12.962216263028287</span></li></ul></details></li><li><details><summary>630: [77.52629974155519, 12.962216385962774]</summary><ul><li><span class='ee-k'>0:</span><span class='ee-v'>77.52629974155519</span></li><li><span class='ee-k'>1:</span><span class='ee-v'>12.962216385962774</span></li></ul></details></li><li><details><summary>631: [77.52575251025377, 12.96207601102262]</summary><ul><li><span class='ee-k'>0:</span><span class='ee-v'>77.52575251025377</span></li><li><span class='ee-k'>1:</span><span class='ee-v'>12.96207601102262</span></li></ul></details></li><li><details><summary>632: [77.52504712817988, 12.961896512567757]</summary><ul><li><span class='ee-k'>0:</span><span class='ee-v'>77.52504712817988</span></li><li><span class='ee-k'>1:</span><span class='ee-v'>12.961896512567757</span></li></ul></details></li><li><details><summary>633: [77.52483353923448, 12.961840987750284]</summary><ul><li><span class='ee-k'>0:</span><span class='ee-v'>77.52483353923448</span></li><li><span class='ee-k'>1:</span><span class='ee-v'>12.961840987750284</span></li></ul></details></li><li><details><summary>634: [77.52439772607138, 12.96173002128865]</summary><ul><li><span class='ee-k'>0:</span><span class='ee-v'>77.52439772607138</span></li><li><span class='ee-k'>1:</span><span class='ee-v'>12.96173002128865</span></li></ul></details></li><li><details><summary>635: [77.52417408215885, 12.96170508584538]</summary><ul><li><span class='ee-k'>0:</span><span class='ee-v'>77.52417408215885</span></li><li><span class='ee-k'>1:</span><span class='ee-v'>12.96170508584538</span></li></ul></details></li><li><details><summary>636: [77.52395100256821, 12.961679015379252]</summary><ul><li><span class='ee-k'>0:</span><span class='ee-v'>77.52395100256821</span></li><li><span class='ee-k'>1:</span><span class='ee-v'>12.961679015379252</span></li></ul></details></li><li><details><summary>637: [77.52382369739394, 12.961687971862126]</summary><ul><li><span class='ee-k'>0:</span><span class='ee-v'>77.52382369739394</span></li><li><span class='ee-k'>1:</span><span class='ee-v'>12.961687971862126</span></li></ul></details></li><li><details><summary>638: [77.52328072436052, 12.961726170778439]</summary><ul><li><span class='ee-k'>0:</span><span class='ee-v'>77.52328072436052</span></li><li><span class='ee-k'>1:</span><span class='ee-v'>12.961726170778439</span></li></ul></details></li><li><details><summary>639: [77.52316207061726, 12.962235528843953]</summary><ul><li><span class='ee-k'>0:</span><span class='ee-v'>77.52316207061726</span></li><li><span class='ee-k'>1:</span><span class='ee-v'>12.962235528843953</span></li></ul></details></li><li><details><summary>640: [77.52315787000778, 12.962218629305413]</summary><ul><li><span class='ee-k'>0:</span><span class='ee-v'>77.52315787000778</span></li><li><span class='ee-k'>1:</span><span class='ee-v'>12.962218629305413</span></li></ul></details></li><li><details><summary>641: [77.52296560452648, 12.96216515491291]</summary><ul><li><span class='ee-k'>0:</span><span class='ee-v'>77.52296560452648</span></li><li><span class='ee-k'>1:</span><span class='ee-v'>12.96216515491291</span></li></ul></details></li><li><details><summary>642: [77.52259620580433, 12.962131466820436]</summary><ul><li><span class='ee-k'>0:</span><span class='ee-v'>77.52259620580433</span></li><li><span class='ee-k'>1:</span><span class='ee-v'>12.962131466820436</span></li></ul></details></li><li><details><summary>643: [77.52238225956816, 12.961983336581127]</summary><ul><li><span class='ee-k'>0:</span><span class='ee-v'>77.52238225956816</span></li><li><span class='ee-k'>1:</span><span class='ee-v'>12.961983336581127</span></li></ul></details></li><li><details><summary>644: [77.5222685517049, 12.961892778543486]</summary><ul><li><span class='ee-k'>0:</span><span class='ee-v'>77.5222685517049</span></li><li><span class='ee-k'>1:</span><span class='ee-v'>12.961892778543486</span></li></ul></details></li><li><details><summary>645: [77.52226037299562, 12.961886264194641]</summary><ul><li><span class='ee-k'>0:</span><span class='ee-v'>77.52226037299562</span></li><li><span class='ee-k'>1:</span><span class='ee-v'>12.961886264194641</span></li></ul></details></li><li><details><summary>646: [77.52213094276455, 12.961784713093625]</summary><ul><li><span class='ee-k'>0:</span><span class='ee-v'>77.52213094276455</span></li><li><span class='ee-k'>1:</span><span class='ee-v'>12.961784713093625</span></li></ul></details></li><li><details><summary>647: [77.52211818917303, 12.961774706844013]</summary><ul><li><span class='ee-k'>0:</span><span class='ee-v'>77.52211818917303</span></li><li><span class='ee-k'>1:</span><span class='ee-v'>12.961774706844013</span></li></ul></details></li><li><details><summary>648: [77.52196875332801, 12.961743403627816]</summary><ul><li><span class='ee-k'>0:</span><span class='ee-v'>77.52196875332801</span></li><li><span class='ee-k'>1:</span><span class='ee-v'>12.961743403627816</span></li></ul></details></li><li><details><summary>649: [77.52184717853223, 12.96173441741393]</summary><ul><li><span class='ee-k'>0:</span><span class='ee-v'>77.52184717853223</span></li><li><span class='ee-k'>1:</span><span class='ee-v'>12.96173441741393</span></li></ul></details></li><li><details><summary>650: [77.5217296449996, 12.961726521340012]</summary><ul><li><span class='ee-k'>0:</span><span class='ee-v'>77.5217296449996</span></li><li><span class='ee-k'>1:</span><span class='ee-v'>12.961726521340012</span></li></ul></details></li><li><details><summary>651: [77.52149620699142, 12.96175814603247]</summary><ul><li><span class='ee-k'>0:</span><span class='ee-v'>77.52149620699142</span></li><li><span class='ee-k'>1:</span><span class='ee-v'>12.96175814603247</span></li></ul></details></li><li><details><summary>652: [77.52130507493895, 12.96175999756148]</summary><ul><li><span class='ee-k'>0:</span><span class='ee-v'>77.52130507493895</span></li><li><span class='ee-k'>1:</span><span class='ee-v'>12.96175999756148</span></li></ul></details></li><li><details><summary>653: [77.52124980783393, 12.961760532917271]</summary><ul><li><span class='ee-k'>0:</span><span class='ee-v'>77.52124980783393</span></li><li><span class='ee-k'>1:</span><span class='ee-v'>12.961760532917271</span></li></ul></details></li><li><details><summary>654: [77.5208792167909, 12.96177993335318]</summary><ul><li><span class='ee-k'>0:</span><span class='ee-v'>77.5208792167909</span></li><li><span class='ee-k'>1:</span><span class='ee-v'>12.96177993335318</span></li></ul></details></li><li><details><summary>655: [77.52064444517382, 12.96179350057977]</summary><ul><li><span class='ee-k'>0:</span><span class='ee-v'>77.52064444517382</span></li><li><span class='ee-k'>1:</span><span class='ee-v'>12.96179350057977</span></li></ul></details></li><li><details><summary>656: [77.52063633577664, 12.9617314647145]</summary><ul><li><span class='ee-k'>0:</span><span class='ee-v'>77.52063633577664</span></li><li><span class='ee-k'>1:</span><span class='ee-v'>12.9617314647145</span></li></ul></details></li><li><details><summary>657: [77.5205127664539, 12.961295601814975]</summary><ul><li><span class='ee-k'>0:</span><span class='ee-v'>77.5205127664539</span></li><li><span class='ee-k'>1:</span><span class='ee-v'>12.961295601814975</span></li></ul></details></li><li><details><summary>658: [77.52046881929896, 12.961105166734349]</summary><ul><li><span class='ee-k'>0:</span><span class='ee-v'>77.52046881929896</span></li><li><span class='ee-k'>1:</span><span class='ee-v'>12.961105166734349</span></li></ul></details></li><li><details><summary>659: [77.52040178137294, 12.96095107011576]</summary><ul><li><span class='ee-k'>0:</span><span class='ee-v'>77.52040178137294</span></li><li><span class='ee-k'>1:</span><span class='ee-v'>12.96095107011576</span></li></ul></details></li><li><details><summary>660: [77.52036803330004, 12.960873495926942]</summary><ul><li><span class='ee-k'>0:</span><span class='ee-v'>77.52036803330004</span></li><li><span class='ee-k'>1:</span><span class='ee-v'>12.960873495926942</span></li></ul></details></li><li><details><summary>661: [77.52036829892323, 12.960838477088247]</summary><ul><li><span class='ee-k'>0:</span><span class='ee-v'>77.52036829892323</span></li><li><span class='ee-k'>1:</span><span class='ee-v'>12.960838477088247</span></li></ul></details></li><li><details><summary>662: [77.52037025914233, 12.960579842598168]</summary><ul><li><span class='ee-k'>0:</span><span class='ee-v'>77.52037025914233</span></li><li><span class='ee-k'>1:</span><span class='ee-v'>12.960579842598168</span></li></ul></details></li><li><details><summary>663: [77.52032041558958, 12.960489976954799]</summary><ul><li><span class='ee-k'>0:</span><span class='ee-v'>77.52032041558958</span></li><li><span class='ee-k'>1:</span><span class='ee-v'>12.960489976954799</span></li></ul></details></li><li><details><summary>664: [77.52027469288191, 12.960409106222249]</summary><ul><li><span class='ee-k'>0:</span><span class='ee-v'>77.52027469288191</span></li><li><span class='ee-k'>1:</span><span class='ee-v'>12.960409106222249</span></li></ul></details></li><li><details><summary>665: [77.51984857854784, 12.960117340872296]</summary><ul><li><span class='ee-k'>0:</span><span class='ee-v'>77.51984857854784</span></li><li><span class='ee-k'>1:</span><span class='ee-v'>12.960117340872296</span></li></ul></details></li><li><details><summary>666: [77.51941383737085, 12.95979336765293]</summary><ul><li><span class='ee-k'>0:</span><span class='ee-v'>77.51941383737085</span></li><li><span class='ee-k'>1:</span><span class='ee-v'>12.95979336765293</span></li></ul></details></li><li><details><summary>667: [77.51940324426279, 12.959785473446052]</summary><ul><li><span class='ee-k'>0:</span><span class='ee-v'>77.51940324426279</span></li><li><span class='ee-k'>1:</span><span class='ee-v'>12.959785473446052</span></li></ul></details></li><li><details><summary>668: [77.51939377886924, 12.959778419405577]</summary><ul><li><span class='ee-k'>0:</span><span class='ee-v'>77.51939377886924</span></li><li><span class='ee-k'>1:</span><span class='ee-v'>12.959778419405577</span></li></ul></details></li><li><details><summary>669: [77.51932173676556, 12.959660539887869]</summary><ul><li><span class='ee-k'>0:</span><span class='ee-v'>77.51932173676556</span></li><li><span class='ee-k'>1:</span><span class='ee-v'>12.959660539887869</span></li></ul></details></li><li><details><summary>670: [77.51932177539773, 12.959660534093096]</summary><ul><li><span class='ee-k'>0:</span><span class='ee-v'>77.51932177539773</span></li><li><span class='ee-k'>1:</span><span class='ee-v'>12.959660534093096</span></li></ul></details></li><li><details><summary>671: [77.5193364936406, 12.959658173602682]</summary><ul><li><span class='ee-k'>0:</span><span class='ee-v'>77.5193364936406</span></li><li><span class='ee-k'>1:</span><span class='ee-v'>12.959658173602682</span></li></ul></details></li><li><details><summary>672: [77.51937660896877, 12.959651740167361]</summary><ul><li><span class='ee-k'>0:</span><span class='ee-v'>77.51937660896877</span></li><li><span class='ee-k'>1:</span><span class='ee-v'>12.959651740167361</span></li></ul></details></li><li><details><summary>673: [77.51952411326006, 12.959628083295344]</summary><ul><li><span class='ee-k'>0:</span><span class='ee-v'>77.51952411326006</span></li><li><span class='ee-k'>1:</span><span class='ee-v'>12.959628083295344</span></li></ul></details></li><li><details><summary>674: [77.51978220252096, 12.95958605788421]</summary><ul><li><span class='ee-k'>0:</span><span class='ee-v'>77.51978220252096</span></li><li><span class='ee-k'>1:</span><span class='ee-v'>12.95958605788421</span></li></ul></details></li><li><details><summary>675: [77.52015930128665, 12.959527069199341]</summary><ul><li><span class='ee-k'>0:</span><span class='ee-v'>77.52015930128665</span></li><li><span class='ee-k'>1:</span><span class='ee-v'>12.959527069199341</span></li></ul></details></li><li><details><summary>676: [77.52052376860283, 12.95947159035674]</summary><ul><li><span class='ee-k'>0:</span><span class='ee-v'>77.52052376860283</span></li><li><span class='ee-k'>1:</span><span class='ee-v'>12.95947159035674</span></li></ul></details></li><li><details><summary>677: [77.52070252526616, 12.95944162571568]</summary><ul><li><span class='ee-k'>0:</span><span class='ee-v'>77.52070252526616</span></li><li><span class='ee-k'>1:</span><span class='ee-v'>12.95944162571568</span></li></ul></details></li><li><details><summary>678: [77.5210491456923, 12.959386318985475]</summary><ul><li><span class='ee-k'>0:</span><span class='ee-v'>77.5210491456923</span></li><li><span class='ee-k'>1:</span><span class='ee-v'>12.959386318985475</span></li></ul></details></li><li><details><summary>679: [77.5215769092048, 12.959290907212608]</summary><ul><li><span class='ee-k'>0:</span><span class='ee-v'>77.5215769092048</span></li><li><span class='ee-k'>1:</span><span class='ee-v'>12.959290907212608</span></li></ul></details></li><li><details><summary>680: [77.52164040884256, 12.959279427771758]</summary><ul><li><span class='ee-k'>0:</span><span class='ee-v'>77.52164040884256</span></li><li><span class='ee-k'>1:</span><span class='ee-v'>12.959279427771758</span></li></ul></details></li><li><details><summary>681: [77.52170104874446, 12.959268464801072]</summary><ul><li><span class='ee-k'>0:</span><span class='ee-v'>77.52170104874446</span></li><li><span class='ee-k'>1:</span><span class='ee-v'>12.959268464801072</span></li></ul></details></li><li><details><summary>682: [77.52170146161278, 12.959268390330216]</summary><ul><li><span class='ee-k'>0:</span><span class='ee-v'>77.52170146161278</span></li><li><span class='ee-k'>1:</span><span class='ee-v'>12.959268390330216</span></li></ul></details></li><li><details><summary>683: [77.52171580159822, 12.959265797568056]</summary><ul><li><span class='ee-k'>0:</span><span class='ee-v'>77.52171580159822</span></li><li><span class='ee-k'>1:</span><span class='ee-v'>12.959265797568056</span></li></ul></details></li><li><details><summary>684: [77.52252203575819, 12.959169897202088]</summary><ul><li><span class='ee-k'>0:</span><span class='ee-v'>77.52252203575819</span></li><li><span class='ee-k'>1:</span><span class='ee-v'>12.959169897202088</span></li></ul></details></li><li><details><summary>685: [77.52262442571825, 12.959157800369782]</summary><ul><li><span class='ee-k'>0:</span><span class='ee-v'>77.52262442571825</span></li><li><span class='ee-k'>1:</span><span class='ee-v'>12.959157800369782</span></li></ul></details></li><li><details><summary>686: [77.52269422194124, 12.959149553762675]</summary><ul><li><span class='ee-k'>0:</span><span class='ee-v'>77.52269422194124</span></li><li><span class='ee-k'>1:</span><span class='ee-v'>12.959149553762675</span></li></ul></details></li><li><details><summary>687: [77.5227290266619, 12.95914544174741]</summary><ul><li><span class='ee-k'>0:</span><span class='ee-v'>77.5227290266619</span></li><li><span class='ee-k'>1:</span><span class='ee-v'>12.95914544174741</span></li></ul></details></li><li><details><summary>688: [77.5227793075025, 12.959139501086765]</summary><ul><li><span class='ee-k'>0:</span><span class='ee-v'>77.5227793075025</span></li><li><span class='ee-k'>1:</span><span class='ee-v'>12.959139501086765</span></li></ul></details></li><li><details><summary>689: [77.52280324120817, 12.959136673451649]</summary><ul><li><span class='ee-k'>0:</span><span class='ee-v'>77.52280324120817</span></li><li><span class='ee-k'>1:</span><span class='ee-v'>12.959136673451649</span></li></ul></details></li><li><details><summary>690: [77.52339670789132, 12.959066554975237]</summary><ul><li><span class='ee-k'>0:</span><span class='ee-v'>77.52339670789132</span></li><li><span class='ee-k'>1:</span><span class='ee-v'>12.959066554975237</span></li></ul></details></li><li><details><summary>691: [77.52364460345984, 12.959041565000499]</summary><ul><li><span class='ee-k'>0:</span><span class='ee-v'>77.52364460345984</span></li><li><span class='ee-k'>1:</span><span class='ee-v'>12.959041565000499</span></li></ul></details></li><li><details><summary>692: [77.52401385602435, 12.959004104729031]</summary><ul><li><span class='ee-k'>0:</span><span class='ee-v'>77.52401385602435</span></li><li><span class='ee-k'>1:</span><span class='ee-v'>12.959004104729031</span></li></ul></details></li><li><details><summary>693: [77.5245030066257, 12.958923695363334]</summary><ul><li><span class='ee-k'>0:</span><span class='ee-v'>77.5245030066257</span></li><li><span class='ee-k'>1:</span><span class='ee-v'>12.958923695363334</span></li></ul></details></li><li><details><summary>694: [77.52517947383929, 12.958748861640705]</summary><ul><li><span class='ee-k'>0:</span><span class='ee-v'>77.52517947383929</span></li><li><span class='ee-k'>1:</span><span class='ee-v'>12.958748861640705</span></li></ul></details></li><li><details><summary>695: [77.52526905378474, 12.958725405748972]</summary><ul><li><span class='ee-k'>0:</span><span class='ee-v'>77.52526905378474</span></li><li><span class='ee-k'>1:</span><span class='ee-v'>12.958725405748972</span></li></ul></details></li><li><details><summary>696: [77.52544916000367, 12.95865815641699]</summary><ul><li><span class='ee-k'>0:</span><span class='ee-v'>77.52544916000367</span></li><li><span class='ee-k'>1:</span><span class='ee-v'>12.95865815641699</span></li></ul></details></li><li><details><summary>697: [77.52580361519423, 12.958523713283945]</summary><ul><li><span class='ee-k'>0:</span><span class='ee-v'>77.52580361519423</span></li><li><span class='ee-k'>1:</span><span class='ee-v'>12.958523713283945</span></li></ul></details></li><li><details><summary>698: [77.52609440763979, 12.958413603773662]</summary><ul><li><span class='ee-k'>0:</span><span class='ee-v'>77.52609440763979</span></li><li><span class='ee-k'>1:</span><span class='ee-v'>12.958413603773662</span></li></ul></details></li><li><details><summary>699: [77.52634189780687, 12.958291491347536]</summary><ul><li><span class='ee-k'>0:</span><span class='ee-v'>77.52634189780687</span></li><li><span class='ee-k'>1:</span><span class='ee-v'>12.958291491347536</span></li></ul></details></li><li><details><summary>700: [77.52688440875122, 12.958021958941181]</summary><ul><li><span class='ee-k'>0:</span><span class='ee-v'>77.52688440875122</span></li><li><span class='ee-k'>1:</span><span class='ee-v'>12.958021958941181</span></li></ul></details></li><li><details><summary>701: [77.52774280559947, 12.9575618872576]</summary><ul><li><span class='ee-k'>0:</span><span class='ee-v'>77.52774280559947</span></li><li><span class='ee-k'>1:</span><span class='ee-v'>12.9575618872576</span></li></ul></details></li><li><details><summary>702: [77.52774529274153, 12.95756032900529]</summary><ul><li><span class='ee-k'>0:</span><span class='ee-v'>77.52774529274153</span></li><li><span class='ee-k'>1:</span><span class='ee-v'>12.95756032900529</span></li></ul></details></li><li><details><summary>703: [77.52775195959599, 12.957556151647523]</summary><ul><li><span class='ee-k'>0:</span><span class='ee-v'>77.52775195959599</span></li><li><span class='ee-k'>1:</span><span class='ee-v'>12.957556151647523</span></li></ul></details></li><li><details><summary>704: [77.5280446022792, 12.957344381081862]</summary><ul><li><span class='ee-k'>0:</span><span class='ee-v'>77.5280446022792</span></li><li><span class='ee-k'>1:</span><span class='ee-v'>12.957344381081862</span></li></ul></details></li><li><details><summary>705: [77.52838526000008, 12.957098263601155]</summary><ul><li><span class='ee-k'>0:</span><span class='ee-v'>77.52838526000008</span></li><li><span class='ee-k'>1:</span><span class='ee-v'>12.957098263601155</span></li></ul></details></li><li><details><summary>706: [77.52840697643542, 12.957082241859583]</summary><ul><li><span class='ee-k'>0:</span><span class='ee-v'>77.52840697643542</span></li><li><span class='ee-k'>1:</span><span class='ee-v'>12.957082241859583</span></li></ul></details></li><li><details><summary>707: [77.52850708856887, 12.956961558899392]</summary><ul><li><span class='ee-k'>0:</span><span class='ee-v'>77.52850708856887</span></li><li><span class='ee-k'>1:</span><span class='ee-v'>12.956961558899392</span></li></ul></details></li><li><details><summary>708: [77.52863117414255, 12.956820314856495]</summary><ul><li><span class='ee-k'>0:</span><span class='ee-v'>77.52863117414255</span></li><li><span class='ee-k'>1:</span><span class='ee-v'>12.956820314856495</span></li></ul></details></li><li><details><summary>709: [77.52862880300074, 12.95681356180336]</summary><ul><li><span class='ee-k'>0:</span><span class='ee-v'>77.52862880300074</span></li><li><span class='ee-k'>1:</span><span class='ee-v'>12.95681356180336</span></li></ul></details></li><li><details><summary>710: [77.52857056760409, 12.956691028549063]</summary><ul><li><span class='ee-k'>0:</span><span class='ee-v'>77.52857056760409</span></li><li><span class='ee-k'>1:</span><span class='ee-v'>12.956691028549063</span></li></ul></details></li><li><details><summary>711: [77.52849623021588, 12.9565133136379]</summary><ul><li><span class='ee-k'>0:</span><span class='ee-v'>77.52849623021588</span></li><li><span class='ee-k'>1:</span><span class='ee-v'>12.9565133136379</span></li></ul></details></li><li><details><summary>712: [77.52809032905704, 12.955237769564636]</summary><ul><li><span class='ee-k'>0:</span><span class='ee-v'>77.52809032905704</span></li><li><span class='ee-k'>1:</span><span class='ee-v'>12.955237769564636</span></li></ul></details></li><li><details><summary>713: [77.52807347012477, 12.955184788862613]</summary><ul><li><span class='ee-k'>0:</span><span class='ee-v'>77.52807347012477</span></li><li><span class='ee-k'>1:</span><span class='ee-v'>12.955184788862613</span></li></ul></details></li><li><details><summary>714: [77.52795713808047, 12.954839208561113]</summary><ul><li><span class='ee-k'>0:</span><span class='ee-v'>77.52795713808047</span></li><li><span class='ee-k'>1:</span><span class='ee-v'>12.954839208561113</span></li></ul></details></li><li><details><summary>715: [77.52791559834516, 12.95471651293388]</summary><ul><li><span class='ee-k'>0:</span><span class='ee-v'>77.52791559834516</span></li><li><span class='ee-k'>1:</span><span class='ee-v'>12.95471651293388</span></li></ul></details></li><li><details><summary>716: [77.5276110509268, 12.95386229416192]</summary><ul><li><span class='ee-k'>0:</span><span class='ee-v'>77.5276110509268</span></li><li><span class='ee-k'>1:</span><span class='ee-v'>12.95386229416192</span></li></ul></details></li><li><details><summary>717: [77.52754897065287, 12.953664669933968]</summary><ul><li><span class='ee-k'>0:</span><span class='ee-v'>77.52754897065287</span></li><li><span class='ee-k'>1:</span><span class='ee-v'>12.953664669933968</span></li></ul></details></li><li><details><summary>718: [77.52750635931156, 12.953529023263743]</summary><ul><li><span class='ee-k'>0:</span><span class='ee-v'>77.52750635931156</span></li><li><span class='ee-k'>1:</span><span class='ee-v'>12.953529023263743</span></li></ul></details></li><li><details><summary>719: [77.52747497672445, 12.953422554759227]</summary><ul><li><span class='ee-k'>0:</span><span class='ee-v'>77.52747497672445</span></li><li><span class='ee-k'>1:</span><span class='ee-v'>12.953422554759227</span></li></ul></details></li><li><details><summary>720: [77.52744793788516, 12.953330824997254]</summary><ul><li><span class='ee-k'>0:</span><span class='ee-v'>77.52744793788516</span></li><li><span class='ee-k'>1:</span><span class='ee-v'>12.953330824997254</span></li></ul></details></li><li><details><summary>721: [77.52738232366795, 12.95310446279916]</summary><ul><li><span class='ee-k'>0:</span><span class='ee-v'>77.52738232366795</span></li><li><span class='ee-k'>1:</span><span class='ee-v'>12.95310446279916</span></li></ul></details></li><li><details><summary>722: [77.52733999253502, 12.952960317034144]</summary><ul><li><span class='ee-k'>0:</span><span class='ee-v'>77.52733999253502</span></li><li><span class='ee-k'>1:</span><span class='ee-v'>12.952960317034144</span></li></ul></details></li><li><details><summary>723: [77.52733448110082, 12.952927619422914]</summary><ul><li><span class='ee-k'>0:</span><span class='ee-v'>77.52733448110082</span></li><li><span class='ee-k'>1:</span><span class='ee-v'>12.952927619422914</span></li></ul></details></li><li><details><summary>724: [77.52729762815065, 12.952698719373277]</summary><ul><li><span class='ee-k'>0:</span><span class='ee-v'>77.52729762815065</span></li><li><span class='ee-k'>1:</span><span class='ee-v'>12.952698719373277</span></li></ul></details></li><li><details><summary>725: [77.52729575304173, 12.95268405604317]</summary><ul><li><span class='ee-k'>0:</span><span class='ee-v'>77.52729575304173</span></li><li><span class='ee-k'>1:</span><span class='ee-v'>12.95268405604317</span></li></ul></details></li><li><details><summary>726: [77.52722391117965, 12.952239789972554]</summary><ul><li><span class='ee-k'>0:</span><span class='ee-v'>77.52722391117965</span></li><li><span class='ee-k'>1:</span><span class='ee-v'>12.952239789972554</span></li></ul></details></li><li><details><summary>727: [77.52720792992373, 12.952139433047046]</summary><ul><li><span class='ee-k'>0:</span><span class='ee-v'>77.52720792992373</span></li><li><span class='ee-k'>1:</span><span class='ee-v'>12.952139433047046</span></li></ul></details></li><li><details><summary>728: [77.52719025583568, 12.95204248058738]</summary><ul><li><span class='ee-k'>0:</span><span class='ee-v'>77.52719025583568</span></li><li><span class='ee-k'>1:</span><span class='ee-v'>12.95204248058738</span></li></ul></details></li><li><details><summary>729: [77.52714999481567, 12.951818130918454]</summary><ul><li><span class='ee-k'>0:</span><span class='ee-v'>77.52714999481567</span></li><li><span class='ee-k'>1:</span><span class='ee-v'>12.951818130918454</span></li></ul></details></li><li><details><summary>730: [77.52714512746947, 12.951792203132712]</summary><ul><li><span class='ee-k'>0:</span><span class='ee-v'>77.52714512746947</span></li><li><span class='ee-k'>1:</span><span class='ee-v'>12.951792203132712</span></li></ul></details></li><li><details><summary>731: [77.52711279449663, 12.951611821105606]</summary><ul><li><span class='ee-k'>0:</span><span class='ee-v'>77.52711279449663</span></li><li><span class='ee-k'>1:</span><span class='ee-v'>12.951611821105606</span></li></ul></details></li><li><details><summary>732: [77.52703475788957, 12.951181167123716]</summary><ul><li><span class='ee-k'>0:</span><span class='ee-v'>77.52703475788957</span></li><li><span class='ee-k'>1:</span><span class='ee-v'>12.951181167123716</span></li></ul></details></li><li><details><summary>733: [77.52703412527543, 12.951175526518949]</summary><ul><li><span class='ee-k'>0:</span><span class='ee-v'>77.52703412527543</span></li><li><span class='ee-k'>1:</span><span class='ee-v'>12.951175526518949</span></li></ul></details></li><li><details><summary>734: [77.52702864812898, 12.95114621659641]</summary><ul><li><span class='ee-k'>0:</span><span class='ee-v'>77.52702864812898</span></li><li><span class='ee-k'>1:</span><span class='ee-v'>12.95114621659641</span></li></ul></details></li><li><details><summary>735: [77.5269843236823, 12.950918518213914]</summary><ul><li><span class='ee-k'>0:</span><span class='ee-v'>77.5269843236823</span></li><li><span class='ee-k'>1:</span><span class='ee-v'>12.950918518213914</span></li></ul></details></li><li><details><summary>736: [77.5269387341372, 12.950679538593795]</summary><ul><li><span class='ee-k'>0:</span><span class='ee-v'>77.5269387341372</span></li><li><span class='ee-k'>1:</span><span class='ee-v'>12.950679538593795</span></li></ul></details></li><li><details><summary>737: [77.5269108070789, 12.950536382240239]</summary><ul><li><span class='ee-k'>0:</span><span class='ee-v'>77.5269108070789</span></li><li><span class='ee-k'>1:</span><span class='ee-v'>12.950536382240239</span></li></ul></details></li><li><details><summary>738: [77.52689726794775, 12.950442761383176]</summary><ul><li><span class='ee-k'>0:</span><span class='ee-v'>77.52689726794775</span></li><li><span class='ee-k'>1:</span><span class='ee-v'>12.950442761383176</span></li></ul></details></li><li><details><summary>739: [77.52686318961801, 12.950210462405348]</summary><ul><li><span class='ee-k'>0:</span><span class='ee-v'>77.52686318961801</span></li><li><span class='ee-k'>1:</span><span class='ee-v'>12.950210462405348</span></li></ul></details></li><li><details><summary>740: [77.52684281473006, 12.950074008859033]</summary><ul><li><span class='ee-k'>0:</span><span class='ee-v'>77.52684281473006</span></li><li><span class='ee-k'>1:</span><span class='ee-v'>12.950074008859033</span></li></ul></details></li><li><details><summary>741: [77.52679210287987, 12.94972666136041]</summary><ul><li><span class='ee-k'>0:</span><span class='ee-v'>77.52679210287987</span></li><li><span class='ee-k'>1:</span><span class='ee-v'>12.94972666136041</span></li></ul></details></li><li><details><summary>742: [77.52679084906825, 12.949716509383444]</summary><ul><li><span class='ee-k'>0:</span><span class='ee-v'>77.52679084906825</span></li><li><span class='ee-k'>1:</span><span class='ee-v'>12.949716509383444</span></li></ul></details></li><li><details><summary>743: [77.52670735995618, 12.94925880356675]</summary><ul><li><span class='ee-k'>0:</span><span class='ee-v'>77.52670735995618</span></li><li><span class='ee-k'>1:</span><span class='ee-v'>12.94925880356675</span></li></ul></details></li><li><details><summary>744: [77.52668726995208, 12.949150580929526]</summary><ul><li><span class='ee-k'>0:</span><span class='ee-v'>77.52668726995208</span></li><li><span class='ee-k'>1:</span><span class='ee-v'>12.949150580929526</span></li></ul></details></li><li><details><summary>745: [77.52667438488821, 12.94890225276593]</summary><ul><li><span class='ee-k'>0:</span><span class='ee-v'>77.52667438488821</span></li><li><span class='ee-k'>1:</span><span class='ee-v'>12.94890225276593</span></li></ul></details></li><li><details><summary>746: [77.52666226033091, 12.948668591525434]</summary><ul><li><span class='ee-k'>0:</span><span class='ee-v'>77.52666226033091</span></li><li><span class='ee-k'>1:</span><span class='ee-v'>12.948668591525434</span></li></ul></details></li><li><details><summary>747: [77.52664886366354, 12.948424782087843]</summary><ul><li><span class='ee-k'>0:</span><span class='ee-v'>77.52664886366354</span></li><li><span class='ee-k'>1:</span><span class='ee-v'>12.948424782087843</span></li></ul></details></li><li><details><summary>748: [77.52664310854338, 12.948310773660893]</summary><ul><li><span class='ee-k'>0:</span><span class='ee-v'>77.52664310854338</span></li><li><span class='ee-k'>1:</span><span class='ee-v'>12.948310773660893</span></li></ul></details></li><li><details><summary>749: [77.5266430630073, 12.948306256706822]</summary><ul><li><span class='ee-k'>0:</span><span class='ee-v'>77.5266430630073</span></li><li><span class='ee-k'>1:</span><span class='ee-v'>12.948306256706822</span></li></ul></details></li><li><details><summary>750: [77.52664677546579, 12.94816053469257]</summary><ul><li><span class='ee-k'>0:</span><span class='ee-v'>77.52664677546579</span></li><li><span class='ee-k'>1:</span><span class='ee-v'>12.94816053469257</span></li></ul></details></li><li><details><summary>751: [77.52664993503875, 12.94801707673735]</summary><ul><li><span class='ee-k'>0:</span><span class='ee-v'>77.52664993503875</span></li><li><span class='ee-k'>1:</span><span class='ee-v'>12.94801707673735</span></li></ul></details></li><li><details><summary>752: [77.52654584711769, 12.94728626796048]</summary><ul><li><span class='ee-k'>0:</span><span class='ee-v'>77.52654584711769</span></li><li><span class='ee-k'>1:</span><span class='ee-v'>12.94728626796048</span></li></ul></details></li><li><details><summary>753: [77.52653477800935, 12.947184775438977]</summary><ul><li><span class='ee-k'>0:</span><span class='ee-v'>77.52653477800935</span></li><li><span class='ee-k'>1:</span><span class='ee-v'>12.947184775438977</span></li></ul></details></li><li><details><summary>754: [77.52645196456672, 12.946425484894082]</summary><ul><li><span class='ee-k'>0:</span><span class='ee-v'>77.52645196456672</span></li><li><span class='ee-k'>1:</span><span class='ee-v'>12.946425484894082</span></li></ul></details></li><li><details><summary>755: [77.52642945207585, 12.946362459616092]</summary><ul><li><span class='ee-k'>0:</span><span class='ee-v'>77.52642945207585</span></li><li><span class='ee-k'>1:</span><span class='ee-v'>12.946362459616092</span></li></ul></details></li><li><details><summary>756: [77.52638908392775, 12.945875879221987]</summary><ul><li><span class='ee-k'>0:</span><span class='ee-v'>77.52638908392775</span></li><li><span class='ee-k'>1:</span><span class='ee-v'>12.945875879221987</span></li></ul></details></li><li><details><summary>757: [77.52638357916499, 12.945809523239737]</summary><ul><li><span class='ee-k'>0:</span><span class='ee-v'>77.52638357916499</span></li><li><span class='ee-k'>1:</span><span class='ee-v'>12.945809523239737</span></li></ul></details></li><li><details><summary>758: [77.52638702174501, 12.945808360513814]</summary><ul><li><span class='ee-k'>0:</span><span class='ee-v'>77.52638702174501</span></li><li><span class='ee-k'>1:</span><span class='ee-v'>12.945808360513814</span></li></ul></details></li><li><details><summary>759: [77.52646740929941, 12.945787252838372]</summary><ul><li><span class='ee-k'>0:</span><span class='ee-v'>77.52646740929941</span></li><li><span class='ee-k'>1:</span><span class='ee-v'>12.945787252838372</span></li></ul></details></li><li><details><summary>760: [77.52669164651037, 12.945738896396572]</summary><ul><li><span class='ee-k'>0:</span><span class='ee-v'>77.52669164651037</span></li><li><span class='ee-k'>1:</span><span class='ee-v'>12.945738896396572</span></li></ul></details></li><li><details><summary>761: [77.52706780117002, 12.945657779080848]</summary><ul><li><span class='ee-k'>0:</span><span class='ee-v'>77.52706780117002</span></li><li><span class='ee-k'>1:</span><span class='ee-v'>12.945657779080848</span></li></ul></details></li><li><details><summary>762: [77.52742998170348, 12.945579674379259]</summary><ul><li><span class='ee-k'>0:</span><span class='ee-v'>77.52742998170348</span></li><li><span class='ee-k'>1:</span><span class='ee-v'>12.945579674379259</span></li></ul></details></li><li><details><summary>763: [77.5279150654341, 12.945475065115762]</summary><ul><li><span class='ee-k'>0:</span><span class='ee-v'>77.5279150654341</span></li><li><span class='ee-k'>1:</span><span class='ee-v'>12.945475065115762</span></li></ul></details></li><li><details><summary>764: [77.52796600298115, 12.945445207921676]</summary><ul><li><span class='ee-k'>0:</span><span class='ee-v'>77.52796600298115</span></li><li><span class='ee-k'>1:</span><span class='ee-v'>12.945445207921676</span></li></ul></details></li><li><details><summary>765: [77.52801881670332, 12.945315949890883]</summary><ul><li><span class='ee-k'>0:</span><span class='ee-v'>77.52801881670332</span></li><li><span class='ee-k'>1:</span><span class='ee-v'>12.945315949890883</span></li></ul></details></li><li><details><summary>766: [77.52789026396225, 12.945185063237648]</summary><ul><li><span class='ee-k'>0:</span><span class='ee-v'>77.52789026396225</span></li><li><span class='ee-k'>1:</span><span class='ee-v'>12.945185063237648</span></li></ul></details></li><li><details><summary>767: [77.52756689636342, 12.944860688849982]</summary><ul><li><span class='ee-k'>0:</span><span class='ee-v'>77.52756689636342</span></li><li><span class='ee-k'>1:</span><span class='ee-v'>12.944860688849982</span></li></ul></details></li><li><details><summary>768: [77.52718037322533, 12.944496269804118]</summary><ul><li><span class='ee-k'>0:</span><span class='ee-v'>77.52718037322533</span></li><li><span class='ee-k'>1:</span><span class='ee-v'>12.944496269804118</span></li></ul></details></li><li><details><summary>769: [77.52693975219059, 12.944270474596236]</summary><ul><li><span class='ee-k'>0:</span><span class='ee-v'>77.52693975219059</span></li><li><span class='ee-k'>1:</span><span class='ee-v'>12.944270474596236</span></li></ul></details></li><li><details><summary>770: [77.52676770768409, 12.944108387113102]</summary><ul><li><span class='ee-k'>0:</span><span class='ee-v'>77.52676770768409</span></li><li><span class='ee-k'>1:</span><span class='ee-v'>12.944108387113102</span></li></ul></details></li><li><details><summary>771: [77.52653812725148, 12.943892647595181]</summary><ul><li><span class='ee-k'>0:</span><span class='ee-v'>77.52653812725148</span></li><li><span class='ee-k'>1:</span><span class='ee-v'>12.943892647595181</span></li></ul></details></li><li><details><summary>772: [77.52649138067164, 12.94382421136838]</summary><ul><li><span class='ee-k'>0:</span><span class='ee-v'>77.52649138067164</span></li><li><span class='ee-k'>1:</span><span class='ee-v'>12.94382421136838</span></li></ul></details></li><li><details><summary>773: [77.52647559901018, 12.943800648022803]</summary><ul><li><span class='ee-k'>0:</span><span class='ee-v'>77.52647559901018</span></li><li><span class='ee-k'>1:</span><span class='ee-v'>12.943800648022803</span></li></ul></details></li><li><details><summary>774: [77.52631841511842, 12.94357065509816]</summary><ul><li><span class='ee-k'>0:</span><span class='ee-v'>77.52631841511842</span></li><li><span class='ee-k'>1:</span><span class='ee-v'>12.94357065509816</span></li></ul></details></li><li><details><summary>775: [77.52630322144594, 12.943548215386015]</summary><ul><li><span class='ee-k'>0:</span><span class='ee-v'>77.52630322144594</span></li><li><span class='ee-k'>1:</span><span class='ee-v'>12.943548215386015</span></li></ul></details></li><li><details><summary>776: [77.52617350232134, 12.943358612679114]</summary><ul><li><span class='ee-k'>0:</span><span class='ee-v'>77.52617350232134</span></li><li><span class='ee-k'>1:</span><span class='ee-v'>12.943358612679114</span></li></ul></details></li><li><details><summary>777: [77.52610573658443, 12.943261016081244]</summary><ul><li><span class='ee-k'>0:</span><span class='ee-v'>77.52610573658443</span></li><li><span class='ee-k'>1:</span><span class='ee-v'>12.943261016081244</span></li></ul></details></li><li><details><summary>778: [77.52600582110529, 12.943116302877687]</summary><ul><li><span class='ee-k'>0:</span><span class='ee-v'>77.52600582110529</span></li><li><span class='ee-k'>1:</span><span class='ee-v'>12.943116302877687</span></li></ul></details></li><li><details><summary>779: [77.5256611344226, 12.942617078020433]</summary><ul><li><span class='ee-k'>0:</span><span class='ee-v'>77.5256611344226</span></li><li><span class='ee-k'>1:</span><span class='ee-v'>12.942617078020433</span></li></ul></details></li><li><details><summary>780: [77.52559629287656, 12.942523970280018]</summary><ul><li><span class='ee-k'>0:</span><span class='ee-v'>77.52559629287656</span></li><li><span class='ee-k'>1:</span><span class='ee-v'>12.942523970280018</span></li></ul></details></li><li><details><summary>781: [77.52542278773262, 12.942273806357624]</summary><ul><li><span class='ee-k'>0:</span><span class='ee-v'>77.52542278773262</span></li><li><span class='ee-k'>1:</span><span class='ee-v'>12.942273806357624</span></li></ul></details></li><li><details><summary>782: [77.52508648943852, 12.941750787188628]</summary><ul><li><span class='ee-k'>0:</span><span class='ee-v'>77.52508648943852</span></li><li><span class='ee-k'>1:</span><span class='ee-v'>12.941750787188628</span></li></ul></details></li><li><details><summary>783: [77.52498705864589, 12.941595900002921]</summary><ul><li><span class='ee-k'>0:</span><span class='ee-v'>77.52498705864589</span></li><li><span class='ee-k'>1:</span><span class='ee-v'>12.941595900002921</span></li></ul></details></li><li><details><summary>784: [77.52474136914721, 12.941214315918236]</summary><ul><li><span class='ee-k'>0:</span><span class='ee-v'>77.52474136914721</span></li><li><span class='ee-k'>1:</span><span class='ee-v'>12.941214315918236</span></li></ul></details></li><li><details><summary>785: [77.52471100834215, 12.941167161884236]</summary><ul><li><span class='ee-k'>0:</span><span class='ee-v'>77.52471100834215</span></li><li><span class='ee-k'>1:</span><span class='ee-v'>12.941167161884236</span></li></ul></details></li><li><details><summary>786: [77.52460853020327, 12.940995363716647]</summary><ul><li><span class='ee-k'>0:</span><span class='ee-v'>77.52460853020327</span></li><li><span class='ee-k'>1:</span><span class='ee-v'>12.940995363716647</span></li></ul></details></li><li><details><summary>787: [77.52457695628458, 12.940947107414507]</summary><ul><li><span class='ee-k'>0:</span><span class='ee-v'>77.52457695628458</span></li><li><span class='ee-k'>1:</span><span class='ee-v'>12.940947107414507</span></li></ul></details></li><li><details><summary>788: [77.52444185457173, 12.940737227157253]</summary><ul><li><span class='ee-k'>0:</span><span class='ee-v'>77.52444185457173</span></li><li><span class='ee-k'>1:</span><span class='ee-v'>12.940737227157253</span></li></ul></details></li><li><details><summary>789: [77.52432322455826, 12.940562197171998]</summary><ul><li><span class='ee-k'>0:</span><span class='ee-v'>77.52432322455826</span></li><li><span class='ee-k'>1:</span><span class='ee-v'>12.940562197171998</span></li></ul></details></li><li><details><summary>790: [77.5242713675732, 12.940500585009215]</summary><ul><li><span class='ee-k'>0:</span><span class='ee-v'>77.5242713675732</span></li><li><span class='ee-k'>1:</span><span class='ee-v'>12.940500585009215</span></li></ul></details></li><li><details><summary>791: [77.5241886366128, 12.940403133446356]</summary><ul><li><span class='ee-k'>0:</span><span class='ee-v'>77.5241886366128</span></li><li><span class='ee-k'>1:</span><span class='ee-v'>12.940403133446356</span></li></ul></details></li><li><details><summary>792: [77.5240691966046, 12.940261990767873]</summary><ul><li><span class='ee-k'>0:</span><span class='ee-v'>77.5240691966046</span></li><li><span class='ee-k'>1:</span><span class='ee-v'>12.940261990767873</span></li></ul></details></li><li><details><summary>793: [77.52378346227475, 12.939957573553325]</summary><ul><li><span class='ee-k'>0:</span><span class='ee-v'>77.52378346227475</span></li><li><span class='ee-k'>1:</span><span class='ee-v'>12.939957573553325</span></li></ul></details></li><li><details><summary>794: [77.52375085100323, 12.939920620657714]</summary><ul><li><span class='ee-k'>0:</span><span class='ee-v'>77.52375085100323</span></li><li><span class='ee-k'>1:</span><span class='ee-v'>12.939920620657714</span></li></ul></details></li><li><details><summary>795: [77.52345497924529, 12.939581291165322]</summary><ul><li><span class='ee-k'>0:</span><span class='ee-v'>77.52345497924529</span></li><li><span class='ee-k'>1:</span><span class='ee-v'>12.939581291165322</span></li></ul></details></li><li><details><summary>796: [77.52335366915713, 12.93946820722692]</summary><ul><li><span class='ee-k'>0:</span><span class='ee-v'>77.52335366915713</span></li><li><span class='ee-k'>1:</span><span class='ee-v'>12.93946820722692</span></li></ul></details></li><li><details><summary>797: [77.52320051314621, 12.939294640006862]</summary><ul><li><span class='ee-k'>0:</span><span class='ee-v'>77.52320051314621</span></li><li><span class='ee-k'>1:</span><span class='ee-v'>12.939294640006862</span></li></ul></details></li><li><details><summary>798: [77.52287619001778, 12.938988336164275]</summary><ul><li><span class='ee-k'>0:</span><span class='ee-v'>77.52287619001778</span></li><li><span class='ee-k'>1:</span><span class='ee-v'>12.938988336164275</span></li></ul></details></li><li><details><summary>799: [77.5226634845768, 12.938846966635927]</summary><ul><li><span class='ee-k'>0:</span><span class='ee-v'>77.5226634845768</span></li><li><span class='ee-k'>1:</span><span class='ee-v'>12.938846966635927</span></li></ul></details></li><li><details><summary>800: [77.52231884130114, 12.938637982846194]</summary><ul><li><span class='ee-k'>0:</span><span class='ee-v'>77.52231884130114</span></li><li><span class='ee-k'>1:</span><span class='ee-v'>12.938637982846194</span></li></ul></details></li><li><details><summary>801: [77.5219989503662, 12.93842875906212]</summary><ul><li><span class='ee-k'>0:</span><span class='ee-v'>77.5219989503662</span></li><li><span class='ee-k'>1:</span><span class='ee-v'>12.93842875906212</span></li></ul></details></li><li><details><summary>802: [77.52172011234643, 12.938237207382526]</summary><ul><li><span class='ee-k'>0:</span><span class='ee-v'>77.52172011234643</span></li><li><span class='ee-k'>1:</span><span class='ee-v'>12.938237207382526</span></li></ul></details></li><li><details><summary>803: [77.52137239519288, 12.937951455719272]</summary><ul><li><span class='ee-k'>0:</span><span class='ee-v'>77.52137239519288</span></li><li><span class='ee-k'>1:</span><span class='ee-v'>12.937951455719272</span></li></ul></details></li><li><details><summary>804: [77.52117773834345, 12.937772641446108]</summary><ul><li><span class='ee-k'>0:</span><span class='ee-v'>77.52117773834345</span></li><li><span class='ee-k'>1:</span><span class='ee-v'>12.937772641446108</span></li></ul></details></li><li><details><summary>805: [77.52111918187154, 12.937707941839935]</summary><ul><li><span class='ee-k'>0:</span><span class='ee-v'>77.52111918187154</span></li><li><span class='ee-k'>1:</span><span class='ee-v'>12.937707941839935</span></li></ul></details></li><li><details><summary>806: [77.5210176430948, 12.937595752418098]</summary><ul><li><span class='ee-k'>0:</span><span class='ee-v'>77.5210176430948</span></li><li><span class='ee-k'>1:</span><span class='ee-v'>12.937595752418098</span></li></ul></details></li><li><details><summary>807: [77.52064566504531, 12.937187134416282]</summary><ul><li><span class='ee-k'>0:</span><span class='ee-v'>77.52064566504531</span></li><li><span class='ee-k'>1:</span><span class='ee-v'>12.937187134416282</span></li></ul></details></li><li><details><summary>808: [77.52035525975883, 12.93699004498095]</summary><ul><li><span class='ee-k'>0:</span><span class='ee-v'>77.52035525975883</span></li><li><span class='ee-k'>1:</span><span class='ee-v'>12.93699004498095</span></li></ul></details></li><li><details><summary>809: [77.52007718544321, 12.936874150419019]</summary><ul><li><span class='ee-k'>0:</span><span class='ee-v'>77.52007718544321</span></li><li><span class='ee-k'>1:</span><span class='ee-v'>12.936874150419019</span></li></ul></details></li><li><details><summary>810: [77.51990211829118, 12.936811469110811]</summary><ul><li><span class='ee-k'>0:</span><span class='ee-v'>77.51990211829118</span></li><li><span class='ee-k'>1:</span><span class='ee-v'>12.936811469110811</span></li></ul></details></li><li><details><summary>811: [77.51977673884579, 12.936766377196506]</summary><ul><li><span class='ee-k'>0:</span><span class='ee-v'>77.51977673884579</span></li><li><span class='ee-k'>1:</span><span class='ee-v'>12.936766377196506</span></li></ul></details></li><li><details><summary>812: [77.51933532634433, 12.936609144605299]</summary><ul><li><span class='ee-k'>0:</span><span class='ee-v'>77.51933532634433</span></li><li><span class='ee-k'>1:</span><span class='ee-v'>12.936609144605299</span></li></ul></details></li><li><details><summary>813: [77.51930296564022, 12.936597034353861]</summary><ul><li><span class='ee-k'>0:</span><span class='ee-v'>77.51930296564022</span></li><li><span class='ee-k'>1:</span><span class='ee-v'>12.936597034353861</span></li></ul></details></li><li><details><summary>814: [77.5189640195772, 12.93649640817054]</summary><ul><li><span class='ee-k'>0:</span><span class='ee-v'>77.5189640195772</span></li><li><span class='ee-k'>1:</span><span class='ee-v'>12.93649640817054</span></li></ul></details></li><li><details><summary>815: [77.51855158610375, 12.936415690346706]</summary><ul><li><span class='ee-k'>0:</span><span class='ee-v'>77.51855158610375</span></li><li><span class='ee-k'>1:</span><span class='ee-v'>12.936415690346706</span></li></ul></details></li><li><details><summary>816: [77.518422935437, 12.936388698996248]</summary><ul><li><span class='ee-k'>0:</span><span class='ee-v'>77.518422935437</span></li><li><span class='ee-k'>1:</span><span class='ee-v'>12.936388698996248</span></li></ul></details></li><li><details><summary>817: [77.51824497043005, 12.936381382888005]</summary><ul><li><span class='ee-k'>0:</span><span class='ee-v'>77.51824497043005</span></li><li><span class='ee-k'>1:</span><span class='ee-v'>12.936381382888005</span></li></ul></details></li><li><details><summary>818: [77.51811201977627, 12.9363849264293]</summary><ul><li><span class='ee-k'>0:</span><span class='ee-v'>77.51811201977627</span></li><li><span class='ee-k'>1:</span><span class='ee-v'>12.9363849264293</span></li></ul></details></li><li><details><summary>819: [77.51774062944486, 12.93637834843363]</summary><ul><li><span class='ee-k'>0:</span><span class='ee-v'>77.51774062944486</span></li><li><span class='ee-k'>1:</span><span class='ee-v'>12.93637834843363</span></li></ul></details></li><li><details><summary>820: [77.51768822239693, 12.93637659482596]</summary><ul><li><span class='ee-k'>0:</span><span class='ee-v'>77.51768822239693</span></li><li><span class='ee-k'>1:</span><span class='ee-v'>12.93637659482596</span></li></ul></details></li><li><details><summary>821: [77.517625522711, 12.936381717628013]</summary><ul><li><span class='ee-k'>0:</span><span class='ee-v'>77.517625522711</span></li><li><span class='ee-k'>1:</span><span class='ee-v'>12.936381717628013</span></li></ul></details></li><li><details><summary>822: [77.51712736534719, 12.936363939732047]</summary><ul><li><span class='ee-k'>0:</span><span class='ee-v'>77.51712736534719</span></li><li><span class='ee-k'>1:</span><span class='ee-v'>12.936363939732047</span></li></ul></details></li><li><details><summary>823: [77.51669826234212, 12.936343235688867]</summary><ul><li><span class='ee-k'>0:</span><span class='ee-v'>77.51669826234212</span></li><li><span class='ee-k'>1:</span><span class='ee-v'>12.936343235688867</span></li></ul></details></li><li><details><summary>824: [77.51638174739952, 12.93629772793639]</summary><ul><li><span class='ee-k'>0:</span><span class='ee-v'>77.51638174739952</span></li><li><span class='ee-k'>1:</span><span class='ee-v'>12.93629772793639</span></li></ul></details></li><li><details><summary>825: [77.51592109530193, 12.93623102334685]</summary><ul><li><span class='ee-k'>0:</span><span class='ee-v'>77.51592109530193</span></li><li><span class='ee-k'>1:</span><span class='ee-v'>12.93623102334685</span></li></ul></details></li><li><details><summary>826: [77.51575965485694, 12.936206605694474]</summary><ul><li><span class='ee-k'>0:</span><span class='ee-v'>77.51575965485694</span></li><li><span class='ee-k'>1:</span><span class='ee-v'>12.936206605694474</span></li></ul></details></li><li><details><summary>827: [77.51497491421682, 12.936085428571984]</summary><ul><li><span class='ee-k'>0:</span><span class='ee-v'>77.51497491421682</span></li><li><span class='ee-k'>1:</span><span class='ee-v'>12.936085428571984</span></li></ul></details></li><li><details><summary>828: [77.51480710781784, 12.93605768361547]</summary><ul><li><span class='ee-k'>0:</span><span class='ee-v'>77.51480710781784</span></li><li><span class='ee-k'>1:</span><span class='ee-v'>12.93605768361547</span></li></ul></details></li><li><details><summary>829: [77.51443136826622, 12.935961923345875]</summary><ul><li><span class='ee-k'>0:</span><span class='ee-v'>77.51443136826622</span></li><li><span class='ee-k'>1:</span><span class='ee-v'>12.935961923345875</span></li></ul></details></li><li><details><summary>830: [77.51412025932439, 12.935881350408053]</summary><ul><li><span class='ee-k'>0:</span><span class='ee-v'>77.51412025932439</span></li><li><span class='ee-k'>1:</span><span class='ee-v'>12.935881350408053</span></li></ul></details></li><li><details><summary>831: [77.51383205176086, 12.935788133334658]</summary><ul><li><span class='ee-k'>0:</span><span class='ee-v'>77.51383205176086</span></li><li><span class='ee-k'>1:</span><span class='ee-v'>12.935788133334658</span></li></ul></details></li><li><details><summary>832: [77.5137851786029, 12.935878933981332]</summary><ul><li><span class='ee-k'>0:</span><span class='ee-v'>77.5137851786029</span></li><li><span class='ee-k'>1:</span><span class='ee-v'>12.935878933981332</span></li></ul></details></li><li><details><summary>833: [77.5137653705444, 12.935913005726015]</summary><ul><li><span class='ee-k'>0:</span><span class='ee-v'>77.5137653705444</span></li><li><span class='ee-k'>1:</span><span class='ee-v'>12.935913005726015</span></li></ul></details></li><li><details><summary>834: [77.5136581820435, 12.936132004560525]</summary><ul><li><span class='ee-k'>0:</span><span class='ee-v'>77.5136581820435</span></li><li><span class='ee-k'>1:</span><span class='ee-v'>12.936132004560525</span></li></ul></details></li><li><details><summary>835: [77.51359159258676, 12.936323509195192]</summary><ul><li><span class='ee-k'>0:</span><span class='ee-v'>77.51359159258676</span></li><li><span class='ee-k'>1:</span><span class='ee-v'>12.936323509195192</span></li></ul></details></li><li><details><summary>836: [77.51353832068156, 12.936465192709845]</summary><ul><li><span class='ee-k'>0:</span><span class='ee-v'>77.51353832068156</span></li><li><span class='ee-k'>1:</span><span class='ee-v'>12.936465192709845</span></li></ul></details></li><li><details><summary>837: [77.51344695435029, 12.936597079182212]</summary><ul><li><span class='ee-k'>0:</span><span class='ee-v'>77.51344695435029</span></li><li><span class='ee-k'>1:</span><span class='ee-v'>12.936597079182212</span></li></ul></details></li><li><details><summary>838: [77.51333852087319, 12.93669186125971]</summary><ul><li><span class='ee-k'>0:</span><span class='ee-v'>77.51333852087319</span></li><li><span class='ee-k'>1:</span><span class='ee-v'>12.93669186125971</span></li></ul></details></li><li><details><summary>839: [77.51325759383776, 12.936773955222648]</summary><ul><li><span class='ee-k'>0:</span><span class='ee-v'>77.51325759383776</span></li><li><span class='ee-k'>1:</span><span class='ee-v'>12.936773955222648</span></li></ul></details></li><li><details><summary>840: [77.51324008823356, 12.936808004757864]</summary><ul><li><span class='ee-k'>0:</span><span class='ee-v'>77.51324008823356</span></li><li><span class='ee-k'>1:</span><span class='ee-v'>12.936808004757864</span></li></ul></details></li><li><details><summary>841: [77.51320156657422, 12.936870490860743]</summary><ul><li><span class='ee-k'>0:</span><span class='ee-v'>77.51320156657422</span></li><li><span class='ee-k'>1:</span><span class='ee-v'>12.936870490860743</span></li></ul></details></li><li><details><summary>842: [77.51320112240693, 12.936871115838208]</summary><ul><li><span class='ee-k'>0:</span><span class='ee-v'>77.51320112240693</span></li><li><span class='ee-k'>1:</span><span class='ee-v'>12.936871115838208</span></li></ul></details></li><li><details><summary>843: [77.51314252528813, 12.936953503219735]</summary><ul><li><span class='ee-k'>0:</span><span class='ee-v'>77.51314252528813</span></li><li><span class='ee-k'>1:</span><span class='ee-v'>12.936953503219735</span></li></ul></details></li><li><details><summary>844: [77.51303781692097, 12.937075353962248]</summary><ul><li><span class='ee-k'>0:</span><span class='ee-v'>77.51303781692097</span></li><li><span class='ee-k'>1:</span><span class='ee-v'>12.937075353962248</span></li></ul></details></li><li><details><summary>845: [77.51291623499158, 12.937236894915694]</summary><ul><li><span class='ee-k'>0:</span><span class='ee-v'>77.51291623499158</span></li><li><span class='ee-k'>1:</span><span class='ee-v'>12.937236894915694</span></li></ul></details></li><li><details><summary>846: [77.51282158262585, 12.93732815595795]</summary><ul><li><span class='ee-k'>0:</span><span class='ee-v'>77.51282158262585</span></li><li><span class='ee-k'>1:</span><span class='ee-v'>12.93732815595795</span></li></ul></details></li><li><details><summary>847: [77.51275738291972, 12.937413476702094]</summary><ul><li><span class='ee-k'>0:</span><span class='ee-v'>77.51275738291972</span></li><li><span class='ee-k'>1:</span><span class='ee-v'>12.937413476702094</span></li></ul></details></li><li><details><summary>848: [77.51278069788951, 12.937729472969254]</summary><ul><li><span class='ee-k'>0:</span><span class='ee-v'>77.51278069788951</span></li><li><span class='ee-k'>1:</span><span class='ee-v'>12.937729472969254</span></li></ul></details></li><li><details><summary>849: [77.51278636895807, 12.937950772979553]</summary><ul><li><span class='ee-k'>0:</span><span class='ee-v'>77.51278636895807</span></li><li><span class='ee-k'>1:</span><span class='ee-v'>12.937950772979553</span></li></ul></details></li><li><details><summary>850: [77.51274463198942, 12.938094604007954]</summary><ul><li><span class='ee-k'>0:</span><span class='ee-v'>77.51274463198942</span></li><li><span class='ee-k'>1:</span><span class='ee-v'>12.938094604007954</span></li></ul></details></li><li><details><summary>851: [77.512715897354, 12.938214593155724]</summary><ul><li><span class='ee-k'>0:</span><span class='ee-v'>77.512715897354</span></li><li><span class='ee-k'>1:</span><span class='ee-v'>12.938214593155724</span></li></ul></details></li><li><details><summary>852: [77.51274996371457, 12.938282025569249]</summary><ul><li><span class='ee-k'>0:</span><span class='ee-v'>77.51274996371457</span></li><li><span class='ee-k'>1:</span><span class='ee-v'>12.938282025569249</span></li></ul></details></li><li><details><summary>853: [77.5127939518907, 12.93836291557953]</summary><ul><li><span class='ee-k'>0:</span><span class='ee-v'>77.5127939518907</span></li><li><span class='ee-k'>1:</span><span class='ee-v'>12.93836291557953</span></li></ul></details></li><li><details><summary>854: [77.51289013186303, 12.938424104319873]</summary><ul><li><span class='ee-k'>0:</span><span class='ee-v'>77.51289013186303</span></li><li><span class='ee-k'>1:</span><span class='ee-v'>12.938424104319873</span></li></ul></details></li><li><details><summary>855: [77.51296020400898, 12.938465215269904]</summary><ul><li><span class='ee-k'>0:</span><span class='ee-v'>77.51296020400898</span></li><li><span class='ee-k'>1:</span><span class='ee-v'>12.938465215269904</span></li></ul></details></li><li><details><summary>856: [77.51307714136296, 12.938529591031115]</summary><ul><li><span class='ee-k'>0:</span><span class='ee-v'>77.51307714136296</span></li><li><span class='ee-k'>1:</span><span class='ee-v'>12.938529591031115</span></li></ul></details></li><li><details><summary>857: [77.51328805529802, 12.938550145137054]</summary><ul><li><span class='ee-k'>0:</span><span class='ee-v'>77.51328805529802</span></li><li><span class='ee-k'>1:</span><span class='ee-v'>12.938550145137054</span></li></ul></details></li><li><details><summary>858: [77.5133215320516, 12.938501259940265]</summary><ul><li><span class='ee-k'>0:</span><span class='ee-v'>77.5133215320516</span></li><li><span class='ee-k'>1:</span><span class='ee-v'>12.938501259940265</span></li></ul></details></li><li><details><summary>859: [77.51343350218923, 12.938529543886693]</summary><ul><li><span class='ee-k'>0:</span><span class='ee-v'>77.51343350218923</span></li><li><span class='ee-k'>1:</span><span class='ee-v'>12.938529543886693</span></li></ul></details></li><li><details><summary>860: [77.51348150738738, 12.938551668290716]</summary><ul><li><span class='ee-k'>0:</span><span class='ee-v'>77.51348150738738</span></li><li><span class='ee-k'>1:</span><span class='ee-v'>12.938551668290716</span></li></ul></details></li><li><details><summary>861: [77.51363389655965, 12.938591985433156]</summary><ul><li><span class='ee-k'>0:</span><span class='ee-v'>77.51363389655965</span></li><li><span class='ee-k'>1:</span><span class='ee-v'>12.938591985433156</span></li></ul></details></li><li><details><summary>862: [77.51374066572022, 12.938675658004534]</summary><ul><li><span class='ee-k'>0:</span><span class='ee-v'>77.51374066572022</span></li><li><span class='ee-k'>1:</span><span class='ee-v'>12.938675658004534</span></li></ul></details></li><li><details><summary>863: [77.51387717539791, 12.938739844640931]</summary><ul><li><span class='ee-k'>0:</span><span class='ee-v'>77.51387717539791</span></li><li><span class='ee-k'>1:</span><span class='ee-v'>12.938739844640931</span></li></ul></details></li><li><details><summary>864: [77.51394825508069, 12.938881458565584]</summary><ul><li><span class='ee-k'>0:</span><span class='ee-v'>77.51394825508069</span></li><li><span class='ee-k'>1:</span><span class='ee-v'>12.938881458565584</span></li></ul></details></li><li><details><summary>865: [77.51399182495972, 12.938920566016183]</summary><ul><li><span class='ee-k'>0:</span><span class='ee-v'>77.51399182495972</span></li><li><span class='ee-k'>1:</span><span class='ee-v'>12.938920566016183</span></li></ul></details></li><li><details><summary>866: [77.51408268061954, 12.939082317652876]</summary><ul><li><span class='ee-k'>0:</span><span class='ee-v'>77.51408268061954</span></li><li><span class='ee-k'>1:</span><span class='ee-v'>12.939082317652876</span></li></ul></details></li><li><details><summary>867: [77.51415004628986, 12.939197992032437]</summary><ul><li><span class='ee-k'>0:</span><span class='ee-v'>77.51415004628986</span></li><li><span class='ee-k'>1:</span><span class='ee-v'>12.939197992032437</span></li></ul></details></li><li><details><summary>868: [77.51419759087185, 12.939289011631093]</summary><ul><li><span class='ee-k'>0:</span><span class='ee-v'>77.51419759087185</span></li><li><span class='ee-k'>1:</span><span class='ee-v'>12.939289011631093</span></li></ul></details></li><li><details><summary>869: [77.51427177391089, 12.939395585338119]</summary><ul><li><span class='ee-k'>0:</span><span class='ee-v'>77.51427177391089</span></li><li><span class='ee-k'>1:</span><span class='ee-v'>12.939395585338119</span></li></ul></details></li><li><details><summary>870: [77.5144155559014, 12.939553438269314]</summary><ul><li><span class='ee-k'>0:</span><span class='ee-v'>77.5144155559014</span></li><li><span class='ee-k'>1:</span><span class='ee-v'>12.939553438269314</span></li></ul></details></li><li><details><summary>871: [77.5145987976152, 12.939684935216992]</summary><ul><li><span class='ee-k'>0:</span><span class='ee-v'>77.5145987976152</span></li><li><span class='ee-k'>1:</span><span class='ee-v'>12.939684935216992</span></li></ul></details></li><li><details><summary>872: [77.51463746217803, 12.939866389057965]</summary><ul><li><span class='ee-k'>0:</span><span class='ee-v'>77.51463746217803</span></li><li><span class='ee-k'>1:</span><span class='ee-v'>12.939866389057965</span></li></ul></details></li><li><details><summary>873: [77.51465774764968, 12.939937342996206]</summary><ul><li><span class='ee-k'>0:</span><span class='ee-v'>77.51465774764968</span></li><li><span class='ee-k'>1:</span><span class='ee-v'>12.939937342996206</span></li></ul></details></li><li><details><summary>874: [77.51466947941653, 12.940073882257819]</summary><ul><li><span class='ee-k'>0:</span><span class='ee-v'>77.51466947941653</span></li><li><span class='ee-k'>1:</span><span class='ee-v'>12.940073882257819</span></li></ul></details></li><li><details><summary>875: [77.51466732761439, 12.94020377928797]</summary><ul><li><span class='ee-k'>0:</span><span class='ee-v'>77.51466732761439</span></li><li><span class='ee-k'>1:</span><span class='ee-v'>12.94020377928797</span></li></ul></details></li><li><details><summary>876: [77.51463859390014, 12.940323769409245]</summary><ul><li><span class='ee-k'>0:</span><span class='ee-v'>77.51463859390014</span></li><li><span class='ee-k'>1:</span><span class='ee-v'>12.940323769409245</span></li></ul></details></li><li><details><summary>877: [77.5146162575431, 12.94039287486221]</summary><ul><li><span class='ee-k'>0:</span><span class='ee-v'>77.5146162575431</span></li><li><span class='ee-k'>1:</span><span class='ee-v'>12.94039287486221</span></li></ul></details></li><li><details><summary>878: [77.51458176637772, 12.940455322312587]</summary><ul><li><span class='ee-k'>0:</span><span class='ee-v'>77.51458176637772</span></li><li><span class='ee-k'>1:</span><span class='ee-v'>12.940455322312587</span></li></ul></details></li><li><details><summary>879: [77.51451754232323, 12.9404807877185]</summary><ul><li><span class='ee-k'>0:</span><span class='ee-v'>77.51451754232323</span></li><li><span class='ee-k'>1:</span><span class='ee-v'>12.9404807877185</span></li></ul></details></li><li><details><summary>880: [77.5144488733096, 12.940579704323241]</summary><ul><li><span class='ee-k'>0:</span><span class='ee-v'>77.5144488733096</span></li><li><span class='ee-k'>1:</span><span class='ee-v'>12.940579704323241</span></li></ul></details></li><li><details><summary>881: [77.51445356134943, 12.940702759237983]</summary><ul><li><span class='ee-k'>0:</span><span class='ee-v'>77.51445356134943</span></li><li><span class='ee-k'>1:</span><span class='ee-v'>12.940702759237983</span></li></ul></details></li><li><details><summary>882: [77.51449807143224, 12.940835594257285]</summary><ul><li><span class='ee-k'>0:</span><span class='ee-v'>77.51449807143224</span></li><li><span class='ee-k'>1:</span><span class='ee-v'>12.940835594257285</span></li></ul></details></li><li><details><summary>883: [77.5145715209902, 12.940926363817157]</summary><ul><li><span class='ee-k'>0:</span><span class='ee-v'>77.5145715209902</span></li><li><span class='ee-k'>1:</span><span class='ee-v'>12.940926363817157</span></li></ul></details></li><li><details><summary>884: [77.51462250876126, 12.941016220671026]</summary><ul><li><span class='ee-k'>0:</span><span class='ee-v'>77.51462250876126</span></li><li><span class='ee-k'>1:</span><span class='ee-v'>12.941016220671026</span></li></ul></details></li><li><details><summary>885: [77.51462623628431, 12.941100886627668]</summary><ul><li><span class='ee-k'>0:</span><span class='ee-v'>77.51462623628431</span></li><li><span class='ee-k'>1:</span><span class='ee-v'>12.941100886627668</span></li></ul></details></li><li><details><summary>886: [77.51464761844969, 12.94122377956801]</summary><ul><li><span class='ee-k'>0:</span><span class='ee-v'>77.51464761844969</span></li><li><span class='ee-k'>1:</span><span class='ee-v'>12.94122377956801</span></li></ul></details></li><li><details><summary>887: [77.51467745245111, 12.941270925732741]</summary><ul><li><span class='ee-k'>0:</span><span class='ee-v'>77.51467745245111</span></li><li><span class='ee-k'>1:</span><span class='ee-v'>12.941270925732741</span></li></ul></details></li><li><details><summary>888: [77.51471828144169, 12.94132361171074]</summary><ul><li><span class='ee-k'>0:</span><span class='ee-v'>77.51471828144169</span></li><li><span class='ee-k'>1:</span><span class='ee-v'>12.94132361171074</span></li></ul></details></li><li><details><summary>889: [77.51471959411273, 12.941454604664404]</summary><ul><li><span class='ee-k'>0:</span><span class='ee-v'>77.51471959411273</span></li><li><span class='ee-k'>1:</span><span class='ee-v'>12.941454604664404</span></li></ul></details></li><li><details><summary>890: [77.51470722599745, 12.941541684609637]</summary><ul><li><span class='ee-k'>0:</span><span class='ee-v'>77.51470722599745</span></li><li><span class='ee-k'>1:</span><span class='ee-v'>12.941541684609637</span></li></ul></details></li><li><details><summary>891: [77.5146983910829, 12.94163663598042]</summary><ul><li><span class='ee-k'>0:</span><span class='ee-v'>77.5146983910829</span></li><li><span class='ee-k'>1:</span><span class='ee-v'>12.94163663598042</span></li></ul></details></li><li><details><summary>892: [77.51465608885415, 12.941724004712578]</summary><ul><li><span class='ee-k'>0:</span><span class='ee-v'>77.51465608885415</span></li><li><span class='ee-k'>1:</span><span class='ee-v'>12.941724004712578</span></li></ul></details></li><li><details><summary>893: [77.51463711859752, 12.941841641040279]</summary><ul><li><span class='ee-k'>0:</span><span class='ee-v'>77.51463711859752</span></li><li><span class='ee-k'>1:</span><span class='ee-v'>12.941841641040279</span></li></ul></details></li><li><details><summary>894: [77.51465596424275, 12.942056037397704]</summary><ul><li><span class='ee-k'>0:</span><span class='ee-v'>77.51465596424275</span></li><li><span class='ee-k'>1:</span><span class='ee-v'>12.942056037397704</span></li></ul></details></li><li><details><summary>895: [77.51469287611626, 12.942120054733827]</summary><ul><li><span class='ee-k'>0:</span><span class='ee-v'>77.51469287611626</span></li><li><span class='ee-k'>1:</span><span class='ee-v'>12.942120054733827</span></li></ul></details></li><li><details><summary>896: [77.51478911272145, 12.942129289573987]</summary><ul><li><span class='ee-k'>0:</span><span class='ee-v'>77.51478911272145</span></li><li><span class='ee-k'>1:</span><span class='ee-v'>12.942129289573987</span></li></ul></details></li><li><details><summary>897: [77.5148522075605, 12.942106095454132]</summary><ul><li><span class='ee-k'>0:</span><span class='ee-v'>77.5148522075605</span></li><li><span class='ee-k'>1:</span><span class='ee-v'>12.942106095454132</span></li></ul></details></li><li><details><summary>898: [77.5148979099109, 12.942070642574793]</summary><ul><li><span class='ee-k'>0:</span><span class='ee-v'>77.5148979099109</span></li><li><span class='ee-k'>1:</span><span class='ee-v'>12.942070642574793</span></li></ul></details></li><li><details><summary>899: [77.51495123079732, 12.942048671193843]</summary><ul><li><span class='ee-k'>0:</span><span class='ee-v'>77.51495123079732</span></li><li><span class='ee-k'>1:</span><span class='ee-v'>12.942048671193843</span></li></ul></details></li><li><details><summary>900: [77.51501076126767, 12.942071813324304]</summary><ul><li><span class='ee-k'>0:</span><span class='ee-v'>77.51501076126767</span></li><li><span class='ee-k'>1:</span><span class='ee-v'>12.942071813324304</span></li></ul></details></li><li><details><summary>901: [77.51510770942633, 12.942094594386445]</summary><ul><li><span class='ee-k'>0:</span><span class='ee-v'>77.51510770942633</span></li><li><span class='ee-k'>1:</span><span class='ee-v'>12.942094594386445</span></li></ul></details></li><li><details><summary>902: [77.51527673724692, 12.942071506423419]</summary><ul><li><span class='ee-k'>0:</span><span class='ee-v'>77.51527673724692</span></li><li><span class='ee-k'>1:</span><span class='ee-v'>12.942071506423419</span></li></ul></details></li><li><details><summary>903: [77.51537806410023, 12.942071657058584]</summary><ul><li><span class='ee-k'>0:</span><span class='ee-v'>77.51537806410023</span></li><li><span class='ee-k'>1:</span><span class='ee-v'>12.942071657058584</span></li></ul></details></li><li><details><summary>904: [77.5154420991599, 12.94210188863753]</summary><ul><li><span class='ee-k'>0:</span><span class='ee-v'>77.5154420991599</span></li><li><span class='ee-k'>1:</span><span class='ee-v'>12.94210188863753</span></li></ul></details></li><li><details><summary>905: [77.51546714565345, 12.942113712984593]</summary><ul><li><span class='ee-k'>0:</span><span class='ee-v'>77.51546714565345</span></li><li><span class='ee-k'>1:</span><span class='ee-v'>12.942113712984593</span></li></ul></details></li><li><details><summary>906: [77.51554812272654, 12.94215132965942]</summary><ul><li><span class='ee-k'>0:</span><span class='ee-v'>77.51554812272654</span></li><li><span class='ee-k'>1:</span><span class='ee-v'>12.94215132965942</span></li></ul></details></li><li><details><summary>907: [77.51562488896234, 12.942170917217016]</summary><ul><li><span class='ee-k'>0:</span><span class='ee-v'>77.51562488896234</span></li><li><span class='ee-k'>1:</span><span class='ee-v'>12.942170917217016</span></li></ul></details></li><li><details><summary>908: [77.51559476434213, 12.942209606131932]</summary><ul><li><span class='ee-k'>0:</span><span class='ee-v'>77.51559476434213</span></li><li><span class='ee-k'>1:</span><span class='ee-v'>12.942209606131932</span></li></ul></details></li><li><details><summary>909: [77.5156291267169, 12.942306399276658]</summary><ul><li><span class='ee-k'>0:</span><span class='ee-v'>77.5156291267169</span></li><li><span class='ee-k'>1:</span><span class='ee-v'>12.942306399276658</span></li></ul></details></li><li><details><summary>910: [77.51571613234798, 12.942371062289043]</summary><ul><li><span class='ee-k'>0:</span><span class='ee-v'>77.51571613234798</span></li><li><span class='ee-k'>1:</span><span class='ee-v'>12.942371062289043</span></li></ul></details></li><li><details><summary>911: [77.51577303606842, 12.942476672696458]</summary><ul><li><span class='ee-k'>0:</span><span class='ee-v'>77.51577303606842</span></li><li><span class='ee-k'>1:</span><span class='ee-v'>12.942476672696458</span></li></ul></details></li><li><details><summary>912: [77.51583040219892, 12.942570985040827]</summary><ul><li><span class='ee-k'>0:</span><span class='ee-v'>77.51583040219892</span></li><li><span class='ee-k'>1:</span><span class='ee-v'>12.942570985040827</span></li></ul></details></li><li><details><summary>913: [77.51583989597174, 12.942599127347881]</summary><ul><li><span class='ee-k'>0:</span><span class='ee-v'>77.51583989597174</span></li><li><span class='ee-k'>1:</span><span class='ee-v'>12.942599127347881</span></li></ul></details></li><li><details><summary>914: [77.51585773221028, 12.942655423072798]</summary><ul><li><span class='ee-k'>0:</span><span class='ee-v'>77.51585773221028</span></li><li><span class='ee-k'>1:</span><span class='ee-v'>12.942655423072798</span></li></ul></details></li><li><details><summary>915: [77.51585532065948, 12.94275934726702]</summary><ul><li><span class='ee-k'>0:</span><span class='ee-v'>77.51585532065948</span></li><li><span class='ee-k'>1:</span><span class='ee-v'>12.94275934726702</span></li></ul></details></li><li><details><summary>916: [77.51585341678991, 12.942856490413723]</summary><ul><li><span class='ee-k'>0:</span><span class='ee-v'>77.51585341678991</span></li><li><span class='ee-k'>1:</span><span class='ee-v'>12.942856490413723</span></li></ul></details></li><li><details><summary>917: [77.51588191392626, 12.94305724101683]</summary><ul><li><span class='ee-k'>0:</span><span class='ee-v'>77.51588191392626</span></li><li><span class='ee-k'>1:</span><span class='ee-v'>12.94305724101683</span></li></ul></details></li><li><details><summary>918: [77.5159026647335, 12.943174493912299]</summary><ul><li><span class='ee-k'>0:</span><span class='ee-v'>77.5159026647335</span></li><li><span class='ee-k'>1:</span><span class='ee-v'>12.943174493912299</span></li></ul></details></li><li><details><summary>919: [77.51588439540032, 12.943304546406614]</summary><ul><li><span class='ee-k'>0:</span><span class='ee-v'>77.51588439540032</span></li><li><span class='ee-k'>1:</span><span class='ee-v'>12.943304546406614</span></li></ul></details></li><li><details><summary>920: [77.51588867875543, 12.94344454541544]</summary><ul><li><span class='ee-k'>0:</span><span class='ee-v'>77.51588867875543</span></li><li><span class='ee-k'>1:</span><span class='ee-v'>12.94344454541544</span></li></ul></details></li><li><details><summary>921: [77.51592982476548, 12.943528850044654]</summary><ul><li><span class='ee-k'>0:</span><span class='ee-v'>77.51592982476548</span></li><li><span class='ee-k'>1:</span><span class='ee-v'>12.943528850044654</span></li></ul></details></li><li><details><summary>922: [77.51597355673977, 12.94364136363876]</summary><ul><li><span class='ee-k'>0:</span><span class='ee-v'>77.51597355673977</span></li><li><span class='ee-k'>1:</span><span class='ee-v'>12.94364136363876</span></li></ul></details></li><li><details><summary>923: [77.515994690706, 12.94373941372852]</summary><ul><li><span class='ee-k'>0:</span><span class='ee-v'>77.515994690706</span></li><li><span class='ee-k'>1:</span><span class='ee-v'>12.94373941372852</span></li></ul></details></li><li><details><summary>924: [77.51604213736559, 12.943877866660642]</summary><ul><li><span class='ee-k'>0:</span><span class='ee-v'>77.51604213736559</span></li><li><span class='ee-k'>1:</span><span class='ee-v'>12.943877866660642</span></li></ul></details></li><li><details><summary>925: [77.51613931524174, 12.94398082936076]</summary><ul><li><span class='ee-k'>0:</span><span class='ee-v'>77.51613931524174</span></li><li><span class='ee-k'>1:</span><span class='ee-v'>12.94398082936076</span></li></ul></details></li><li><details><summary>926: [77.51625325535858, 12.944090406313588]</summary><ul><li><span class='ee-k'>0:</span><span class='ee-v'>77.51625325535858</span></li><li><span class='ee-k'>1:</span><span class='ee-v'>12.944090406313588</span></li></ul></details></li><li><details><summary>927: [77.51630500814947, 12.944084259842851]</summary><ul><li><span class='ee-k'>0:</span><span class='ee-v'>77.51630500814947</span></li><li><span class='ee-k'>1:</span><span class='ee-v'>12.944084259842851</span></li></ul></details></li><li><details><summary>928: [77.51639273524353, 12.944105999941646]</summary><ul><li><span class='ee-k'>0:</span><span class='ee-v'>77.51639273524353</span></li><li><span class='ee-k'>1:</span><span class='ee-v'>12.944105999941646</span></li></ul></details></li><li><details><summary>929: [77.5164403563962, 12.94408972912253]</summary><ul><li><span class='ee-k'>0:</span><span class='ee-v'>77.5164403563962</span></li><li><span class='ee-k'>1:</span><span class='ee-v'>12.94408972912253</span></li></ul></details></li><li><details><summary>930: [77.51660112437878, 12.944103987724352]</summary><ul><li><span class='ee-k'>0:</span><span class='ee-v'>77.51660112437878</span></li><li><span class='ee-k'>1:</span><span class='ee-v'>12.944103987724352</span></li></ul></details></li><li><details><summary>931: [77.51679654288056, 12.944071607963146]</summary><ul><li><span class='ee-k'>0:</span><span class='ee-v'>77.51679654288056</span></li><li><span class='ee-k'>1:</span><span class='ee-v'>12.944071607963146</span></li></ul></details></li><li><details><summary>932: [77.51687207088005, 12.944116801829626]</summary><ul><li><span class='ee-k'>0:</span><span class='ee-v'>77.51687207088005</span></li><li><span class='ee-k'>1:</span><span class='ee-v'>12.944116801829626</span></li></ul></details></li><li><details><summary>933: [77.5169042732165, 12.944136070267488]</summary><ul><li><span class='ee-k'>0:</span><span class='ee-v'>77.5169042732165</span></li><li><span class='ee-k'>1:</span><span class='ee-v'>12.944136070267488</span></li></ul></details></li><li><details><summary>934: [77.51694379474375, 12.94423055455352]</summary><ul><li><span class='ee-k'>0:</span><span class='ee-v'>77.51694379474375</span></li><li><span class='ee-k'>1:</span><span class='ee-v'>12.94423055455352</span></li></ul></details></li><li><details><summary>935: [77.51697735563373, 12.944304767973705]</summary><ul><li><span class='ee-k'>0:</span><span class='ee-v'>77.51697735563373</span></li><li><span class='ee-k'>1:</span><span class='ee-v'>12.944304767973705</span></li></ul></details></li><li><details><summary>936: [77.51699144610608, 12.944389333645658]</summary><ul><li><span class='ee-k'>0:</span><span class='ee-v'>77.51699144610608</span></li><li><span class='ee-k'>1:</span><span class='ee-v'>12.944389333645658</span></li></ul></details></li><li><details><summary>937: [77.5170126032485, 12.944489642057462]</summary><ul><li><span class='ee-k'>0:</span><span class='ee-v'>77.5170126032485</span></li><li><span class='ee-k'>1:</span><span class='ee-v'>12.944489642057462</span></li></ul></details></li><li><details><summary>938: [77.51698045063154, 12.944613051580465]</summary><ul><li><span class='ee-k'>0:</span><span class='ee-v'>77.51698045063154</span></li><li><span class='ee-k'>1:</span><span class='ee-v'>12.944613051580465</span></li></ul></details></li><li><details><summary>939: [77.51690569903475, 12.944736874338263]</summary><ul><li><span class='ee-k'>0:</span><span class='ee-v'>77.51690569903475</span></li><li><span class='ee-k'>1:</span><span class='ee-v'>12.944736874338263</span></li></ul></details></li><li><details><summary>940: [77.5167956644237, 12.94490169378753]</summary><ul><li><span class='ee-k'>0:</span><span class='ee-v'>77.5167956644237</span></li><li><span class='ee-k'>1:</span><span class='ee-v'>12.94490169378753</span></li></ul></details></li><li><details><summary>941: [77.51677128504961, 12.944939198014678]</summary><ul><li><span class='ee-k'>0:</span><span class='ee-v'>77.51677128504961</span></li><li><span class='ee-k'>1:</span><span class='ee-v'>12.944939198014678</span></li></ul></details></li><li><details><summary>942: [77.5166448798377, 12.945021731567614]</summary><ul><li><span class='ee-k'>0:</span><span class='ee-v'>77.5166448798377</span></li><li><span class='ee-k'>1:</span><span class='ee-v'>12.945021731567614</span></li></ul></details></li><li><details><summary>943: [77.51650889232408, 12.945124687842544]</summary><ul><li><span class='ee-k'>0:</span><span class='ee-v'>77.51650889232408</span></li><li><span class='ee-k'>1:</span><span class='ee-v'>12.945124687842544</span></li></ul></details></li><li><details><summary>944: [77.51642365129663, 12.94517859077212]</summary><ul><li><span class='ee-k'>0:</span><span class='ee-v'>77.51642365129663</span></li><li><span class='ee-k'>1:</span><span class='ee-v'>12.94517859077212</span></li></ul></details></li><li><details><summary>945: [77.51634633257542, 12.945218864893473]</summary><ul><li><span class='ee-k'>0:</span><span class='ee-v'>77.51634633257542</span></li><li><span class='ee-k'>1:</span><span class='ee-v'>12.945218864893473</span></li></ul></details></li><li><details><summary>946: [77.51619167844856, 12.945354751750664]</summary><ul><li><span class='ee-k'>0:</span><span class='ee-v'>77.51619167844856</span></li><li><span class='ee-k'>1:</span><span class='ee-v'>12.945354751750664</span></li></ul></details></li><li><details><summary>947: [77.5160582982866, 12.945488174422627]</summary><ul><li><span class='ee-k'>0:</span><span class='ee-v'>77.5160582982866</span></li><li><span class='ee-k'>1:</span><span class='ee-v'>12.945488174422627</span></li></ul></details></li><li><details><summary>948: [77.51593764018618, 12.945627121006648]</summary><ul><li><span class='ee-k'>0:</span><span class='ee-v'>77.51593764018618</span></li><li><span class='ee-k'>1:</span><span class='ee-v'>12.945627121006648</span></li></ul></details></li><li><details><summary>949: [77.51587874574639, 12.945724814374085]</summary><ul><li><span class='ee-k'>0:</span><span class='ee-v'>77.51587874574639</span></li><li><span class='ee-k'>1:</span><span class='ee-v'>12.945724814374085</span></li></ul></details></li><li><details><summary>950: [77.51579399399482, 12.945884872046431]</summary><ul><li><span class='ee-k'>0:</span><span class='ee-v'>77.51579399399482</span></li><li><span class='ee-k'>1:</span><span class='ee-v'>12.945884872046431</span></li></ul></details></li><li><details><summary>951: [77.51571205017603, 12.945980529212342]</summary><ul><li><span class='ee-k'>0:</span><span class='ee-v'>77.51571205017603</span></li><li><span class='ee-k'>1:</span><span class='ee-v'>12.945980529212342</span></li></ul></details></li><li><details><summary>952: [77.51560451865357, 12.946108055404526]</summary><ul><li><span class='ee-k'>0:</span><span class='ee-v'>77.51560451865357</span></li><li><span class='ee-k'>1:</span><span class='ee-v'>12.946108055404526</span></li></ul></details></li><li><details><summary>953: [77.51547486241931, 12.946210949281957]</summary><ul><li><span class='ee-k'>0:</span><span class='ee-v'>77.51547486241931</span></li><li><span class='ee-k'>1:</span><span class='ee-v'>12.946210949281957</span></li></ul></details></li><li><details><summary>954: [77.51543980272007, 12.946259270985204]</summary><ul><li><span class='ee-k'>0:</span><span class='ee-v'>77.51543980272007</span></li><li><span class='ee-k'>1:</span><span class='ee-v'>12.946259270985204</span></li></ul></details></li><li><details><summary>955: [77.51536923898318, 12.946356526719727]</summary><ul><li><span class='ee-k'>0:</span><span class='ee-v'>77.51536923898318</span></li><li><span class='ee-k'>1:</span><span class='ee-v'>12.946356526719727</span></li></ul></details></li><li><details><summary>956: [77.51522717156826, 12.946599580714167]</summary><ul><li><span class='ee-k'>0:</span><span class='ee-v'>77.51522717156826</span></li><li><span class='ee-k'>1:</span><span class='ee-v'>12.946599580714167</span></li></ul></details></li><li><details><summary>957: [77.51515979808316, 12.946655569600495]</summary><ul><li><span class='ee-k'>0:</span><span class='ee-v'>77.51515979808316</span></li><li><span class='ee-k'>1:</span><span class='ee-v'>12.946655569600495</span></li></ul></details></li><li><details><summary>958: [77.51512720034435, 12.94667734205785]</summary><ul><li><span class='ee-k'>0:</span><span class='ee-v'>77.51512720034435</span></li><li><span class='ee-k'>1:</span><span class='ee-v'>12.94667734205785</span></li></ul></details></li><li><details><summary>959: [77.51505953440841, 12.946761567701602]</summary><ul><li><span class='ee-k'>0:</span><span class='ee-v'>77.51505953440841</span></li><li><span class='ee-k'>1:</span><span class='ee-v'>12.946761567701602</span></li></ul></details></li><li><details><summary>960: [77.515008935431, 12.946825300154417]</summary><ul><li><span class='ee-k'>0:</span><span class='ee-v'>77.515008935431</span></li><li><span class='ee-k'>1:</span><span class='ee-v'>12.946825300154417</span></li></ul></details></li><li><details><summary>961: [77.51494509206603, 12.946831563168285]</summary><ul><li><span class='ee-k'>0:</span><span class='ee-v'>77.51494509206603</span></li><li><span class='ee-k'>1:</span><span class='ee-v'>12.946831563168285</span></li></ul></details></li><li><details><summary>962: [77.51488805780124, 12.946885192590532]</summary><ul><li><span class='ee-k'>0:</span><span class='ee-v'>77.51488805780124</span></li><li><span class='ee-k'>1:</span><span class='ee-v'>12.946885192590532</span></li></ul></details></li><li><details><summary>963: [77.51480726467237, 12.946980839379373]</summary><ul><li><span class='ee-k'>0:</span><span class='ee-v'>77.51480726467237</span></li><li><span class='ee-k'>1:</span><span class='ee-v'>12.946980839379373</span></li></ul></details></li><li><details><summary>964: [77.5147012192609, 12.947027037197106]</summary><ul><li><span class='ee-k'>0:</span><span class='ee-v'>77.5147012192609</span></li><li><span class='ee-k'>1:</span><span class='ee-v'>12.947027037197106</span></li></ul></details></li><li><details><summary>965: [77.51456122070489, 12.9470746920098]</summary><ul><li><span class='ee-k'>0:</span><span class='ee-v'>77.51456122070489</span></li><li><span class='ee-k'>1:</span><span class='ee-v'>12.9470746920098</span></li></ul></details></li><li><details><summary>966: [77.51454938575677, 12.947078466249854]</summary><ul><li><span class='ee-k'>0:</span><span class='ee-v'>77.51454938575677</span></li><li><span class='ee-k'>1:</span><span class='ee-v'>12.947078466249854</span></li></ul></details></li><li><details><summary>967: [77.51452104853702, 12.947087502639215]</summary><ul><li><span class='ee-k'>0:</span><span class='ee-v'>77.51452104853702</span></li><li><span class='ee-k'>1:</span><span class='ee-v'>12.947087502639215</span></li></ul></details></li><li><details><summary>968: [77.5144209862525, 12.947156229790705]</summary><ul><li><span class='ee-k'>0:</span><span class='ee-v'>77.5144209862525</span></li><li><span class='ee-k'>1:</span><span class='ee-v'>12.947156229790705</span></li></ul></details></li><li><details><summary>969: [77.51427376438268, 12.947229929426868]</summary><ul><li><span class='ee-k'>0:</span><span class='ee-v'>77.51427376438268</span></li><li><span class='ee-k'>1:</span><span class='ee-v'>12.947229929426868</span></li></ul></details></li><li><details><summary>970: [77.51413724226248, 12.947279809215301]</summary><ul><li><span class='ee-k'>0:</span><span class='ee-v'>77.51413724226248</span></li><li><span class='ee-k'>1:</span><span class='ee-v'>12.947279809215301</span></li></ul></details></li><li><details><summary>971: [77.51402390540859, 12.947345276257144]</summary><ul><li><span class='ee-k'>0:</span><span class='ee-v'>77.51402390540859</span></li><li><span class='ee-k'>1:</span><span class='ee-v'>12.947345276257144</span></li></ul></details></li><li><details><summary>972: [77.51392780459118, 12.947407188881716]</summary><ul><li><span class='ee-k'>0:</span><span class='ee-v'>77.51392780459118</span></li><li><span class='ee-k'>1:</span><span class='ee-v'>12.947407188881716</span></li></ul></details></li><li><details><summary>973: [77.51382914055658, 12.947443150950999]</summary><ul><li><span class='ee-k'>0:</span><span class='ee-v'>77.51382914055658</span></li><li><span class='ee-k'>1:</span><span class='ee-v'>12.947443150950999</span></li></ul></details></li><li><details><summary>974: [77.51364561712265, 12.947513811549625]</summary><ul><li><span class='ee-k'>0:</span><span class='ee-v'>77.51364561712265</span></li><li><span class='ee-k'>1:</span><span class='ee-v'>12.947513811549625</span></li></ul></details></li><li><details><summary>975: [77.51347316719985, 12.947597919330748]</summary><ul><li><span class='ee-k'>0:</span><span class='ee-v'>77.51347316719985</span></li><li><span class='ee-k'>1:</span><span class='ee-v'>12.947597919330748</span></li></ul></details></li><li><details><summary>976: [77.51339363599476, 12.94764724899815]</summary><ul><li><span class='ee-k'>0:</span><span class='ee-v'>77.51339363599476</span></li><li><span class='ee-k'>1:</span><span class='ee-v'>12.94764724899815</span></li></ul></details></li><li><details><summary>977: [77.51327396455625, 12.947655180452113]</summary><ul><li><span class='ee-k'>0:</span><span class='ee-v'>77.51327396455625</span></li><li><span class='ee-k'>1:</span><span class='ee-v'>12.947655180452113</span></li></ul></details></li><li><details><summary>978: [77.51318987320427, 12.947709070589466]</summary><ul><li><span class='ee-k'>0:</span><span class='ee-v'>77.51318987320427</span></li><li><span class='ee-k'>1:</span><span class='ee-v'>12.947709070589466</span></li></ul></details></li><li><details><summary>979: [77.51313521756823, 12.94771298586243]</summary><ul><li><span class='ee-k'>0:</span><span class='ee-v'>77.51313521756823</span></li><li><span class='ee-k'>1:</span><span class='ee-v'>12.94771298586243</span></li></ul></details></li><li><details><summary>980: [77.51309490069535, 12.947768713361835]</summary><ul><li><span class='ee-k'>0:</span><span class='ee-v'>77.51309490069535</span></li><li><span class='ee-k'>1:</span><span class='ee-v'>12.947768713361835</span></li></ul></details></li><li><details><summary>981: [77.51299097605794, 12.947796820381086]</summary><ul><li><span class='ee-k'>0:</span><span class='ee-v'>77.51299097605794</span></li><li><span class='ee-k'>1:</span><span class='ee-v'>12.947796820381086</span></li></ul></details></li><li><details><summary>982: [77.5128715422447, 12.947828465023965]</summary><ul><li><span class='ee-k'>0:</span><span class='ee-v'>77.5128715422447</span></li><li><span class='ee-k'>1:</span><span class='ee-v'>12.947828465023965</span></li></ul></details></li><li><details><summary>983: [77.51272033498105, 12.947906719802184]</summary><ul><li><span class='ee-k'>0:</span><span class='ee-v'>77.51272033498105</span></li><li><span class='ee-k'>1:</span><span class='ee-v'>12.947906719802184</span></li></ul></details></li><li><details><summary>984: [77.51268856325413, 12.94801092732368]</summary><ul><li><span class='ee-k'>0:</span><span class='ee-v'>77.51268856325413</span></li><li><span class='ee-k'>1:</span><span class='ee-v'>12.94801092732368</span></li></ul></details></li><li><details><summary>985: [77.51274286091228, 12.94814366812695]</summary><ul><li><span class='ee-k'>0:</span><span class='ee-v'>77.51274286091228</span></li><li><span class='ee-k'>1:</span><span class='ee-v'>12.94814366812695</span></li></ul></details></li><li><details><summary>986: [77.51278995621576, 12.948247115017585]</summary><ul><li><span class='ee-k'>0:</span><span class='ee-v'>77.51278995621576</span></li><li><span class='ee-k'>1:</span><span class='ee-v'>12.948247115017585</span></li></ul></details></li><li><details><summary>987: [77.51283729890199, 12.948317808073197]</summary><ul><li><span class='ee-k'>0:</span><span class='ee-v'>77.51283729890199</span></li><li><span class='ee-k'>1:</span><span class='ee-v'>12.948317808073197</span></li></ul></details></li><li><details><summary>988: [77.51283137583425, 12.948416118596551]</summary><ul><li><span class='ee-k'>0:</span><span class='ee-v'>77.51283137583425</span></li><li><span class='ee-k'>1:</span><span class='ee-v'>12.948416118596551</span></li></ul></details></li><li><details><summary>989: [77.51274374300856, 12.948576204435513]</summary><ul><li><span class='ee-k'>0:</span><span class='ee-v'>77.51274374300856</span></li><li><span class='ee-k'>1:</span><span class='ee-v'>12.948576204435513</span></li></ul></details></li><li><details><summary>990: [77.5126538849152, 12.948686618986251]</summary><ul><li><span class='ee-k'>0:</span><span class='ee-v'>77.5126538849152</span></li><li><span class='ee-k'>1:</span><span class='ee-v'>12.948686618986251</span></li></ul></details></li><li><details><summary>991: [77.51243861091976, 12.94886374590666]</summary><ul><li><span class='ee-k'>0:</span><span class='ee-v'>77.51243861091976</span></li><li><span class='ee-k'>1:</span><span class='ee-v'>12.94886374590666</span></li></ul></details></li><li><details><summary>992: [77.51187365978174, 12.949249788025043]</summary><ul><li><span class='ee-k'>0:</span><span class='ee-v'>77.51187365978174</span></li><li><span class='ee-k'>1:</span><span class='ee-v'>12.949249788025043</span></li></ul></details></li><li><details><summary>993: [77.51182730178628, 12.949277339649791]</summary><ul><li><span class='ee-k'>0:</span><span class='ee-v'>77.51182730178628</span></li><li><span class='ee-k'>1:</span><span class='ee-v'>12.949277339649791</span></li></ul></details></li><li><details><summary>994: [77.51179354071287, 12.949297993650902]</summary><ul><li><span class='ee-k'>0:</span><span class='ee-v'>77.51179354071287</span></li><li><span class='ee-k'>1:</span><span class='ee-v'>12.949297993650902</span></li></ul></details></li><li><details><summary>995: [77.51178382216177, 12.949304864419535]</summary><ul><li><span class='ee-k'>0:</span><span class='ee-v'>77.51178382216177</span></li><li><span class='ee-k'>1:</span><span class='ee-v'>12.949304864419535</span></li></ul></details></li><li><details><summary>996: [77.51176436239481, 12.949316344742973]</summary><ul><li><span class='ee-k'>0:</span><span class='ee-v'>77.51176436239481</span></li><li><span class='ee-k'>1:</span><span class='ee-v'>12.949316344742973</span></li></ul></details></li><li><details><summary>997: [77.51170142298199, 12.949355349824419]</summary><ul><li><span class='ee-k'>0:</span><span class='ee-v'>77.51170142298199</span></li><li><span class='ee-k'>1:</span><span class='ee-v'>12.949355349824419</span></li></ul></details></li><li><details><summary>998: [77.51154132196567, 12.949522909374844]</summary><ul><li><span class='ee-k'>0:</span><span class='ee-v'>77.51154132196567</span></li><li><span class='ee-k'>1:</span><span class='ee-v'>12.949522909374844</span></li></ul></details></li><li><details><summary>999: [77.51144943190413, 12.949660447901486]</summary><ul><li><span class='ee-k'>0:</span><span class='ee-v'>77.51144943190413</span></li><li><span class='ee-k'>1:</span><span class='ee-v'>12.949660447901486</span></li></ul></details></li><li><details><summary>1000: [77.51141994944216, 12.949705906556895]</summary><ul><li><span class='ee-k'>0:</span><span class='ee-v'>77.51141994944216</span></li><li><span class='ee-k'>1:</span><span class='ee-v'>12.949705906556895</span></li></ul></details></li><li><details><summary>1001: [77.51139389839199, 12.949749073409077]</summary><ul><li><span class='ee-k'>0:</span><span class='ee-v'>77.51139389839199</span></li><li><span class='ee-k'>1:</span><span class='ee-v'>12.949749073409077</span></li></ul></details></li><li><details><summary>1002: [77.51130819204643, 12.94981427320381]</summary><ul><li><span class='ee-k'>0:</span><span class='ee-v'>77.51130819204643</span></li><li><span class='ee-k'>1:</span><span class='ee-v'>12.94981427320381</span></li></ul></details></li><li><details><summary>1003: [77.51119373435934, 12.94982554080785]</summary><ul><li><span class='ee-k'>0:</span><span class='ee-v'>77.51119373435934</span></li><li><span class='ee-k'>1:</span><span class='ee-v'>12.94982554080785</span></li></ul></details></li><li><details><summary>1004: [77.51113757978185, 12.94990965482475]</summary><ul><li><span class='ee-k'>0:</span><span class='ee-v'>77.51113757978185</span></li><li><span class='ee-k'>1:</span><span class='ee-v'>12.94990965482475</span></li></ul></details></li><li><details><summary>1005: [77.51105773331774, 12.950042559732983]</summary><ul><li><span class='ee-k'>0:</span><span class='ee-v'>77.51105773331774</span></li><li><span class='ee-k'>1:</span><span class='ee-v'>12.950042559732983</span></li></ul></details></li><li><details><summary>1006: [77.51104177985117, 12.95034651163125]</summary><ul><li><span class='ee-k'>0:</span><span class='ee-v'>77.51104177985117</span></li><li><span class='ee-k'>1:</span><span class='ee-v'>12.95034651163125</span></li></ul></details></li><li><details><summary>1007: [77.5110714477806, 12.950491913216714]</summary><ul><li><span class='ee-k'>0:</span><span class='ee-v'>77.5110714477806</span></li><li><span class='ee-k'>1:</span><span class='ee-v'>12.950491913216714</span></li></ul></details></li><li><details><summary>1008: [77.51107526827178, 12.950700808170373]</summary><ul><li><span class='ee-k'>0:</span><span class='ee-v'>77.51107526827178</span></li><li><span class='ee-k'>1:</span><span class='ee-v'>12.950700808170373</span></li></ul></details></li><li><details><summary>1009: [77.51108002369979, 12.950830638840223]</summary><ul><li><span class='ee-k'>0:</span><span class='ee-v'>77.51108002369979</span></li><li><span class='ee-k'>1:</span><span class='ee-v'>12.950830638840223</span></li></ul></details></li><li><details><summary>1010: [77.51110777234516, 12.950956859769436]</summary><ul><li><span class='ee-k'>0:</span><span class='ee-v'>77.51110777234516</span></li><li><span class='ee-k'>1:</span><span class='ee-v'>12.950956859769436</span></li></ul></details></li><li><details><summary>1011: [77.51112918856116, 12.951083141736222]</summary><ul><li><span class='ee-k'>0:</span><span class='ee-v'>77.51112918856116</span></li><li><span class='ee-k'>1:</span><span class='ee-v'>12.951083141736222</span></li></ul></details></li><li><details><summary>1012: [77.51119665915164, 12.95120897970822]</summary><ul><li><span class='ee-k'>0:</span><span class='ee-v'>77.51119665915164</span></li><li><span class='ee-k'>1:</span><span class='ee-v'>12.95120897970822</span></li></ul></details></li><li><details><summary>1013: [77.51124343780054, 12.951280807820797]</summary><ul><li><span class='ee-k'>0:</span><span class='ee-v'>77.51124343780054</span></li><li><span class='ee-k'>1:</span><span class='ee-v'>12.951280807820797</span></li></ul></details></li><li><details><summary>1014: [77.51127366738433, 12.951309879760663]</summary><ul><li><span class='ee-k'>0:</span><span class='ee-v'>77.51127366738433</span></li><li><span class='ee-k'>1:</span><span class='ee-v'>12.951309879760663</span></li></ul></details></li><li><details><summary>1015: [77.51130417991784, 12.95136718298656]</summary><ul><li><span class='ee-k'>0:</span><span class='ee-v'>77.51130417991784</span></li><li><span class='ee-k'>1:</span><span class='ee-v'>12.95136718298656</span></li></ul></details></li><li><details><summary>1016: [77.51134120603088, 12.951442493178302]</summary><ul><li><span class='ee-k'>0:</span><span class='ee-v'>77.51134120603088</span></li><li><span class='ee-k'>1:</span><span class='ee-v'>12.951442493178302</span></li></ul></details></li><li><details><summary>1017: [77.51137028428741, 12.95147157620162]</summary><ul><li><span class='ee-k'>0:</span><span class='ee-v'>77.51137028428741</span></li><li><span class='ee-k'>1:</span><span class='ee-v'>12.95147157620162</span></li></ul></details></li><li><details><summary>1018: [77.51137117842183, 12.951560787075126]</summary><ul><li><span class='ee-k'>0:</span><span class='ee-v'>77.51137117842183</span></li><li><span class='ee-k'>1:</span><span class='ee-v'>12.951560787075126</span></li></ul></details></li><li><details><summary>1019: [77.51142455976206, 12.951602058735759]</summary><ul><li><span class='ee-k'>0:</span><span class='ee-v'>77.51142455976206</span></li><li><span class='ee-k'>1:</span><span class='ee-v'>12.951602058735759</span></li></ul></details></li><li><details><summary>1020: [77.51146298632871, 12.951702201327082]</summary><ul><li><span class='ee-k'>0:</span><span class='ee-v'>77.51146298632871</span></li><li><span class='ee-k'>1:</span><span class='ee-v'>12.951702201327082</span></li></ul></details></li><li><details><summary>1021: [77.51146486209119, 12.951774462319298]</summary><ul><li><span class='ee-k'>0:</span><span class='ee-v'>77.51146486209119</span></li><li><span class='ee-k'>1:</span><span class='ee-v'>12.951774462319298</span></li></ul></details></li><li><details><summary>1022: [77.51144248320063, 12.951954246432864]</summary><ul><li><span class='ee-k'>0:</span><span class='ee-v'>77.51144248320063</span></li><li><span class='ee-k'>1:</span><span class='ee-v'>12.951954246432864</span></li></ul></details></li><li><details><summary>1023: [77.51135582198643, 12.952211446881899]</summary><ul><li><span class='ee-k'>0:</span><span class='ee-v'>77.51135582198643</span></li><li><span class='ee-k'>1:</span><span class='ee-v'>12.952211446881899</span></li></ul></details></li><li><details><summary>1024: [77.51125495943978, 12.952430385990077]</summary><ul><li><span class='ee-k'>0:</span><span class='ee-v'>77.51125495943978</span></li><li><span class='ee-k'>1:</span><span class='ee-v'>12.952430385990077</span></li></ul></details></li><li><details><summary>1025: [77.51121386430825, 12.95258098719158]</summary><ul><li><span class='ee-k'>0:</span><span class='ee-v'>77.51121386430825</span></li><li><span class='ee-k'>1:</span><span class='ee-v'>12.95258098719158</span></li></ul></details></li><li><details><summary>1026: [77.51118836916982, 12.952737084788513]</summary><ul><li><span class='ee-k'>0:</span><span class='ee-v'>77.51118836916982</span></li><li><span class='ee-k'>1:</span><span class='ee-v'>12.952737084788513</span></li></ul></details></li><li><details><summary>1027: [77.51117652063503, 12.952876110399687]</summary><ul><li><span class='ee-k'>0:</span><span class='ee-v'>77.51117652063503</span></li><li><span class='ee-k'>1:</span><span class='ee-v'>12.952876110399687</span></li></ul></details></li><li><details><summary>1028: [77.5111845720104, 12.952990098204848]</summary><ul><li><span class='ee-k'>0:</span><span class='ee-v'>77.5111845720104</span></li><li><span class='ee-k'>1:</span><span class='ee-v'>12.952990098204848</span></li></ul></details></li><li><details><summary>1029: [77.51118026712119, 12.953249892678306]</summary><ul><li><span class='ee-k'>0:</span><span class='ee-v'>77.51118026712119</span></li><li><span class='ee-k'>1:</span><span class='ee-v'>12.953249892678306</span></li></ul></details></li><li><details><summary>1030: [77.51118809216278, 12.95334129544662]</summary><ul><li><span class='ee-k'>0:</span><span class='ee-v'>77.51118809216278</span></li><li><span class='ee-k'>1:</span><span class='ee-v'>12.95334129544662</span></li></ul></details></li><li><details><summary>1031: [77.51120292889411, 12.953500392246292]</summary><ul><li><span class='ee-k'>0:</span><span class='ee-v'>77.51120292889411</span></li><li><span class='ee-k'>1:</span><span class='ee-v'>12.953500392246292</span></li></ul></details></li><li><details><summary>1032: [77.51121762983058, 12.953645938021767]</summary><ul><li><span class='ee-k'>0:</span><span class='ee-v'>77.51121762983058</span></li><li><span class='ee-k'>1:</span><span class='ee-v'>12.953645938021767</span></li></ul></details></li><li><details><summary>1033: [77.51128569002901, 12.953830496888772]</summary><ul><li><span class='ee-k'>0:</span><span class='ee-v'>77.51128569002901</span></li><li><span class='ee-k'>1:</span><span class='ee-v'>12.953830496888772</span></li></ul></details></li><li><details><summary>1034: [77.51143182516776, 12.953877650200798]</summary><ul><li><span class='ee-k'>0:</span><span class='ee-v'>77.51143182516776</span></li><li><span class='ee-k'>1:</span><span class='ee-v'>12.953877650200798</span></li></ul></details></li><li><details><summary>1035: [77.51153546245314, 12.953935378411956]</summary><ul><li><span class='ee-k'>0:</span><span class='ee-v'>77.51153546245314</span></li><li><span class='ee-k'>1:</span><span class='ee-v'>12.953935378411956</span></li></ul></details></li><li><details><summary>1036: [77.51168633023013, 12.954110102727126]</summary><ul><li><span class='ee-k'>0:</span><span class='ee-v'>77.51168633023013</span></li><li><span class='ee-k'>1:</span><span class='ee-v'>12.954110102727126</span></li></ul></details></li><li><details><summary>1037: [77.51188774543087, 12.954215449308943]</summary><ul><li><span class='ee-k'>0:</span><span class='ee-v'>77.51188774543087</span></li><li><span class='ee-k'>1:</span><span class='ee-v'>12.954215449308943</span></li></ul></details></li><li><details><summary>1038: [77.51205887588502, 12.95440127239176]</summary><ul><li><span class='ee-k'>0:</span><span class='ee-v'>77.51205887588502</span></li><li><span class='ee-k'>1:</span><span class='ee-v'>12.95440127239176</span></li></ul></details></li><li><details><summary>1039: [77.51210980041672, 12.954541951149535]</summary><ul><li><span class='ee-k'>0:</span><span class='ee-v'>77.51210980041672</span></li><li><span class='ee-k'>1:</span><span class='ee-v'>12.954541951149535</span></li></ul></details></li><li><details><summary>1040: [77.51218520775882, 12.95465528907019]</summary><ul><li><span class='ee-k'>0:</span><span class='ee-v'>77.51218520775882</span></li><li><span class='ee-k'>1:</span><span class='ee-v'>12.95465528907019</span></li></ul></details></li><li><details><summary>1041: [77.51213330907952, 12.954761949548704]</summary><ul><li><span class='ee-k'>0:</span><span class='ee-v'>77.51213330907952</span></li><li><span class='ee-k'>1:</span><span class='ee-v'>12.954761949548704</span></li></ul></details></li><li><details><summary>1042: [77.51215139693649, 12.954900686321318]</summary><ul><li><span class='ee-k'>0:</span><span class='ee-v'>77.51215139693649</span></li><li><span class='ee-k'>1:</span><span class='ee-v'>12.954900686321318</span></li></ul></details></li><li><details><summary>1043: [77.51214931311145, 12.955037358963875]</summary><ul><li><span class='ee-k'>0:</span><span class='ee-v'>77.51214931311145</span></li><li><span class='ee-k'>1:</span><span class='ee-v'>12.955037358963875</span></li></ul></details></li><li><details><summary>1044: [77.51207625741301, 12.955043711419481]</summary><ul><li><span class='ee-k'>0:</span><span class='ee-v'>77.51207625741301</span></li><li><span class='ee-k'>1:</span><span class='ee-v'>12.955043711419481</span></li></ul></details></li><li><details><summary>1045: [77.5119970842835, 12.95507157889819]</summary><ul><li><span class='ee-k'>0:</span><span class='ee-v'>77.5119970842835</span></li><li><span class='ee-k'>1:</span><span class='ee-v'>12.95507157889819</span></li></ul></details></li><li><details><summary>1046: [77.51194134631928, 12.955139878160336]</summary><ul><li><span class='ee-k'>0:</span><span class='ee-v'>77.51194134631928</span></li><li><span class='ee-k'>1:</span><span class='ee-v'>12.955139878160336</span></li></ul></details></li><li><details><summary>1047: [77.51189795822589, 12.955234033568349]</summary><ul><li><span class='ee-k'>0:</span><span class='ee-v'>77.51189795822589</span></li><li><span class='ee-k'>1:</span><span class='ee-v'>12.955234033568349</span></li></ul></details></li><li><details><summary>1048: [77.51186695216377, 12.955299836439577]</summary><ul><li><span class='ee-k'>0:</span><span class='ee-v'>77.51186695216377</span></li><li><span class='ee-k'>1:</span><span class='ee-v'>12.955299836439577</span></li></ul></details></li><li><details><summary>1049: [77.51184426299027, 12.95534032376084]</summary><ul><li><span class='ee-k'>0:</span><span class='ee-v'>77.51184426299027</span></li><li><span class='ee-k'>1:</span><span class='ee-v'>12.95534032376084</span></li></ul></details></li><li><details><summary>1050: [77.51183746555216, 12.95535245270095]</summary><ul><li><span class='ee-k'>0:</span><span class='ee-v'>77.51183746555216</span></li><li><span class='ee-k'>1:</span><span class='ee-v'>12.95535245270095</span></li></ul></details></li><li><details><summary>1051: [77.51174986816187, 12.955508767166542]</summary><ul><li><span class='ee-k'>0:</span><span class='ee-v'>77.51174986816187</span></li><li><span class='ee-k'>1:</span><span class='ee-v'>12.955508767166542</span></li></ul></details></li><li><details><summary>1052: [77.51172381676135, 12.955551934134625]</summary><ul><li><span class='ee-k'>0:</span><span class='ee-v'>77.51172381676135</span></li><li><span class='ee-k'>1:</span><span class='ee-v'>12.955551934134625</span></li></ul></details></li><li><details><summary>1053: [77.51172091655326, 12.955607300755334]</summary><ul><li><span class='ee-k'>0:</span><span class='ee-v'>77.51172091655326</span></li><li><span class='ee-k'>1:</span><span class='ee-v'>12.955607300755334</span></li></ul></details></li><li><details><summary>1054: [77.5117359474494, 12.955785594669093]</summary><ul><li><span class='ee-k'>0:</span><span class='ee-v'>77.5117359474494</span></li><li><span class='ee-k'>1:</span><span class='ee-v'>12.955785594669093</span></li></ul></details></li><li><details><summary>1055: [77.51176362857298, 12.955905039827735]</summary><ul><li><span class='ee-k'>0:</span><span class='ee-v'>77.51176362857298</span></li><li><span class='ee-k'>1:</span><span class='ee-v'>12.955905039827735</span></li></ul></details></li><li><details><summary>1056: [77.51184116064961, 12.956057884899364]</summary><ul><li><span class='ee-k'>0:</span><span class='ee-v'>77.51184116064961</span></li><li><span class='ee-k'>1:</span><span class='ee-v'>12.956057884899364</span></li></ul></details></li><li><details><summary>1057: [77.51190233476089, 12.9561871711735]</summary><ul><li><span class='ee-k'>0:</span><span class='ee-v'>77.51190233476089</span></li><li><span class='ee-k'>1:</span><span class='ee-v'>12.9561871711735</span></li></ul></details></li><li><details><summary>1058: [77.51192661327981, 12.956313518333483]</summary><ul><li><span class='ee-k'>0:</span><span class='ee-v'>77.51192661327981</span></li><li><span class='ee-k'>1:</span><span class='ee-v'>12.956313518333483</span></li></ul></details></li><li><details><summary>1059: [77.51193027743805, 12.956332589044774]</summary><ul><li><span class='ee-k'>0:</span><span class='ee-v'>77.51193027743805</span></li><li><span class='ee-k'>1:</span><span class='ee-v'>12.956332589044774</span></li></ul></details></li><li><details><summary>1060: [77.5120203249264, 12.95641303425127]</summary><ul><li><span class='ee-k'>0:</span><span class='ee-v'>77.5120203249264</span></li><li><span class='ee-k'>1:</span><span class='ee-v'>12.95641303425127</span></li></ul></details></li><li><details><summary>1061: [77.51204814313654, 12.956546030334488]</summary><ul><li><span class='ee-k'>0:</span><span class='ee-v'>77.51204814313654</span></li><li><span class='ee-k'>1:</span><span class='ee-v'>12.956546030334488</span></li></ul></details></li><li><details><summary>1062: [77.51204608013724, 12.956627364143364]</summary><ul><li><span class='ee-k'>0:</span><span class='ee-v'>77.51204608013724</span></li><li><span class='ee-k'>1:</span><span class='ee-v'>12.956627364143364</span></li></ul></details></li><li><details><summary>1063: [77.5119348745687, 12.956791064813004]</summary><ul><li><span class='ee-k'>0:</span><span class='ee-v'>77.5119348745687</span></li><li><span class='ee-k'>1:</span><span class='ee-v'>12.956791064813004</span></li></ul></details></li><li><details><summary>1064: [77.5119189260019, 12.956808159071718]</summary><ul><li><span class='ee-k'>0:</span><span class='ee-v'>77.5119189260019</span></li><li><span class='ee-k'>1:</span><span class='ee-v'>12.956808159071718</span></li></ul></details></li><li><details><summary>1065: [77.51189302226601, 12.956866790553443]</summary><ul><li><span class='ee-k'>0:</span><span class='ee-v'>77.51189302226601</span></li><li><span class='ee-k'>1:</span><span class='ee-v'>12.956866790553443</span></li></ul></details></li><li><details><summary>1066: [77.51187332556378, 12.956911370740096]</summary><ul><li><span class='ee-k'>0:</span><span class='ee-v'>77.51187332556378</span></li><li><span class='ee-k'>1:</span><span class='ee-v'>12.956911370740096</span></li></ul></details></li><li><details><summary>1067: [77.51186206087847, 12.95693632533046]</summary><ul><li><span class='ee-k'>0:</span><span class='ee-v'>77.51186206087847</span></li><li><span class='ee-k'>1:</span><span class='ee-v'>12.95693632533046</span></li></ul></details></li><li><details><summary>1068: [77.51181569029333, 12.956962747948774]</summary><ul><li><span class='ee-k'>0:</span><span class='ee-v'>77.51181569029333</span></li><li><span class='ee-k'>1:</span><span class='ee-v'>12.956962747948774</span></li></ul></details></li><li><details><summary>1069: [77.51178882905337, 12.957097400914165]</summary><ul><li><span class='ee-k'>0:</span><span class='ee-v'>77.51178882905337</span></li><li><span class='ee-k'>1:</span><span class='ee-v'>12.957097400914165</span></li></ul></details></li><li><details><summary>1070: [77.51183647942715, 12.957198583621892]</summary><ul><li><span class='ee-k'>0:</span><span class='ee-v'>77.51183647942715</span></li><li><span class='ee-k'>1:</span><span class='ee-v'>12.957198583621892</span></li></ul></details></li><li><details><summary>1071: [77.51186077560736, 12.957324838442728]</summary><ul><li><span class='ee-k'>0:</span><span class='ee-v'>77.51186077560736</span></li><li><span class='ee-k'>1:</span><span class='ee-v'>12.957324838442728</span></li></ul></details></li><li><details><summary>1072: [77.51189156107759, 12.957409243431467]</summary><ul><li><span class='ee-k'>0:</span><span class='ee-v'>77.51189156107759</span></li><li><span class='ee-k'>1:</span><span class='ee-v'>12.957409243431467</span></li></ul></details></li><li><details><summary>1073: [77.51190254840152, 12.957528848671346]</summary><ul><li><span class='ee-k'>0:</span><span class='ee-v'>77.51190254840152</span></li><li><span class='ee-k'>1:</span><span class='ee-v'>12.957528848671346</span></li></ul></details></li><li><details><summary>1074: [77.51191023516765, 12.95760667142911]</summary><ul><li><span class='ee-k'>0:</span><span class='ee-v'>77.51191023516765</span></li><li><span class='ee-k'>1:</span><span class='ee-v'>12.95760667142911</span></li></ul></details></li><li><details><summary>1075: [77.51191024279025, 12.957606696653235]</summary><ul><li><span class='ee-k'>0:</span><span class='ee-v'>77.51191024279025</span></li><li><span class='ee-k'>1:</span><span class='ee-v'>12.957606696653235</span></li></ul></details></li><li><details><summary>1076: [77.51191727143416, 12.9576226675589]</summary><ul><li><span class='ee-k'>0:</span><span class='ee-v'>77.51191727143416</span></li><li><span class='ee-k'>1:</span><span class='ee-v'>12.9576226675589</span></li></ul></details></li><li><details><summary>1077: [77.51194735639142, 12.957691044186019]</summary><ul><li><span class='ee-k'>0:</span><span class='ee-v'>77.51194735639142</span></li><li><span class='ee-k'>1:</span><span class='ee-v'>12.957691044186019</span></li></ul></details></li><li><details><summary>1078: [77.51194159202822, 12.95780516514079]</summary><ul><li><span class='ee-k'>0:</span><span class='ee-v'>77.51194159202822</span></li><li><span class='ee-k'>1:</span><span class='ee-v'>12.95780516514079</span></li></ul></details></li><li><details><summary>1079: [77.51195584105234, 12.95790554068619]</summary><ul><li><span class='ee-k'>0:</span><span class='ee-v'>77.51195584105234</span></li><li><span class='ee-k'>1:</span><span class='ee-v'>12.95790554068619</span></li></ul></details></li><li><details><summary>1080: [77.51199343305365, 12.95797971573308]</summary><ul><li><span class='ee-k'>0:</span><span class='ee-v'>77.51199343305365</span></li><li><span class='ee-k'>1:</span><span class='ee-v'>12.95797971573308</span></li></ul></details></li><li><details><summary>1081: [77.51199431654786, 12.958067797268889]</summary><ul><li><span class='ee-k'>0:</span><span class='ee-v'>77.51199431654786</span></li><li><span class='ee-k'>1:</span><span class='ee-v'>12.958067797268889</span></li></ul></details></li><li><details><summary>1082: [77.51198263868372, 12.958223761586526]</summary><ul><li><span class='ee-k'>0:</span><span class='ee-v'>77.51198263868372</span></li><li><span class='ee-k'>1:</span><span class='ee-v'>12.958223761586526</span></li></ul></details></li><li><details><summary>1083: [77.51196707622394, 12.95833684771514]</summary><ul><li><span class='ee-k'>0:</span><span class='ee-v'>77.51196707622394</span></li><li><span class='ee-k'>1:</span><span class='ee-v'>12.95833684771514</span></li></ul></details></li><li><details><summary>1084: [77.51200755812187, 12.958412124222534]</summary><ul><li><span class='ee-k'>0:</span><span class='ee-v'>77.51200755812187</span></li><li><span class='ee-k'>1:</span><span class='ee-v'>12.958412124222534</span></li></ul></details></li><li><details><summary>1085: [77.51200129543051, 12.958476558152865]</summary><ul><li><span class='ee-k'>0:</span><span class='ee-v'>77.51200129543051</span></li><li><span class='ee-k'>1:</span><span class='ee-v'>12.958476558152865</span></li></ul></details></li><li><details><summary>1086: [77.51199564241675, 12.958544374279837]</summary><ul><li><span class='ee-k'>0:</span><span class='ee-v'>77.51199564241675</span></li><li><span class='ee-k'>1:</span><span class='ee-v'>12.958544374279837</span></li></ul></details></li><li><details><summary>1087: [77.5119862860266, 12.958587380226371]</summary><ul><li><span class='ee-k'>0:</span><span class='ee-v'>77.5119862860266</span></li><li><span class='ee-k'>1:</span><span class='ee-v'>12.958587380226371</span></li></ul></details></li><li><details><summary>1088: [77.51194986059734, 12.958629517994307]</summary><ul><li><span class='ee-k'>0:</span><span class='ee-v'>77.51194986059734</span></li><li><span class='ee-k'>1:</span><span class='ee-v'>12.958629517994307</span></li></ul></details></li><li><details><summary>1089: [77.51188076772964, 12.9586866526273]</summary><ul><li><span class='ee-k'>0:</span><span class='ee-v'>77.51188076772964</span></li><li><span class='ee-k'>1:</span><span class='ee-v'>12.9586866526273</span></li></ul></details></li><li><details><summary>1090: [77.51181498176012, 12.958729073663694]</summary><ul><li><span class='ee-k'>0:</span><span class='ee-v'>77.51181498176012</span></li><li><span class='ee-k'>1:</span><span class='ee-v'>12.958729073663694</span></li></ul></details></li><li><details><summary>1091: [77.51176221025365, 12.958748781926147]</summary><ul><li><span class='ee-k'>0:</span><span class='ee-v'>77.51176221025365</span></li><li><span class='ee-k'>1:</span><span class='ee-v'>12.958748781926147</span></li></ul></details></li><li><details><summary>1092: [77.51170603924986, 12.958716572420679]</summary><ul><li><span class='ee-k'>0:</span><span class='ee-v'>77.51170603924986</span></li><li><span class='ee-k'>1:</span><span class='ee-v'>12.958716572420679</span></li></ul></details></li><li><details><summary>1093: [77.51165665201943, 12.95867187359064]</summary><ul><li><span class='ee-k'>0:</span><span class='ee-v'>77.51165665201943</span></li><li><span class='ee-k'>1:</span><span class='ee-v'>12.95867187359064</span></li></ul></details></li><li><details><summary>1094: [77.51162303705205, 12.958707208953646]</summary><ul><li><span class='ee-k'>0:</span><span class='ee-v'>77.51162303705205</span></li><li><span class='ee-k'>1:</span><span class='ee-v'>12.958707208953646</span></li></ul></details></li><li><details><summary>1095: [77.51159042813916, 12.958785449384978]</summary><ul><li><span class='ee-k'>0:</span><span class='ee-v'>77.51159042813916</span></li><li><span class='ee-k'>1:</span><span class='ee-v'>12.958785449384978</span></li></ul></details></li><li><details><summary>1096: [77.51156147725183, 12.958883983005705]</summary><ul><li><span class='ee-k'>0:</span><span class='ee-v'>77.51156147725183</span></li><li><span class='ee-k'>1:</span><span class='ee-v'>12.958883983005705</span></li></ul></details></li><li><details><summary>1097: [77.51156260982502, 12.958996908081255]</summary><ul><li><span class='ee-k'>0:</span><span class='ee-v'>77.51156260982502</span></li><li><span class='ee-k'>1:</span><span class='ee-v'>12.958996908081255</span></li></ul></details></li><li><details><summary>1098: [77.51160767855112, 12.959185076396247]</summary><ul><li><span class='ee-k'>0:</span><span class='ee-v'>77.51160767855112</span></li><li><span class='ee-k'>1:</span><span class='ee-v'>12.959185076396247</span></li></ul></details></li><li><details><summary>1099: [77.5116579700485, 12.959262517028092]</summary><ul><li><span class='ee-k'>0:</span><span class='ee-v'>77.5116579700485</span></li><li><span class='ee-k'>1:</span><span class='ee-v'>12.959262517028092</span></li></ul></details></li><li><details><summary>1100: [77.51175860779946, 12.959365447164576]</summary><ul><li><span class='ee-k'>0:</span><span class='ee-v'>77.51175860779946</span></li><li><span class='ee-k'>1:</span><span class='ee-v'>12.959365447164576</span></li></ul></details></li><li><details><summary>1101: [77.51183487444445, 12.95938161465432]</summary><ul><li><span class='ee-k'>0:</span><span class='ee-v'>77.51183487444445</span></li><li><span class='ee-k'>1:</span><span class='ee-v'>12.95938161465432</span></li></ul></details></li><li><details><summary>1102: [77.51191852715516, 12.959351481189367]</summary><ul><li><span class='ee-k'>0:</span><span class='ee-v'>77.51191852715516</span></li><li><span class='ee-k'>1:</span><span class='ee-v'>12.959351481189367</span></li></ul></details></li><li><details><summary>1103: [77.51200695802567, 12.959328040709677]</summary><ul><li><span class='ee-k'>0:</span><span class='ee-v'>77.51200695802567</span></li><li><span class='ee-k'>1:</span><span class='ee-v'>12.959328040709677</span></li></ul></details></li><li><details><summary>1104: [77.51207649075567, 12.95925734855654]</summary><ul><li><span class='ee-k'>0:</span><span class='ee-v'>77.51207649075567</span></li><li><span class='ee-k'>1:</span><span class='ee-v'>12.95925734855654</span></li></ul></details></li><li><details><summary>1105: [77.51216383609042, 12.959183098231202]</summary><ul><li><span class='ee-k'>0:</span><span class='ee-v'>77.51216383609042</span></li><li><span class='ee-k'>1:</span><span class='ee-v'>12.959183098231202</span></li></ul></details></li><li><details><summary>1106: [77.51236057510404, 12.959108920653945]</summary><ul><li><span class='ee-k'>0:</span><span class='ee-v'>77.51236057510404</span></li><li><span class='ee-k'>1:</span><span class='ee-v'>12.959108920653945</span></li></ul></details></li><li><details><summary>1107: [77.51244759171976, 12.959001921104573]</summary><ul><li><span class='ee-k'>0:</span><span class='ee-v'>77.51244759171976</span></li><li><span class='ee-k'>1:</span><span class='ee-v'>12.959001921104573</span></li></ul></details></li><li><details><summary>1108: [77.51249989865727, 12.958935912552622]</summary><ul><li><span class='ee-k'>0:</span><span class='ee-v'>77.51249989865727</span></li><li><span class='ee-k'>1:</span><span class='ee-v'>12.958935912552622</span></li></ul></details></li><li><details><summary>1109: [77.51254238689938, 12.958924209807163]</summary><ul><li><span class='ee-k'>0:</span><span class='ee-v'>77.51254238689938</span></li><li><span class='ee-k'>1:</span><span class='ee-v'>12.958924209807163</span></li></ul></details></li><li><details><summary>1110: [77.51275960955942, 12.958768520436438]</summary><ul><li><span class='ee-k'>0:</span><span class='ee-v'>77.51275960955942</span></li><li><span class='ee-k'>1:</span><span class='ee-v'>12.958768520436438</span></li></ul></details></li><li><details><summary>1111: [77.51293072055776, 12.95860762922713]</summary><ul><li><span class='ee-k'>0:</span><span class='ee-v'>77.51293072055776</span></li><li><span class='ee-k'>1:</span><span class='ee-v'>12.95860762922713</span></li></ul></details></li><li><details><summary>1112: [77.51298887359854, 12.958493002652125]</summary><ul><li><span class='ee-k'>0:</span><span class='ee-v'>77.51298887359854</span></li><li><span class='ee-k'>1:</span><span class='ee-v'>12.958493002652125</span></li></ul></details></li><li><details><summary>1113: [77.51307033545194, 12.958348787747836]</summary><ul><li><span class='ee-k'>0:</span><span class='ee-v'>77.51307033545194</span></li><li><span class='ee-k'>1:</span><span class='ee-v'>12.958348787747836</span></li></ul></details></li><li><details><summary>1114: [77.51309959073531, 12.958280743820367]</summary><ul><li><span class='ee-k'>0:</span><span class='ee-v'>77.51309959073531</span></li><li><span class='ee-k'>1:</span><span class='ee-v'>12.958280743820367</span></li></ul></details></li><li><details><summary>1115: [77.5131737624278, 12.958213395673734]</summary><ul><li><span class='ee-k'>0:</span><span class='ee-v'>77.5131737624278</span></li><li><span class='ee-k'>1:</span><span class='ee-v'>12.958213395673734</span></li></ul></details></li><li><details><summary>1116: [77.51325704319432, 12.958135795350998]</summary><ul><li><span class='ee-k'>0:</span><span class='ee-v'>77.51325704319432</span></li><li><span class='ee-k'>1:</span><span class='ee-v'>12.958135795350998</span></li></ul></details></li><li><details><summary>1117: [77.51339977233069, 12.9581874973559]</summary><ul><li><span class='ee-k'>0:</span><span class='ee-v'>77.51339977233069</span></li><li><span class='ee-k'>1:</span><span class='ee-v'>12.9581874973559</span></li></ul></details></li><li><details><summary>1118: [77.51351929239605, 12.958221353606332]</summary><ul><li><span class='ee-k'>0:</span><span class='ee-v'>77.51351929239605</span></li><li><span class='ee-k'>1:</span><span class='ee-v'>12.958221353606332</span></li></ul></details></li><li><details><summary>1119: [77.51364547053653, 12.958230299627413]</summary><ul><li><span class='ee-k'>0:</span><span class='ee-v'>77.51364547053653</span></li><li><span class='ee-k'>1:</span><span class='ee-v'>12.958230299627413</span></li></ul></details></li><li><details><summary>1120: [77.51373393568268, 12.958210246398703]</summary><ul><li><span class='ee-k'>0:</span><span class='ee-v'>77.51373393568268</span></li><li><span class='ee-k'>1:</span><span class='ee-v'>12.958210246398703</span></li></ul></details></li><li><details><summary>1121: [77.51384479287525, 12.95812673286989]</summary><ul><li><span class='ee-k'>0:</span><span class='ee-v'>77.51384479287525</span></li><li><span class='ee-k'>1:</span><span class='ee-v'>12.95812673286989</span></li></ul></details></li><li><details><summary>1122: [77.51387535743287, 12.958016889997344]</summary><ul><li><span class='ee-k'>0:</span><span class='ee-v'>77.51387535743287</span></li><li><span class='ee-k'>1:</span><span class='ee-v'>12.958016889997344</span></li></ul></details></li><li><details><summary>1123: [77.51390764962179, 12.957964627714546]</summary><ul><li><span class='ee-k'>0:</span><span class='ee-v'>77.51390764962179</span></li><li><span class='ee-k'>1:</span><span class='ee-v'>12.957964627714546</span></li></ul></details></li><li><details><summary>1124: [77.51398017324497, 12.957905200810757]</summary><ul><li><span class='ee-k'>0:</span><span class='ee-v'>77.51398017324497</span></li><li><span class='ee-k'>1:</span><span class='ee-v'>12.957905200810757</span></li></ul></details></li><li><details><summary>1125: [77.51404027207623, 12.957927207655283]</summary><ul><li><span class='ee-k'>0:</span><span class='ee-v'>77.51404027207623</span></li><li><span class='ee-k'>1:</span><span class='ee-v'>12.957927207655283</span></li></ul></details></li><li><details><summary>1126: [77.51410377085334, 12.958001132125021]</summary><ul><li><span class='ee-k'>0:</span><span class='ee-v'>77.51410377085334</span></li><li><span class='ee-k'>1:</span><span class='ee-v'>12.958001132125021</span></li></ul></details></li><li><details><summary>1127: [77.51416959016629, 12.957962098359301]</summary><ul><li><span class='ee-k'>0:</span><span class='ee-v'>77.51416959016629</span></li><li><span class='ee-k'>1:</span><span class='ee-v'>12.957962098359301</span></li></ul></details></li><li><details><summary>1128: [77.51420888221654, 12.957918803319334]</summary><ul><li><span class='ee-k'>0:</span><span class='ee-v'>77.51420888221654</span></li><li><span class='ee-k'>1:</span><span class='ee-v'>12.957918803319334</span></li></ul></details></li><li><details><summary>1129: [77.51426067829884, 12.957801979255507]</summary><ul><li><span class='ee-k'>0:</span><span class='ee-v'>77.51426067829884</span></li><li><span class='ee-k'>1:</span><span class='ee-v'>12.957801979255507</span></li></ul></details></li><li><details><summary>1130: [77.51435928684792, 12.957702772839637]</summary><ul><li><span class='ee-k'>0:</span><span class='ee-v'>77.51435928684792</span></li><li><span class='ee-k'>1:</span><span class='ee-v'>12.957702772839637</span></li></ul></details></li><li><details><summary>1131: [77.51447653905821, 12.95770840216798]</summary><ul><li><span class='ee-k'>0:</span><span class='ee-v'>77.51447653905821</span></li><li><span class='ee-k'>1:</span><span class='ee-v'>12.95770840216798</span></li></ul></details></li><li><details><summary>1132: [77.51447679619257, 12.957708414140416]</summary><ul><li><span class='ee-k'>0:</span><span class='ee-v'>77.51447679619257</span></li><li><span class='ee-k'>1:</span><span class='ee-v'>12.957708414140416</span></li></ul></details></li><li><details><summary>1133: [77.51452562179433, 12.957811844410772]</summary><ul><li><span class='ee-k'>0:</span><span class='ee-v'>77.51452562179433</span></li><li><span class='ee-k'>1:</span><span class='ee-v'>12.957811844410772</span></li></ul></details></li><li><details><summary>1134: [77.51464031713684, 12.957995950415532]</summary><ul><li><span class='ee-k'>0:</span><span class='ee-v'>77.51464031713684</span></li><li><span class='ee-k'>1:</span><span class='ee-v'>12.957995950415532</span></li></ul></details></li><li><details><summary>1135: [77.51474157894941, 12.95816098791858]</summary><ul><li><span class='ee-k'>0:</span><span class='ee-v'>77.51474157894941</span></li><li><span class='ee-k'>1:</span><span class='ee-v'>12.95816098791858</span></li></ul></details></li><li><details><summary>1136: [77.51478930137658, 12.958326543422311]</summary><ul><li><span class='ee-k'>0:</span><span class='ee-v'>77.51478930137658</span></li><li><span class='ee-k'>1:</span><span class='ee-v'>12.958326543422311</span></li></ul></details></li><li><details><summary>1137: [77.51475886814262, 12.958564001567995]</summary><ul><li><span class='ee-k'>0:</span><span class='ee-v'>77.51475886814262</span></li><li><span class='ee-k'>1:</span><span class='ee-v'>12.958564001567995</span></li></ul></details></li><li><details><summary>1138: [77.51478920380302, 12.95866083328802]</summary><ul><li><span class='ee-k'>0:</span><span class='ee-v'>77.51478920380302</span></li><li><span class='ee-k'>1:</span><span class='ee-v'>12.95866083328802</span></li></ul></details></li><li><details><summary>1139: [77.51484049131956, 12.95878004975809]</summary><ul><li><span class='ee-k'>0:</span><span class='ee-v'>77.51484049131956</span></li><li><span class='ee-k'>1:</span><span class='ee-v'>12.95878004975809</span></li></ul></details></li><li><details><summary>1140: [77.51488181330242, 12.958938889986722]</summary><ul><li><span class='ee-k'>0:</span><span class='ee-v'>77.51488181330242</span></li><li><span class='ee-k'>1:</span><span class='ee-v'>12.958938889986722</span></li></ul></details></li><li><details><summary>1141: [77.5149454486955, 12.959026365126805]</summary><ul><li><span class='ee-k'>0:</span><span class='ee-v'>77.5149454486955</span></li><li><span class='ee-k'>1:</span><span class='ee-v'>12.959026365126805</span></li></ul></details></li><li><details><summary>1142: [77.51497988243223, 12.959129933353935]</summary><ul><li><span class='ee-k'>0:</span><span class='ee-v'>77.51497988243223</span></li><li><span class='ee-k'>1:</span><span class='ee-v'>12.959129933353935</span></li></ul></details></li><li><details><summary>1143: [77.51498080108156, 12.959221402422498]</summary><ul><li><span class='ee-k'>0:</span><span class='ee-v'>77.51498080108156</span></li><li><span class='ee-k'>1:</span><span class='ee-v'>12.959221402422498</span></li></ul></details></li><li><details><summary>1144: [77.51498453016991, 12.959306068195493]</summary><ul><li><span class='ee-k'>0:</span><span class='ee-v'>77.51498453016991</span></li><li><span class='ee-k'>1:</span><span class='ee-v'>12.959306068195493</span></li></ul></details></li><li><details><summary>1145: [77.51506190303077, 12.959385505065914]</summary><ul><li><span class='ee-k'>0:</span><span class='ee-v'>77.51506190303077</span></li><li><span class='ee-k'>1:</span><span class='ee-v'>12.959385505065914</span></li></ul></details></li><li><details><summary>1146: [77.51518809671437, 12.95945317664629]</summary><ul><li><span class='ee-k'>0:</span><span class='ee-v'>77.51518809671437</span></li><li><span class='ee-k'>1:</span><span class='ee-v'>12.95945317664629</span></li></ul></details></li><li><details><summary>1147: [77.51527148474175, 12.959500933319362]</summary><ul><li><span class='ee-k'>0:</span><span class='ee-v'>77.51527148474175</span></li><li><span class='ee-k'>1:</span><span class='ee-v'>12.959500933319362</span></li></ul></details></li><li><details><summary>1148: [77.51533184492581, 12.959548911559256]</summary><ul><li><span class='ee-k'>0:</span><span class='ee-v'>77.51533184492581</span></li><li><span class='ee-k'>1:</span><span class='ee-v'>12.959548911559256</span></li></ul></details></li><li><details><summary>1149: [77.51535677003815, 12.959565611982883]</summary><ul><li><span class='ee-k'>0:</span><span class='ee-v'>77.51535677003815</span></li><li><span class='ee-k'>1:</span><span class='ee-v'>12.959565611982883</span></li></ul></details></li><li><details><summary>1150: [77.51542451464304, 12.959622395589507]</summary><ul><li><span class='ee-k'>0:</span><span class='ee-v'>77.51542451464304</span></li><li><span class='ee-k'>1:</span><span class='ee-v'>12.959622395589507</span></li></ul></details></li><li><details><summary>1151: [77.51546128024661, 12.959652691982111]</summary><ul><li><span class='ee-k'>0:</span><span class='ee-v'>77.51546128024661</span></li><li><span class='ee-k'>1:</span><span class='ee-v'>12.959652691982111</span></li></ul></details></li><li><details><summary>1152: [77.5155216631985, 12.959702929561944]</summary><ul><li><span class='ee-k'>0:</span><span class='ee-v'>77.5155216631985</span></li><li><span class='ee-k'>1:</span><span class='ee-v'>12.959702929561944</span></li></ul></details></li><li><details><summary>1153: [77.51552008122513, 12.959730688177729]</summary><ul><li><span class='ee-k'>0:</span><span class='ee-v'>77.51552008122513</span></li><li><span class='ee-k'>1:</span><span class='ee-v'>12.959730688177729</span></li></ul></details></li><li><details><summary>1154: [77.5155192157967, 12.959745868772345]</summary><ul><li><span class='ee-k'>0:</span><span class='ee-v'>77.5155192157967</span></li><li><span class='ee-k'>1:</span><span class='ee-v'>12.959745868772345</span></li></ul></details></li><li><details><summary>1155: [77.51564770990055, 12.959985180071493]</summary><ul><li><span class='ee-k'>0:</span><span class='ee-v'>77.51564770990055</span></li><li><span class='ee-k'>1:</span><span class='ee-v'>12.959985180071493</span></li></ul></details></li><li><details><summary>1156: [77.51577235298942, 12.960185000996649]</summary><ul><li><span class='ee-k'>0:</span><span class='ee-v'>77.51577235298942</span></li><li><span class='ee-k'>1:</span><span class='ee-v'>12.960185000996649</span></li></ul></details></li><li><details><summary>1157: [77.51577762797939, 12.960251582057857]</summary><ul><li><span class='ee-k'>0:</span><span class='ee-v'>77.51577762797939</span></li><li><span class='ee-k'>1:</span><span class='ee-v'>12.960251582057857</span></li></ul></details></li><li><details><summary>1158: [77.51578360255863, 12.960330579279734]</summary><ul><li><span class='ee-k'>0:</span><span class='ee-v'>77.51578360255863</span></li><li><span class='ee-k'>1:</span><span class='ee-v'>12.960330579279734</span></li></ul></details></li><li><details><summary>1159: [77.51577271354597, 12.960392799131323]</summary><ul><li><span class='ee-k'>0:</span><span class='ee-v'>77.51577271354597</span></li><li><span class='ee-k'>1:</span><span class='ee-v'>12.960392799131323</span></li></ul></details></li><li><details><summary>1160: [77.5158538051475, 12.960555772102698]</summary><ul><li><span class='ee-k'>0:</span><span class='ee-v'>77.5158538051475</span></li><li><span class='ee-k'>1:</span><span class='ee-v'>12.960555772102698</span></li></ul></details></li><li><details><summary>1161: [77.51592313325654, 12.96069401288507]</summary><ul><li><span class='ee-k'>0:</span><span class='ee-v'>77.51592313325654</span></li><li><span class='ee-k'>1:</span><span class='ee-v'>12.96069401288507</span></li></ul></details></li><li><details><summary>1162: [77.51597410716181, 12.960839207179019]</summary><ul><li><span class='ee-k'>0:</span><span class='ee-v'>77.51597410716181</span></li><li><span class='ee-k'>1:</span><span class='ee-v'>12.960839207179019</span></li></ul></details></li><li><details><summary>1163: [77.51597143593389, 12.960917158591807]</summary><ul><li><span class='ee-k'>0:</span><span class='ee-v'>77.51597143593389</span></li><li><span class='ee-k'>1:</span><span class='ee-v'>12.960917158591807</span></li></ul></details></li><li><details><summary>1164: [77.51599185324488, 12.961287390141834]</summary><ul><li><span class='ee-k'>0:</span><span class='ee-v'>77.51599185324488</span></li><li><span class='ee-k'>1:</span><span class='ee-v'>12.961287390141834</span></li></ul></details></li><li><details><summary>1165: [77.5160251615534, 12.961543526937708]</summary><ul><li><span class='ee-k'>0:</span><span class='ee-v'>77.5160251615534</span></li><li><span class='ee-k'>1:</span><span class='ee-v'>12.961543526937708</span></li></ul></details></li><li><details><summary>1166: [77.51603116365999, 12.961589677662992]</summary><ul><li><span class='ee-k'>0:</span><span class='ee-v'>77.51603116365999</span></li><li><span class='ee-k'>1:</span><span class='ee-v'>12.961589677662992</span></li></ul></details></li><li><details><summary>1167: [77.51605692361005, 12.961804006353788]</summary><ul><li><span class='ee-k'>0:</span><span class='ee-v'>77.51605692361005</span></li><li><span class='ee-k'>1:</span><span class='ee-v'>12.961804006353788</span></li></ul></details></li><li><details><summary>1168: [77.51619001588509, 12.961870481135398]</summary><ul><li><span class='ee-k'>0:</span><span class='ee-v'>77.51619001588509</span></li><li><span class='ee-k'>1:</span><span class='ee-v'>12.961870481135398</span></li></ul></details></li><li><details><summary>1169: [77.51641188795784, 12.961890923278652]</summary><ul><li><span class='ee-k'>0:</span><span class='ee-v'>77.51641188795784</span></li><li><span class='ee-k'>1:</span><span class='ee-v'>12.961890923278652</span></li></ul></details></li><li><details><summary>1170: [77.51654771944581, 12.961886221946987]</summary><ul><li><span class='ee-k'>0:</span><span class='ee-v'>77.51654771944581</span></li><li><span class='ee-k'>1:</span><span class='ee-v'>12.961886221946987</span></li></ul></details></li><li><details><summary>1171: [77.51687551728004, 12.96184804237239]</summary><ul><li><span class='ee-k'>0:</span><span class='ee-v'>77.51687551728004</span></li><li><span class='ee-k'>1:</span><span class='ee-v'>12.96184804237239</span></li></ul></details></li><li><details><summary>1172: [77.51695841824578, 12.961847240721347]</summary><ul><li><span class='ee-k'>0:</span><span class='ee-v'>77.51695841824578</span></li><li><span class='ee-k'>1:</span><span class='ee-v'>12.961847240721347</span></li></ul></details></li><li><details><summary>1173: [77.51738697057355, 12.961751618430501]</summary><ul><li><span class='ee-k'>0:</span><span class='ee-v'>77.51738697057355</span></li><li><span class='ee-k'>1:</span><span class='ee-v'>12.961751618430501</span></li></ul></details></li><li><details><summary>1174: [77.51745050295925, 12.961771332348674]</summary><ul><li><span class='ee-k'>0:</span><span class='ee-v'>77.51745050295925</span></li><li><span class='ee-k'>1:</span><span class='ee-v'>12.961771332348674</span></li></ul></details></li><li><details><summary>1175: [77.51758540930214, 12.961822048308075]</summary><ul><li><span class='ee-k'>0:</span><span class='ee-v'>77.51758540930214</span></li><li><span class='ee-k'>1:</span><span class='ee-v'>12.961822048308075</span></li></ul></details></li><li><details><summary>1176: [77.51766723104984, 12.961852808340398]</summary><ul><li><span class='ee-k'>0:</span><span class='ee-v'>77.51766723104984</span></li><li><span class='ee-k'>1:</span><span class='ee-v'>12.961852808340398</span></li></ul></details></li><li><details><summary>1177: [77.51776099773343, 12.96195919005081]</summary><ul><li><span class='ee-k'>0:</span><span class='ee-v'>77.51776099773343</span></li><li><span class='ee-k'>1:</span><span class='ee-v'>12.96195919005081</span></li></ul></details></li><li><details><summary>1178: [77.51779895554799, 12.962069499652214]</summary><ul><li><span class='ee-k'>0:</span><span class='ee-v'>77.51779895554799</span></li><li><span class='ee-k'>1:</span><span class='ee-v'>12.962069499652214</span></li></ul></details></li><li><details><summary>1179: [77.5177957982351, 12.962164823355062]</summary><ul><li><span class='ee-k'>0:</span><span class='ee-v'>77.5177957982351</span></li><li><span class='ee-k'>1:</span><span class='ee-v'>12.962164823355062</span></li></ul></details></li><li><details><summary>1180: [77.51779453862741, 12.962202806258968]</summary><ul><li><span class='ee-k'>0:</span><span class='ee-v'>77.51779453862741</span></li><li><span class='ee-k'>1:</span><span class='ee-v'>12.962202806258968</span></li></ul></details></li><li><details><summary>1181: [77.51779373928467, 12.962237823993595]</summary><ul><li><span class='ee-k'>0:</span><span class='ee-v'>77.51779373928467</span></li><li><span class='ee-k'>1:</span><span class='ee-v'>12.962237823993595</span></li></ul></details></li><li><details><summary>1182: [77.51772890773742, 12.962375103090904]</summary><ul><li><span class='ee-k'>0:</span><span class='ee-v'>77.51772890773742</span></li><li><span class='ee-k'>1:</span><span class='ee-v'>12.962375103090904</span></li></ul></details></li><li><details><summary>1183: [77.51768762662738, 12.962564104699739]</summary><ul><li><span class='ee-k'>0:</span><span class='ee-v'>77.51768762662738</span></li><li><span class='ee-k'>1:</span><span class='ee-v'>12.962564104699739</span></li></ul></details></li><li><details><summary>1184: [77.517649901908, 12.962763236102996]</summary><ul><li><span class='ee-k'>0:</span><span class='ee-v'>77.517649901908</span></li><li><span class='ee-k'>1:</span><span class='ee-v'>12.962763236102996</span></li></ul></details></li><li><details><summary>1185: [77.51760537879998, 12.962916129717257]</summary><ul><li><span class='ee-k'>0:</span><span class='ee-v'>77.51760537879998</span></li><li><span class='ee-k'>1:</span><span class='ee-v'>12.962916129717257</span></li></ul></details></li><li><details><summary>1186: [77.51756203765338, 12.963014802856932]</summary><ul><li><span class='ee-k'>0:</span><span class='ee-v'>77.51756203765338</span></li><li><span class='ee-k'>1:</span><span class='ee-v'>12.963014802856932</span></li></ul></details></li><li><details><summary>1187: [77.5174839236665, 12.96303362814487]</summary><ul><li><span class='ee-k'>0:</span><span class='ee-v'>77.5174839236665</span></li><li><span class='ee-k'>1:</span><span class='ee-v'>12.96303362814487</span></li></ul></details></li><li><details><summary>1188: [77.51745536116087, 12.963170556396443]</summary><ul><li><span class='ee-k'>0:</span><span class='ee-v'>77.51745536116087</span></li><li><span class='ee-k'>1:</span><span class='ee-v'>12.963170556396443</span></li></ul></details></li><li><details><summary>1189: [77.51745416667174, 12.963197704095172]</summary><ul><li><span class='ee-k'>0:</span><span class='ee-v'>77.51745416667174</span></li><li><span class='ee-k'>1:</span><span class='ee-v'>12.963197704095172</span></li></ul></details></li><li><details><summary>1190: [77.51744880031853, 12.963319694733139]</summary><ul><li><span class='ee-k'>0:</span><span class='ee-v'>77.51744880031853</span></li><li><span class='ee-k'>1:</span><span class='ee-v'>12.963319694733139</span></li></ul></details></li><li><details><summary>1191: [77.51744470918065, 12.963428152396467]</summary><ul><li><span class='ee-k'>0:</span><span class='ee-v'>77.51744470918065</span></li><li><span class='ee-k'>1:</span><span class='ee-v'>12.963428152396467</span></li></ul></details></li><li><details><summary>1192: [77.51746391439983, 12.963677554092476]</summary><ul><li><span class='ee-k'>0:</span><span class='ee-v'>77.51746391439983</span></li><li><span class='ee-k'>1:</span><span class='ee-v'>12.963677554092476</span></li></ul></details></li><li><details><summary>1193: [77.51746881927119, 12.963732270427823]</summary><ul><li><span class='ee-k'>0:</span><span class='ee-v'>77.51746881927119</span></li><li><span class='ee-k'>1:</span><span class='ee-v'>12.963732270427823</span></li></ul></details></li><li><details><summary>1194: [77.51747493926976, 12.963800547145226]</summary><ul><li><span class='ee-k'>0:</span><span class='ee-v'>77.51747493926976</span></li><li><span class='ee-k'>1:</span><span class='ee-v'>12.963800547145226</span></li></ul></details></li><li><details><summary>1195: [77.51756163930435, 12.963891186192166]</summary><ul><li><span class='ee-k'>0:</span><span class='ee-v'>77.51756163930435</span></li><li><span class='ee-k'>1:</span><span class='ee-v'>12.963891186192166</span></li></ul></details></li><li><details><summary>1196: [77.51764182137237, 12.96390622057312]</summary><ul><li><span class='ee-k'>0:</span><span class='ee-v'>77.51764182137237</span></li><li><span class='ee-k'>1:</span><span class='ee-v'>12.96390622057312</span></li></ul></details></li><li><details><summary>1197: [77.51777508644435, 12.963989633819335]</summary><ul><li><span class='ee-k'>0:</span><span class='ee-v'>77.51777508644435</span></li><li><span class='ee-k'>1:</span><span class='ee-v'>12.963989633819335</span></li></ul></details></li><li><details><summary>1198: [77.51782208116563, 12.964025319407641]</summary><ul><li><span class='ee-k'>0:</span><span class='ee-v'>77.51782208116563</span></li><li><span class='ee-k'>1:</span><span class='ee-v'>12.964025319407641</span></li></ul></details></li><li><details><summary>1199: [77.51791203116134, 12.964095597569552]</summary><ul><li><span class='ee-k'>0:</span><span class='ee-v'>77.51791203116134</span></li><li><span class='ee-k'>1:</span><span class='ee-v'>12.964095597569552</span></li></ul></details></li><li><details><summary>1200: [77.51801574499288, 12.964217693729978]</summary><ul><li><span class='ee-k'>0:</span><span class='ee-v'>77.51801574499288</span></li><li><span class='ee-k'>1:</span><span class='ee-v'>12.964217693729978</span></li></ul></details></li><li><details><summary>1201: [77.51805307094898, 12.964322363444245]</summary><ul><li><span class='ee-k'>0:</span><span class='ee-v'>77.51805307094898</span></li><li><span class='ee-k'>1:</span><span class='ee-v'>12.964322363444245</span></li></ul></details></li><li><details><summary>1202: [77.51812758295385, 12.96446055214913]</summary><ul><li><span class='ee-k'>0:</span><span class='ee-v'>77.51812758295385</span></li><li><span class='ee-k'>1:</span><span class='ee-v'>12.96446055214913</span></li></ul></details></li><li><details><summary>1203: [77.51821808988448, 12.964586164041318]</summary><ul><li><span class='ee-k'>0:</span><span class='ee-v'>77.51821808988448</span></li><li><span class='ee-k'>1:</span><span class='ee-v'>12.964586164041318</span></li></ul></details></li><li><details><summary>1204: [77.51826574463922, 12.964687344780144]</summary><ul><li><span class='ee-k'>0:</span><span class='ee-v'>77.51826574463922</span></li><li><span class='ee-k'>1:</span><span class='ee-v'>12.964687344780144</span></li></ul></details></li><li><details><summary>1205: [77.51833367790438, 12.964858349225537]</summary><ul><li><span class='ee-k'>0:</span><span class='ee-v'>77.51833367790438</span></li><li><span class='ee-k'>1:</span><span class='ee-v'>12.964858349225537</span></li></ul></details></li><li><details><summary>1206: [77.51836166020456, 12.965007153188456]</summary><ul><li><span class='ee-k'>0:</span><span class='ee-v'>77.51836166020456</span></li><li><span class='ee-k'>1:</span><span class='ee-v'>12.965007153188456</span></li></ul></details></li><li><details><summary>1207: [77.51840478587067, 12.965149299179371]</summary><ul><li><span class='ee-k'>0:</span><span class='ee-v'>77.51840478587067</span></li><li><span class='ee-k'>1:</span><span class='ee-v'>12.965149299179371</span></li></ul></details></li><li><details><summary>1208: [77.51842657117933, 12.965221102288586]</summary><ul><li><span class='ee-k'>0:</span><span class='ee-v'>77.51842657117933</span></li><li><span class='ee-k'>1:</span><span class='ee-v'>12.965221102288586</span></li></ul></details></li><li><details><summary>1209: [77.51847441934672, 12.965341480098177]</summary><ul><li><span class='ee-k'>0:</span><span class='ee-v'>77.51847441934672</span></li><li><span class='ee-k'>1:</span><span class='ee-v'>12.965341480098177</span></li></ul></details></li><li><details><summary>1210: [77.51844343654753, 12.965455442681868]</summary><ul><li><span class='ee-k'>0:</span><span class='ee-v'>77.51844343654753</span></li><li><span class='ee-k'>1:</span><span class='ee-v'>12.965455442681868</span></li></ul></details></li><li><details><summary>1211: [77.51844332729314, 12.965455845789362]</summary><ul><li><span class='ee-k'>0:</span><span class='ee-v'>77.51844332729314</span></li><li><span class='ee-k'>1:</span><span class='ee-v'>12.965455845789362</span></li></ul></details></li><li><details><summary>1212: [77.51835678158393, 12.965495081439716]</summary><ul><li><span class='ee-k'>0:</span><span class='ee-v'>77.51835678158393</span></li><li><span class='ee-k'>1:</span><span class='ee-v'>12.965495081439716</span></li></ul></details></li><li><details><summary>1213: [77.51823369723355, 12.965565163241966]</summary><ul><li><span class='ee-k'>0:</span><span class='ee-v'>77.51823369723355</span></li><li><span class='ee-k'>1:</span><span class='ee-v'>12.965565163241966</span></li></ul></details></li><li><details><summary>1214: [77.51777718576585, 12.965801099403519]</summary><ul><li><span class='ee-k'>0:</span><span class='ee-v'>77.51777718576585</span></li><li><span class='ee-k'>1:</span><span class='ee-v'>12.965801099403519</span></li></ul></details></li><li><details><summary>1215: [77.51764698807578, 12.965850921423845]</summary><ul><li><span class='ee-k'>0:</span><span class='ee-v'>77.51764698807578</span></li><li><span class='ee-k'>1:</span><span class='ee-v'>12.965850921423845</span></li></ul></details></li><li><details><summary>1216: [77.51752309265378, 12.96595489144578]</summary><ul><li><span class='ee-k'>0:</span><span class='ee-v'>77.51752309265378</span></li><li><span class='ee-k'>1:</span><span class='ee-v'>12.96595489144578</span></li></ul></details></li><li><details><summary>1217: [77.51745203336031, 12.966159991281213]</summary><ul><li><span class='ee-k'>0:</span><span class='ee-v'>77.51745203336031</span></li><li><span class='ee-k'>1:</span><span class='ee-v'>12.966159991281213</span></li></ul></details></li><li><details><summary>1218: [77.51742442554178, 12.966220114197089]</summary><ul><li><span class='ee-k'>0:</span><span class='ee-v'>77.51742442554178</span></li><li><span class='ee-k'>1:</span><span class='ee-v'>12.966220114197089</span></li></ul></details></li><li><details><summary>1219: [77.51740752904912, 12.966257546382272]</summary><ul><li><span class='ee-k'>0:</span><span class='ee-v'>77.51740752904912</span></li><li><span class='ee-k'>1:</span><span class='ee-v'>12.966257546382272</span></li></ul></details></li><li><details><summary>1220: [77.51739062119363, 12.966293849322147]</summary><ul><li><span class='ee-k'>0:</span><span class='ee-v'>77.51739062119363</span></li><li><span class='ee-k'>1:</span><span class='ee-v'>12.966293849322147</span></li></ul></details></li><li><details><summary>1221: [77.51740230520245, 12.966482338552417]</summary><ul><li><span class='ee-k'>0:</span><span class='ee-v'>77.51740230520245</span></li><li><span class='ee-k'>1:</span><span class='ee-v'>12.966482338552417</span></li></ul></details></li><li><details><summary>1222: [77.51752639714115, 12.966626824695838]</summary><ul><li><span class='ee-k'>0:</span><span class='ee-v'>77.51752639714115</span></li><li><span class='ee-k'>1:</span><span class='ee-v'>12.966626824695838</span></li></ul></details></li><li><details><summary>1223: [77.51753566532908, 12.966632381793971]</summary><ul><li><span class='ee-k'>0:</span><span class='ee-v'>77.51753566532908</span></li><li><span class='ee-k'>1:</span><span class='ee-v'>12.966632381793971</span></li></ul></details></li><li><details><summary>1224: [77.51758910091695, 12.96666156679268]</summary><ul><li><span class='ee-k'>0:</span><span class='ee-v'>77.51758910091695</span></li><li><span class='ee-k'>1:</span><span class='ee-v'>12.96666156679268</span></li></ul></details></li><li><details><summary>1225: [77.51764334982006, 12.966691195650297]</summary><ul><li><span class='ee-k'>0:</span><span class='ee-v'>77.51764334982006</span></li><li><span class='ee-k'>1:</span><span class='ee-v'>12.966691195650297</span></li></ul></details></li><li><details><summary>1226: [77.5177530114279, 12.966774836122804]</summary><ul><li><span class='ee-k'>0:</span><span class='ee-v'>77.5177530114279</span></li><li><span class='ee-k'>1:</span><span class='ee-v'>12.966774836122804</span></li></ul></details></li><li><details><summary>1227: [77.51782380869157, 12.966887085587523]</summary><ul><li><span class='ee-k'>0:</span><span class='ee-v'>77.51782380869157</span></li><li><span class='ee-k'>1:</span><span class='ee-v'>12.966887085587523</span></li></ul></details></li><li><details><summary>1228: [77.51787746728098, 12.96695545785812]</summary><ul><li><span class='ee-k'>0:</span><span class='ee-v'>77.51787746728098</span></li><li><span class='ee-k'>1:</span><span class='ee-v'>12.96695545785812</span></li></ul></details></li><li><details><summary>1229: [77.51794758296803, 12.966999954405017]</summary><ul><li><span class='ee-k'>0:</span><span class='ee-v'>77.51794758296803</span></li><li><span class='ee-k'>1:</span><span class='ee-v'>12.966999954405017</span></li></ul></details></li><li><details><summary>1230: [77.51799765097716, 12.967054807328397]</summary><ul><li><span class='ee-k'>0:</span><span class='ee-v'>77.51799765097716</span></li><li><span class='ee-k'>1:</span><span class='ee-v'>12.967054807328397</span></li></ul></details></li><li><details><summary>1231: [77.51804598805724, 12.967223742684185]</summary><ul><li><span class='ee-k'>0:</span><span class='ee-v'>77.51804598805724</span></li><li><span class='ee-k'>1:</span><span class='ee-v'>12.967223742684185</span></li></ul></details></li><li><details><summary>1232: [77.51810699756581, 12.967336087654097]</summary><ul><li><span class='ee-k'>0:</span><span class='ee-v'>77.51810699756581</span></li><li><span class='ee-k'>1:</span><span class='ee-v'>12.967336087654097</span></li></ul></details></li><li><details><summary>1233: [77.51814464335149, 12.967472375168006]</summary><ul><li><span class='ee-k'>0:</span><span class='ee-v'>77.51814464335149</span></li><li><span class='ee-k'>1:</span><span class='ee-v'>12.967472375168006</span></li></ul></details></li><li><details><summary>1234: [77.51811595618356, 12.967596881789483]</summary><ul><li><span class='ee-k'>0:</span><span class='ee-v'>77.51811595618356</span></li><li><span class='ee-k'>1:</span><span class='ee-v'>12.967596881789483</span></li></ul></details></li><li><details><summary>1235: [77.51802580393854, 12.967735535550306]</summary><ul><li><span class='ee-k'>0:</span><span class='ee-v'>77.51802580393854</span></li><li><span class='ee-k'>1:</span><span class='ee-v'>12.967735535550306</span></li></ul></details></li><li><details><summary>1236: [77.51785774073626, 12.967913341364955]</summary><ul><li><span class='ee-k'>0:</span><span class='ee-v'>77.51785774073626</span></li><li><span class='ee-k'>1:</span><span class='ee-v'>12.967913341364955</span></li></ul></details></li><li><details><summary>1237: [77.51773268177968, 12.96801619444551]</summary><ul><li><span class='ee-k'>0:</span><span class='ee-v'>77.51773268177968</span></li><li><span class='ee-k'>1:</span><span class='ee-v'>12.96801619444551</span></li></ul></details></li><li><details><summary>1238: [77.51762779545527, 12.968121109174042]</summary><ul><li><span class='ee-k'>0:</span><span class='ee-v'>77.51762779545527</span></li><li><span class='ee-k'>1:</span><span class='ee-v'>12.968121109174042</span></li></ul></details></li><li><details><summary>1239: [77.51748021890185, 12.968275000130548]</summary><ul><li><span class='ee-k'>0:</span><span class='ee-v'>77.51748021890185</span></li><li><span class='ee-k'>1:</span><span class='ee-v'>12.968275000130548</span></li></ul></details></li><li><details><summary>1240: [77.5174591216193, 12.968467194585628]</summary><ul><li><span class='ee-k'>0:</span><span class='ee-v'>77.5174591216193</span></li><li><span class='ee-k'>1:</span><span class='ee-v'>12.968467194585628</span></li></ul></details></li><li><details><summary>1241: [77.5174609166616, 12.968645615262176]</summary><ul><li><span class='ee-k'>0:</span><span class='ee-v'>77.5174609166616</span></li><li><span class='ee-k'>1:</span><span class='ee-v'>12.968645615262176</span></li></ul></details></li><li><details><summary>1242: [77.51746082181613, 12.968750646168505]</summary><ul><li><span class='ee-k'>0:</span><span class='ee-v'>77.51746082181613</span></li><li><span class='ee-k'>1:</span><span class='ee-v'>12.968750646168505</span></li></ul></details></li><li><details><summary>1243: [77.51742361212318, 12.968886528807444]</summary><ul><li><span class='ee-k'>0:</span><span class='ee-v'>77.51742361212318</span></li><li><span class='ee-k'>1:</span><span class='ee-v'>12.968886528807444</span></li></ul></details></li><li><details><summary>1244: [77.51747840357375, 12.96901022761]</summary><ul><li><span class='ee-k'>0:</span><span class='ee-v'>77.51747840357375</span></li><li><span class='ee-k'>1:</span><span class='ee-v'>12.96901022761</span></li></ul></details></li><li><details><summary>1245: [77.51746179866163, 12.96901942313466]</summary><ul><li><span class='ee-k'>0:</span><span class='ee-v'>77.51746179866163</span></li><li><span class='ee-k'>1:</span><span class='ee-v'>12.96901942313466</span></li></ul></details></li><li><details><summary>1246: [77.51746822616481, 12.969085992861661]</summary><ul><li><span class='ee-k'>0:</span><span class='ee-v'>77.51746822616481</span></li><li><span class='ee-k'>1:</span><span class='ee-v'>12.969085992861661</span></li></ul></details></li><li><details><summary>1247: [77.51747366893903, 12.969111915348751]</summary><ul><li><span class='ee-k'>0:</span><span class='ee-v'>77.51747366893903</span></li><li><span class='ee-k'>1:</span><span class='ee-v'>12.969111915348751</span></li></ul></details></li><li><details><summary>1248: [77.5174754190954, 12.969118213763522]</summary><ul><li><span class='ee-k'>0:</span><span class='ee-v'>77.5174754190954</span></li><li><span class='ee-k'>1:</span><span class='ee-v'>12.969118213763522</span></li></ul></details></li><li><details><summary>1249: [77.51748024042692, 12.969135568203358]</summary><ul><li><span class='ee-k'>0:</span><span class='ee-v'>77.51748024042692</span></li><li><span class='ee-k'>1:</span><span class='ee-v'>12.969135568203358</span></li></ul></details></li><li><details><summary>1250: [77.51748813004055, 12.969161951278311]</summary><ul><li><span class='ee-k'>0:</span><span class='ee-v'>77.51748813004055</span></li><li><span class='ee-k'>1:</span><span class='ee-v'>12.969161951278311</span></li></ul></details></li><li><details><summary>1251: [77.51749573172566, 12.969187368604512]</summary><ul><li><span class='ee-k'>0:</span><span class='ee-v'>77.51749573172566</span></li><li><span class='ee-k'>1:</span><span class='ee-v'>12.969187368604512</span></li></ul></details></li><li><details><summary>1252: [77.51748995555636, 12.969242762880365]</summary><ul><li><span class='ee-k'>0:</span><span class='ee-v'>77.51748995555636</span></li><li><span class='ee-k'>1:</span><span class='ee-v'>12.969242762880365</span></li></ul></details></li><li><details><summary>1253: [77.51744050434739, 12.969306485293597]</summary><ul><li><span class='ee-k'>0:</span><span class='ee-v'>77.51744050434739</span></li><li><span class='ee-k'>1:</span><span class='ee-v'>12.969306485293597</span></li></ul></details></li><li><details><summary>1254: [77.51755849236207, 12.96947361731015]</summary><ul><li><span class='ee-k'>0:</span><span class='ee-v'>77.51755849236207</span></li><li><span class='ee-k'>1:</span><span class='ee-v'>12.96947361731015</span></li></ul></details></li><li><details><summary>1255: [77.51766247012654, 12.969621685812786]</summary><ul><li><span class='ee-k'>0:</span><span class='ee-v'>77.51766247012654</span></li><li><span class='ee-k'>1:</span><span class='ee-v'>12.969621685812786</span></li></ul></details></li><li><details><summary>1256: [77.51777309312067, 12.969760435551725]</summary><ul><li><span class='ee-k'>0:</span><span class='ee-v'>77.51777309312067</span></li><li><span class='ee-k'>1:</span><span class='ee-v'>12.969760435551725</span></li></ul></details></li><li><details><summary>1257: [77.51777326574255, 12.96976065342745]</summary><ul><li><span class='ee-k'>0:</span><span class='ee-v'>77.51777326574255</span></li><li><span class='ee-k'>1:</span><span class='ee-v'>12.96976065342745</span></li></ul></details></li><li><details><summary>1258: [77.51782065743761, 12.969778264399496]</summary><ul><li><span class='ee-k'>0:</span><span class='ee-v'>77.51782065743761</span></li><li><span class='ee-k'>1:</span><span class='ee-v'>12.969778264399496</span></li></ul></details></li><li><details><summary>1259: [77.51793972054858, 12.969823414585775]</summary><ul><li><span class='ee-k'>0:</span><span class='ee-v'>77.51793972054858</span></li><li><span class='ee-k'>1:</span><span class='ee-v'>12.969823414585775</span></li></ul></details></li><li><details><summary>1260: [77.51798062321032, 12.96988287534458]</summary><ul><li><span class='ee-k'>0:</span><span class='ee-v'>77.51798062321032</span></li><li><span class='ee-k'>1:</span><span class='ee-v'>12.96988287534458</span></li></ul></details></li><li><details><summary>1261: [77.51800923121364, 12.969922125824466]</summary><ul><li><span class='ee-k'>0:</span><span class='ee-v'>77.51800923121364</span></li><li><span class='ee-k'>1:</span><span class='ee-v'>12.969922125824466</span></li></ul></details></li><li><details><summary>1262: [77.51810292605376, 12.970078199083865]</summary><ul><li><span class='ee-k'>0:</span><span class='ee-v'>77.51810292605376</span></li><li><span class='ee-k'>1:</span><span class='ee-v'>12.970078199083865</span></li></ul></details></li><li><details><summary>1263: [77.51817114902806, 12.970163369567222]</summary><ul><li><span class='ee-k'>0:</span><span class='ee-v'>77.51817114902806</span></li><li><span class='ee-k'>1:</span><span class='ee-v'>12.970163369567222</span></li></ul></details></li><li><details><summary>1264: [77.51819732919444, 12.970190220623476]</summary><ul><li><span class='ee-k'>0:</span><span class='ee-v'>77.51819732919444</span></li><li><span class='ee-k'>1:</span><span class='ee-v'>12.970190220623476</span></li></ul></details></li><li><details><summary>1265: [77.51833223741838, 12.97032217834515]</summary><ul><li><span class='ee-k'>0:</span><span class='ee-v'>77.51833223741838</span></li><li><span class='ee-k'>1:</span><span class='ee-v'>12.97032217834515</span></li></ul></details></li><li><details><summary>1266: [77.51844431661344, 12.970516289858685]</summary><ul><li><span class='ee-k'>0:</span><span class='ee-v'>77.51844431661344</span></li><li><span class='ee-k'>1:</span><span class='ee-v'>12.970516289858685</span></li></ul></details></li><li><details><summary>1267: [77.51845998371765, 12.970543424262578]</summary><ul><li><span class='ee-k'>0:</span><span class='ee-v'>77.51845998371765</span></li><li><span class='ee-k'>1:</span><span class='ee-v'>12.970543424262578</span></li></ul></details></li><li><details><summary>1268: [77.51854174812892, 12.97071542373121]</summary><ul><li><span class='ee-k'>0:</span><span class='ee-v'>77.51854174812892</span></li><li><span class='ee-k'>1:</span><span class='ee-v'>12.97071542373121</span></li></ul></details></li><li><details><summary>1269: [77.51853502212641, 12.970905220280722]</summary><ul><li><span class='ee-k'>0:</span><span class='ee-v'>77.51853502212641</span></li><li><span class='ee-k'>1:</span><span class='ee-v'>12.970905220280722</span></li></ul></details></li><li><details><summary>1270: [77.51847221973922, 12.971015375672218]</summary><ul><li><span class='ee-k'>0:</span><span class='ee-v'>77.51847221973922</span></li><li><span class='ee-k'>1:</span><span class='ee-v'>12.971015375672218</span></li></ul></details></li><li><details><summary>1271: [77.51839203610817, 12.971139342842463]</summary><ul><li><span class='ee-k'>0:</span><span class='ee-v'>77.51839203610817</span></li><li><span class='ee-k'>1:</span><span class='ee-v'>12.971139342842463</span></li></ul></details></li><li><details><summary>1272: [77.51836563236064, 12.971180163971331]</summary><ul><li><span class='ee-k'>0:</span><span class='ee-v'>77.51836563236064</span></li><li><span class='ee-k'>1:</span><span class='ee-v'>12.971180163971331</span></li></ul></details></li><li><details><summary>1273: [77.51825753546417, 12.971382985433948]</summary><ul><li><span class='ee-k'>0:</span><span class='ee-v'>77.51825753546417</span></li><li><span class='ee-k'>1:</span><span class='ee-v'>12.971382985433948</span></li></ul></details></li><li><details><summary>1274: [77.51825430667148, 12.971389042926763]</summary><ul><li><span class='ee-k'>0:</span><span class='ee-v'>77.51825430667148</span></li><li><span class='ee-k'>1:</span><span class='ee-v'>12.971389042926763</span></li></ul></details></li><li><details><summary>1275: [77.51819491293524, 12.971494647872625]</summary><ul><li><span class='ee-k'>0:</span><span class='ee-v'>77.51819491293524</span></li><li><span class='ee-k'>1:</span><span class='ee-v'>12.971494647872625</span></li></ul></details></li><li><details><summary>1276: [77.51802463589397, 12.971681510438408]</summary><ul><li><span class='ee-k'>0:</span><span class='ee-v'>77.51802463589397</span></li><li><span class='ee-k'>1:</span><span class='ee-v'>12.971681510438408</span></li></ul></details></li><li><details><summary>1277: [77.5179069767866, 12.971890450641634]</summary><ul><li><span class='ee-k'>0:</span><span class='ee-v'>77.5179069767866</span></li><li><span class='ee-k'>1:</span><span class='ee-v'>12.971890450641634</span></li></ul></details></li><li><details><summary>1278: [77.51790151190515, 12.971923030752157]</summary><ul><li><span class='ee-k'>0:</span><span class='ee-v'>77.51790151190515</span></li><li><span class='ee-k'>1:</span><span class='ee-v'>12.971923030752157</span></li></ul></details></li><li><details><summary>1279: [77.51787927431022, 12.972055604528416]</summary><ul><li><span class='ee-k'>0:</span><span class='ee-v'>77.51787927431022</span></li><li><span class='ee-k'>1:</span><span class='ee-v'>12.972055604528416</span></li></ul></details></li><li><details><summary>1280: [77.51788429323506, 12.972153809751935]</summary><ul><li><span class='ee-k'>0:</span><span class='ee-v'>77.51788429323506</span></li><li><span class='ee-k'>1:</span><span class='ee-v'>12.972153809751935</span></li></ul></details></li><li><details><summary>1281: [77.51790766716114, 12.972245061154933]</summary><ul><li><span class='ee-k'>0:</span><span class='ee-v'>77.51790766716114</span></li><li><span class='ee-k'>1:</span><span class='ee-v'>12.972245061154933</span></li></ul></details></li><li><details><summary>1282: [77.51799148084737, 12.972334598063922]</summary><ul><li><span class='ee-k'>0:</span><span class='ee-v'>77.51799148084737</span></li><li><span class='ee-k'>1:</span><span class='ee-v'>12.972334598063922</span></li></ul></details></li><li><details><summary>1283: [77.51804964105426, 12.972506826146331]</summary><ul><li><span class='ee-k'>0:</span><span class='ee-v'>77.51804964105426</span></li><li><span class='ee-k'>1:</span><span class='ee-v'>12.972506826146331</span></li></ul></details></li><li><details><summary>1284: [77.51814004932554, 12.972622274274132]</summary><ul><li><span class='ee-k'>0:</span><span class='ee-v'>77.51814004932554</span></li><li><span class='ee-k'>1:</span><span class='ee-v'>12.972622274274132</span></li></ul></details></li><li><details><summary>1285: [77.51816796505659, 12.972764302576875]</summary><ul><li><span class='ee-k'>0:</span><span class='ee-v'>77.51816796505659</span></li><li><span class='ee-k'>1:</span><span class='ee-v'>12.972764302576875</span></li></ul></details></li><li><details><summary>1286: [77.51810206022715, 12.972909497985999]</summary><ul><li><span class='ee-k'>0:</span><span class='ee-v'>77.51810206022715</span></li><li><span class='ee-k'>1:</span><span class='ee-v'>12.972909497985999</span></li></ul></details></li><li><details><summary>1287: [77.51779263098034, 12.973172245219683]</summary><ul><li><span class='ee-k'>0:</span><span class='ee-v'>77.51779263098034</span></li><li><span class='ee-k'>1:</span><span class='ee-v'>12.973172245219683</span></li></ul></details></li><li><details><summary>1288: [77.51762657553775, 12.973206604058753]</summary><ul><li><span class='ee-k'>0:</span><span class='ee-v'>77.51762657553775</span></li><li><span class='ee-k'>1:</span><span class='ee-v'>12.973206604058753</span></li></ul></details></li><li><details><summary>1289: [77.51752149772496, 12.973178258040395]</summary><ul><li><span class='ee-k'>0:</span><span class='ee-v'>77.51752149772496</span></li><li><span class='ee-k'>1:</span><span class='ee-v'>12.973178258040395</span></li></ul></details></li><li><details><summary>1290: [77.51751237310735, 12.97312978413048]</summary><ul><li><span class='ee-k'>0:</span><span class='ee-v'>77.51751237310735</span></li><li><span class='ee-k'>1:</span><span class='ee-v'>12.97312978413048</span></li></ul></details></li><li><details><summary>1291: [77.51739479981579, 12.973118499326679]</summary><ul><li><span class='ee-k'>0:</span><span class='ee-v'>77.51739479981579</span></li><li><span class='ee-k'>1:</span><span class='ee-v'>12.973118499326679</span></li></ul></details></li><li><details><summary>1292: [77.5173117778656, 12.973222074197704]</summary><ul><li><span class='ee-k'>0:</span><span class='ee-v'>77.5173117778656</span></li><li><span class='ee-k'>1:</span><span class='ee-v'>12.973222074197704</span></li></ul></details></li><li><details><summary>1293: [77.5172964909866, 12.973362262125915]</summary><ul><li><span class='ee-k'>0:</span><span class='ee-v'>77.5172964909866</span></li><li><span class='ee-k'>1:</span><span class='ee-v'>12.973362262125915</span></li></ul></details></li><li><details><summary>1294: [77.51731270254032, 12.97354280192664]</summary><ul><li><span class='ee-k'>0:</span><span class='ee-v'>77.51731270254032</span></li><li><span class='ee-k'>1:</span><span class='ee-v'>12.97354280192664</span></li></ul></details></li><li><details><summary>1295: [77.51731533503413, 12.973575527725291]</summary><ul><li><span class='ee-k'>0:</span><span class='ee-v'>77.51731533503413</span></li><li><span class='ee-k'>1:</span><span class='ee-v'>12.973575527725291</span></li></ul></details></li><li><details><summary>1296: [77.51733792122175, 12.97370292615252]</summary><ul><li><span class='ee-k'>0:</span><span class='ee-v'>77.51733792122175</span></li><li><span class='ee-k'>1:</span><span class='ee-v'>12.97370292615252</span></li></ul></details></li><li><details><summary>1297: [77.5173978047759, 12.97381754063289]</summary><ul><li><span class='ee-k'>0:</span><span class='ee-v'>77.5173978047759</span></li><li><span class='ee-k'>1:</span><span class='ee-v'>12.97381754063289</span></li></ul></details></li><li><details><summary>1298: [77.51748389564017, 12.974018861672485]</summary><ul><li><span class='ee-k'>0:</span><span class='ee-v'>77.51748389564017</span></li><li><span class='ee-k'>1:</span><span class='ee-v'>12.974018861672485</span></li></ul></details></li><li><details><summary>1299: [77.51754423401748, 12.97417864585978]</summary><ul><li><span class='ee-k'>0:</span><span class='ee-v'>77.51754423401748</span></li><li><span class='ee-k'>1:</span><span class='ee-v'>12.97417864585978</span></li></ul></details></li><li><details><summary>1300: [77.51758048648513, 12.97434522881357]</summary><ul><li><span class='ee-k'>0:</span><span class='ee-v'>77.51758048648513</span></li><li><span class='ee-k'>1:</span><span class='ee-v'>12.97434522881357</span></li></ul></details></li><li><details><summary>1301: [77.51758081102885, 12.97434671912963]</summary><ul><li><span class='ee-k'>0:</span><span class='ee-v'>77.51758081102885</span></li><li><span class='ee-k'>1:</span><span class='ee-v'>12.97434671912963</span></li></ul></details></li><li><details><summary>1302: [77.51758347509772, 12.97435896264248]</summary><ul><li><span class='ee-k'>0:</span><span class='ee-v'>77.51758347509772</span></li><li><span class='ee-k'>1:</span><span class='ee-v'>12.97435896264248</span></li></ul></details></li><li><details><summary>1303: [77.51760403132101, 12.974448583430707]</summary><ul><li><span class='ee-k'>0:</span><span class='ee-v'>77.51760403132101</span></li><li><span class='ee-k'>1:</span><span class='ee-v'>12.974448583430707</span></li></ul></details></li><li><details><summary>1304: [77.51760531031196, 12.97445410307692]</summary><ul><li><span class='ee-k'>0:</span><span class='ee-v'>77.51760531031196</span></li><li><span class='ee-k'>1:</span><span class='ee-v'>12.97445410307692</span></li></ul></details></li><li><details><summary>1305: [77.51760621948796, 12.974458028041383]</summary><ul><li><span class='ee-k'>0:</span><span class='ee-v'>77.51760621948796</span></li><li><span class='ee-k'>1:</span><span class='ee-v'>12.974458028041383</span></li></ul></details></li><li><details><summary>1306: [77.51762321241802, 12.974531369123788]</summary><ul><li><span class='ee-k'>0:</span><span class='ee-v'>77.51762321241802</span></li><li><span class='ee-k'>1:</span><span class='ee-v'>12.974531369123788</span></li></ul></details></li><li><details><summary>1307: [77.51774710142425, 12.974769592726247]</summary><ul><li><span class='ee-k'>0:</span><span class='ee-v'>77.51774710142425</span></li><li><span class='ee-k'>1:</span><span class='ee-v'>12.974769592726247</span></li></ul></details></li><li><details><summary>1308: [77.51780651613694, 12.974951972807725]</summary><ul><li><span class='ee-k'>0:</span><span class='ee-v'>77.51780651613694</span></li><li><span class='ee-k'>1:</span><span class='ee-v'>12.974951972807725</span></li></ul></details></li><li><details><summary>1309: [77.51777724480748, 12.974961291058026]</summary><ul><li><span class='ee-k'>0:</span><span class='ee-v'>77.51777724480748</span></li><li><span class='ee-k'>1:</span><span class='ee-v'>12.974961291058026</span></li></ul></details></li><li><details><summary>1310: [77.51782153143816, 12.975128006643958]</summary><ul><li><span class='ee-k'>0:</span><span class='ee-v'>77.51782153143816</span></li><li><span class='ee-k'>1:</span><span class='ee-v'>12.975128006643958</span></li></ul></details></li><li><details><summary>1311: [77.51793224647224, 12.97520147195892]</summary><ul><li><span class='ee-k'>0:</span><span class='ee-v'>77.51793224647224</span></li><li><span class='ee-k'>1:</span><span class='ee-v'>12.97520147195892</span></li></ul></details></li><li><details><summary>1312: [77.51803580990281, 12.975193692994239]</summary><ul><li><span class='ee-k'>0:</span><span class='ee-v'>77.51803580990281</span></li><li><span class='ee-k'>1:</span><span class='ee-v'>12.975193692994239</span></li></ul></details></li><li><details><summary>1313: [77.51813291212298, 12.975287618395061]</summary><ul><li><span class='ee-k'>0:</span><span class='ee-v'>77.51813291212298</span></li><li><span class='ee-k'>1:</span><span class='ee-v'>12.975287618395061</span></li></ul></details></li><li><details><summary>1314: [77.51817764141214, 12.97532671261234]</summary><ul><li><span class='ee-k'>0:</span><span class='ee-v'>77.51817764141214</span></li><li><span class='ee-k'>1:</span><span class='ee-v'>12.97532671261234</span></li></ul></details></li><li><details><summary>1315: [77.51820900381058, 12.975353513378932]</summary><ul><li><span class='ee-k'>0:</span><span class='ee-v'>77.51820900381058</span></li><li><span class='ee-k'>1:</span><span class='ee-v'>12.975353513378932</span></li></ul></details></li><li><details><summary>1316: [77.51834003601911, 12.975386124993488]</summary><ul><li><span class='ee-k'>0:</span><span class='ee-v'>77.51834003601911</span></li><li><span class='ee-k'>1:</span><span class='ee-v'>12.975386124993488</span></li></ul></details></li><li><details><summary>1317: [77.51851949794114, 12.97542504359137]</summary><ul><li><span class='ee-k'>0:</span><span class='ee-v'>77.51851949794114</span></li><li><span class='ee-k'>1:</span><span class='ee-v'>12.97542504359137</span></li></ul></details></li><li><details><summary>1318: [77.51858151063088, 12.975465099676496]</summary><ul><li><span class='ee-k'>0:</span><span class='ee-v'>77.51858151063088</span></li><li><span class='ee-k'>1:</span><span class='ee-v'>12.975465099676496</span></li></ul></details></li><li><details><summary>1319: [77.51860271461628, 12.975512327137668]</summary><ul><li><span class='ee-k'>0:</span><span class='ee-v'>77.51860271461628</span></li><li><span class='ee-k'>1:</span><span class='ee-v'>12.975512327137668</span></li></ul></details></li><li><details><summary>1320: [77.5185903186142, 12.975653616373059]</summary><ul><li><span class='ee-k'>0:</span><span class='ee-v'>77.5185903186142</span></li><li><span class='ee-k'>1:</span><span class='ee-v'>12.975653616373059</span></li></ul></details></li><li><details><summary>1321: [77.51856433958933, 12.975761156573984]</summary><ul><li><span class='ee-k'>0:</span><span class='ee-v'>77.51856433958933</span></li><li><span class='ee-k'>1:</span><span class='ee-v'>12.975761156573984</span></li></ul></details></li><li><details><summary>1322: [77.518555594733, 12.975802571995466]</summary><ul><li><span class='ee-k'>0:</span><span class='ee-v'>77.518555594733</span></li><li><span class='ee-k'>1:</span><span class='ee-v'>12.975802571995466</span></li></ul></details></li><li><details><summary>1323: [77.51853136504364, 12.975917326728736]</summary><ul><li><span class='ee-k'>0:</span><span class='ee-v'>77.51853136504364</span></li><li><span class='ee-k'>1:</span><span class='ee-v'>12.975917326728736</span></li></ul></details></li><li><details><summary>1324: [77.51852223719249, 12.975982917636422]</summary><ul><li><span class='ee-k'>0:</span><span class='ee-v'>77.51852223719249</span></li><li><span class='ee-k'>1:</span><span class='ee-v'>12.975982917636422</span></li></ul></details></li><li><details><summary>1325: [77.51846730088356, 12.976073798015365]</summary><ul><li><span class='ee-k'>0:</span><span class='ee-v'>77.51846730088356</span></li><li><span class='ee-k'>1:</span><span class='ee-v'>12.976073798015365</span></li></ul></details></li><li><details><summary>1326: [77.5184593017391, 12.976137119284779]</summary><ul><li><span class='ee-k'>0:</span><span class='ee-v'>77.5184593017391</span></li><li><span class='ee-k'>1:</span><span class='ee-v'>12.976137119284779</span></li></ul></details></li><li><details><summary>1327: [77.51845727600515, 12.976221840411531]</summary><ul><li><span class='ee-k'>0:</span><span class='ee-v'>77.51845727600515</span></li><li><span class='ee-k'>1:</span><span class='ee-v'>12.976221840411531</span></li></ul></details></li><li><details><summary>1328: [77.51845590561685, 12.976314460664243]</summary><ul><li><span class='ee-k'>0:</span><span class='ee-v'>77.51845590561685</span></li><li><span class='ee-k'>1:</span><span class='ee-v'>12.976314460664243</span></li></ul></details></li><li><details><summary>1329: [77.51843683105932, 12.976364336969025]</summary><ul><li><span class='ee-k'>0:</span><span class='ee-v'>77.51843683105932</span></li><li><span class='ee-k'>1:</span><span class='ee-v'>12.976364336969025</span></li></ul></details></li><li><details><summary>1330: [77.51843445278107, 12.976414051555034]</summary><ul><li><span class='ee-k'>0:</span><span class='ee-v'>77.51843445278107</span></li><li><span class='ee-k'>1:</span><span class='ee-v'>12.976414051555034</span></li></ul></details></li><li><details><summary>1331: [77.51843563553179, 12.976531492853368]</summary><ul><li><span class='ee-k'>0:</span><span class='ee-v'>77.51843563553179</span></li><li><span class='ee-k'>1:</span><span class='ee-v'>12.976531492853368</span></li></ul></details></li><li><details><summary>1332: [77.51847303270308, 12.976642936604543]</summary><ul><li><span class='ee-k'>0:</span><span class='ee-v'>77.51847303270308</span></li><li><span class='ee-k'>1:</span><span class='ee-v'>12.976642936604543</span></li></ul></details></li><li><details><summary>1333: [77.51857103149234, 12.976940136611729]</summary><ul><li><span class='ee-k'>0:</span><span class='ee-v'>77.51857103149234</span></li><li><span class='ee-k'>1:</span><span class='ee-v'>12.976940136611729</span></li></ul></details></li><li><details><summary>1334: [77.51868279136129, 12.97723155646054]</summary><ul><li><span class='ee-k'>0:</span><span class='ee-v'>77.51868279136129</span></li><li><span class='ee-k'>1:</span><span class='ee-v'>12.97723155646054</span></li></ul></details></li><li><details><summary>1335: [77.51871139827313, 12.977332959962547]</summary><ul><li><span class='ee-k'>0:</span><span class='ee-v'>77.51871139827313</span></li><li><span class='ee-k'>1:</span><span class='ee-v'>12.977332959962547</span></li></ul></details></li><li><details><summary>1336: [77.5187117278817, 12.977334128586222]</summary><ul><li><span class='ee-k'>0:</span><span class='ee-v'>77.5187117278817</span></li><li><span class='ee-k'>1:</span><span class='ee-v'>12.977334128586222</span></li></ul></details></li><li><details><summary>1337: [77.51875205641784, 12.977477084424228]</summary><ul><li><span class='ee-k'>0:</span><span class='ee-v'>77.51875205641784</span></li><li><span class='ee-k'>1:</span><span class='ee-v'>12.977477084424228</span></li></ul></details></li><li><details><summary>1338: [77.51881221406128, 12.97770624906614]</summary><ul><li><span class='ee-k'>0:</span><span class='ee-v'>77.51881221406128</span></li><li><span class='ee-k'>1:</span><span class='ee-v'>12.97770624906614</span></li></ul></details></li><li><details><summary>1339: [77.51884845837992, 12.977844319552384]</summary><ul><li><span class='ee-k'>0:</span><span class='ee-v'>77.51884845837992</span></li><li><span class='ee-k'>1:</span><span class='ee-v'>12.977844319552384</span></li></ul></details></li><li><details><summary>1340: [77.5190144746761, 12.97843449193337]</summary><ul><li><span class='ee-k'>0:</span><span class='ee-v'>77.5190144746761</span></li><li><span class='ee-k'>1:</span><span class='ee-v'>12.97843449193337</span></li></ul></details></li><li><details><summary>1341: [77.51906335768238, 12.978600033130897]</summary><ul><li><span class='ee-k'>0:</span><span class='ee-v'>77.51906335768238</span></li><li><span class='ee-k'>1:</span><span class='ee-v'>12.978600033130897</span></li></ul></details></li><li><details><summary>1342: [77.51931178561031, 12.978911585788591]</summary><ul><li><span class='ee-k'>0:</span><span class='ee-v'>77.51931178561031</span></li><li><span class='ee-k'>1:</span><span class='ee-v'>12.978911585788591</span></li></ul></details></li><li><details><summary>1343: [77.51949261575561, 12.979086012266775]</summary><ul><li><span class='ee-k'>0:</span><span class='ee-v'>77.51949261575561</span></li><li><span class='ee-k'>1:</span><span class='ee-v'>12.979086012266775</span></li></ul></details></li><li><details><summary>1344: [77.51956917101255, 12.979140608556593]</summary><ul><li><span class='ee-k'>0:</span><span class='ee-v'>77.51956917101255</span></li><li><span class='ee-k'>1:</span><span class='ee-v'>12.979140608556593</span></li></ul></details></li><li><details><summary>1345: [77.51968471324075, 12.979407145151624]</summary><ul><li><span class='ee-k'>0:</span><span class='ee-v'>77.51968471324075</span></li><li><span class='ee-k'>1:</span><span class='ee-v'>12.979407145151624</span></li></ul></details></li><li><details><summary>1346: [77.51972075526832, 12.979498273327392]</summary><ul><li><span class='ee-k'>0:</span><span class='ee-v'>77.51972075526832</span></li><li><span class='ee-k'>1:</span><span class='ee-v'>12.979498273327392</span></li></ul></details></li><li><details><summary>1347: [77.51972971475234, 12.979587405304706]</summary><ul><li><span class='ee-k'>0:</span><span class='ee-v'>77.51972971475234</span></li><li><span class='ee-k'>1:</span><span class='ee-v'>12.979587405304706</span></li></ul></details></li><li><details><summary>1348: [77.51972499971815, 12.979633754447322]</summary><ul><li><span class='ee-k'>0:</span><span class='ee-v'>77.51972499971815</span></li><li><span class='ee-k'>1:</span><span class='ee-v'>12.979633754447322</span></li></ul></details></li><li><details><summary>1349: [77.51966647232591, 12.979711117705834]</summary><ul><li><span class='ee-k'>0:</span><span class='ee-v'>77.51966647232591</span></li><li><span class='ee-k'>1:</span><span class='ee-v'>12.979711117705834</span></li></ul></details></li><li><details><summary>1350: [77.51962475520442, 12.979799611540379]</summary><ul><li><span class='ee-k'>0:</span><span class='ee-v'>77.51962475520442</span></li><li><span class='ee-k'>1:</span><span class='ee-v'>12.979799611540379</span></li></ul></details></li><li><details><summary>1351: [77.5195510013896, 12.979908744236482]</summary><ul><li><span class='ee-k'>0:</span><span class='ee-v'>77.5195510013896</span></li><li><span class='ee-k'>1:</span><span class='ee-v'>12.979908744236482</span></li></ul></details></li><li><details><summary>1352: [77.51945635476469, 12.980058736108667]</summary><ul><li><span class='ee-k'>0:</span><span class='ee-v'>77.51945635476469</span></li><li><span class='ee-k'>1:</span><span class='ee-v'>12.980058736108667</span></li></ul></details></li><li><details><summary>1353: [77.51944597331014, 12.980114174995434]</summary><ul><li><span class='ee-k'>0:</span><span class='ee-v'>77.51944597331014</span></li><li><span class='ee-k'>1:</span><span class='ee-v'>12.980114174995434</span></li></ul></details></li><li><details><summary>1354: [77.5194414972215, 12.980184238225839]</summary><ul><li><span class='ee-k'>0:</span><span class='ee-v'>77.5194414972215</span></li><li><span class='ee-k'>1:</span><span class='ee-v'>12.980184238225839</span></li></ul></details></li><li><details><summary>1355: [77.51943405137794, 12.980245295421641]</summary><ul><li><span class='ee-k'>0:</span><span class='ee-v'>77.51943405137794</span></li><li><span class='ee-k'>1:</span><span class='ee-v'>12.980245295421641</span></li></ul></details></li><li><details><summary>1356: [77.51940003033542, 12.980297575376225]</summary><ul><li><span class='ee-k'>0:</span><span class='ee-v'>77.51940003033542</span></li><li><span class='ee-k'>1:</span><span class='ee-v'>12.980297575376225</span></li></ul></details></li><li><details><summary>1357: [77.51930988238456, 12.980379762482615]</summary><ul><li><span class='ee-k'>0:</span><span class='ee-v'>77.51930988238456</span></li><li><span class='ee-k'>1:</span><span class='ee-v'>12.980379762482615</span></li></ul></details></li><li><details><summary>1358: [77.51926979661293, 12.980401608690338]</summary><ul><li><span class='ee-k'>0:</span><span class='ee-v'>77.51926979661293</span></li><li><span class='ee-k'>1:</span><span class='ee-v'>12.980401608690338</span></li></ul></details></li><li><details><summary>1359: [77.51916864795201, 12.980420658636392]</summary><ul><li><span class='ee-k'>0:</span><span class='ee-v'>77.51916864795201</span></li><li><span class='ee-k'>1:</span><span class='ee-v'>12.980420658636392</span></li></ul></details></li><li><details><summary>1360: [77.5190989034092, 12.980413429091096]</summary><ul><li><span class='ee-k'>0:</span><span class='ee-v'>77.5190989034092</span></li><li><span class='ee-k'>1:</span><span class='ee-v'>12.980413429091096</span></li></ul></details></li><li><details><summary>1361: [77.51895874987153, 12.980561603172353]</summary><ul><li><span class='ee-k'>0:</span><span class='ee-v'>77.51895874987153</span></li><li><span class='ee-k'>1:</span><span class='ee-v'>12.980561603172353</span></li></ul></details></li><li><details><summary>1362: [77.51894433809917, 12.98061708111736]</summary><ul><li><span class='ee-k'>0:</span><span class='ee-v'>77.51894433809917</span></li><li><span class='ee-k'>1:</span><span class='ee-v'>12.98061708111736</span></li></ul></details></li><li><details><summary>1363: [77.51887822774339, 12.980741950576595]</summary><ul><li><span class='ee-k'>0:</span><span class='ee-v'>77.51887822774339</span></li><li><span class='ee-k'>1:</span><span class='ee-v'>12.980741950576595</span></li></ul></details></li><li><details><summary>1364: [77.51883175634568, 12.980815808842161]</summary><ul><li><span class='ee-k'>0:</span><span class='ee-v'>77.51883175634568</span></li><li><span class='ee-k'>1:</span><span class='ee-v'>12.980815808842161</span></li></ul></details></li><li><details><summary>1365: [77.51880471685394, 12.980932394206993]</summary><ul><li><span class='ee-k'>0:</span><span class='ee-v'>77.51880471685394</span></li><li><span class='ee-k'>1:</span><span class='ee-v'>12.980932394206993</span></li></ul></details></li><li><details><summary>1366: [77.51880546037913, 12.981006185238396]</summary><ul><li><span class='ee-k'>0:</span><span class='ee-v'>77.51880546037913</span></li><li><span class='ee-k'>1:</span><span class='ee-v'>12.981006185238396</span></li></ul></details></li><li><details><summary>1367: [77.51880609363806, 12.98106903255413]</summary><ul><li><span class='ee-k'>0:</span><span class='ee-v'>77.51880609363806</span></li><li><span class='ee-k'>1:</span><span class='ee-v'>12.98106903255413</span></li></ul></details></li><li><details><summary>1368: [77.5187761003114, 12.981235338069249]</summary><ul><li><span class='ee-k'>0:</span><span class='ee-v'>77.5187761003114</span></li><li><span class='ee-k'>1:</span><span class='ee-v'>12.981235338069249</span></li></ul></details></li><li><details><summary>1369: [77.51869577589466, 12.98149247954806]</summary><ul><li><span class='ee-k'>0:</span><span class='ee-v'>77.51869577589466</span></li><li><span class='ee-k'>1:</span><span class='ee-v'>12.98149247954806</span></li></ul></details></li><li><details><summary>1370: [77.51864934985213, 12.981570854783103]</summary><ul><li><span class='ee-k'>0:</span><span class='ee-v'>77.51864934985213</span></li><li><span class='ee-k'>1:</span><span class='ee-v'>12.981570854783103</span></li></ul></details></li><li><details><summary>1371: [77.51854315998183, 12.981661102661763]</summary><ul><li><span class='ee-k'>0:</span><span class='ee-v'>77.51854315998183</span></li><li><span class='ee-k'>1:</span><span class='ee-v'>12.981661102661763</span></li></ul></details></li><li><details><summary>1372: [77.5184963015147, 12.98169656665878]</summary><ul><li><span class='ee-k'>0:</span><span class='ee-v'>77.5184963015147</span></li><li><span class='ee-k'>1:</span><span class='ee-v'>12.98169656665878</span></li></ul></details></li><li><details><summary>1373: [77.51845371669022, 12.981813302656933]</summary><ul><li><span class='ee-k'>0:</span><span class='ee-v'>77.51845371669022</span></li><li><span class='ee-k'>1:</span><span class='ee-v'>12.981813302656933</span></li></ul></details></li><li><details><summary>1374: [77.51842795814987, 12.98199989550025]</summary><ul><li><span class='ee-k'>0:</span><span class='ee-v'>77.51842795814987</span></li><li><span class='ee-k'>1:</span><span class='ee-v'>12.98199989550025</span></li></ul></details></li><li><details><summary>1375: [77.51838966968813, 12.982200161994408]</summary><ul><li><span class='ee-k'>0:</span><span class='ee-v'>77.51838966968813</span></li><li><span class='ee-k'>1:</span><span class='ee-v'>12.982200161994408</span></li></ul></details></li><li><details><summary>1376: [77.51837428379616, 12.98221612202261]</summary><ul><li><span class='ee-k'>0:</span><span class='ee-v'>77.51837428379616</span></li><li><span class='ee-k'>1:</span><span class='ee-v'>12.98221612202261</span></li></ul></details></li><li><details><summary>1377: [77.51829156958681, 12.982236122490875]</summary><ul><li><span class='ee-k'>0:</span><span class='ee-v'>77.51829156958681</span></li><li><span class='ee-k'>1:</span><span class='ee-v'>12.982236122490875</span></li></ul></details></li><li><details><summary>1378: [77.51825614629425, 12.9822635701953]</summary><ul><li><span class='ee-k'>0:</span><span class='ee-v'>77.51825614629425</span></li><li><span class='ee-k'>1:</span><span class='ee-v'>12.9822635701953</span></li></ul></details></li><li><details><summary>1379: [77.51822913614568, 12.982325946327503]</summary><ul><li><span class='ee-k'>0:</span><span class='ee-v'>77.51822913614568</span></li><li><span class='ee-k'>1:</span><span class='ee-v'>12.982325946327503</span></li></ul></details></li><li><details><summary>1380: [77.51822512176773, 12.982384711588185]</summary><ul><li><span class='ee-k'>0:</span><span class='ee-v'>77.51822512176773</span></li><li><span class='ee-k'>1:</span><span class='ee-v'>12.982384711588185</span></li></ul></details></li><li><details><summary>1381: [77.51823918311943, 12.982465888770026]</summary><ul><li><span class='ee-k'>0:</span><span class='ee-v'>77.51823918311943</span></li><li><span class='ee-k'>1:</span><span class='ee-v'>12.982465888770026</span></li></ul></details></li><li><details><summary>1382: [77.51829746782292, 12.982592940920137]</summary><ul><li><span class='ee-k'>0:</span><span class='ee-v'>77.51829746782292</span></li><li><span class='ee-k'>1:</span><span class='ee-v'>12.982592940920137</span></li></ul></details></li><li><details><summary>1383: [77.51832553609044, 12.982635584362102]</summary><ul><li><span class='ee-k'>0:</span><span class='ee-v'>77.51832553609044</span></li><li><span class='ee-k'>1:</span><span class='ee-v'>12.982635584362102</span></li></ul></details></li><li><details><summary>1384: [77.51843037687836, 12.982754279866695]</summary><ul><li><span class='ee-k'>0:</span><span class='ee-v'>77.51843037687836</span></li><li><span class='ee-k'>1:</span><span class='ee-v'>12.982754279866695</span></li></ul></details></li><li><details><summary>1385: [77.51851970211922, 12.982818916729391]</summary><ul><li><span class='ee-k'>0:</span><span class='ee-v'>77.51851970211922</span></li><li><span class='ee-k'>1:</span><span class='ee-v'>12.982818916729391</span></li></ul></details></li><li><details><summary>1386: [77.51858645941, 12.982872478731837]</summary><ul><li><span class='ee-k'>0:</span><span class='ee-v'>77.51858645941</span></li><li><span class='ee-k'>1:</span><span class='ee-v'>12.982872478731837</span></li></ul></details></li><li><details><summary>1387: [77.518626099635, 12.98292065674605]</summary><ul><li><span class='ee-k'>0:</span><span class='ee-v'>77.518626099635</span></li><li><span class='ee-k'>1:</span><span class='ee-v'>12.98292065674605</span></li></ul></details></li><li><details><summary>1388: [77.51869242701557, 12.983102969091725]</summary><ul><li><span class='ee-k'>0:</span><span class='ee-v'>77.51869242701557</span></li><li><span class='ee-k'>1:</span><span class='ee-v'>12.983102969091725</span></li></ul></details></li><li><details><summary>1389: [77.5187647623777, 12.983310068931203]</summary><ul><li><span class='ee-k'>0:</span><span class='ee-v'>77.5187647623777</span></li><li><span class='ee-k'>1:</span><span class='ee-v'>12.983310068931203</span></li></ul></details></li><li><details><summary>1390: [77.51882850249173, 12.98346417246298]</summary><ul><li><span class='ee-k'>0:</span><span class='ee-v'>77.51882850249173</span></li><li><span class='ee-k'>1:</span><span class='ee-v'>12.98346417246298</span></li></ul></details></li><li><details><summary>1391: [77.5189664462034, 12.983610780605247]</summary><ul><li><span class='ee-k'>0:</span><span class='ee-v'>77.5189664462034</span></li><li><span class='ee-k'>1:</span><span class='ee-v'>12.983610780605247</span></li></ul></details></li><li><details><summary>1392: [77.5191625342615, 12.983813292625618]</summary><ul><li><span class='ee-k'>0:</span><span class='ee-v'>77.5191625342615</span></li><li><span class='ee-k'>1:</span><span class='ee-v'>12.983813292625618</span></li></ul></details></li><li><details><summary>1393: [77.51925082240362, 12.983889232709451]</summary><ul><li><span class='ee-k'>0:</span><span class='ee-v'>77.51925082240362</span></li><li><span class='ee-k'>1:</span><span class='ee-v'>12.983889232709451</span></li></ul></details></li><li><details><summary>1394: [77.51931487214125, 12.98395976097457]</summary><ul><li><span class='ee-k'>0:</span><span class='ee-v'>77.51931487214125</span></li><li><span class='ee-k'>1:</span><span class='ee-v'>12.98395976097457</span></li></ul></details></li><li><details><summary>1395: [77.5193849833257, 12.984288852089053]</summary><ul><li><span class='ee-k'>0:</span><span class='ee-v'>77.5193849833257</span></li><li><span class='ee-k'>1:</span><span class='ee-v'>12.984288852089053</span></li></ul></details></li><li><details><summary>1396: [77.51946195507008, 12.984441697710592]</summary><ul><li><span class='ee-k'>0:</span><span class='ee-v'>77.51946195507008</span></li><li><span class='ee-k'>1:</span><span class='ee-v'>12.984441697710592</span></li></ul></details></li><li><details><summary>1397: [77.51951053777594, 12.984634345866153]</summary><ul><li><span class='ee-k'>0:</span><span class='ee-v'>77.51951053777594</span></li><li><span class='ee-k'>1:</span><span class='ee-v'>12.984634345866153</span></li></ul></details></li><li><details><summary>1398: [77.51957984768524, 12.98482679302326]</summary><ul><li><span class='ee-k'>0:</span><span class='ee-v'>77.51957984768524</span></li><li><span class='ee-k'>1:</span><span class='ee-v'>12.98482679302326</span></li></ul></details></li><li><details><summary>1399: [77.51964750032359, 12.98491196778386]</summary><ul><li><span class='ee-k'>0:</span><span class='ee-v'>77.51964750032359</span></li><li><span class='ee-k'>1:</span><span class='ee-v'>12.98491196778386</span></li></ul></details></li><li><details><summary>1400: [77.51970089581394, 12.985010832988873]</summary><ul><li><span class='ee-k'>0:</span><span class='ee-v'>77.51970089581394</span></li><li><span class='ee-k'>1:</span><span class='ee-v'>12.985010832988873</span></li></ul></details></li><li><details><summary>1401: [77.51976269349288, 12.98514349725115]</summary><ul><li><span class='ee-k'>0:</span><span class='ee-v'>77.51976269349288</span></li><li><span class='ee-k'>1:</span><span class='ee-v'>12.98514349725115</span></li></ul></details></li><li><details><summary>1402: [77.51979646150193, 12.985294502928394]</summary><ul><li><span class='ee-k'>0:</span><span class='ee-v'>77.51979646150193</span></li><li><span class='ee-k'>1:</span><span class='ee-v'>12.985294502928394</span></li></ul></details></li><li><details><summary>1403: [77.51981248367268, 12.98545584484916]</summary><ul><li><span class='ee-k'>0:</span><span class='ee-v'>77.51981248367268</span></li><li><span class='ee-k'>1:</span><span class='ee-v'>12.98545584484916</span></li></ul></details></li><li><details><summary>1404: [77.51982436532644, 12.985777594854756]</summary><ul><li><span class='ee-k'>0:</span><span class='ee-v'>77.51982436532644</span></li><li><span class='ee-k'>1:</span><span class='ee-v'>12.985777594854756</span></li></ul></details></li><li><details><summary>1405: [77.51981724352015, 12.985927867692276]</summary><ul><li><span class='ee-k'>0:</span><span class='ee-v'>77.51981724352015</span></li><li><span class='ee-k'>1:</span><span class='ee-v'>12.985927867692276</span></li></ul></details></li><li><details><summary>1406: [77.51978654990475, 12.986081757181744]</summary><ul><li><span class='ee-k'>0:</span><span class='ee-v'>77.51978654990475</span></li><li><span class='ee-k'>1:</span><span class='ee-v'>12.986081757181744</span></li></ul></details></li><li><details><summary>1407: [77.5197938853163, 12.986181068990549]</summary><ul><li><span class='ee-k'>0:</span><span class='ee-v'>77.5197938853163</span></li><li><span class='ee-k'>1:</span><span class='ee-v'>12.986181068990549</span></li></ul></details></li><li><details><summary>1408: [77.51980623173058, 12.986263391925808]</summary><ul><li><span class='ee-k'>0:</span><span class='ee-v'>77.51980623173058</span></li><li><span class='ee-k'>1:</span><span class='ee-v'>12.986263391925808</span></li></ul></details></li><li><details><summary>1409: [77.51989615085097, 12.986386748542435]</summary><ul><li><span class='ee-k'>0:</span><span class='ee-v'>77.51989615085097</span></li><li><span class='ee-k'>1:</span><span class='ee-v'>12.986386748542435</span></li></ul></details></li><li><details><summary>1410: [77.52001975497889, 12.986481544614428]</summary><ul><li><span class='ee-k'>0:</span><span class='ee-v'>77.52001975497889</span></li><li><span class='ee-k'>1:</span><span class='ee-v'>12.986481544614428</span></li></ul></details></li><li><details><summary>1411: [77.52016414222109, 12.986695850264523]</summary><ul><li><span class='ee-k'>0:</span><span class='ee-v'>77.52016414222109</span></li><li><span class='ee-k'>1:</span><span class='ee-v'>12.986695850264523</span></li></ul></details></li><li><details><summary>1412: [77.5202435158209, 12.98680123936875]</summary><ul><li><span class='ee-k'>0:</span><span class='ee-v'>77.5202435158209</span></li><li><span class='ee-k'>1:</span><span class='ee-v'>12.98680123936875</span></li></ul></details></li><li><details><summary>1413: [77.52029606294258, 12.986873008128507]</summary><ul><li><span class='ee-k'>0:</span><span class='ee-v'>77.52029606294258</span></li><li><span class='ee-k'>1:</span><span class='ee-v'>12.986873008128507</span></li></ul></details></li><li><details><summary>1414: [77.52030789702108, 12.986904515167199]</summary><ul><li><span class='ee-k'>0:</span><span class='ee-v'>77.52030789702108</span></li><li><span class='ee-k'>1:</span><span class='ee-v'>12.986904515167199</span></li></ul></details></li><li><details><summary>1415: [77.52035288477794, 12.987026048688742]</summary><ul><li><span class='ee-k'>0:</span><span class='ee-v'>77.52035288477794</span></li><li><span class='ee-k'>1:</span><span class='ee-v'>12.987026048688742</span></li></ul></details></li><li><details><summary>1416: [77.52033103911785, 12.987143713128457]</summary><ul><li><span class='ee-k'>0:</span><span class='ee-v'>77.52033103911785</span></li><li><span class='ee-k'>1:</span><span class='ee-v'>12.987143713128457</span></li></ul></details></li><li><details><summary>1417: [77.52015295171772, 12.987299032416443]</summary><ul><li><span class='ee-k'>0:</span><span class='ee-v'>77.52015295171772</span></li><li><span class='ee-k'>1:</span><span class='ee-v'>12.987299032416443</span></li></ul></details></li><li><details><summary>1418: [77.52008125928785, 12.98749849366932]</summary><ul><li><span class='ee-k'>0:</span><span class='ee-v'>77.52008125928785</span></li><li><span class='ee-k'>1:</span><span class='ee-v'>12.98749849366932</span></li></ul></details></li><li><details><summary>1419: [77.52006096255255, 12.987769734870867]</summary><ul><li><span class='ee-k'>0:</span><span class='ee-v'>77.52006096255255</span></li><li><span class='ee-k'>1:</span><span class='ee-v'>12.987769734870867</span></li></ul></details></li><li><details><summary>1420: [77.52020347338517, 12.988197505926504]</summary><ul><li><span class='ee-k'>0:</span><span class='ee-v'>77.52020347338517</span></li><li><span class='ee-k'>1:</span><span class='ee-v'>12.988197505926504</span></li></ul></details></li><li><details><summary>1421: [77.52043427523789, 12.988701216079843]</summary><ul><li><span class='ee-k'>0:</span><span class='ee-v'>77.52043427523789</span></li><li><span class='ee-k'>1:</span><span class='ee-v'>12.988701216079843</span></li></ul></details></li><li><details><summary>1422: [77.52056173869997, 12.989007162813847]</summary><ul><li><span class='ee-k'>0:</span><span class='ee-v'>77.52056173869997</span></li><li><span class='ee-k'>1:</span><span class='ee-v'>12.989007162813847</span></li></ul></details></li><li><details><summary>1423: [77.52067897067107, 12.98952130739216]</summary><ul><li><span class='ee-k'>0:</span><span class='ee-v'>77.52067897067107</span></li><li><span class='ee-k'>1:</span><span class='ee-v'>12.98952130739216</span></li></ul></details></li><li><details><summary>1424: [77.52070151407297, 12.989620173351355]</summary><ul><li><span class='ee-k'>0:</span><span class='ee-v'>77.52070151407297</span></li><li><span class='ee-k'>1:</span><span class='ee-v'>12.989620173351355</span></li></ul></details></li><li><details><summary>1425: [77.52072727940683, 12.98989096749077]</summary><ul><li><span class='ee-k'>0:</span><span class='ee-v'>77.52072727940683</span></li><li><span class='ee-k'>1:</span><span class='ee-v'>12.98989096749077</span></li></ul></details></li><li><details><summary>1426: [77.52102580689618, 12.990714754869249]</summary><ul><li><span class='ee-k'>0:</span><span class='ee-v'>77.52102580689618</span></li><li><span class='ee-k'>1:</span><span class='ee-v'>12.990714754869249</span></li></ul></details></li><li><details><summary>1427: [77.52118907294178, 12.990916453226044]</summary><ul><li><span class='ee-k'>0:</span><span class='ee-v'>77.52118907294178</span></li><li><span class='ee-k'>1:</span><span class='ee-v'>12.990916453226044</span></li></ul></details></li><li><details><summary>1428: [77.52142717732104, 12.99123035993914]</summary><ul><li><span class='ee-k'>0:</span><span class='ee-v'>77.52142717732104</span></li><li><span class='ee-k'>1:</span><span class='ee-v'>12.99123035993914</span></li></ul></details></li><li><details><summary>1429: [77.52151191172476, 12.991410233337234]</summary><ul><li><span class='ee-k'>0:</span><span class='ee-v'>77.52151191172476</span></li><li><span class='ee-k'>1:</span><span class='ee-v'>12.991410233337234</span></li></ul></details></li><li><details><summary>1430: [77.52157285258028, 12.991768542773825]</summary><ul><li><span class='ee-k'>0:</span><span class='ee-v'>77.52157285258028</span></li><li><span class='ee-k'>1:</span><span class='ee-v'>12.991768542773825</span></li></ul></details></li><li><details><summary>1431: [77.52157557647061, 12.991784559420953]</summary><ul><li><span class='ee-k'>0:</span><span class='ee-v'>77.52157557647061</span></li><li><span class='ee-k'>1:</span><span class='ee-v'>12.991784559420953</span></li></ul></details></li><li><details><summary>1432: [77.52163737171173, 12.991973690230687]</summary><ul><li><span class='ee-k'>0:</span><span class='ee-v'>77.52163737171173</span></li><li><span class='ee-k'>1:</span><span class='ee-v'>12.991973690230687</span></li></ul></details></li><li><details><summary>1433: [77.52170810573287, 12.992135629822545]</summary><ul><li><span class='ee-k'>0:</span><span class='ee-v'>77.52170810573287</span></li><li><span class='ee-k'>1:</span><span class='ee-v'>12.992135629822545</span></li></ul></details></li><li><details><summary>1434: [77.52178230581158, 12.992184600754747]</summary><ul><li><span class='ee-k'>0:</span><span class='ee-v'>77.52178230581158</span></li><li><span class='ee-k'>1:</span><span class='ee-v'>12.992184600754747</span></li></ul></details></li><li><details><summary>1435: [77.5221235258015, 12.992217426538053]</summary><ul><li><span class='ee-k'>0:</span><span class='ee-v'>77.5221235258015</span></li><li><span class='ee-k'>1:</span><span class='ee-v'>12.992217426538053</span></li></ul></details></li><li><details><summary>1436: [77.52221810999497, 12.992253789178564]</summary><ul><li><span class='ee-k'>0:</span><span class='ee-v'>77.52221810999497</span></li><li><span class='ee-k'>1:</span><span class='ee-v'>12.992253789178564</span></li></ul></details></li><li><details><summary>1437: [77.52238712554718, 12.992318766680356]</summary><ul><li><span class='ee-k'>0:</span><span class='ee-v'>77.52238712554718</span></li><li><span class='ee-k'>1:</span><span class='ee-v'>12.992318766680356</span></li></ul></details></li><li><details><summary>1438: [77.52286808393558, 12.992960082577019]</summary><ul><li><span class='ee-k'>0:</span><span class='ee-v'>77.52286808393558</span></li><li><span class='ee-k'>1:</span><span class='ee-v'>12.992960082577019</span></li></ul></details></li><li><details><summary>1439: [77.52296336999437, 12.993087406643221]</summary><ul><li><span class='ee-k'>0:</span><span class='ee-v'>77.52296336999437</span></li><li><span class='ee-k'>1:</span><span class='ee-v'>12.993087406643221</span></li></ul></details></li><li><details><summary>1440: [77.52297548586941, 12.993103595829059]</summary><ul><li><span class='ee-k'>0:</span><span class='ee-v'>77.52297548586941</span></li><li><span class='ee-k'>1:</span><span class='ee-v'>12.993103595829059</span></li></ul></details></li><li><details><summary>1441: [77.52303482130154, 12.9935050674857]</summary><ul><li><span class='ee-k'>0:</span><span class='ee-v'>77.52303482130154</span></li><li><span class='ee-k'>1:</span><span class='ee-v'>12.9935050674857</span></li></ul></details></li><li><details><summary>1442: [77.52303124346305, 12.99383487203672]</summary><ul><li><span class='ee-k'>0:</span><span class='ee-v'>77.52303124346305</span></li><li><span class='ee-k'>1:</span><span class='ee-v'>12.99383487203672</span></li></ul></details></li><li><details><summary>1443: [77.52304721304435, 12.994104631186527]</summary><ul><li><span class='ee-k'>0:</span><span class='ee-v'>77.52304721304435</span></li><li><span class='ee-k'>1:</span><span class='ee-v'>12.994104631186527</span></li></ul></details></li><li><details><summary>1444: [77.52310506498266, 12.994245237653665]</summary><ul><li><span class='ee-k'>0:</span><span class='ee-v'>77.52310506498266</span></li><li><span class='ee-k'>1:</span><span class='ee-v'>12.994245237653665</span></li></ul></details></li><li><details><summary>1445: [77.52321904085412, 12.994412403114698]</summary><ul><li><span class='ee-k'>0:</span><span class='ee-v'>77.52321904085412</span></li><li><span class='ee-k'>1:</span><span class='ee-v'>12.994412403114698</span></li></ul></details></li><li><details><summary>1446: [77.52335755313175, 12.99461433986184]</summary><ul><li><span class='ee-k'>0:</span><span class='ee-v'>77.52335755313175</span></li><li><span class='ee-k'>1:</span><span class='ee-v'>12.99461433986184</span></li></ul></details></li><li><details><summary>1447: [77.5234730865747, 12.99487861395513]</summary><ul><li><span class='ee-k'>0:</span><span class='ee-v'>77.5234730865747</span></li><li><span class='ee-k'>1:</span><span class='ee-v'>12.99487861395513</span></li></ul></details></li><li><details><summary>1448: [77.52354256973359, 12.995144464847993]</summary><ul><li><span class='ee-k'>0:</span><span class='ee-v'>77.52354256973359</span></li><li><span class='ee-k'>1:</span><span class='ee-v'>12.995144464847993</span></li></ul></details></li><li><details><summary>1449: [77.52357279648963, 12.995286468939518]</summary><ul><li><span class='ee-k'>0:</span><span class='ee-v'>77.52357279648963</span></li><li><span class='ee-k'>1:</span><span class='ee-v'>12.995286468939518</span></li></ul></details></li><li><details><summary>1450: [77.5236091462716, 12.99546455264675]</summary><ul><li><span class='ee-k'>0:</span><span class='ee-v'>77.5236091462716</span></li><li><span class='ee-k'>1:</span><span class='ee-v'>12.99546455264675</span></li></ul></details></li><li><details><summary>1451: [77.52363379168472, 12.995567083781568]</summary><ul><li><span class='ee-k'>0:</span><span class='ee-v'>77.52363379168472</span></li><li><span class='ee-k'>1:</span><span class='ee-v'>12.995567083781568</span></li></ul></details></li><li><details><summary>1452: [77.52380160623308, 12.99570549182495]</summary><ul><li><span class='ee-k'>0:</span><span class='ee-v'>77.52380160623308</span></li><li><span class='ee-k'>1:</span><span class='ee-v'>12.99570549182495</span></li></ul></details></li><li><details><summary>1453: [77.52399210454108, 12.99586626617531]</summary><ul><li><span class='ee-k'>0:</span><span class='ee-v'>77.52399210454108</span></li><li><span class='ee-k'>1:</span><span class='ee-v'>12.99586626617531</span></li></ul></details></li><li><details><summary>1454: [77.52427804005609, 12.996069027713515]</summary><ul><li><span class='ee-k'>0:</span><span class='ee-v'>77.52427804005609</span></li><li><span class='ee-k'>1:</span><span class='ee-v'>12.996069027713515</span></li></ul></details></li><li><details><summary>1455: [77.52433332342373, 12.996113011821647]</summary><ul><li><span class='ee-k'>0:</span><span class='ee-v'>77.52433332342373</span></li><li><span class='ee-k'>1:</span><span class='ee-v'>12.996113011821647</span></li></ul></details></li><li><details><summary>1456: [77.52440284817301, 12.996168326198982]</summary><ul><li><span class='ee-k'>0:</span><span class='ee-v'>77.52440284817301</span></li><li><span class='ee-k'>1:</span><span class='ee-v'>12.996168326198982</span></li></ul></details></li><li><details><summary>1457: [77.52458875410846, 12.996444338040215]</summary><ul><li><span class='ee-k'>0:</span><span class='ee-v'>77.52458875410846</span></li><li><span class='ee-k'>1:</span><span class='ee-v'>12.996444338040215</span></li></ul></details></li><li><details><summary>1458: [77.52470935344552, 12.99666076072287]</summary><ul><li><span class='ee-k'>0:</span><span class='ee-v'>77.52470935344552</span></li><li><span class='ee-k'>1:</span><span class='ee-v'>12.99666076072287</span></li></ul></details></li><li><details><summary>1459: [77.52472833560846, 12.996694825166534]</summary><ul><li><span class='ee-k'>0:</span><span class='ee-v'>77.52472833560846</span></li><li><span class='ee-k'>1:</span><span class='ee-v'>12.996694825166534</span></li></ul></details></li><li><details><summary>1460: [77.52478750000273, 12.996903450969818]</summary><ul><li><span class='ee-k'>0:</span><span class='ee-v'>77.52478750000273</span></li><li><span class='ee-k'>1:</span><span class='ee-v'>12.996903450969818</span></li></ul></details></li><li><details><summary>1461: [77.52479700531958, 12.996936966996412]</summary><ul><li><span class='ee-k'>0:</span><span class='ee-v'>77.52479700531958</span></li><li><span class='ee-k'>1:</span><span class='ee-v'>12.996936966996412</span></li></ul></details></li><li><details><summary>1462: [77.52483912275247, 12.997286654962933]</summary><ul><li><span class='ee-k'>0:</span><span class='ee-v'>77.52483912275247</span></li><li><span class='ee-k'>1:</span><span class='ee-v'>12.997286654962933</span></li></ul></details></li><li><details><summary>1463: [77.52492024495884, 12.997621282040669]</summary><ul><li><span class='ee-k'>0:</span><span class='ee-v'>77.52492024495884</span></li><li><span class='ee-k'>1:</span><span class='ee-v'>12.997621282040669</span></li></ul></details></li><li><details><summary>1464: [77.52497025985993, 12.997726954206053]</summary><ul><li><span class='ee-k'>0:</span><span class='ee-v'>77.52497025985993</span></li><li><span class='ee-k'>1:</span><span class='ee-v'>12.997726954206053</span></li></ul></details></li><li><details><summary>1465: [77.52508849102063, 12.997859067180176]</summary><ul><li><span class='ee-k'>0:</span><span class='ee-v'>77.52508849102063</span></li><li><span class='ee-k'>1:</span><span class='ee-v'>12.997859067180176</span></li></ul></details></li><li><details><summary>1466: [77.5252071542408, 12.997920027039793]</summary><ul><li><span class='ee-k'>0:</span><span class='ee-v'>77.5252071542408</span></li><li><span class='ee-k'>1:</span><span class='ee-v'>12.997920027039793</span></li></ul></details></li><li><details><summary>1467: [77.52523719763074, 12.997929898925591]</summary><ul><li><span class='ee-k'>0:</span><span class='ee-v'>77.52523719763074</span></li><li><span class='ee-k'>1:</span><span class='ee-v'>12.997929898925591</span></li></ul></details></li><li><details><summary>1468: [77.52530571550724, 12.997929232435895]</summary><ul><li><span class='ee-k'>0:</span><span class='ee-v'>77.52530571550724</span></li><li><span class='ee-k'>1:</span><span class='ee-v'>12.997929232435895</span></li></ul></details></li><li><details><summary>1469: [77.52547092338084, 12.997866640640506]</summary><ul><li><span class='ee-k'>0:</span><span class='ee-v'>77.52547092338084</span></li><li><span class='ee-k'>1:</span><span class='ee-v'>12.997866640640506</span></li></ul></details></li><li><details><summary>1470: [77.52557410434378, 12.997829231271824]</summary><ul><li><span class='ee-k'>0:</span><span class='ee-v'>77.52557410434378</span></li><li><span class='ee-k'>1:</span><span class='ee-v'>12.997829231271824</span></li></ul></details></li><li><details><summary>1471: [77.52577500148264, 12.99775639451745]</summary><ul><li><span class='ee-k'>0:</span><span class='ee-v'>77.52577500148264</span></li><li><span class='ee-k'>1:</span><span class='ee-v'>12.99775639451745</span></li></ul></details></li><li><details><summary>1472: [77.52590861667792, 12.997758482571014]</summary><ul><li><span class='ee-k'>0:</span><span class='ee-v'>77.52590861667792</span></li><li><span class='ee-k'>1:</span><span class='ee-v'>12.997758482571014</span></li></ul></details></li><li><details><summary>1473: [77.52612647852868, 12.99777782034775]</summary><ul><li><span class='ee-k'>0:</span><span class='ee-v'>77.52612647852868</span></li><li><span class='ee-k'>1:</span><span class='ee-v'>12.99777782034775</span></li></ul></details></li><li><details><summary>1474: [77.5262225150483, 12.997822059685316]</summary><ul><li><span class='ee-k'>0:</span><span class='ee-v'>77.5262225150483</span></li><li><span class='ee-k'>1:</span><span class='ee-v'>12.997822059685316</span></li></ul></details></li><li><details><summary>1475: [77.52627717543815, 12.997874607038915]</summary><ul><li><span class='ee-k'>0:</span><span class='ee-v'>77.52627717543815</span></li><li><span class='ee-k'>1:</span><span class='ee-v'>12.997874607038915</span></li></ul></details></li><li><details><summary>1476: [77.52630115072965, 12.998024576714073]</summary><ul><li><span class='ee-k'>0:</span><span class='ee-v'>77.52630115072965</span></li><li><span class='ee-k'>1:</span><span class='ee-v'>12.998024576714073</span></li></ul></details></li><li><details><summary>1477: [77.52625020602477, 12.998168499377186]</summary><ul><li><span class='ee-k'>0:</span><span class='ee-v'>77.52625020602477</span></li><li><span class='ee-k'>1:</span><span class='ee-v'>12.998168499377186</span></li></ul></details></li><li><details><summary>1478: [77.5261485767079, 12.998368253195608]</summary><ul><li><span class='ee-k'>0:</span><span class='ee-v'>77.5261485767079</span></li><li><span class='ee-k'>1:</span><span class='ee-v'>12.998368253195608</span></li></ul></details></li><li><details><summary>1479: [77.5261400428371, 12.998378500350357]</summary><ul><li><span class='ee-k'>0:</span><span class='ee-v'>77.5261400428371</span></li><li><span class='ee-k'>1:</span><span class='ee-v'>12.998378500350357</span></li></ul></details></li><li><details><summary>1480: [77.52599314817147, 12.998543684886613]</summary><ul><li><span class='ee-k'>0:</span><span class='ee-v'>77.52599314817147</span></li><li><span class='ee-k'>1:</span><span class='ee-v'>12.998543684886613</span></li></ul></details></li><li><details><summary>1481: [77.5263597294057, 12.998634982661324]</summary><ul><li><span class='ee-k'>0:</span><span class='ee-v'>77.5263597294057</span></li><li><span class='ee-k'>1:</span><span class='ee-v'>12.998634982661324</span></li></ul></details></li><li><details><summary>1482: [77.52706230737991, 12.998811098175755]</summary><ul><li><span class='ee-k'>0:</span><span class='ee-v'>77.52706230737991</span></li><li><span class='ee-k'>1:</span><span class='ee-v'>12.998811098175755</span></li></ul></details></li><li><details><summary>1483: [77.52721302779116, 12.998848137050457]</summary><ul><li><span class='ee-k'>0:</span><span class='ee-v'>77.52721302779116</span></li><li><span class='ee-k'>1:</span><span class='ee-v'>12.998848137050457</span></li></ul></details></li><li><details><summary>1484: [77.52770770064866, 12.998969698930706]</summary><ul><li><span class='ee-k'>0:</span><span class='ee-v'>77.52770770064866</span></li><li><span class='ee-k'>1:</span><span class='ee-v'>12.998969698930706</span></li></ul></details></li><li><details><summary>1485: [77.52775152515152, 12.99897997657113]</summary><ul><li><span class='ee-k'>0:</span><span class='ee-v'>77.52775152515152</span></li><li><span class='ee-k'>1:</span><span class='ee-v'>12.99897997657113</span></li></ul></details></li><li><details><summary>1486: [77.52815619240337, 12.999074877804787]</summary><ul><li><span class='ee-k'>0:</span><span class='ee-v'>77.52815619240337</span></li><li><span class='ee-k'>1:</span><span class='ee-v'>12.999074877804787</span></li></ul></details></li><li><details><summary>1487: [77.52820468388599, 12.999086828319479]</summary><ul><li><span class='ee-k'>0:</span><span class='ee-v'>77.52820468388599</span></li><li><span class='ee-k'>1:</span><span class='ee-v'>12.999086828319479</span></li></ul></details></li><li><details><summary>1488: [77.52808280467151, 12.999220148592332]</summary><ul><li><span class='ee-k'>0:</span><span class='ee-v'>77.52808280467151</span></li><li><span class='ee-k'>1:</span><span class='ee-v'>12.999220148592332</span></li></ul></details></li><li><details><summary>1489: [77.52797687569357, 12.999336373331165]</summary><ul><li><span class='ee-k'>0:</span><span class='ee-v'>77.52797687569357</span></li><li><span class='ee-k'>1:</span><span class='ee-v'>12.999336373331165</span></li></ul></details></li><li><details><summary>1490: [77.52786329388252, 12.999379265182936]</summary><ul><li><span class='ee-k'>0:</span><span class='ee-v'>77.52786329388252</span></li><li><span class='ee-k'>1:</span><span class='ee-v'>12.999379265182936</span></li></ul></details></li><li><details><summary>1491: [77.52781406246757, 12.99940797821672]</summary><ul><li><span class='ee-k'>0:</span><span class='ee-v'>77.52781406246757</span></li><li><span class='ee-k'>1:</span><span class='ee-v'>12.99940797821672</span></li></ul></details></li><li><details><summary>1492: [77.52782168088454, 12.999477923382317]</summary><ul><li><span class='ee-k'>0:</span><span class='ee-v'>77.52782168088454</span></li><li><span class='ee-k'>1:</span><span class='ee-v'>12.999477923382317</span></li></ul></details></li><li><details><summary>1493: [77.52782301889279, 12.9996100436495]</summary><ul><li><span class='ee-k'>0:</span><span class='ee-v'>77.52782301889279</span></li><li><span class='ee-k'>1:</span><span class='ee-v'>12.9996100436495</span></li></ul></details></li><li><details><summary>1494: [77.52782717211414, 12.999678893213233]</summary><ul><li><span class='ee-k'>0:</span><span class='ee-v'>77.52782717211414</span></li><li><span class='ee-k'>1:</span><span class='ee-v'>12.999678893213233</span></li></ul></details></li><li><details><summary>1495: [77.52784031827618, 12.999896728658218]</summary><ul><li><span class='ee-k'>0:</span><span class='ee-v'>77.52784031827618</span></li><li><span class='ee-k'>1:</span><span class='ee-v'>12.999896728658218</span></li></ul></details></li><li><details><summary>1496: [77.52785782362301, 13.000203739846164]</summary><ul><li><span class='ee-k'>0:</span><span class='ee-v'>77.52785782362301</span></li><li><span class='ee-k'>1:</span><span class='ee-v'>13.000203739846164</span></li></ul></details></li><li><details><summary>1497: [77.52787433012821, 13.00046897500787]</summary><ul><li><span class='ee-k'>0:</span><span class='ee-v'>77.52787433012821</span></li><li><span class='ee-k'>1:</span><span class='ee-v'>13.00046897500787</span></li></ul></details></li><li><details><summary>1498: [77.52787723517247, 13.000755800167886]</summary><ul><li><span class='ee-k'>0:</span><span class='ee-v'>77.52787723517247</span></li><li><span class='ee-k'>1:</span><span class='ee-v'>13.000755800167886</span></li></ul></details></li><li><details><summary>1499: [77.52783716608928, 13.001006904845495]</summary><ul><li><span class='ee-k'>0:</span><span class='ee-v'>77.52783716608928</span></li><li><span class='ee-k'>1:</span><span class='ee-v'>13.001006904845495</span></li></ul></details></li><li><details><summary>1500: [77.52783231539006, 13.001210234062018]</summary><ul><li><span class='ee-k'>0:</span><span class='ee-v'>77.52783231539006</span></li><li><span class='ee-k'>1:</span><span class='ee-v'>13.001210234062018</span></li></ul></details></li><li><details><summary>1501: [77.527826317044, 13.001357107240457]</summary><ul><li><span class='ee-k'>0:</span><span class='ee-v'>77.527826317044</span></li><li><span class='ee-k'>1:</span><span class='ee-v'>13.001357107240457</span></li></ul></details></li><li><details><summary>1502: [77.52784810305353, 13.001413480623913]</summary><ul><li><span class='ee-k'>0:</span><span class='ee-v'>77.52784810305353</span></li><li><span class='ee-k'>1:</span><span class='ee-v'>13.001413480623913</span></li></ul></details></li><li><details><summary>1503: [77.52785588417612, 13.001433614680172]</summary><ul><li><span class='ee-k'>0:</span><span class='ee-v'>77.52785588417612</span></li><li><span class='ee-k'>1:</span><span class='ee-v'>13.001433614680172</span></li></ul></details></li><li><details><summary>1504: [77.52793611947492, 13.001504511325106]</summary><ul><li><span class='ee-k'>0:</span><span class='ee-v'>77.52793611947492</span></li><li><span class='ee-k'>1:</span><span class='ee-v'>13.001504511325106</span></li></ul></details></li><li><details><summary>1505: [77.52794943237805, 13.00151627500646]</summary><ul><li><span class='ee-k'>0:</span><span class='ee-v'>77.52794943237805</span></li><li><span class='ee-k'>1:</span><span class='ee-v'>13.00151627500646</span></li></ul></details></li><li><details><summary>1506: [77.52812150510997, 13.001619627945672]</summary><ul><li><span class='ee-k'>0:</span><span class='ee-v'>77.52812150510997</span></li><li><span class='ee-k'>1:</span><span class='ee-v'>13.001619627945672</span></li></ul></details></li><li><details><summary>1507: [77.52836875640575, 13.00170777741915]</summary><ul><li><span class='ee-k'>0:</span><span class='ee-v'>77.52836875640575</span></li><li><span class='ee-k'>1:</span><span class='ee-v'>13.00170777741915</span></li></ul></details></li><li><details><summary>1508: [77.52863644260236, 13.001803211916924]</summary><ul><li><span class='ee-k'>0:</span><span class='ee-v'>77.52863644260236</span></li><li><span class='ee-k'>1:</span><span class='ee-v'>13.001803211916924</span></li></ul></details></li><li><details><summary>1509: [77.52876504558802, 13.001878754276099]</summary><ul><li><span class='ee-k'>0:</span><span class='ee-v'>77.52876504558802</span></li><li><span class='ee-k'>1:</span><span class='ee-v'>13.001878754276099</span></li></ul></details></li><li><details><summary>1510: [77.5288691596218, 13.001971622594738]</summary><ul><li><span class='ee-k'>0:</span><span class='ee-v'>77.5288691596218</span></li><li><span class='ee-k'>1:</span><span class='ee-v'>13.001971622594738</span></li></ul></details></li><li><details><summary>1511: [77.52896668639335, 13.002058613796825]</summary><ul><li><span class='ee-k'>0:</span><span class='ee-v'>77.52896668639335</span></li><li><span class='ee-k'>1:</span><span class='ee-v'>13.002058613796825</span></li></ul></details></li><li><details><summary>1512: [77.52905260114026, 13.0021266665373]</summary><ul><li><span class='ee-k'>0:</span><span class='ee-v'>77.52905260114026</span></li><li><span class='ee-k'>1:</span><span class='ee-v'>13.0021266665373</span></li></ul></details></li><li><details><summary>1513: [77.52917564895262, 13.00227905810912]</summary><ul><li><span class='ee-k'>0:</span><span class='ee-v'>77.52917564895262</span></li><li><span class='ee-k'>1:</span><span class='ee-v'>13.00227905810912</span></li></ul></details></li><li><details><summary>1514: [77.52921953914112, 13.002405116810914]</summary><ul><li><span class='ee-k'>0:</span><span class='ee-v'>77.52921953914112</span></li><li><span class='ee-k'>1:</span><span class='ee-v'>13.002405116810914</span></li></ul></details></li><li><details><summary>1515: [77.52922009994208, 13.002460449158272]</summary><ul><li><span class='ee-k'>0:</span><span class='ee-v'>77.52922009994208</span></li><li><span class='ee-k'>1:</span><span class='ee-v'>13.002460449158272</span></li></ul></details></li><li><details><summary>1516: [77.52918517926146, 13.002537584813261]</summary><ul><li><span class='ee-k'>0:</span><span class='ee-v'>77.52918517926146</span></li><li><span class='ee-k'>1:</span><span class='ee-v'>13.002537584813261</span></li></ul></details></li><li><details><summary>1517: [77.52912470937228, 13.002706261942938]</summary><ul><li><span class='ee-k'>0:</span><span class='ee-v'>77.52912470937228</span></li><li><span class='ee-k'>1:</span><span class='ee-v'>13.002706261942938</span></li></ul></details></li><li><details><summary>1518: [77.52910229712911, 13.002768778543029]</summary><ul><li><span class='ee-k'>0:</span><span class='ee-v'>77.52910229712911</span></li><li><span class='ee-k'>1:</span><span class='ee-v'>13.002768778543029</span></li></ul></details></li><li><details><summary>1519: [77.52900452443727, 13.003008022783852]</summary><ul><li><span class='ee-k'>0:</span><span class='ee-v'>77.52900452443727</span></li><li><span class='ee-k'>1:</span><span class='ee-v'>13.003008022783852</span></li></ul></details></li><li><details><summary>1520: [77.52898406707439, 13.003091793544797]</summary><ul><li><span class='ee-k'>0:</span><span class='ee-v'>77.52898406707439</span></li><li><span class='ee-k'>1:</span><span class='ee-v'>13.003091793544797</span></li></ul></details></li><li><details><summary>1521: [77.52897913748662, 13.003287217967134]</summary><ul><li><span class='ee-k'>0:</span><span class='ee-v'>77.52897913748662</span></li><li><span class='ee-k'>1:</span><span class='ee-v'>13.003287217967134</span></li></ul></details></li><li><details><summary>1522: [77.52897987775353, 13.003360259384422]</summary><ul><li><span class='ee-k'>0:</span><span class='ee-v'>77.52897987775353</span></li><li><span class='ee-k'>1:</span><span class='ee-v'>13.003360259384422</span></li></ul></details></li><li><details><summary>1523: [77.52898048795778, 13.003420467308807]</summary><ul><li><span class='ee-k'>0:</span><span class='ee-v'>77.52898048795778</span></li><li><span class='ee-k'>1:</span><span class='ee-v'>13.003420467308807</span></li></ul></details></li><li><details><summary>1524: [77.52903227568147, 13.003587105405131]</summary><ul><li><span class='ee-k'>0:</span><span class='ee-v'>77.52903227568147</span></li><li><span class='ee-k'>1:</span><span class='ee-v'>13.003587105405131</span></li></ul></details></li><li><details><summary>1525: [77.52904235756364, 13.0036141421044]</summary><ul><li><span class='ee-k'>0:</span><span class='ee-v'>77.52904235756364</span></li><li><span class='ee-k'>1:</span><span class='ee-v'>13.0036141421044</span></li></ul></details></li><li><details><summary>1526: [77.52906542420351, 13.003676000457117]</summary><ul><li><span class='ee-k'>0:</span><span class='ee-v'>77.52906542420351</span></li><li><span class='ee-k'>1:</span><span class='ee-v'>13.003676000457117</span></li></ul></details></li><li><details><summary>1527: [77.52909835528857, 13.003743440100138]</summary><ul><li><span class='ee-k'>0:</span><span class='ee-v'>77.52909835528857</span></li><li><span class='ee-k'>1:</span><span class='ee-v'>13.003743440100138</span></li></ul></details></li><li><details><summary>1528: [77.52923791895195, 13.00387760102892]</summary><ul><li><span class='ee-k'>0:</span><span class='ee-v'>77.52923791895195</span></li><li><span class='ee-k'>1:</span><span class='ee-v'>13.00387760102892</span></li></ul></details></li><li><details><summary>1529: [77.52942502115417, 13.004049110683106]</summary><ul><li><span class='ee-k'>0:</span><span class='ee-v'>77.52942502115417</span></li><li><span class='ee-k'>1:</span><span class='ee-v'>13.004049110683106</span></li></ul></details></li><li><details><summary>1530: [77.5294634441633, 13.00408433122952]</summary><ul><li><span class='ee-k'>0:</span><span class='ee-v'>77.5294634441633</span></li><li><span class='ee-k'>1:</span><span class='ee-v'>13.00408433122952</span></li></ul></details></li><li><details><summary>1531: [77.52957588869764, 13.004213109542366]</summary><ul><li><span class='ee-k'>0:</span><span class='ee-v'>77.52957588869764</span></li><li><span class='ee-k'>1:</span><span class='ee-v'>13.004213109542366</span></li></ul></details></li><li><details><summary>1532: [77.52960871697196, 13.004270385999924]</summary><ul><li><span class='ee-k'>0:</span><span class='ee-v'>77.52960871697196</span></li><li><span class='ee-k'>1:</span><span class='ee-v'>13.004270385999924</span></li></ul></details></li><li><details><summary>1533: [77.52960956415284, 13.004353949099459]</summary><ul><li><span class='ee-k'>0:</span><span class='ee-v'>77.52960956415284</span></li><li><span class='ee-k'>1:</span><span class='ee-v'>13.004353949099459</span></li></ul></details></li><li><details><summary>1534: [77.52958487505649, 13.00453149658074]</summary><ul><li><span class='ee-k'>0:</span><span class='ee-v'>77.52958487505649</span></li><li><span class='ee-k'>1:</span><span class='ee-v'>13.00453149658074</span></li></ul></details></li><li><details><summary>1535: [77.52956552837624, 13.004724802780796]</summary><ul><li><span class='ee-k'>0:</span><span class='ee-v'>77.52956552837624</span></li><li><span class='ee-k'>1:</span><span class='ee-v'>13.004724802780796</span></li></ul></details></li><li><details><summary>1536: [77.52957769011823, 13.004901991020233]</summary><ul><li><span class='ee-k'>0:</span><span class='ee-v'>77.52957769011823</span></li><li><span class='ee-k'>1:</span><span class='ee-v'>13.004901991020233</span></li></ul></details></li><li><details><summary>1537: [77.5296015247485, 13.00515134338456]</summary><ul><li><span class='ee-k'>0:</span><span class='ee-v'>77.5296015247485</span></li><li><span class='ee-k'>1:</span><span class='ee-v'>13.00515134338456</span></li></ul></details></li><li><details><summary>1538: [77.52971545025844, 13.00536932515342]</summary><ul><li><span class='ee-k'>0:</span><span class='ee-v'>77.52971545025844</span></li><li><span class='ee-k'>1:</span><span class='ee-v'>13.00536932515342</span></li></ul></details></li><li><details><summary>1539: [77.5298783808567, 13.00570653931421]</summary><ul><li><span class='ee-k'>0:</span><span class='ee-v'>77.5298783808567</span></li><li><span class='ee-k'>1:</span><span class='ee-v'>13.00570653931421</span></li></ul></details></li><li><details><summary>1540: [77.52990529117619, 13.005748062592497]</summary><ul><li><span class='ee-k'>0:</span><span class='ee-v'>77.52990529117619</span></li><li><span class='ee-k'>1:</span><span class='ee-v'>13.005748062592497</span></li></ul></details></li><li><details><summary>1541: [77.52990989754767, 13.00574801767775]</summary><ul><li><span class='ee-k'>0:</span><span class='ee-v'>77.52990989754767</span></li><li><span class='ee-k'>1:</span><span class='ee-v'>13.00574801767775</span></li></ul></details></li><li><details><summary>1542: [77.52988760676037, 13.005878109395605]</summary><ul><li><span class='ee-k'>0:</span><span class='ee-v'>77.52988760676037</span></li><li><span class='ee-k'>1:</span><span class='ee-v'>13.005878109395605</span></li></ul></details></li><li><details><summary>1543: [77.52987969122671, 13.00594933514482]</summary><ul><li><span class='ee-k'>0:</span><span class='ee-v'>77.52987969122671</span></li><li><span class='ee-k'>1:</span><span class='ee-v'>13.00594933514482</span></li></ul></details></li><li><details><summary>1544: [77.52988885668452, 13.006171726216117]</summary><ul><li><span class='ee-k'>0:</span><span class='ee-v'>77.52988885668452</span></li><li><span class='ee-k'>1:</span><span class='ee-v'>13.006171726216117</span></li></ul></details></li><li><details><summary>1545: [77.52987873135478, 13.006422538942603]</summary><ul><li><span class='ee-k'>0:</span><span class='ee-v'>77.52987873135478</span></li><li><span class='ee-k'>1:</span><span class='ee-v'>13.006422538942603</span></li></ul></details></li><li><details><summary>1546: [77.52989902672843, 13.006549956722779]</summary><ul><li><span class='ee-k'>0:</span><span class='ee-v'>77.52989902672843</span></li><li><span class='ee-k'>1:</span><span class='ee-v'>13.006549956722779</span></li></ul></details></li><li><details><summary>1547: [77.5299375071967, 13.006653480981116]</summary><ul><li><span class='ee-k'>0:</span><span class='ee-v'>77.5299375071967</span></li><li><span class='ee-k'>1:</span><span class='ee-v'>13.006653480981116</span></li></ul></details></li><li><details><summary>1548: [77.52996989441549, 13.006780780832655]</summary><ul><li><span class='ee-k'>0:</span><span class='ee-v'>77.52996989441549</span></li><li><span class='ee-k'>1:</span><span class='ee-v'>13.006780780832655</span></li></ul></details></li><li><details><summary>1549: [77.5299864284677, 13.006863825016188]</summary><ul><li><span class='ee-k'>0:</span><span class='ee-v'>77.5299864284677</span></li><li><span class='ee-k'>1:</span><span class='ee-v'>13.006863825016188</span></li></ul></details></li><li><details><summary>1550: [77.5300026596132, 13.006945345279567]</summary><ul><li><span class='ee-k'>0:</span><span class='ee-v'>77.5300026596132</span></li><li><span class='ee-k'>1:</span><span class='ee-v'>13.006945345279567</span></li></ul></details></li><li><details><summary>1551: [77.53003586008391, 13.007152820469864]</summary><ul><li><span class='ee-k'>0:</span><span class='ee-v'>77.53003586008391</span></li><li><span class='ee-k'>1:</span><span class='ee-v'>13.007152820469864</span></li></ul></details></li><li><details><summary>1552: [77.5300500592393, 13.007360480949774]</summary><ul><li><span class='ee-k'>0:</span><span class='ee-v'>77.5300500592393</span></li><li><span class='ee-k'>1:</span><span class='ee-v'>13.007360480949774</span></li></ul></details></li><li><details><summary>1553: [77.53008419395996, 13.007518793516267]</summary><ul><li><span class='ee-k'>0:</span><span class='ee-v'>77.53008419395996</span></li><li><span class='ee-k'>1:</span><span class='ee-v'>13.007518793516267</span></li></ul></details></li><li><details><summary>1554: [77.53009598474954, 13.007573478721055]</summary><ul><li><span class='ee-k'>0:</span><span class='ee-v'>77.53009598474954</span></li><li><span class='ee-k'>1:</span><span class='ee-v'>13.007573478721055</span></li></ul></details></li><li><details><summary>1555: [77.53014073061875, 13.00767016574447]</summary><ul><li><span class='ee-k'>0:</span><span class='ee-v'>77.53014073061875</span></li><li><span class='ee-k'>1:</span><span class='ee-v'>13.00767016574447</span></li></ul></details></li><li><details><summary>1556: [77.5302470986846, 13.007767381083834]</summary><ul><li><span class='ee-k'>0:</span><span class='ee-v'>77.5302470986846</span></li><li><span class='ee-k'>1:</span><span class='ee-v'>13.007767381083834</span></li></ul></details></li><li><details><summary>1557: [77.53036005570543, 13.00783291052571]</summary><ul><li><span class='ee-k'>0:</span><span class='ee-v'>77.53036005570543</span></li><li><span class='ee-k'>1:</span><span class='ee-v'>13.00783291052571</span></li></ul></details></li><li><details><summary>1558: [77.53041640098166, 13.00788092263796]</summary><ul><li><span class='ee-k'>0:</span><span class='ee-v'>77.53041640098166</span></li><li><span class='ee-k'>1:</span><span class='ee-v'>13.00788092263796</span></li></ul></details></li><li><details><summary>1559: [77.53046214368258, 13.008075852581518]</summary><ul><li><span class='ee-k'>0:</span><span class='ee-v'>77.53046214368258</span></li><li><span class='ee-k'>1:</span><span class='ee-v'>13.008075852581518</span></li></ul></details></li><li><details><summary>1560: [77.53046437756039, 13.00829605242967]</summary><ul><li><span class='ee-k'>0:</span><span class='ee-v'>77.53046437756039</span></li><li><span class='ee-k'>1:</span><span class='ee-v'>13.00829605242967</span></li></ul></details></li><li><details><summary>1561: [77.53042271301256, 13.00850312838355]</summary><ul><li><span class='ee-k'>0:</span><span class='ee-v'>77.53042271301256</span></li><li><span class='ee-k'>1:</span><span class='ee-v'>13.00850312838355</span></li></ul></details></li><li><details><summary>1562: [77.53040367611256, 13.00855222722462]</summary><ul><li><span class='ee-k'>0:</span><span class='ee-v'>77.53040367611256</span></li><li><span class='ee-k'>1:</span><span class='ee-v'>13.00855222722462</span></li></ul></details></li><li><details><summary>1563: [77.53033348588626, 13.008733255119088]</summary><ul><li><span class='ee-k'>0:</span><span class='ee-v'>77.53033348588626</span></li><li><span class='ee-k'>1:</span><span class='ee-v'>13.008733255119088</span></li></ul></details></li><li><details><summary>1564: [77.53030201989048, 13.00881035728959]</summary><ul><li><span class='ee-k'>0:</span><span class='ee-v'>77.53030201989048</span></li><li><span class='ee-k'>1:</span><span class='ee-v'>13.00881035728959</span></li></ul></details></li><li><details><summary>1565: [77.5302733671901, 13.008824188875025]</summary><ul><li><span class='ee-k'>0:</span><span class='ee-v'>77.5302733671901</span></li><li><span class='ee-k'>1:</span><span class='ee-v'>13.008824188875025</span></li></ul></details></li><li><details><summary>1566: [77.53010244521651, 13.008834890748917]</summary><ul><li><span class='ee-k'>0:</span><span class='ee-v'>77.53010244521651</span></li><li><span class='ee-k'>1:</span><span class='ee-v'>13.008834890748917</span></li></ul></details></li><li><details><summary>1567: [77.52956358148526, 13.00890564784138]</summary><ul><li><span class='ee-k'>0:</span><span class='ee-v'>77.52956358148526</span></li><li><span class='ee-k'>1:</span><span class='ee-v'>13.00890564784138</span></li></ul></details></li><li><details><summary>1568: [77.52905315249787, 13.008941117013745]</summary><ul><li><span class='ee-k'>0:</span><span class='ee-v'>77.52905315249787</span></li><li><span class='ee-k'>1:</span><span class='ee-v'>13.008941117013745</span></li></ul></details></li><li><details><summary>1569: [77.52879522654473, 13.008947019562827]</summary><ul><li><span class='ee-k'>0:</span><span class='ee-v'>77.52879522654473</span></li><li><span class='ee-k'>1:</span><span class='ee-v'>13.008947019562827</span></li></ul></details></li><li><details><summary>1570: [77.52874361023252, 13.008967850914232]</summary><ul><li><span class='ee-k'>0:</span><span class='ee-v'>77.52874361023252</span></li><li><span class='ee-k'>1:</span><span class='ee-v'>13.008967850914232</span></li></ul></details></li><li><details><summary>1571: [77.52868017677953, 13.009015901685608]</summary><ul><li><span class='ee-k'>0:</span><span class='ee-v'>77.52868017677953</span></li><li><span class='ee-k'>1:</span><span class='ee-v'>13.009015901685608</span></li></ul></details></li><li><details><summary>1572: [77.52856522657444, 13.009151414044199]</summary><ul><li><span class='ee-k'>0:</span><span class='ee-v'>77.52856522657444</span></li><li><span class='ee-k'>1:</span><span class='ee-v'>13.009151414044199</span></li></ul></details></li><li><details><summary>1573: [77.52849359098029, 13.009242459778141]</summary><ul><li><span class='ee-k'>0:</span><span class='ee-v'>77.52849359098029</span></li><li><span class='ee-k'>1:</span><span class='ee-v'>13.009242459778141</span></li></ul></details></li><li><details><summary>1574: [77.52834379461805, 13.00934894881134]</summary><ul><li><span class='ee-k'>0:</span><span class='ee-v'>77.52834379461805</span></li><li><span class='ee-k'>1:</span><span class='ee-v'>13.00934894881134</span></li></ul></details></li><li><details><summary>1575: [77.52807973772094, 13.00960223671273]</summary><ul><li><span class='ee-k'>0:</span><span class='ee-v'>77.52807973772094</span></li><li><span class='ee-k'>1:</span><span class='ee-v'>13.00960223671273</span></li></ul></details></li><li><details><summary>1576: [77.52797421730567, 13.009759114529853]</summary><ul><li><span class='ee-k'>0:</span><span class='ee-v'>77.52797421730567</span></li><li><span class='ee-k'>1:</span><span class='ee-v'>13.009759114529853</span></li></ul></details></li><li><details><summary>1577: [77.5279340068285, 13.009882604867874]</summary><ul><li><span class='ee-k'>0:</span><span class='ee-v'>77.5279340068285</span></li><li><span class='ee-k'>1:</span><span class='ee-v'>13.009882604867874</span></li></ul></details></li><li><details><summary>1578: [77.52789799072976, 13.009965397957505]</summary><ul><li><span class='ee-k'>0:</span><span class='ee-v'>77.52789799072976</span></li><li><span class='ee-k'>1:</span><span class='ee-v'>13.009965397957505</span></li></ul></details></li><li><details><summary>1579: [77.52781016425809, 13.010220356208068]</summary><ul><li><span class='ee-k'>0:</span><span class='ee-v'>77.52781016425809</span></li><li><span class='ee-k'>1:</span><span class='ee-v'>13.010220356208068</span></li></ul></details></li><li><details><summary>1580: [77.52781148755815, 13.010237283466932]</summary><ul><li><span class='ee-k'>0:</span><span class='ee-v'>77.52781148755815</span></li><li><span class='ee-k'>1:</span><span class='ee-v'>13.010237283466932</span></li></ul></details></li><li><details><summary>1581: [77.52782332419278, 13.010268789734228]</summary><ul><li><span class='ee-k'>0:</span><span class='ee-v'>77.52782332419278</span></li><li><span class='ee-k'>1:</span><span class='ee-v'>13.010268789734228</span></li></ul></details></li><li><details><summary>1582: [77.52782475050648, 13.010295880081829]</summary><ul><li><span class='ee-k'>0:</span><span class='ee-v'>77.52782475050648</span></li><li><span class='ee-k'>1:</span><span class='ee-v'>13.010295880081829</span></li></ul></details></li><li><details><summary>1583: [77.52782808034912, 13.010453955742184]</summary><ul><li><span class='ee-k'>0:</span><span class='ee-v'>77.52782808034912</span></li><li><span class='ee-k'>1:</span><span class='ee-v'>13.010453955742184</span></li></ul></details></li><li><details><summary>1584: [77.52781658356328, 13.010512793657808]</summary><ul><li><span class='ee-k'>0:</span><span class='ee-v'>77.52781658356328</span></li><li><span class='ee-k'>1:</span><span class='ee-v'>13.010512793657808</span></li></ul></details></li><li><details><summary>1585: [77.52780624983748, 13.010572749582337]</summary><ul><li><span class='ee-k'>0:</span><span class='ee-v'>77.52780624983748</span></li><li><span class='ee-k'>1:</span><span class='ee-v'>13.010572749582337</span></li></ul></details></li><li><details><summary>1586: [77.52774222855594, 13.010619676606401]</summary><ul><li><span class='ee-k'>0:</span><span class='ee-v'>77.52774222855594</span></li><li><span class='ee-k'>1:</span><span class='ee-v'>13.010619676606401</span></li></ul></details></li><li><details><summary>1587: [77.52769502304807, 13.010644656056257]</summary><ul><li><span class='ee-k'>0:</span><span class='ee-v'>77.52769502304807</span></li><li><span class='ee-k'>1:</span><span class='ee-v'>13.010644656056257</span></li></ul></details></li><li><details><summary>1588: [77.52763568896083, 13.010676052723074]</summary><ul><li><span class='ee-k'>0:</span><span class='ee-v'>77.52763568896083</span></li><li><span class='ee-k'>1:</span><span class='ee-v'>13.010676052723074</span></li></ul></details></li><li><details><summary>1589: [77.52768314210503, 13.010755773682849]</summary><ul><li><span class='ee-k'>0:</span><span class='ee-v'>77.52768314210503</span></li><li><span class='ee-k'>1:</span><span class='ee-v'>13.010755773682849</span></li></ul></details></li><li><details><summary>1590: [77.52772892275203, 13.010796385041134]</summary><ul><li><span class='ee-k'>0:</span><span class='ee-v'>77.52772892275203</span></li><li><span class='ee-k'>1:</span><span class='ee-v'>13.010796385041134</span></li></ul></details></li><li><details><summary>1591: [77.52824854440853, 13.011257338088289]</summary><ul><li><span class='ee-k'>0:</span><span class='ee-v'>77.52824854440853</span></li><li><span class='ee-k'>1:</span><span class='ee-v'>13.011257338088289</span></li></ul></details></li><li><details><summary>1592: [77.52867532817996, 13.011681785670014]</summary><ul><li><span class='ee-k'>0:</span><span class='ee-v'>77.52867532817996</span></li><li><span class='ee-k'>1:</span><span class='ee-v'>13.011681785670014</span></li></ul></details></li><li><details><summary>1593: [77.52883667718314, 13.011842250575656]</summary><ul><li><span class='ee-k'>0:</span><span class='ee-v'>77.52883667718314</span></li><li><span class='ee-k'>1:</span><span class='ee-v'>13.011842250575656</span></li></ul></details></li><li><details><summary>1594: [77.52903749335526, 13.012110205283053]</summary><ul><li><span class='ee-k'>0:</span><span class='ee-v'>77.52903749335526</span></li><li><span class='ee-k'>1:</span><span class='ee-v'>13.012110205283053</span></li></ul></details></li><li><details><summary>1595: [77.52927974244314, 13.012431964106646]</summary><ul><li><span class='ee-k'>0:</span><span class='ee-v'>77.52927974244314</span></li><li><span class='ee-k'>1:</span><span class='ee-v'>13.012431964106646</span></li></ul></details></li><li><details><summary>1596: [77.52941374813942, 13.012609587417863]</summary><ul><li><span class='ee-k'>0:</span><span class='ee-v'>77.52941374813942</span></li><li><span class='ee-k'>1:</span><span class='ee-v'>13.012609587417863</span></li></ul></details></li><li><details><summary>1597: [77.52952840632352, 13.01276156541348]</summary><ul><li><span class='ee-k'>0:</span><span class='ee-v'>77.52952840632352</span></li><li><span class='ee-k'>1:</span><span class='ee-v'>13.01276156541348</span></li></ul></details></li><li><details><summary>1598: [77.5298678285912, 13.013235423091412]</summary><ul><li><span class='ee-k'>0:</span><span class='ee-v'>77.5298678285912</span></li><li><span class='ee-k'>1:</span><span class='ee-v'>13.013235423091412</span></li></ul></details></li><li><details><summary>1599: [77.52997586095151, 13.0133862439282]</summary><ul><li><span class='ee-k'>0:</span><span class='ee-v'>77.52997586095151</span></li><li><span class='ee-k'>1:</span><span class='ee-v'>13.0133862439282</span></li></ul></details></li><li><details><summary>1600: [77.53026172618937, 13.01388416148489]</summary><ul><li><span class='ee-k'>0:</span><span class='ee-v'>77.53026172618937</span></li><li><span class='ee-k'>1:</span><span class='ee-v'>13.01388416148489</span></li></ul></details></li><li><details><summary>1601: [77.53034992597824, 13.014037787529576]</summary><ul><li><span class='ee-k'>0:</span><span class='ee-v'>77.53034992597824</span></li><li><span class='ee-k'>1:</span><span class='ee-v'>13.014037787529576</span></li></ul></details></li><li><details><summary>1602: [77.5303597700419, 13.01405493335159]</summary><ul><li><span class='ee-k'>0:</span><span class='ee-v'>77.5303597700419</span></li><li><span class='ee-k'>1:</span><span class='ee-v'>13.01405493335159</span></li></ul></details></li><li><details><summary>1603: [77.5303956045304, 13.01411734975568]</summary><ul><li><span class='ee-k'>0:</span><span class='ee-v'>77.5303956045304</span></li><li><span class='ee-k'>1:</span><span class='ee-v'>13.01411734975568</span></li></ul></details></li><li><details><summary>1604: [77.53046833411356, 13.014277861181]</summary><ul><li><span class='ee-k'>0:</span><span class='ee-v'>77.53046833411356</span></li><li><span class='ee-k'>1:</span><span class='ee-v'>13.014277861181</span></li></ul></details></li><li><details><summary>1605: [77.53060295662029, 13.014574968137811]</summary><ul><li><span class='ee-k'>0:</span><span class='ee-v'>77.53060295662029</span></li><li><span class='ee-k'>1:</span><span class='ee-v'>13.014574968137811</span></li></ul></details></li><li><details><summary>1606: [77.53061010706634, 13.014590620589663]</summary><ul><li><span class='ee-k'>0:</span><span class='ee-v'>77.53061010706634</span></li><li><span class='ee-k'>1:</span><span class='ee-v'>13.014590620589663</span></li></ul></details></li><li><details><summary>1607: [77.53061012591428, 13.014590661965473]</summary><ul><li><span class='ee-k'>0:</span><span class='ee-v'>77.53061012591428</span></li><li><span class='ee-k'>1:</span><span class='ee-v'>13.014590661965473</span></li></ul></details></li><li><details><summary>1608: [77.53063349867242, 13.014641824302508]</summary><ul><li><span class='ee-k'>0:</span><span class='ee-v'>77.53063349867242</span></li><li><span class='ee-k'>1:</span><span class='ee-v'>13.014641824302508</span></li></ul></details></li><li><details><summary>1609: [77.53064712862951, 13.014671660379523]</summary><ul><li><span class='ee-k'>0:</span><span class='ee-v'>77.53064712862951</span></li><li><span class='ee-k'>1:</span><span class='ee-v'>13.014671660379523</span></li></ul></details></li><li><details><summary>1610: [77.53064941584655, 13.014678226181527]</summary><ul><li><span class='ee-k'>0:</span><span class='ee-v'>77.53064941584655</span></li><li><span class='ee-k'>1:</span><span class='ee-v'>13.014678226181527</span></li></ul></details></li><li><details><summary>1611: [77.53071060108695, 13.014853844181689]</summary><ul><li><span class='ee-k'>0:</span><span class='ee-v'>77.53071060108695</span></li><li><span class='ee-k'>1:</span><span class='ee-v'>13.014853844181689</span></li></ul></details></li><li><details><summary>1612: [77.53077989421433, 13.015052735979383]</summary><ul><li><span class='ee-k'>0:</span><span class='ee-v'>77.53077989421433</span></li><li><span class='ee-k'>1:</span><span class='ee-v'>13.015052735979383</span></li></ul></details></li><li><details><summary>1613: [77.53079642862006, 13.015100194840029]</summary><ul><li><span class='ee-k'>0:</span><span class='ee-v'>77.53079642862006</span></li><li><span class='ee-k'>1:</span><span class='ee-v'>13.015100194840029</span></li></ul></details></li><li><details><summary>1614: [77.53084950351956, 13.0152525353512]</summary><ul><li><span class='ee-k'>0:</span><span class='ee-v'>77.53084950351956</span></li><li><span class='ee-k'>1:</span><span class='ee-v'>13.0152525353512</span></li></ul></details></li><li><details><summary>1615: [77.53103101545112, 13.01577352458381]</summary><ul><li><span class='ee-k'>0:</span><span class='ee-v'>77.53103101545112</span></li><li><span class='ee-k'>1:</span><span class='ee-v'>13.01577352458381</span></li></ul></details></li><li><details><summary>1616: [77.53104667590374, 13.015818475769992]</summary><ul><li><span class='ee-k'>0:</span><span class='ee-v'>77.53104667590374</span></li><li><span class='ee-k'>1:</span><span class='ee-v'>13.015818475769992</span></li></ul></details></li><li><details><summary>1617: [77.53106827177423, 13.015880461809708]</summary><ul><li><span class='ee-k'>0:</span><span class='ee-v'>77.53106827177423</span></li><li><span class='ee-k'>1:</span><span class='ee-v'>13.015880461809708</span></li></ul></details></li><li><details><summary>1618: [77.53121197227836, 13.016421142431739]</summary><ul><li><span class='ee-k'>0:</span><span class='ee-v'>77.53121197227836</span></li><li><span class='ee-k'>1:</span><span class='ee-v'>13.016421142431739</span></li></ul></details></li><li><details><summary>1619: [77.53139399412196, 13.017106005148355]</summary><ul><li><span class='ee-k'>0:</span><span class='ee-v'>77.53139399412196</span></li><li><span class='ee-k'>1:</span><span class='ee-v'>13.017106005148355</span></li></ul></details></li><li><details><summary>1620: [77.53141700316297, 13.017200692052397]</summary><ul><li><span class='ee-k'>0:</span><span class='ee-v'>77.53141700316297</span></li><li><span class='ee-k'>1:</span><span class='ee-v'>13.017200692052397</span></li></ul></details></li><li><details><summary>1621: [77.53143434843632, 13.017272072268891]</summary><ul><li><span class='ee-k'>0:</span><span class='ee-v'>77.53143434843632</span></li><li><span class='ee-k'>1:</span><span class='ee-v'>13.017272072268891</span></li></ul></details></li><li><details><summary>1622: [77.53147120934985, 13.017423764005613]</summary><ul><li><span class='ee-k'>0:</span><span class='ee-v'>77.53147120934985</span></li><li><span class='ee-k'>1:</span><span class='ee-v'>13.017423764005613</span></li></ul></details></li><li><details><summary>1623: [77.53152514935364, 13.017645744421996]</summary><ul><li><span class='ee-k'>0:</span><span class='ee-v'>77.53152514935364</span></li><li><span class='ee-k'>1:</span><span class='ee-v'>13.017645744421996</span></li></ul></details></li><li><details><summary>1624: [77.53159616662936, 13.017938003568144]</summary><ul><li><span class='ee-k'>0:</span><span class='ee-v'>77.53159616662936</span></li><li><span class='ee-k'>1:</span><span class='ee-v'>13.017938003568144</span></li></ul></details></li><li><details><summary>1625: [77.53167105644982, 13.018246190999276]</summary><ul><li><span class='ee-k'>0:</span><span class='ee-v'>77.53167105644982</span></li><li><span class='ee-k'>1:</span><span class='ee-v'>13.018246190999276</span></li></ul></details></li><li><details><summary>1626: [77.53184132767095, 13.018511052284168]</summary><ul><li><span class='ee-k'>0:</span><span class='ee-v'>77.53184132767095</span></li><li><span class='ee-k'>1:</span><span class='ee-v'>13.018511052284168</span></li></ul></details></li><li><details><summary>1627: [77.53185175728979, 13.018561135574084]</summary><ul><li><span class='ee-k'>0:</span><span class='ee-v'>77.53185175728979</span></li><li><span class='ee-k'>1:</span><span class='ee-v'>13.018561135574084</span></li></ul></details></li><li><details><summary>1628: [77.53197815157037, 13.019168120999609]</summary><ul><li><span class='ee-k'>0:</span><span class='ee-v'>77.53197815157037</span></li><li><span class='ee-k'>1:</span><span class='ee-v'>13.019168120999609</span></li></ul></details></li><li><details><summary>1629: [77.53198239742129, 13.019191063849428]</summary><ul><li><span class='ee-k'>0:</span><span class='ee-v'>77.53198239742129</span></li><li><span class='ee-k'>1:</span><span class='ee-v'>13.019191063849428</span></li></ul></details></li><li><details><summary>1630: [77.53214464841031, 13.020067716662641]</summary><ul><li><span class='ee-k'>0:</span><span class='ee-v'>77.53214464841031</span></li><li><span class='ee-k'>1:</span><span class='ee-v'>13.020067716662641</span></li></ul></details></li><li><details><summary>1631: [77.53225418268448, 13.020659540766658]</summary><ul><li><span class='ee-k'>0:</span><span class='ee-v'>77.53225418268448</span></li><li><span class='ee-k'>1:</span><span class='ee-v'>13.020659540766658</span></li></ul></details></li><li><details><summary>1632: [77.53225487021005, 13.020663726157553]</summary><ul><li><span class='ee-k'>0:</span><span class='ee-v'>77.53225487021005</span></li><li><span class='ee-k'>1:</span><span class='ee-v'>13.020663726157553</span></li></ul></details></li><li><details><summary>1633: [77.53230859276509, 13.020990965388535]</summary><ul><li><span class='ee-k'>0:</span><span class='ee-v'>77.53230859276509</span></li><li><span class='ee-k'>1:</span><span class='ee-v'>13.020990965388535</span></li></ul></details></li><li><details><summary>1634: [77.53230862704052, 13.020991164720847]</summary><ul><li><span class='ee-k'>0:</span><span class='ee-v'>77.53230862704052</span></li><li><span class='ee-k'>1:</span><span class='ee-v'>13.020991164720847</span></li></ul></details></li><li><details><summary>1635: [77.53237450480086, 13.02139243575387]</summary><ul><li><span class='ee-k'>0:</span><span class='ee-v'>77.53237450480086</span></li><li><span class='ee-k'>1:</span><span class='ee-v'>13.02139243575387</span></li></ul></details></li><li><details><summary>1636: [77.53244049940098, 13.021596201315685]</summary><ul><li><span class='ee-k'>0:</span><span class='ee-v'>77.53244049940098</span></li><li><span class='ee-k'>1:</span><span class='ee-v'>13.021596201315685</span></li></ul></details></li><li><details><summary>1637: [77.53251910135003, 13.021839884588388]</summary><ul><li><span class='ee-k'>0:</span><span class='ee-v'>77.53251910135003</span></li><li><span class='ee-k'>1:</span><span class='ee-v'>13.021839884588388</span></li></ul></details></li><li><details><summary>1638: [77.53253563961732, 13.021891159406993]</summary><ul><li><span class='ee-k'>0:</span><span class='ee-v'>77.53253563961732</span></li><li><span class='ee-k'>1:</span><span class='ee-v'>13.021891159406993</span></li></ul></details></li><li><details><summary>1639: [77.53263498502342, 13.02214654764969]</summary><ul><li><span class='ee-k'>0:</span><span class='ee-v'>77.53263498502342</span></li><li><span class='ee-k'>1:</span><span class='ee-v'>13.02214654764969</span></li></ul></details></li><li><details><summary>1640: [77.53279495369509, 13.022077223965375]</summary><ul><li><span class='ee-k'>0:</span><span class='ee-v'>77.53279495369509</span></li><li><span class='ee-k'>1:</span><span class='ee-v'>13.022077223965375</span></li></ul></details></li><li><details><summary>1641: [77.53284252971412, 13.022055301556666]</summary><ul><li><span class='ee-k'>0:</span><span class='ee-v'>77.53284252971412</span></li><li><span class='ee-k'>1:</span><span class='ee-v'>13.022055301556666</span></li></ul></details></li><li><details><summary>1642: [77.53290565320592, 13.02203322718783]</summary><ul><li><span class='ee-k'>0:</span><span class='ee-v'>77.53290565320592</span></li><li><span class='ee-k'>1:</span><span class='ee-v'>13.02203322718783</span></li></ul></details></li><li><details><summary>1643: [77.53312892882988, 13.021959896570749]</summary><ul><li><span class='ee-k'>0:</span><span class='ee-v'>77.53312892882988</span></li><li><span class='ee-k'>1:</span><span class='ee-v'>13.021959896570749</span></li></ul></details></li><li><details><summary>1644: [77.53315820443815, 13.02195057571093]</summary><ul><li><span class='ee-k'>0:</span><span class='ee-v'>77.53315820443815</span></li><li><span class='ee-k'>1:</span><span class='ee-v'>13.02195057571093</span></li></ul></details></li><li><details><summary>1645: [77.53321301877389, 13.021942035174737]</summary><ul><li><span class='ee-k'>0:</span><span class='ee-v'>77.53321301877389</span></li><li><span class='ee-k'>1:</span><span class='ee-v'>13.021942035174737</span></li></ul></details></li><li><details><summary>1646: [77.53357108597201, 13.021886245686527]</summary><ul><li><span class='ee-k'>0:</span><span class='ee-v'>77.53357108597201</span></li><li><span class='ee-k'>1:</span><span class='ee-v'>13.021886245686527</span></li></ul></details></li><li><details><summary>1647: [77.53362221212126, 13.021878279592457]</summary><ul><li><span class='ee-k'>0:</span><span class='ee-v'>77.53362221212126</span></li><li><span class='ee-k'>1:</span><span class='ee-v'>13.021878279592457</span></li></ul></details></li><li><details><summary>1648: [77.53386775543729, 13.021840932766747]</summary><ul><li><span class='ee-k'>0:</span><span class='ee-v'>77.53386775543729</span></li><li><span class='ee-k'>1:</span><span class='ee-v'>13.021840932766747</span></li></ul></details></li><li><details><summary>1649: [77.53389993701308, 13.021836037527523]</summary><ul><li><span class='ee-k'>0:</span><span class='ee-v'>77.53389993701308</span></li><li><span class='ee-k'>1:</span><span class='ee-v'>13.021836037527523</span></li></ul></details></li><li><details><summary>1650: [77.53412249677191, 13.0218056279719]</summary><ul><li><span class='ee-k'>0:</span><span class='ee-v'>77.53412249677191</span></li><li><span class='ee-k'>1:</span><span class='ee-v'>13.0218056279719</span></li></ul></details></li><li><details><summary>1651: [77.53419013151488, 13.02179652821514]</summary><ul><li><span class='ee-k'>0:</span><span class='ee-v'>77.53419013151488</span></li><li><span class='ee-k'>1:</span><span class='ee-v'>13.02179652821514</span></li></ul></details></li><li><details><summary>1652: [77.53424241792811, 13.021789492979018]</summary><ul><li><span class='ee-k'>0:</span><span class='ee-v'>77.53424241792811</span></li><li><span class='ee-k'>1:</span><span class='ee-v'>13.021789492979018</span></li></ul></details></li><li><details><summary>1653: [77.53433068362581, 13.021777617459998]</summary><ul><li><span class='ee-k'>0:</span><span class='ee-v'>77.53433068362581</span></li><li><span class='ee-k'>1:</span><span class='ee-v'>13.021777617459998</span></li></ul></details></li><li><details><summary>1654: [77.53496213071283, 13.021691258933412]</summary><ul><li><span class='ee-k'>0:</span><span class='ee-v'>77.53496213071283</span></li><li><span class='ee-k'>1:</span><span class='ee-v'>13.021691258933412</span></li></ul></details></li><li><details><summary>1655: [77.5349949071232, 13.021686420989543]</summary><ul><li><span class='ee-k'>0:</span><span class='ee-v'>77.5349949071232</span></li><li><span class='ee-k'>1:</span><span class='ee-v'>13.021686420989543</span></li></ul></details></li><li><details><summary>1656: [77.53522684193497, 13.021615262695]</summary><ul><li><span class='ee-k'>0:</span><span class='ee-v'>77.53522684193497</span></li><li><span class='ee-k'>1:</span><span class='ee-v'>13.021615262695</span></li></ul></details></li><li><details><summary>1657: [77.53527264412291, 13.021588839894646]</summary><ul><li><span class='ee-k'>0:</span><span class='ee-v'>77.53527264412291</span></li><li><span class='ee-k'>1:</span><span class='ee-v'>13.021588839894646</span></li></ul></details></li><li><details><summary>1658: [77.5356264964018, 13.021387744222398]</summary><ul><li><span class='ee-k'>0:</span><span class='ee-v'>77.5356264964018</span></li><li><span class='ee-k'>1:</span><span class='ee-v'>13.021387744222398</span></li></ul></details></li><li><details><summary>1659: [77.53568603797373, 13.021353281585931]</summary><ul><li><span class='ee-k'>0:</span><span class='ee-v'>77.53568603797373</span></li><li><span class='ee-k'>1:</span><span class='ee-v'>13.021353281585931</span></li></ul></details></li><li><details><summary>1660: [77.53592226311659, 13.021233222067027]</summary><ul><li><span class='ee-k'>0:</span><span class='ee-v'>77.53592226311659</span></li><li><span class='ee-k'>1:</span><span class='ee-v'>13.021233222067027</span></li></ul></details></li><li><details><summary>1661: [77.5360349483986, 13.021175949882048]</summary><ul><li><span class='ee-k'>0:</span><span class='ee-v'>77.5360349483986</span></li><li><span class='ee-k'>1:</span><span class='ee-v'>13.021175949882048</span></li></ul></details></li><li><details><summary>1662: [77.53665966037066, 13.020824259525046]</summary><ul><li><span class='ee-k'>0:</span><span class='ee-v'>77.53665966037066</span></li><li><span class='ee-k'>1:</span><span class='ee-v'>13.020824259525046</span></li></ul></details></li><li><details><summary>1663: [77.53685034200387, 13.020717364991848]</summary><ul><li><span class='ee-k'>0:</span><span class='ee-v'>77.53685034200387</span></li><li><span class='ee-k'>1:</span><span class='ee-v'>13.020717364991848</span></li></ul></details></li><li><details><summary>1664: [77.53690130327497, 13.020688632792332]</summary><ul><li><span class='ee-k'>0:</span><span class='ee-v'>77.53690130327497</span></li><li><span class='ee-k'>1:</span><span class='ee-v'>13.020688632792332</span></li></ul></details></li><li><details><summary>1665: [77.537376515131, 13.020416328488901]</summary><ul><li><span class='ee-k'>0:</span><span class='ee-v'>77.537376515131</span></li><li><span class='ee-k'>1:</span><span class='ee-v'>13.020416328488901</span></li></ul></details></li><li><details><summary>1666: [77.53807597750883, 13.019997272821621]</summary><ul><li><span class='ee-k'>0:</span><span class='ee-v'>77.53807597750883</span></li><li><span class='ee-k'>1:</span><span class='ee-v'>13.019997272821621</span></li></ul></details></li><li><details><summary>1667: [77.5382488416883, 13.019893939938973]</summary><ul><li><span class='ee-k'>0:</span><span class='ee-v'>77.5382488416883</span></li><li><span class='ee-k'>1:</span><span class='ee-v'>13.019893939938973</span></li></ul></details></li><li><details><summary>1668: [77.53863806767725, 13.019660873194095]</summary><ul><li><span class='ee-k'>0:</span><span class='ee-v'>77.53863806767725</span></li><li><span class='ee-k'>1:</span><span class='ee-v'>13.019660873194095</span></li></ul></details></li><li><details><summary>1669: [77.53908265867622, 13.019421848278826]</summary><ul><li><span class='ee-k'>0:</span><span class='ee-v'>77.53908265867622</span></li><li><span class='ee-k'>1:</span><span class='ee-v'>13.019421848278826</span></li></ul></details></li><li><details><summary>1670: [77.53919649359042, 13.019360647186318]</summary><ul><li><span class='ee-k'>0:</span><span class='ee-v'>77.53919649359042</span></li><li><span class='ee-k'>1:</span><span class='ee-v'>13.019360647186318</span></li></ul></details></li><li><details><summary>1671: [77.539484038158, 13.019208758190835]</summary><ul><li><span class='ee-k'>0:</span><span class='ee-v'>77.539484038158</span></li><li><span class='ee-k'>1:</span><span class='ee-v'>13.019208758190835</span></li></ul></details></li><li><details><summary>1672: [77.53972231474319, 13.019082196996257]</summary><ul><li><span class='ee-k'>0:</span><span class='ee-v'>77.53972231474319</span></li><li><span class='ee-k'>1:</span><span class='ee-v'>13.019082196996257</span></li></ul></details></li><li><details><summary>1673: [77.53980324743573, 13.019039960190394]</summary><ul><li><span class='ee-k'>0:</span><span class='ee-v'>77.53980324743573</span></li><li><span class='ee-k'>1:</span><span class='ee-v'>13.019039960190394</span></li></ul></details></li><li><details><summary>1674: [77.5398105311322, 13.019036159312934]</summary><ul><li><span class='ee-k'>0:</span><span class='ee-v'>77.5398105311322</span></li><li><span class='ee-k'>1:</span><span class='ee-v'>13.019036159312934</span></li></ul></details></li><li><details><summary>1675: [77.54014735925081, 13.019590486572037]</summary><ul><li><span class='ee-k'>0:</span><span class='ee-v'>77.54014735925081</span></li><li><span class='ee-k'>1:</span><span class='ee-v'>13.019590486572037</span></li></ul></details></li><li><details><summary>1676: [77.54106980517996, 13.02110856563518]</summary><ul><li><span class='ee-k'>0:</span><span class='ee-v'>77.54106980517996</span></li><li><span class='ee-k'>1:</span><span class='ee-v'>13.02110856563518</span></li></ul></details></li><li><details><summary>1677: [77.54104632294785, 13.021121218520545]</summary><ul><li><span class='ee-k'>0:</span><span class='ee-v'>77.54104632294785</span></li><li><span class='ee-k'>1:</span><span class='ee-v'>13.021121218520545</span></li></ul></details></li><li><details><summary>1678: [77.54152847007636, 13.02195276134372]</summary><ul><li><span class='ee-k'>0:</span><span class='ee-v'>77.54152847007636</span></li><li><span class='ee-k'>1:</span><span class='ee-v'>13.02195276134372</span></li></ul></details></li><li><details><summary>1679: [77.54201061986595, 13.022784302636506]</summary><ul><li><span class='ee-k'>0:</span><span class='ee-v'>77.54201061986595</span></li><li><span class='ee-k'>1:</span><span class='ee-v'>13.022784302636506</span></li></ul></details></li><li><details><summary>1680: [77.54200204001768, 13.022790033455896]</summary><ul><li><span class='ee-k'>0:</span><span class='ee-v'>77.54200204001768</span></li><li><span class='ee-k'>1:</span><span class='ee-v'>13.022790033455896</span></li></ul></details></li><li><details><summary>1681: [77.54279974293395, 13.02403636194021]</summary><ul><li><span class='ee-k'>0:</span><span class='ee-v'>77.54279974293395</span></li><li><span class='ee-k'>1:</span><span class='ee-v'>13.02403636194021</span></li></ul></details></li><li><details><summary>1682: [77.54290854681564, 13.024206355300853]</summary><ul><li><span class='ee-k'>0:</span><span class='ee-v'>77.54290854681564</span></li><li><span class='ee-k'>1:</span><span class='ee-v'>13.024206355300853</span></li></ul></details></li><li><details><summary>1683: [77.54312690986475, 13.02455691666793]</summary><ul><li><span class='ee-k'>0:</span><span class='ee-v'>77.54312690986475</span></li><li><span class='ee-k'>1:</span><span class='ee-v'>13.02455691666793</span></li></ul></details></li><li><details><summary>1684: [77.54358185849392, 13.025287291764778]</summary><ul><li><span class='ee-k'>0:</span><span class='ee-v'>77.54358185849392</span></li><li><span class='ee-k'>1:</span><span class='ee-v'>13.025287291764778</span></li></ul></details></li><li><details><summary>1685: [77.54425517658741, 13.026368225317784]</summary><ul><li><span class='ee-k'>0:</span><span class='ee-v'>77.54425517658741</span></li><li><span class='ee-k'>1:</span><span class='ee-v'>13.026368225317784</span></li></ul></details></li><li><details><summary>1686: [77.54460445322619, 13.026170550409265]</summary><ul><li><span class='ee-k'>0:</span><span class='ee-v'>77.54460445322619</span></li><li><span class='ee-k'>1:</span><span class='ee-v'>13.026170550409265</span></li></ul></details></li><li><details><summary>1687: [77.54574013418616, 13.025524169057745]</summary><ul><li><span class='ee-k'>0:</span><span class='ee-v'>77.54574013418616</span></li><li><span class='ee-k'>1:</span><span class='ee-v'>13.025524169057745</span></li></ul></details></li><li><details><summary>1688: [77.54598906577662, 13.025382486814621]</summary><ul><li><span class='ee-k'>0:</span><span class='ee-v'>77.54598906577662</span></li><li><span class='ee-k'>1:</span><span class='ee-v'>13.025382486814621</span></li></ul></details></li><li><details><summary>1689: [77.5464021176539, 13.025147393374244]</summary><ul><li><span class='ee-k'>0:</span><span class='ee-v'>77.5464021176539</span></li><li><span class='ee-k'>1:</span><span class='ee-v'>13.025147393374244</span></li></ul></details></li><li><details><summary>1690: [77.54755428891045, 13.024491614718418]</summary><ul><li><span class='ee-k'>0:</span><span class='ee-v'>77.54755428891045</span></li><li><span class='ee-k'>1:</span><span class='ee-v'>13.024491614718418</span></li></ul></details></li><li><details><summary>1691: [77.5480389984684, 13.024215630485402]</summary><ul><li><span class='ee-k'>0:</span><span class='ee-v'>77.5480389984684</span></li><li><span class='ee-k'>1:</span><span class='ee-v'>13.024215630485402</span></li></ul></details></li><li><details><summary>1692: [77.54848068200344, 13.023964144123084]</summary><ul><li><span class='ee-k'>0:</span><span class='ee-v'>77.54848068200344</span></li><li><span class='ee-k'>1:</span><span class='ee-v'>13.023964144123084</span></li></ul></details></li><li><details><summary>1693: [77.54933697566985, 13.023508884785585]</summary><ul><li><span class='ee-k'>0:</span><span class='ee-v'>77.54933697566985</span></li><li><span class='ee-k'>1:</span><span class='ee-v'>13.023508884785585</span></li></ul></details></li><li><details><summary>1694: [77.55019326580927, 13.023053622275965]</summary><ul><li><span class='ee-k'>0:</span><span class='ee-v'>77.55019326580927</span></li><li><span class='ee-k'>1:</span><span class='ee-v'>13.023053622275965</span></li></ul></details></li><li><details><summary>1695: [77.55104955244019, 13.022598358401277]</summary><ul><li><span class='ee-k'>0:</span><span class='ee-v'>77.55104955244019</span></li><li><span class='ee-k'>1:</span><span class='ee-v'>13.022598358401277</span></li></ul></details></li><li><details><summary>1696: [77.55152242509382, 13.022155525265072]</summary><ul><li><span class='ee-k'>0:</span><span class='ee-v'>77.55152242509382</span></li><li><span class='ee-k'>1:</span><span class='ee-v'>13.022155525265072</span></li></ul></details></li><li><details><summary>1697: [77.55206419254596, 13.021298680647462]</summary><ul><li><span class='ee-k'>0:</span><span class='ee-v'>77.55206419254596</span></li><li><span class='ee-k'>1:</span><span class='ee-v'>13.021298680647462</span></li></ul></details></li><li><details><summary>1698: [77.55225950636742, 13.020923657714086]</summary><ul><li><span class='ee-k'>0:</span><span class='ee-v'>77.55225950636742</span></li><li><span class='ee-k'>1:</span><span class='ee-v'>13.020923657714086</span></li></ul></details></li><li><details><summary>1699: [77.55232963565759, 13.02078900042269]</summary><ul><li><span class='ee-k'>0:</span><span class='ee-v'>77.55232963565759</span></li><li><span class='ee-k'>1:</span><span class='ee-v'>13.02078900042269</span></li></ul></details></li><li><details><summary>1700: [77.55243017703935, 13.020597154635821]</summary><ul><li><span class='ee-k'>0:</span><span class='ee-v'>77.55243017703935</span></li><li><span class='ee-k'>1:</span><span class='ee-v'>13.020597154635821</span></li></ul></details></li><li><details><summary>1701: [77.55256516086118, 13.020338339556536]</summary><ul><li><span class='ee-k'>0:</span><span class='ee-v'>77.55256516086118</span></li><li><span class='ee-k'>1:</span><span class='ee-v'>13.020338339556536</span></li></ul></details></li><li><details><summary>1702: [77.55276428405523, 13.019932080735948]</summary><ul><li><span class='ee-k'>0:</span><span class='ee-v'>77.55276428405523</span></li><li><span class='ee-k'>1:</span><span class='ee-v'>13.019932080735948</span></li></ul></details></li><li><details><summary>1703: [77.5527885584303, 13.019884410085929]</summary><ul><li><span class='ee-k'>0:</span><span class='ee-v'>77.5527885584303</span></li><li><span class='ee-k'>1:</span><span class='ee-v'>13.019884410085929</span></li></ul></details></li><li><details><summary>1704: [77.5530215244113, 13.01940892917041]</summary><ul><li><span class='ee-k'>0:</span><span class='ee-v'>77.5530215244113</span></li><li><span class='ee-k'>1:</span><span class='ee-v'>13.01940892917041</span></li></ul></details></li><li><details><summary>1705: [77.55338455671892, 13.01847592057223]</summary><ul><li><span class='ee-k'>0:</span><span class='ee-v'>77.55338455671892</span></li><li><span class='ee-k'>1:</span><span class='ee-v'>13.01847592057223</span></li></ul></details></li><li><details><summary>1706: [77.55362452487121, 13.01755993466589]</summary><ul><li><span class='ee-k'>0:</span><span class='ee-v'>77.55362452487121</span></li><li><span class='ee-k'>1:</span><span class='ee-v'>13.01755993466589</span></li></ul></details></li><li><details><summary>1707: [77.55380783631753, 13.01673485270922]</summary><ul><li><span class='ee-k'>0:</span><span class='ee-v'>77.55380783631753</span></li><li><span class='ee-k'>1:</span><span class='ee-v'>13.01673485270922</span></li></ul></details></li><li><details><summary>1708: [77.55387182731023, 13.015898523602548]</summary><ul><li><span class='ee-k'>0:</span><span class='ee-v'>77.55387182731023</span></li><li><span class='ee-k'>1:</span><span class='ee-v'>13.015898523602548</span></li></ul></details></li><li><details><summary>1709: [77.55407339607282, 13.01567519081928]</summary><ul><li><span class='ee-k'>0:</span><span class='ee-v'>77.55407339607282</span></li><li><span class='ee-k'>1:</span><span class='ee-v'>13.01567519081928</span></li></ul></details></li><li><details><summary>1710: [77.55409514952989, 13.015662553981462]</summary><ul><li><span class='ee-k'>0:</span><span class='ee-v'>77.55409514952989</span></li><li><span class='ee-k'>1:</span><span class='ee-v'>13.015662553981462</span></li></ul></details></li><li><details><summary>1711: [77.55400251054375, 13.015107839822313]</summary><ul><li><span class='ee-k'>0:</span><span class='ee-v'>77.55400251054375</span></li><li><span class='ee-k'>1:</span><span class='ee-v'>13.015107839822313</span></li></ul></details></li><li><details><summary>1712: [77.55401970485241, 13.014875029996844]</summary><ul><li><span class='ee-k'>0:</span><span class='ee-v'>77.55401970485241</span></li><li><span class='ee-k'>1:</span><span class='ee-v'>13.014875029996844</span></li></ul></details></li><li><details><summary>1713: [77.55412865594128, 13.015054648405282]</summary><ul><li><span class='ee-k'>0:</span><span class='ee-v'>77.55412865594128</span></li><li><span class='ee-k'>1:</span><span class='ee-v'>13.015054648405282</span></li></ul></details></li><li><details><summary>1714: [77.55419864630912, 13.015197382901846]</summary><ul><li><span class='ee-k'>0:</span><span class='ee-v'>77.55419864630912</span></li><li><span class='ee-k'>1:</span><span class='ee-v'>13.015197382901846</span></li></ul></details></li><li><details><summary>1715: [77.55434022818963, 13.015245678328165]</summary><ul><li><span class='ee-k'>0:</span><span class='ee-v'>77.55434022818963</span></li><li><span class='ee-k'>1:</span><span class='ee-v'>13.015245678328165</span></li></ul></details></li><li><details><summary>1716: [77.55457550471935, 13.015277240048585]</summary><ul><li><span class='ee-k'>0:</span><span class='ee-v'>77.55457550471935</span></li><li><span class='ee-k'>1:</span><span class='ee-v'>13.015277240048585</span></li></ul></details></li><li><details><summary>1717: [77.55485886259243, 13.015336560822883]</summary><ul><li><span class='ee-k'>0:</span><span class='ee-v'>77.55485886259243</span></li><li><span class='ee-k'>1:</span><span class='ee-v'>13.015336560822883</span></li></ul></details></li><li><details><summary>1718: [77.5550401637524, 13.015383335124536]</summary><ul><li><span class='ee-k'>0:</span><span class='ee-v'>77.5550401637524</span></li><li><span class='ee-k'>1:</span><span class='ee-v'>13.015383335124536</span></li></ul></details></li><li><details><summary>1719: [77.55521429197135, 13.015460671660795]</summary><ul><li><span class='ee-k'>0:</span><span class='ee-v'>77.55521429197135</span></li><li><span class='ee-k'>1:</span><span class='ee-v'>13.015460671660795</span></li></ul></details></li><li><details><summary>1720: [77.55559928761791, 13.015660155052279]</summary><ul><li><span class='ee-k'>0:</span><span class='ee-v'>77.55559928761791</span></li><li><span class='ee-k'>1:</span><span class='ee-v'>13.015660155052279</span></li></ul></details></li><li><details><summary>1721: [77.55580770140214, 13.015767644847143]</summary><ul><li><span class='ee-k'>0:</span><span class='ee-v'>77.55580770140214</span></li><li><span class='ee-k'>1:</span><span class='ee-v'>13.015767644847143</span></li></ul></details></li><li><details><summary>1722: [77.5558610925358, 13.015807774997084]</summary><ul><li><span class='ee-k'>0:</span><span class='ee-v'>77.5558610925358</span></li><li><span class='ee-k'>1:</span><span class='ee-v'>13.015807774997084</span></li></ul></details></li><li><details><summary>1723: [77.55569410880733, 13.016034155960286]</summary><ul><li><span class='ee-k'>0:</span><span class='ee-v'>77.55569410880733</span></li><li><span class='ee-k'>1:</span><span class='ee-v'>13.016034155960286</span></li></ul></details></li><li><details><summary>1724: [77.55511619230089, 13.016901524440392]</summary><ul><li><span class='ee-k'>0:</span><span class='ee-v'>77.55511619230089</span></li><li><span class='ee-k'>1:</span><span class='ee-v'>13.016901524440392</span></li></ul></details></li><li><details><summary>1725: [77.55506670787035, 13.016993095092555]</summary><ul><li><span class='ee-k'>0:</span><span class='ee-v'>77.55506670787035</span></li><li><span class='ee-k'>1:</span><span class='ee-v'>13.016993095092555</span></li></ul></details></li><li><details><summary>1726: [77.55462225172498, 13.017815556821517]</summary><ul><li><span class='ee-k'>0:</span><span class='ee-v'>77.55462225172498</span></li><li><span class='ee-k'>1:</span><span class='ee-v'>13.017815556821517</span></li></ul></details></li><li><details><summary>1727: [77.55462165673096, 13.01781665767541]</summary><ul><li><span class='ee-k'>0:</span><span class='ee-v'>77.55462165673096</span></li><li><span class='ee-k'>1:</span><span class='ee-v'>13.01781665767541</span></li></ul></details></li><li><details><summary>1728: [77.55432172849466, 13.018371669163995]</summary><ul><li><span class='ee-k'>0:</span><span class='ee-v'>77.55432172849466</span></li><li><span class='ee-k'>1:</span><span class='ee-v'>13.018371669163995</span></li></ul></details></li><li><details><summary>1729: [77.5541554001891, 13.0186794546718]</summary><ul><li><span class='ee-k'>0:</span><span class='ee-v'>77.5541554001891</span></li><li><span class='ee-k'>1:</span><span class='ee-v'>13.0186794546718</span></li></ul></details></li><li><details><summary>1730: [77.55403739559448, 13.018897818583081]</summary><ul><li><span class='ee-k'>0:</span><span class='ee-v'>77.55403739559448</span></li><li><span class='ee-k'>1:</span><span class='ee-v'>13.018897818583081</span></li></ul></details></li><li><details><summary>1731: [77.55394123844606, 13.019075754306112]</summary><ul><li><span class='ee-k'>0:</span><span class='ee-v'>77.55394123844606</span></li><li><span class='ee-k'>1:</span><span class='ee-v'>13.019075754306112</span></li></ul></details></li><li><details><summary>1732: [77.5538882804487, 13.019190336741918]</summary><ul><li><span class='ee-k'>0:</span><span class='ee-v'>77.5538882804487</span></li><li><span class='ee-k'>1:</span><span class='ee-v'>13.019190336741918</span></li></ul></details></li><li><details><summary>1733: [77.55434214834537, 13.019816026277612]</summary><ul><li><span class='ee-k'>0:</span><span class='ee-v'>77.55434214834537</span></li><li><span class='ee-k'>1:</span><span class='ee-v'>13.019816026277612</span></li></ul></details></li><li><details><summary>1734: [77.55437362156209, 13.019796517640474]</summary><ul><li><span class='ee-k'>0:</span><span class='ee-v'>77.55437362156209</span></li><li><span class='ee-k'>1:</span><span class='ee-v'>13.019796517640474</span></li></ul></details></li><li><details><summary>1735: [77.55459366205709, 13.019804663848996]</summary><ul><li><span class='ee-k'>0:</span><span class='ee-v'>77.55459366205709</span></li><li><span class='ee-k'>1:</span><span class='ee-v'>13.019804663848996</span></li></ul></details></li><li><details><summary>1736: [77.55463862507911, 13.019806327564316]</summary><ul><li><span class='ee-k'>0:</span><span class='ee-v'>77.55463862507911</span></li><li><span class='ee-k'>1:</span><span class='ee-v'>13.019806327564316</span></li></ul></details></li><li><details><summary>1737: [77.55483902526286, 13.019805875590274]</summary><ul><li><span class='ee-k'>0:</span><span class='ee-v'>77.55483902526286</span></li><li><span class='ee-k'>1:</span><span class='ee-v'>13.019805875590274</span></li></ul></details></li><li><details><summary>1738: [77.5549357701781, 13.01980565830609]</summary><ul><li><span class='ee-k'>0:</span><span class='ee-v'>77.5549357701781</span></li><li><span class='ee-k'>1:</span><span class='ee-v'>13.01980565830609</span></li></ul></details></li><li><details><summary>1739: [77.55517314596148, 13.019816870227695]</summary><ul><li><span class='ee-k'>0:</span><span class='ee-v'>77.55517314596148</span></li><li><span class='ee-k'>1:</span><span class='ee-v'>13.019816870227695</span></li></ul></details></li><li><details><summary>1740: [77.55537485578722, 13.019831822419341]</summary><ul><li><span class='ee-k'>0:</span><span class='ee-v'>77.55537485578722</span></li><li><span class='ee-k'>1:</span><span class='ee-v'>13.019831822419341</span></li></ul></details></li><li><details><summary>1741: [77.55548610434776, 13.01984201792922]</summary><ul><li><span class='ee-k'>0:</span><span class='ee-v'>77.55548610434776</span></li><li><span class='ee-k'>1:</span><span class='ee-v'>13.01984201792922</span></li></ul></details></li><li><details><summary>1742: [77.55556186128513, 13.020007273980703]</summary><ul><li><span class='ee-k'>0:</span><span class='ee-v'>77.55556186128513</span></li><li><span class='ee-k'>1:</span><span class='ee-v'>13.020007273980703</span></li></ul></details></li><li><details><summary>1743: [77.55556191029562, 13.020007381008845]</summary><ul><li><span class='ee-k'>0:</span><span class='ee-v'>77.55556191029562</span></li><li><span class='ee-k'>1:</span><span class='ee-v'>13.020007381008845</span></li></ul></details></li><li><details><summary>1744: [77.555576230965, 13.02003876142063]</summary><ul><li><span class='ee-k'>0:</span><span class='ee-v'>77.555576230965</span></li><li><span class='ee-k'>1:</span><span class='ee-v'>13.02003876142063</span></li></ul></details></li><li><details><summary>1745: [77.5558324446589, 13.020595247999024]</summary><ul><li><span class='ee-k'>0:</span><span class='ee-v'>77.5558324446589</span></li><li><span class='ee-k'>1:</span><span class='ee-v'>13.020595247999024</span></li></ul></details></li><li><details><summary>1746: [77.55605095002846, 13.021068537178401]</summary><ul><li><span class='ee-k'>0:</span><span class='ee-v'>77.55605095002846</span></li><li><span class='ee-k'>1:</span><span class='ee-v'>13.021068537178401</span></li></ul></details></li><li><details><summary>1747: [77.5560744961991, 13.021100929674722]</summary><ul><li><span class='ee-k'>0:</span><span class='ee-v'>77.5560744961991</span></li><li><span class='ee-k'>1:</span><span class='ee-v'>13.021100929674722</span></li></ul></details></li><li><details><summary>1748: [77.55608599732537, 13.021116752314231]</summary><ul><li><span class='ee-k'>0:</span><span class='ee-v'>77.55608599732537</span></li><li><span class='ee-k'>1:</span><span class='ee-v'>13.021116752314231</span></li></ul></details></li><li><details><summary>1749: [77.55618522230965, 13.021302111572334]</summary><ul><li><span class='ee-k'>0:</span><span class='ee-v'>77.55618522230965</span></li><li><span class='ee-k'>1:</span><span class='ee-v'>13.021302111572334</span></li></ul></details></li><li><details><summary>1750: [77.55629386096481, 13.021563042376332]</summary><ul><li><span class='ee-k'>0:</span><span class='ee-v'>77.55629386096481</span></li><li><span class='ee-k'>1:</span><span class='ee-v'>13.021563042376332</span></li></ul></details></li><li><details><summary>1751: [77.55638786105267, 13.021800401761627]</summary><ul><li><span class='ee-k'>0:</span><span class='ee-v'>77.55638786105267</span></li><li><span class='ee-k'>1:</span><span class='ee-v'>13.021800401761627</span></li></ul></details></li><li><details><summary>1752: [77.55643477602074, 13.02193884537125]</summary><ul><li><span class='ee-k'>0:</span><span class='ee-v'>77.55643477602074</span></li><li><span class='ee-k'>1:</span><span class='ee-v'>13.02193884537125</span></li></ul></details></li><li><details><summary>1753: [77.55648857774779, 13.022074962386307]</summary><ul><li><span class='ee-k'>0:</span><span class='ee-v'>77.55648857774779</span></li><li><span class='ee-k'>1:</span><span class='ee-v'>13.022074962386307</span></li></ul></details></li><li><details><summary>1754: [77.5564907040015, 13.022081572779491]</summary><ul><li><span class='ee-k'>0:</span><span class='ee-v'>77.5564907040015</span></li><li><span class='ee-k'>1:</span><span class='ee-v'>13.022081572779491</span></li></ul></details></li><li><details><summary>1755: [77.55649690574467, 13.022100854596829]</summary><ul><li><span class='ee-k'>0:</span><span class='ee-v'>77.55649690574467</span></li><li><span class='ee-k'>1:</span><span class='ee-v'>13.022100854596829</span></li></ul></details></li><li><details><summary>1756: [77.55676515427338, 13.02276337769459]</summary><ul><li><span class='ee-k'>0:</span><span class='ee-v'>77.55676515427338</span></li><li><span class='ee-k'>1:</span><span class='ee-v'>13.02276337769459</span></li></ul></details></li><li><details><summary>1757: [77.55690595512881, 13.02312788808992]</summary><ul><li><span class='ee-k'>0:</span><span class='ee-v'>77.55690595512881</span></li><li><span class='ee-k'>1:</span><span class='ee-v'>13.02312788808992</span></li></ul></details></li><li><details><summary>1758: [77.55691686974504, 13.023154779268038]</summary><ul><li><span class='ee-k'>0:</span><span class='ee-v'>77.55691686974504</span></li><li><span class='ee-k'>1:</span><span class='ee-v'>13.023154779268038</span></li></ul></details></li><li><details><summary>1759: [77.55692604308774, 13.02317737994943]</summary><ul><li><span class='ee-k'>0:</span><span class='ee-v'>77.55692604308774</span></li><li><span class='ee-k'>1:</span><span class='ee-v'>13.02317737994943</span></li></ul></details></li><li><details><summary>1760: [77.55693136643251, 13.02319088016349]</summary><ul><li><span class='ee-k'>0:</span><span class='ee-v'>77.55693136643251</span></li><li><span class='ee-k'>1:</span><span class='ee-v'>13.02319088016349</span></li></ul></details></li><li><details><summary>1761: [77.55701753640382, 13.02345090273631]</summary><ul><li><span class='ee-k'>0:</span><span class='ee-v'>77.55701753640382</span></li><li><span class='ee-k'>1:</span><span class='ee-v'>13.02345090273631</span></li></ul></details></li><li><details><summary>1762: [77.55711055688859, 13.023734671829601]</summary><ul><li><span class='ee-k'>0:</span><span class='ee-v'>77.55711055688859</span></li><li><span class='ee-k'>1:</span><span class='ee-v'>13.023734671829601</span></li></ul></details></li><li><details><summary>1763: [77.55722146590497, 13.02407453242363]</summary><ul><li><span class='ee-k'>0:</span><span class='ee-v'>77.55722146590497</span></li><li><span class='ee-k'>1:</span><span class='ee-v'>13.02407453242363</span></li></ul></details></li><li><details><summary>1764: [77.55731776371977, 13.024367205083484]</summary><ul><li><span class='ee-k'>0:</span><span class='ee-v'>77.55731776371977</span></li><li><span class='ee-k'>1:</span><span class='ee-v'>13.024367205083484</span></li></ul></details></li><li><details><summary>1765: [77.5573552232516, 13.024482025944051]</summary><ul><li><span class='ee-k'>0:</span><span class='ee-v'>77.5573552232516</span></li><li><span class='ee-k'>1:</span><span class='ee-v'>13.024482025944051</span></li></ul></details></li><li><details><summary>1766: [77.55742456829104, 13.024707311071996]</summary><ul><li><span class='ee-k'>0:</span><span class='ee-v'>77.55742456829104</span></li><li><span class='ee-k'>1:</span><span class='ee-v'>13.024707311071996</span></li></ul></details></li><li><details><summary>1767: [77.55748033213482, 13.024888475353466]</summary><ul><li><span class='ee-k'>0:</span><span class='ee-v'>77.55748033213482</span></li><li><span class='ee-k'>1:</span><span class='ee-v'>13.024888475353466</span></li></ul></details></li><li><details><summary>1768: [77.55756134614596, 13.025150807044733]</summary><ul><li><span class='ee-k'>0:</span><span class='ee-v'>77.55756134614596</span></li><li><span class='ee-k'>1:</span><span class='ee-v'>13.025150807044733</span></li></ul></details></li><li><details><summary>1769: [77.55757704640402, 13.025206016709369]</summary><ul><li><span class='ee-k'>0:</span><span class='ee-v'>77.55757704640402</span></li><li><span class='ee-k'>1:</span><span class='ee-v'>13.025206016709369</span></li></ul></details></li><li><details><summary>1770: [77.55772146574428, 13.025713885931713]</summary><ul><li><span class='ee-k'>0:</span><span class='ee-v'>77.55772146574428</span></li><li><span class='ee-k'>1:</span><span class='ee-v'>13.025713885931713</span></li></ul></details></li><li><details><summary>1771: [77.55773367844996, 13.025741990209553]</summary><ul><li><span class='ee-k'>0:</span><span class='ee-v'>77.55773367844996</span></li><li><span class='ee-k'>1:</span><span class='ee-v'>13.025741990209553</span></li></ul></details></li><li><details><summary>1772: [77.55788661764572, 13.026093965249979]</summary><ul><li><span class='ee-k'>0:</span><span class='ee-v'>77.55788661764572</span></li><li><span class='ee-k'>1:</span><span class='ee-v'>13.026093965249979</span></li></ul></details></li><li><details><summary>1773: [77.55789072963614, 13.026101829884068]</summary><ul><li><span class='ee-k'>0:</span><span class='ee-v'>77.55789072963614</span></li><li><span class='ee-k'>1:</span><span class='ee-v'>13.026101829884068</span></li></ul></details></li><li><details><summary>1774: [77.5581553078422, 13.026677425066877]</summary><ul><li><span class='ee-k'>0:</span><span class='ee-v'>77.5581553078422</span></li><li><span class='ee-k'>1:</span><span class='ee-v'>13.026677425066877</span></li></ul></details></li><li><details><summary>1775: [77.55840457487088, 13.02721970880038]</summary><ul><li><span class='ee-k'>0:</span><span class='ee-v'>77.55840457487088</span></li><li><span class='ee-k'>1:</span><span class='ee-v'>13.02721970880038</span></li></ul></details></li><li><details><summary>1776: [77.55845916571708, 13.027338467236525]</summary><ul><li><span class='ee-k'>0:</span><span class='ee-v'>77.55845916571708</span></li><li><span class='ee-k'>1:</span><span class='ee-v'>13.027338467236525</span></li></ul></details></li><li><details><summary>1777: [77.55881981657659, 13.028193186814898]</summary><ul><li><span class='ee-k'>0:</span><span class='ee-v'>77.55881981657659</span></li><li><span class='ee-k'>1:</span><span class='ee-v'>13.028193186814898</span></li></ul></details></li><li><details><summary>1778: [77.55908777938706, 13.028827477606841]</summary><ul><li><span class='ee-k'>0:</span><span class='ee-v'>77.55908777938706</span></li><li><span class='ee-k'>1:</span><span class='ee-v'>13.028827477606841</span></li></ul></details></li><li><details><summary>1779: [77.55910142801712, 13.028859793029289]</summary><ul><li><span class='ee-k'>0:</span><span class='ee-v'>77.55910142801712</span></li><li><span class='ee-k'>1:</span><span class='ee-v'>13.028859793029289</span></li></ul></details></li><li><details><summary>1780: [77.55928077178639, 13.029284838081537]</summary><ul><li><span class='ee-k'>0:</span><span class='ee-v'>77.55928077178639</span></li><li><span class='ee-k'>1:</span><span class='ee-v'>13.029284838081537</span></li></ul></details></li><li><details><summary>1781: [77.55933690265229, 13.029417869974697]</summary><ul><li><span class='ee-k'>0:</span><span class='ee-v'>77.55933690265229</span></li><li><span class='ee-k'>1:</span><span class='ee-v'>13.029417869974697</span></li></ul></details></li><li><details><summary>1782: [77.5594899748926, 13.029780652604778]</summary><ul><li><span class='ee-k'>0:</span><span class='ee-v'>77.5594899748926</span></li><li><span class='ee-k'>1:</span><span class='ee-v'>13.029780652604778</span></li></ul></details></li><li><details><summary>1783: [77.55957609779449, 13.029984763580652]</summary><ul><li><span class='ee-k'>0:</span><span class='ee-v'>77.55957609779449</span></li><li><span class='ee-k'>1:</span><span class='ee-v'>13.029984763580652</span></li></ul></details></li><li><details><summary>1784: [77.55974358783973, 13.03038171118882]</summary><ul><li><span class='ee-k'>0:</span><span class='ee-v'>77.55974358783973</span></li><li><span class='ee-k'>1:</span><span class='ee-v'>13.03038171118882</span></li></ul></details></li><li><details><summary>1785: [77.55997349599465, 13.03092564604833]</summary><ul><li><span class='ee-k'>0:</span><span class='ee-v'>77.55997349599465</span></li><li><span class='ee-k'>1:</span><span class='ee-v'>13.03092564604833</span></li></ul></details></li><li><details><summary>1786: [77.55997555858364, 13.030930525088813]</summary><ul><li><span class='ee-k'>0:</span><span class='ee-v'>77.55997555858364</span></li><li><span class='ee-k'>1:</span><span class='ee-v'>13.030930525088813</span></li></ul></details></li><li><details><summary>1787: [77.5597975725732, 13.03115137178523]</summary><ul><li><span class='ee-k'>0:</span><span class='ee-v'>77.5597975725732</span></li><li><span class='ee-k'>1:</span><span class='ee-v'>13.03115137178523</span></li></ul></details></li><li><details><summary>1788: [77.55936324524734, 13.031814056176643]</summary><ul><li><span class='ee-k'>0:</span><span class='ee-v'>77.55936324524734</span></li><li><span class='ee-k'>1:</span><span class='ee-v'>13.031814056176643</span></li></ul></details></li><li><details><summary>1789: [77.5592354814197, 13.031990441566798]</summary><ul><li><span class='ee-k'>0:</span><span class='ee-v'>77.5592354814197</span></li><li><span class='ee-k'>1:</span><span class='ee-v'>13.031990441566798</span></li></ul></details></li><li><details><summary>1790: [77.55891586579529, 13.032431690165168]</summary><ul><li><span class='ee-k'>0:</span><span class='ee-v'>77.55891586579529</span></li><li><span class='ee-k'>1:</span><span class='ee-v'>13.032431690165168</span></li></ul></details></li><li><details><summary>1791: [77.55861992248865, 13.032838916379186]</summary><ul><li><span class='ee-k'>0:</span><span class='ee-v'>77.55861992248865</span></li><li><span class='ee-k'>1:</span><span class='ee-v'>13.032838916379186</span></li></ul></details></li><li><details><summary>1792: [77.5583325711857, 13.03323362870663]</summary><ul><li><span class='ee-k'>0:</span><span class='ee-v'>77.5583325711857</span></li><li><span class='ee-k'>1:</span><span class='ee-v'>13.03323362870663</span></li></ul></details></li><li><details><summary>1793: [77.5580966619733, 13.033586037966286]</summary><ul><li><span class='ee-k'>0:</span><span class='ee-v'>77.5580966619733</span></li><li><span class='ee-k'>1:</span><span class='ee-v'>13.033586037966286</span></li></ul></details></li><li><details><summary>1794: [77.55781812132618, 13.03400212994212]</summary><ul><li><span class='ee-k'>0:</span><span class='ee-v'>77.55781812132618</span></li><li><span class='ee-k'>1:</span><span class='ee-v'>13.03400212994212</span></li></ul></details></li><li><details><summary>1795: [77.55777273798013, 13.034069208023334]</summary><ul><li><span class='ee-k'>0:</span><span class='ee-v'>77.55777273798013</span></li><li><span class='ee-k'>1:</span><span class='ee-v'>13.034069208023334</span></li></ul></details></li><li><details><summary>1796: [77.55771658751614, 13.034153332232327]</summary><ul><li><span class='ee-k'>0:</span><span class='ee-v'>77.55771658751614</span></li><li><span class='ee-k'>1:</span><span class='ee-v'>13.034153332232327</span></li></ul></details></li><li><details><summary>1797: [77.55744641566984, 13.034576099188609]</summary><ul><li><span class='ee-k'>0:</span><span class='ee-v'>77.55744641566984</span></li><li><span class='ee-k'>1:</span><span class='ee-v'>13.034576099188609</span></li></ul></details></li><li><details><summary>1798: [77.55738104453702, 13.034678391663993]</summary><ul><li><span class='ee-k'>0:</span><span class='ee-v'>77.55738104453702</span></li><li><span class='ee-k'>1:</span><span class='ee-v'>13.034678391663993</span></li></ul></details></li><li><details><summary>1799: [77.55739784863145, 13.034688389556807]</summary><ul><li><span class='ee-k'>0:</span><span class='ee-v'>77.55739784863145</span></li><li><span class='ee-k'>1:</span><span class='ee-v'>13.034688389556807</span></li></ul></details></li><li><details><summary>1800: [77.55739494197871, 13.034715257199036]</summary><ul><li><span class='ee-k'>0:</span><span class='ee-v'>77.55739494197871</span></li><li><span class='ee-k'>1:</span><span class='ee-v'>13.034715257199036</span></li></ul></details></li><li><details><summary>1801: [77.55738732938934, 13.03478561485187]</summary><ul><li><span class='ee-k'>0:</span><span class='ee-v'>77.55738732938934</span></li><li><span class='ee-k'>1:</span><span class='ee-v'>13.03478561485187</span></li></ul></details></li><li><details><summary>1802: [77.55737516380705, 13.034890761638346]</summary><ul><li><span class='ee-k'>0:</span><span class='ee-v'>77.55737516380705</span></li><li><span class='ee-k'>1:</span><span class='ee-v'>13.034890761638346</span></li></ul></details></li><li><details><summary>1803: [77.5573738423281, 13.034930300840298]</summary><ul><li><span class='ee-k'>0:</span><span class='ee-v'>77.5573738423281</span></li><li><span class='ee-k'>1:</span><span class='ee-v'>13.034930300840298</span></li></ul></details></li><li><details><summary>1804: [77.55737171721309, 13.035003727536521]</summary><ul><li><span class='ee-k'>0:</span><span class='ee-v'>77.55737171721309</span></li><li><span class='ee-k'>1:</span><span class='ee-v'>13.035003727536521</span></li></ul></details></li><li><details><summary>1805: [77.55739225183237, 13.03515259475814]</summary><ul><li><span class='ee-k'>0:</span><span class='ee-v'>77.55739225183237</span></li><li><span class='ee-k'>1:</span><span class='ee-v'>13.03515259475814</span></li></ul></details></li><li><details><summary>1806: [77.55750324437136, 13.03564162261712]</summary><ul><li><span class='ee-k'>0:</span><span class='ee-v'>77.55750324437136</span></li><li><span class='ee-k'>1:</span><span class='ee-v'>13.03564162261712</span></li></ul></details></li><li><details><summary>1807: [77.55753504098075, 13.035765533545543]</summary><ul><li><span class='ee-k'>0:</span><span class='ee-v'>77.55753504098075</span></li><li><span class='ee-k'>1:</span><span class='ee-v'>13.035765533545543</span></li></ul></details></li><li><details><summary>1808: [77.55756472784115, 13.035882125639043]</summary><ul><li><span class='ee-k'>0:</span><span class='ee-v'>77.55756472784115</span></li><li><span class='ee-k'>1:</span><span class='ee-v'>13.035882125639043</span></li></ul></details></li><li><details><summary>1809: [77.55757404958892, 13.035918736399426]</summary><ul><li><span class='ee-k'>0:</span><span class='ee-v'>77.55757404958892</span></li><li><span class='ee-k'>1:</span><span class='ee-v'>13.035918736399426</span></li></ul></details></li><li><details><summary>1810: [77.55757601066904, 13.036109570919576]</summary><ul><li><span class='ee-k'>0:</span><span class='ee-v'>77.55757601066904</span></li><li><span class='ee-k'>1:</span><span class='ee-v'>13.036109570919576</span></li></ul></details></li><li><details><summary>1811: [77.55756405844578, 13.036291509241382]</summary><ul><li><span class='ee-k'>0:</span><span class='ee-v'>77.55756405844578</span></li><li><span class='ee-k'>1:</span><span class='ee-v'>13.036291509241382</span></li></ul></details></li><li><details><summary>1812: [77.55750786843346, 13.036764119392405]</summary><ul><li><span class='ee-k'>0:</span><span class='ee-v'>77.55750786843346</span></li><li><span class='ee-k'>1:</span><span class='ee-v'>13.036764119392405</span></li></ul></details></li><li><details><summary>1813: [77.557499417296, 13.036856166433965]</summary><ul><li><span class='ee-k'>0:</span><span class='ee-v'>77.557499417296</span></li><li><span class='ee-k'>1:</span><span class='ee-v'>13.036856166433965</span></li></ul></details></li><li><details><summary>1814: [77.55748435891682, 13.037020180187929]</summary><ul><li><span class='ee-k'>0:</span><span class='ee-v'>77.55748435891682</span></li><li><span class='ee-k'>1:</span><span class='ee-v'>13.037020180187929</span></li></ul></details></li><li><details><summary>1815: [77.55746292459702, 13.037253651283775]</summary><ul><li><span class='ee-k'>0:</span><span class='ee-v'>77.55746292459702</span></li><li><span class='ee-k'>1:</span><span class='ee-v'>13.037253651283775</span></li></ul></details></li><li><details><summary>1816: [77.55745089516763, 13.03738467799399]</summary><ul><li><span class='ee-k'>0:</span><span class='ee-v'>77.55745089516763</span></li><li><span class='ee-k'>1:</span><span class='ee-v'>13.03738467799399</span></li></ul></details></li><li><details><summary>1817: [77.55742899120773, 13.03766426515491]</summary><ul><li><span class='ee-k'>0:</span><span class='ee-v'>77.55742899120773</span></li><li><span class='ee-k'>1:</span><span class='ee-v'>13.03766426515491</span></li></ul></details></li><li><details><summary>1818: [77.55740609178157, 13.037956555690322]</summary><ul><li><span class='ee-k'>0:</span><span class='ee-v'>77.55740609178157</span></li><li><span class='ee-k'>1:</span><span class='ee-v'>13.037956555690322</span></li></ul></details></li><li><details><summary>1819: [77.55738933984578, 13.038175808944017]</summary><ul><li><span class='ee-k'>0:</span><span class='ee-v'>77.55738933984578</span></li><li><span class='ee-k'>1:</span><span class='ee-v'>13.038175808944017</span></li></ul></details></li><li><details><summary>1820: [77.5573303180703, 13.0383728934358]</summary><ul><li><span class='ee-k'>0:</span><span class='ee-v'>77.5573303180703</span></li><li><span class='ee-k'>1:</span><span class='ee-v'>13.0383728934358</span></li></ul></details></li><li><details><summary>1821: [77.55731072442939, 13.038483760207844]</summary><ul><li><span class='ee-k'>0:</span><span class='ee-v'>77.55731072442939</span></li><li><span class='ee-k'>1:</span><span class='ee-v'>13.038483760207844</span></li></ul></details></li><li><details><summary>1822: [77.55729729116233, 13.038577626344447]</summary><ul><li><span class='ee-k'>0:</span><span class='ee-v'>77.55729729116233</span></li><li><span class='ee-k'>1:</span><span class='ee-v'>13.038577626344447</span></li></ul></details></li><li><details><summary>1823: [77.55742168851181, 13.038577526661895]</summary><ul><li><span class='ee-k'>0:</span><span class='ee-v'>77.55742168851181</span></li><li><span class='ee-k'>1:</span><span class='ee-v'>13.038577526661895</span></li></ul></details></li><li><details><summary>1824: [77.55873464621185, 13.038676353874505]</summary><ul><li><span class='ee-k'>0:</span><span class='ee-v'>77.55873464621185</span></li><li><span class='ee-k'>1:</span><span class='ee-v'>13.038676353874505</span></li></ul></details></li><li><details><summary>1825: [77.55876577746206, 13.038679434090923]</summary><ul><li><span class='ee-k'>0:</span><span class='ee-v'>77.55876577746206</span></li><li><span class='ee-k'>1:</span><span class='ee-v'>13.038679434090923</span></li></ul></details></li><li><details><summary>1826: [77.55944219278079, 13.03893136025109]</summary><ul><li><span class='ee-k'>0:</span><span class='ee-v'>77.55944219278079</span></li><li><span class='ee-k'>1:</span><span class='ee-v'>13.03893136025109</span></li></ul></details></li><li><details><summary>1827: [77.56008266692685, 13.039216390043023]</summary><ul><li><span class='ee-k'>0:</span><span class='ee-v'>77.56008266692685</span></li><li><span class='ee-k'>1:</span><span class='ee-v'>13.039216390043023</span></li></ul></details></li><li><details><summary>1828: [77.56048303167032, 13.039506051977654]</summary><ul><li><span class='ee-k'>0:</span><span class='ee-v'>77.56048303167032</span></li><li><span class='ee-k'>1:</span><span class='ee-v'>13.039506051977654</span></li></ul></details></li><li><details><summary>1829: [77.56057583881169, 13.039599558220965]</summary><ul><li><span class='ee-k'>0:</span><span class='ee-v'>77.56057583881169</span></li><li><span class='ee-k'>1:</span><span class='ee-v'>13.039599558220965</span></li></ul></details></li><li><details><summary>1830: [77.56077051687987, 13.039795700626842]</summary><ul><li><span class='ee-k'>0:</span><span class='ee-v'>77.56077051687987</span></li><li><span class='ee-k'>1:</span><span class='ee-v'>13.039795700626842</span></li></ul></details></li><li><details><summary>1831: [77.56085787234652, 13.039889698840982]</summary><ul><li><span class='ee-k'>0:</span><span class='ee-v'>77.56085787234652</span></li><li><span class='ee-k'>1:</span><span class='ee-v'>13.039889698840982</span></li></ul></details></li><li><details><summary>1832: [77.56096268970609, 13.040001594185101]</summary><ul><li><span class='ee-k'>0:</span><span class='ee-v'>77.56096268970609</span></li><li><span class='ee-k'>1:</span><span class='ee-v'>13.040001594185101</span></li></ul></details></li><li><details><summary>1833: [77.56105586204684, 13.040101180422464]</summary><ul><li><span class='ee-k'>0:</span><span class='ee-v'>77.56105586204684</span></li><li><span class='ee-k'>1:</span><span class='ee-v'>13.040101180422464</span></li></ul></details></li><li><details><summary>1834: [77.5614679155199, 13.04083307463782]</summary><ul><li><span class='ee-k'>0:</span><span class='ee-v'>77.5614679155199</span></li><li><span class='ee-k'>1:</span><span class='ee-v'>13.04083307463782</span></li></ul></details></li><li><details><summary>1835: [77.56148449192557, 13.040862518504136]</summary><ul><li><span class='ee-k'>0:</span><span class='ee-v'>77.56148449192557</span></li><li><span class='ee-k'>1:</span><span class='ee-v'>13.040862518504136</span></li></ul></details></li><li><details><summary>1836: [77.5614914679026, 13.040874908966392]</summary><ul><li><span class='ee-k'>0:</span><span class='ee-v'>77.5614914679026</span></li><li><span class='ee-k'>1:</span><span class='ee-v'>13.040874908966392</span></li></ul></details></li><li><details><summary>1837: [77.56152963774652, 13.040942705665081]</summary><ul><li><span class='ee-k'>0:</span><span class='ee-v'>77.56152963774652</span></li><li><span class='ee-k'>1:</span><span class='ee-v'>13.040942705665081</span></li></ul></details></li><li><details><summary>1838: [77.5616152193838, 13.041094535642692]</summary><ul><li><span class='ee-k'>0:</span><span class='ee-v'>77.5616152193838</span></li><li><span class='ee-k'>1:</span><span class='ee-v'>13.041094535642692</span></li></ul></details></li><li><details><summary>1839: [77.56185519835064, 13.04152028248939]</summary><ul><li><span class='ee-k'>0:</span><span class='ee-v'>77.56185519835064</span></li><li><span class='ee-k'>1:</span><span class='ee-v'>13.04152028248939</span></li></ul></details></li><li><details><summary>1840: [77.56186024157302, 13.041529228233745]</summary><ul><li><span class='ee-k'>0:</span><span class='ee-v'>77.56186024157302</span></li><li><span class='ee-k'>1:</span><span class='ee-v'>13.041529228233745</span></li></ul></details></li><li><details><summary>1841: [77.56188624433254, 13.041575359453631]</summary><ul><li><span class='ee-k'>0:</span><span class='ee-v'>77.56188624433254</span></li><li><span class='ee-k'>1:</span><span class='ee-v'>13.041575359453631</span></li></ul></details></li><li><details><summary>1842: [77.5619012952167, 13.041602061945225]</summary><ul><li><span class='ee-k'>0:</span><span class='ee-v'>77.5619012952167</span></li><li><span class='ee-k'>1:</span><span class='ee-v'>13.041602061945225</span></li></ul></details></li><li><details><summary>1843: [77.56194906101061, 13.041686803545163]</summary><ul><li><span class='ee-k'>0:</span><span class='ee-v'>77.56194906101061</span></li><li><span class='ee-k'>1:</span><span class='ee-v'>13.041686803545163</span></li></ul></details></li><li><details><summary>1844: [77.56211182200522, 13.041975555196892]</summary><ul><li><span class='ee-k'>0:</span><span class='ee-v'>77.56211182200522</span></li><li><span class='ee-k'>1:</span><span class='ee-v'>13.041975555196892</span></li></ul></details></li><li><details><summary>1845: [77.56224560354043, 13.041824031881452]</summary><ul><li><span class='ee-k'>0:</span><span class='ee-v'>77.56224560354043</span></li><li><span class='ee-k'>1:</span><span class='ee-v'>13.041824031881452</span></li></ul></details></li><li><details><summary>1846: [77.56280255284439, 13.041100272555301]</summary><ul><li><span class='ee-k'>0:</span><span class='ee-v'>77.56280255284439</span></li><li><span class='ee-k'>1:</span><span class='ee-v'>13.041100272555301</span></li></ul></details></li><li><details><summary>1847: [77.56303077914816, 13.040789897745704]</summary><ul><li><span class='ee-k'>0:</span><span class='ee-v'>77.56303077914816</span></li><li><span class='ee-k'>1:</span><span class='ee-v'>13.040789897745704</span></li></ul></details></li><li><details><summary>1848: [77.56364590654039, 13.03995335358194]</summary><ul><li><span class='ee-k'>0:</span><span class='ee-v'>77.56364590654039</span></li><li><span class='ee-k'>1:</span><span class='ee-v'>13.03995335358194</span></li></ul></details></li><li><details><summary>1849: [77.56391007858886, 13.039594092565133]</summary><ul><li><span class='ee-k'>0:</span><span class='ee-v'>77.56391007858886</span></li><li><span class='ee-k'>1:</span><span class='ee-v'>13.039594092565133</span></li></ul></details></li><li><details><summary>1850: [77.56415887799946, 13.039314947172754]</summary><ul><li><span class='ee-k'>0:</span><span class='ee-v'>77.56415887799946</span></li><li><span class='ee-k'>1:</span><span class='ee-v'>13.039314947172754</span></li></ul></details></li><li><details><summary>1851: [77.5642868169191, 13.039155575934217]</summary><ul><li><span class='ee-k'>0:</span><span class='ee-v'>77.5642868169191</span></li><li><span class='ee-k'>1:</span><span class='ee-v'>13.039155575934217</span></li></ul></details></li><li><details><summary>1852: [77.56434992345469, 13.039075898850404]</summary><ul><li><span class='ee-k'>0:</span><span class='ee-v'>77.56434992345469</span></li><li><span class='ee-k'>1:</span><span class='ee-v'>13.039075898850404</span></li></ul></details></li><li><details><summary>1853: [77.56465525918314, 13.038694554018834]</summary><ul><li><span class='ee-k'>0:</span><span class='ee-v'>77.56465525918314</span></li><li><span class='ee-k'>1:</span><span class='ee-v'>13.038694554018834</span></li></ul></details></li><li><details><summary>1854: [77.56487017543645, 13.038424778432502]</summary><ul><li><span class='ee-k'>0:</span><span class='ee-v'>77.56487017543645</span></li><li><span class='ee-k'>1:</span><span class='ee-v'>13.038424778432502</span></li></ul></details></li><li><details><summary>1855: [77.56502414796067, 13.03822110494531]</summary><ul><li><span class='ee-k'>0:</span><span class='ee-v'>77.56502414796067</span></li><li><span class='ee-k'>1:</span><span class='ee-v'>13.03822110494531</span></li></ul></details></li><li><details><summary>1856: [77.56508266956108, 13.038143731817275]</summary><ul><li><span class='ee-k'>0:</span><span class='ee-v'>77.56508266956108</span></li><li><span class='ee-k'>1:</span><span class='ee-v'>13.038143731817275</span></li></ul></details></li><li><details><summary>1857: [77.56519309109756, 13.037997126190461]</summary><ul><li><span class='ee-k'>0:</span><span class='ee-v'>77.56519309109756</span></li><li><span class='ee-k'>1:</span><span class='ee-v'>13.037997126190461</span></li></ul></details></li><li><details><summary>1858: [77.56544002806694, 13.037669267359634]</summary><ul><li><span class='ee-k'>0:</span><span class='ee-v'>77.56544002806694</span></li><li><span class='ee-k'>1:</span><span class='ee-v'>13.037669267359634</span></li></ul></details></li><li><details><summary>1859: [77.56598602488194, 13.037002079262363]</summary><ul><li><span class='ee-k'>0:</span><span class='ee-v'>77.56598602488194</span></li><li><span class='ee-k'>1:</span><span class='ee-v'>13.037002079262363</span></li></ul></details></li><li><details><summary>1860: [77.56601962758738, 13.03696560822493]</summary><ul><li><span class='ee-k'>0:</span><span class='ee-v'>77.56601962758738</span></li><li><span class='ee-k'>1:</span><span class='ee-v'>13.03696560822493</span></li></ul></details></li><li><details><summary>1861: [77.56633687309096, 13.036622800086862]</summary><ul><li><span class='ee-k'>0:</span><span class='ee-v'>77.56633687309096</span></li><li><span class='ee-k'>1:</span><span class='ee-v'>13.036622800086862</span></li></ul></details></li><li><details><summary>1862: [77.56664216296014, 13.036293143386176]</summary><ul><li><span class='ee-k'>0:</span><span class='ee-v'>77.56664216296014</span></li><li><span class='ee-k'>1:</span><span class='ee-v'>13.036293143386176</span></li></ul></details></li><li><details><summary>1863: [77.56710307124764, 13.035808982401829]</summary><ul><li><span class='ee-k'>0:</span><span class='ee-v'>77.56710307124764</span></li><li><span class='ee-k'>1:</span><span class='ee-v'>13.035808982401829</span></li></ul></details></li><li><details><summary>1864: [77.5671045243234, 13.035807458331444]</summary><ul><li><span class='ee-k'>0:</span><span class='ee-v'>77.5671045243234</span></li><li><span class='ee-k'>1:</span><span class='ee-v'>13.035807458331444</span></li></ul></details></li><li><details><summary>1865: [77.56723696764122, 13.035668383629458]</summary><ul><li><span class='ee-k'>0:</span><span class='ee-v'>77.56723696764122</span></li><li><span class='ee-k'>1:</span><span class='ee-v'>13.035668383629458</span></li></ul></details></li><li><details><summary>1866: [77.56726173773458, 13.035642440324095]</summary><ul><li><span class='ee-k'>0:</span><span class='ee-v'>77.56726173773458</span></li><li><span class='ee-k'>1:</span><span class='ee-v'>13.035642440324095</span></li></ul></details></li><li><details><summary>1867: [77.5673490884511, 13.035550951044355]</summary><ul><li><span class='ee-k'>0:</span><span class='ee-v'>77.5673490884511</span></li><li><span class='ee-k'>1:</span><span class='ee-v'>13.035550951044355</span></li></ul></details></li><li><details><summary>1868: [77.56757767900926, 13.0353115308327]</summary><ul><li><span class='ee-k'>0:</span><span class='ee-v'>77.56757767900926</span></li><li><span class='ee-k'>1:</span><span class='ee-v'>13.0353115308327</span></li></ul></details></li><li><details><summary>1869: [77.56786576100058, 13.034989079024802]</summary><ul><li><span class='ee-k'>0:</span><span class='ee-v'>77.56786576100058</span></li><li><span class='ee-k'>1:</span><span class='ee-v'>13.034989079024802</span></li></ul></details></li><li><details><summary>1870: [77.5678703211763, 13.034984516557376]</summary><ul><li><span class='ee-k'>0:</span><span class='ee-v'>77.5678703211763</span></li><li><span class='ee-k'>1:</span><span class='ee-v'>13.034984516557376</span></li></ul></details></li><li><details><summary>1871: [77.5680755338826, 13.034723869229657]</summary><ul><li><span class='ee-k'>0:</span><span class='ee-v'>77.5680755338826</span></li><li><span class='ee-k'>1:</span><span class='ee-v'>13.034723869229657</span></li></ul></details></li><li><details><summary>1872: [77.56832168274231, 13.034411996818607]</summary><ul><li><span class='ee-k'>0:</span><span class='ee-v'>77.56832168274231</span></li><li><span class='ee-k'>1:</span><span class='ee-v'>13.034411996818607</span></li></ul></details></li><li><details><summary>1873: [77.56856327086729, 13.034104686755942]</summary><ul><li><span class='ee-k'>0:</span><span class='ee-v'>77.56856327086729</span></li><li><span class='ee-k'>1:</span><span class='ee-v'>13.034104686755942</span></li></ul></details></li><li><details><summary>1874: [77.56857262898058, 13.034091016008825]</summary><ul><li><span class='ee-k'>0:</span><span class='ee-v'>77.56857262898058</span></li><li><span class='ee-k'>1:</span><span class='ee-v'>13.034091016008825</span></li></ul></details></li><li><details><summary>1875: [77.56862788258407, 13.03401029865613]</summary><ul><li><span class='ee-k'>0:</span><span class='ee-v'>77.56862788258407</span></li><li><span class='ee-k'>1:</span><span class='ee-v'>13.03401029865613</span></li></ul></details></li><li><details><summary>1876: [77.5690341710689, 13.033416782935356]</summary><ul><li><span class='ee-k'>0:</span><span class='ee-v'>77.5690341710689</span></li><li><span class='ee-k'>1:</span><span class='ee-v'>13.033416782935356</span></li></ul></details></li><li><details><summary>1877: [77.56947664029826, 13.032875970966101]</summary><ul><li><span class='ee-k'>0:</span><span class='ee-v'>77.56947664029826</span></li><li><span class='ee-k'>1:</span><span class='ee-v'>13.032875970966101</span></li></ul></details></li><li><details><summary>1878: [77.56985275090905, 13.032266929245237]</summary><ul><li><span class='ee-k'>0:</span><span class='ee-v'>77.56985275090905</span></li><li><span class='ee-k'>1:</span><span class='ee-v'>13.032266929245237</span></li></ul></details></li><li><details><summary>1879: [77.56998931813318, 13.031995669207994]</summary><ul><li><span class='ee-k'>0:</span><span class='ee-v'>77.56998931813318</span></li><li><span class='ee-k'>1:</span><span class='ee-v'>13.031995669207994</span></li></ul></details></li><li><details><summary>1880: [77.57004774828043, 13.031853925768313]</summary><ul><li><span class='ee-k'>0:</span><span class='ee-v'>77.57004774828043</span></li><li><span class='ee-k'>1:</span><span class='ee-v'>13.031853925768313</span></li></ul></details></li><li><details><summary>1881: [77.57011010432974, 13.031701979587295]</summary><ul><li><span class='ee-k'>0:</span><span class='ee-v'>77.57011010432974</span></li><li><span class='ee-k'>1:</span><span class='ee-v'>13.031701979587295</span></li></ul></details></li><li><details><summary>1882: [77.57018149185203, 13.031476538715244]</summary><ul><li><span class='ee-k'>0:</span><span class='ee-v'>77.57018149185203</span></li><li><span class='ee-k'>1:</span><span class='ee-v'>13.031476538715244</span></li></ul></details></li><li><details><summary>1883: [77.57029746577562, 13.031107233168852]</summary><ul><li><span class='ee-k'>0:</span><span class='ee-v'>77.57029746577562</span></li><li><span class='ee-k'>1:</span><span class='ee-v'>13.031107233168852</span></li></ul></details></li><li><details><summary>1884: [77.57032926262829, 13.031007538455155]</summary><ul><li><span class='ee-k'>0:</span><span class='ee-v'>77.57032926262829</span></li><li><span class='ee-k'>1:</span><span class='ee-v'>13.031007538455155</span></li></ul></details></li><li><details><summary>1885: [77.57039004864423, 13.03084224135299]</summary><ul><li><span class='ee-k'>0:</span><span class='ee-v'>77.57039004864423</span></li><li><span class='ee-k'>1:</span><span class='ee-v'>13.03084224135299</span></li></ul></details></li><li><details><summary>1886: [77.57068104820053, 13.030050910778613]</summary><ul><li><span class='ee-k'>0:</span><span class='ee-v'>77.57068104820053</span></li><li><span class='ee-k'>1:</span><span class='ee-v'>13.030050910778613</span></li></ul></details></li><li><details><summary>1887: [77.57089446008499, 13.029469456576143]</summary><ul><li><span class='ee-k'>0:</span><span class='ee-v'>77.57089446008499</span></li><li><span class='ee-k'>1:</span><span class='ee-v'>13.029469456576143</span></li></ul></details></li><li><details><summary>1888: [77.57111212318863, 13.028855212932806]</summary><ul><li><span class='ee-k'>0:</span><span class='ee-v'>77.57111212318863</span></li><li><span class='ee-k'>1:</span><span class='ee-v'>13.028855212932806</span></li></ul></details></li><li><details><summary>1889: [77.57125147595674, 13.028461958934995]</summary><ul><li><span class='ee-k'>0:</span><span class='ee-v'>77.57125147595674</span></li><li><span class='ee-k'>1:</span><span class='ee-v'>13.028461958934995</span></li></ul></details></li><li><details><summary>1890: [77.57144316912428, 13.028454410440602]</summary><ul><li><span class='ee-k'>0:</span><span class='ee-v'>77.57144316912428</span></li><li><span class='ee-k'>1:</span><span class='ee-v'>13.028454410440602</span></li></ul></details></li><li><details><summary>1891: [77.57153053204905, 13.028437731966859]</summary><ul><li><span class='ee-k'>0:</span><span class='ee-v'>77.57153053204905</span></li><li><span class='ee-k'>1:</span><span class='ee-v'>13.028437731966859</span></li></ul></details></li><li><details><summary>1892: [77.57200877120071, 13.028350543573607]</summary><ul><li><span class='ee-k'>0:</span><span class='ee-v'>77.57200877120071</span></li><li><span class='ee-k'>1:</span><span class='ee-v'>13.028350543573607</span></li></ul></details></li><li><details><summary>1893: [77.5734557729088, 13.027996251899843]</summary><ul><li><span class='ee-k'>0:</span><span class='ee-v'>77.5734557729088</span></li><li><span class='ee-k'>1:</span><span class='ee-v'>13.027996251899843</span></li></ul></details></li><li><details><summary>1894: [77.57346323533766, 13.027993919152534]</summary><ul><li><span class='ee-k'>0:</span><span class='ee-v'>77.57346323533766</span></li><li><span class='ee-k'>1:</span><span class='ee-v'>13.027993919152534</span></li></ul></details></li><li><details><summary>1895: [77.57402248894792, 13.027888983774208]</summary><ul><li><span class='ee-k'>0:</span><span class='ee-v'>77.57402248894792</span></li><li><span class='ee-k'>1:</span><span class='ee-v'>13.027888983774208</span></li></ul></details></li><li><details><summary>1896: [77.57455990713098, 13.02778878240489]</summary><ul><li><span class='ee-k'>0:</span><span class='ee-v'>77.57455990713098</span></li><li><span class='ee-k'>1:</span><span class='ee-v'>13.02778878240489</span></li></ul></details></li><li><details><summary>1897: [77.57462715607522, 13.027776765877702]</summary><ul><li><span class='ee-k'>0:</span><span class='ee-v'>77.57462715607522</span></li><li><span class='ee-k'>1:</span><span class='ee-v'>13.027776765877702</span></li></ul></details></li><li><details><summary>1898: [77.57581993568762, 13.027565076601691]</summary><ul><li><span class='ee-k'>0:</span><span class='ee-v'>77.57581993568762</span></li><li><span class='ee-k'>1:</span><span class='ee-v'>13.027565076601691</span></li></ul></details></li><li><details><summary>1899: [77.57583028887838, 13.027563844352878]</summary><ul><li><span class='ee-k'>0:</span><span class='ee-v'>77.57583028887838</span></li><li><span class='ee-k'>1:</span><span class='ee-v'>13.027563844352878</span></li></ul></details></li><li><details><summary>1900: [77.57588661473024, 13.027553121447914]</summary><ul><li><span class='ee-k'>0:</span><span class='ee-v'>77.57588661473024</span></li><li><span class='ee-k'>1:</span><span class='ee-v'>13.027553121447914</span></li></ul></details></li><li><details><summary>1901: [77.57671717688734, 13.027399180359279]</summary><ul><li><span class='ee-k'>0:</span><span class='ee-v'>77.57671717688734</span></li><li><span class='ee-k'>1:</span><span class='ee-v'>13.027399180359279</span></li></ul></details></li><li><details><summary>1902: [77.57693510994925, 13.02736764978315]</summary><ul><li><span class='ee-k'>0:</span><span class='ee-v'>77.57693510994925</span></li><li><span class='ee-k'>1:</span><span class='ee-v'>13.02736764978315</span></li></ul></details></li><li><details><summary>1903: [77.57695810790273, 13.027364033101701]</summary><ul><li><span class='ee-k'>0:</span><span class='ee-v'>77.57695810790273</span></li><li><span class='ee-k'>1:</span><span class='ee-v'>13.027364033101701</span></li></ul></details></li><li><details><summary>1904: [77.57768435802404, 13.027258558363588]</summary><ul><li><span class='ee-k'>0:</span><span class='ee-v'>77.57768435802404</span></li><li><span class='ee-k'>1:</span><span class='ee-v'>13.027258558363588</span></li></ul></details></li><li><details><summary>1905: [77.57768784145784, 13.027250593286206]</summary><ul><li><span class='ee-k'>0:</span><span class='ee-v'>77.57768784145784</span></li><li><span class='ee-k'>1:</span><span class='ee-v'>13.027250593286206</span></li></ul></details></li><li><details><summary>1906: [77.57770726244613, 13.02724590812703]</summary><ul><li><span class='ee-k'>0:</span><span class='ee-v'>77.57770726244613</span></li><li><span class='ee-k'>1:</span><span class='ee-v'>13.02724590812703</span></li></ul></details></li><li><details><summary>1907: [77.57771945140773, 13.027199485426618]</summary><ul><li><span class='ee-k'>0:</span><span class='ee-v'>77.57771945140773</span></li><li><span class='ee-k'>1:</span><span class='ee-v'>13.027199485426618</span></li></ul></details></li><li><details><summary>1908: [77.57772467297544, 13.026925012880039]</summary><ul><li><span class='ee-k'>0:</span><span class='ee-v'>77.57772467297544</span></li><li><span class='ee-k'>1:</span><span class='ee-v'>13.026925012880039</span></li></ul></details></li><li><details><summary>1909: [77.57772659059968, 13.026887726805343]</summary><ul><li><span class='ee-k'>0:</span><span class='ee-v'>77.57772659059968</span></li><li><span class='ee-k'>1:</span><span class='ee-v'>13.026887726805343</span></li></ul></details></li><li><details><summary>1910: [77.57778006038917, 13.026879289648754]</summary><ul><li><span class='ee-k'>0:</span><span class='ee-v'>77.57778006038917</span></li><li><span class='ee-k'>1:</span><span class='ee-v'>13.026879289648754</span></li></ul></details></li><li><details><summary>1911: [77.57812162021652, 13.026847291429231]</summary><ul><li><span class='ee-k'>0:</span><span class='ee-v'>77.57812162021652</span></li><li><span class='ee-k'>1:</span><span class='ee-v'>13.026847291429231</span></li></ul></details></li><li><details><summary>1912: [77.57828686481551, 13.026831750179884]</summary><ul><li><span class='ee-k'>0:</span><span class='ee-v'>77.57828686481551</span></li><li><span class='ee-k'>1:</span><span class='ee-v'>13.026831750179884</span></li></ul></details></li><li><details><summary>1913: [77.5785066941224, 13.026811076063122]</summary><ul><li><span class='ee-k'>0:</span><span class='ee-v'>77.5785066941224</span></li><li><span class='ee-k'>1:</span><span class='ee-v'>13.026811076063122</span></li></ul></details></li><li><details><summary>1914: [77.57862341084902, 13.026792974812464]</summary><ul><li><span class='ee-k'>0:</span><span class='ee-v'>77.57862341084902</span></li><li><span class='ee-k'>1:</span><span class='ee-v'>13.026792974812464</span></li></ul></details></li><li><details><summary>1915: [77.57872978611846, 13.026777235054475]</summary><ul><li><span class='ee-k'>0:</span><span class='ee-v'>77.57872978611846</span></li><li><span class='ee-k'>1:</span><span class='ee-v'>13.026777235054475</span></li></ul></details></li><li><details><summary>1916: [77.57894539232122, 13.026743468382985]</summary><ul><li><span class='ee-k'>0:</span><span class='ee-v'>77.57894539232122</span></li><li><span class='ee-k'>1:</span><span class='ee-v'>13.026743468382985</span></li></ul></details></li><li><details><summary>1917: [77.57902358728968, 13.026731396942425]</summary><ul><li><span class='ee-k'>0:</span><span class='ee-v'>77.57902358728968</span></li><li><span class='ee-k'>1:</span><span class='ee-v'>13.026731396942425</span></li></ul></details></li><li><details><summary>1918: [77.57910350971405, 13.026719308282129]</summary><ul><li><span class='ee-k'>0:</span><span class='ee-v'>77.57910350971405</span></li><li><span class='ee-k'>1:</span><span class='ee-v'>13.026719308282129</span></li></ul></details></li><li><details><summary>1919: [77.57924199062354, 13.026689697080279]</summary><ul><li><span class='ee-k'>0:</span><span class='ee-v'>77.57924199062354</span></li><li><span class='ee-k'>1:</span><span class='ee-v'>13.026689697080279</span></li></ul></details></li><li><details><summary>1920: [77.57949905956355, 13.026635773370067]</summary><ul><li><span class='ee-k'>0:</span><span class='ee-v'>77.57949905956355</span></li><li><span class='ee-k'>1:</span><span class='ee-v'>13.026635773370067</span></li></ul></details></li><li><details><summary>1921: [77.57999935706704, 13.026530829408383]</summary><ul><li><span class='ee-k'>0:</span><span class='ee-v'>77.57999935706704</span></li><li><span class='ee-k'>1:</span><span class='ee-v'>13.026530829408383</span></li></ul></details></li><li><details><summary>1922: [77.58007677343578, 13.026515927715915]</summary><ul><li><span class='ee-k'>0:</span><span class='ee-v'>77.58007677343578</span></li><li><span class='ee-k'>1:</span><span class='ee-v'>13.026515927715915</span></li></ul></details></li><li><details><summary>1923: [77.58009002268807, 13.02651337725593]</summary><ul><li><span class='ee-k'>0:</span><span class='ee-v'>77.58009002268807</span></li><li><span class='ee-k'>1:</span><span class='ee-v'>13.02651337725593</span></li></ul></details></li><li><details><summary>1924: [77.58010453359753, 13.02651058385302]</summary><ul><li><span class='ee-k'>0:</span><span class='ee-v'>77.58010453359753</span></li><li><span class='ee-k'>1:</span><span class='ee-v'>13.02651058385302</span></li></ul></details></li><li><details><summary>1925: [77.58022125299674, 13.026394407086315]</summary><ul><li><span class='ee-k'>0:</span><span class='ee-v'>77.58022125299674</span></li><li><span class='ee-k'>1:</span><span class='ee-v'>13.026394407086315</span></li></ul></details></li><li><details><summary>1926: [77.58023444144166, 13.026380384432487]</summary><ul><li><span class='ee-k'>0:</span><span class='ee-v'>77.58023444144166</span></li><li><span class='ee-k'>1:</span><span class='ee-v'>13.026380384432487</span></li></ul></details></li><li><details><summary>1927: [77.58025633712336, 13.026357104231945]</summary><ul><li><span class='ee-k'>0:</span><span class='ee-v'>77.58025633712336</span></li><li><span class='ee-k'>1:</span><span class='ee-v'>13.026357104231945</span></li></ul></details></li><li><details><summary>1928: [77.5802675223774, 13.026345211965356]</summary><ul><li><span class='ee-k'>0:</span><span class='ee-v'>77.5802675223774</span></li><li><span class='ee-k'>1:</span><span class='ee-v'>13.026345211965356</span></li></ul></details></li><li><details><summary>1929: [77.58028697634013, 13.026322467429091]</summary><ul><li><span class='ee-k'>0:</span><span class='ee-v'>77.58028697634013</span></li><li><span class='ee-k'>1:</span><span class='ee-v'>13.026322467429091</span></li></ul></details></li><li><details><summary>1930: [77.5804448074, 13.026137939692545]</summary><ul><li><span class='ee-k'>0:</span><span class='ee-v'>77.5804448074</span></li><li><span class='ee-k'>1:</span><span class='ee-v'>13.026137939692545</span></li></ul></details></li><li><details><summary>1931: [77.58046723737124, 13.026111716170737]</summary><ul><li><span class='ee-k'>0:</span><span class='ee-v'>77.58046723737124</span></li><li><span class='ee-k'>1:</span><span class='ee-v'>13.026111716170737</span></li></ul></details></li><li><details><summary>1932: [77.58060910717401, 13.025972596169508]</summary><ul><li><span class='ee-k'>0:</span><span class='ee-v'>77.58060910717401</span></li><li><span class='ee-k'>1:</span><span class='ee-v'>13.025972596169508</span></li></ul></details></li><li><details><summary>1933: [77.58063826373017, 13.025944004574496]</summary><ul><li><span class='ee-k'>0:</span><span class='ee-v'>77.58063826373017</span></li><li><span class='ee-k'>1:</span><span class='ee-v'>13.025944004574496</span></li></ul></details></li><li><details><summary>1934: [77.58065707861486, 13.025925749258517]</summary><ul><li><span class='ee-k'>0:</span><span class='ee-v'>77.58065707861486</span></li><li><span class='ee-k'>1:</span><span class='ee-v'>13.025925749258517</span></li></ul></details></li><li><details><summary>1935: [77.58067940491443, 13.025910600227395]</summary><ul><li><span class='ee-k'>0:</span><span class='ee-v'>77.58067940491443</span></li><li><span class='ee-k'>1:</span><span class='ee-v'>13.025910600227395</span></li></ul></details></li><li><details><summary>1936: [77.58068732035699, 13.025905229028682]</summary><ul><li><span class='ee-k'>0:</span><span class='ee-v'>77.58068732035699</span></li><li><span class='ee-k'>1:</span><span class='ee-v'>13.025905229028682</span></li></ul></details></li><li><details><summary>1937: [77.5808395016024, 13.025801967674383]</summary><ul><li><span class='ee-k'>0:</span><span class='ee-v'>77.5808395016024</span></li><li><span class='ee-k'>1:</span><span class='ee-v'>13.025801967674383</span></li></ul></details></li><li><details><summary>1938: [77.58095067240194, 13.025748912419031]</summary><ul><li><span class='ee-k'>0:</span><span class='ee-v'>77.58095067240194</span></li><li><span class='ee-k'>1:</span><span class='ee-v'>13.025748912419031</span></li></ul></details></li><li><details><summary>1939: [77.58101577759443, 13.02569631603362]</summary><ul><li><span class='ee-k'>0:</span><span class='ee-v'>77.58101577759443</span></li><li><span class='ee-k'>1:</span><span class='ee-v'>13.02569631603362</span></li></ul></details></li><li><details><summary>1940: [77.58108896635767, 13.025438060386167]</summary><ul><li><span class='ee-k'>0:</span><span class='ee-v'>77.58108896635767</span></li><li><span class='ee-k'>1:</span><span class='ee-v'>13.025438060386167</span></li></ul></details></li><li><details><summary>1941: [77.58109633445382, 13.025412059154155]</summary><ul><li><span class='ee-k'>0:</span><span class='ee-v'>77.58109633445382</span></li><li><span class='ee-k'>1:</span><span class='ee-v'>13.025412059154155</span></li></ul></details></li><li><details><summary>1942: [77.5811405237797, 13.025341603221717]</summary><ul><li><span class='ee-k'>0:</span><span class='ee-v'>77.5811405237797</span></li><li><span class='ee-k'>1:</span><span class='ee-v'>13.025341603221717</span></li></ul></details></li><li><details><summary>1943: [77.58115526104045, 13.025318870401227]</summary><ul><li><span class='ee-k'>0:</span><span class='ee-v'>77.58115526104045</span></li><li><span class='ee-k'>1:</span><span class='ee-v'>13.025318870401227</span></li></ul></details></li><li><details><summary>1944: [77.5812791478808, 13.025214869867533]</summary><ul><li><span class='ee-k'>0:</span><span class='ee-v'>77.5812791478808</span></li><li><span class='ee-k'>1:</span><span class='ee-v'>13.025214869867533</span></li></ul></details></li><li><details><summary>1945: [77.58143209650007, 13.025136553645607]</summary><ul><li><span class='ee-k'>0:</span><span class='ee-v'>77.58143209650007</span></li><li><span class='ee-k'>1:</span><span class='ee-v'>13.025136553645607</span></li></ul></details></li><li><details><summary>1946: [77.5816969306218, 13.02501872633416]</summary><ul><li><span class='ee-k'>0:</span><span class='ee-v'>77.5816969306218</span></li><li><span class='ee-k'>1:</span><span class='ee-v'>13.02501872633416</span></li></ul></details></li><li><details><summary>1947: [77.58184717542407, 13.024957376346325]</summary><ul><li><span class='ee-k'>0:</span><span class='ee-v'>77.58184717542407</span></li><li><span class='ee-k'>1:</span><span class='ee-v'>13.024957376346325</span></li></ul></details></li><li><details><summary>1948: [77.582139967873, 13.024873301717513]</summary><ul><li><span class='ee-k'>0:</span><span class='ee-v'>77.582139967873</span></li><li><span class='ee-k'>1:</span><span class='ee-v'>13.024873301717513</span></li></ul></details></li><li><details><summary>1949: [77.58214459336712, 13.02487197364018]</summary><ul><li><span class='ee-k'>0:</span><span class='ee-v'>77.58214459336712</span></li><li><span class='ee-k'>1:</span><span class='ee-v'>13.02487197364018</span></li></ul></details></li><li><details><summary>1950: [77.58233355473385, 13.024796086990479]</summary><ul><li><span class='ee-k'>0:</span><span class='ee-v'>77.58233355473385</span></li><li><span class='ee-k'>1:</span><span class='ee-v'>13.024796086990479</span></li></ul></details></li><li><details><summary>1951: [77.5823493279703, 13.02478975297144]</summary><ul><li><span class='ee-k'>0:</span><span class='ee-v'>77.5823493279703</span></li><li><span class='ee-k'>1:</span><span class='ee-v'>13.02478975297144</span></li></ul></details></li><li><details><summary>1952: [77.58257653498056, 13.024653101817888]</summary><ul><li><span class='ee-k'>0:</span><span class='ee-v'>77.58257653498056</span></li><li><span class='ee-k'>1:</span><span class='ee-v'>13.024653101817888</span></li></ul></details></li><li><details><summary>1953: [77.58260972159907, 13.024632443651644]</summary><ul><li><span class='ee-k'>0:</span><span class='ee-v'>77.58260972159907</span></li><li><span class='ee-k'>1:</span><span class='ee-v'>13.024632443651644</span></li></ul></details></li><li><details><summary>1954: [77.58273729645542, 13.024550991802396]</summary><ul><li><span class='ee-k'>0:</span><span class='ee-v'>77.58273729645542</span></li><li><span class='ee-k'>1:</span><span class='ee-v'>13.024550991802396</span></li></ul></details></li><li><details><summary>1955: [77.58368527275206, 13.023670851839736]</summary><ul><li><span class='ee-k'>0:</span><span class='ee-v'>77.58368527275206</span></li><li><span class='ee-k'>1:</span><span class='ee-v'>13.023670851839736</span></li></ul></details></li><li><details><summary>1956: [77.5846238139504, 13.022936483032302]</summary><ul><li><span class='ee-k'>0:</span><span class='ee-v'>77.5846238139504</span></li><li><span class='ee-k'>1:</span><span class='ee-v'>13.022936483032302</span></li></ul></details></li><li><details><summary>1957: [77.58465523664728, 13.022912454372367]</summary><ul><li><span class='ee-k'>0:</span><span class='ee-v'>77.58465523664728</span></li><li><span class='ee-k'>1:</span><span class='ee-v'>13.022912454372367</span></li></ul></details></li><li><details><summary>1958: [77.584590072707, 13.022681598302741]</summary><ul><li><span class='ee-k'>0:</span><span class='ee-v'>77.584590072707</span></li><li><span class='ee-k'>1:</span><span class='ee-v'>13.022681598302741</span></li></ul></details></li><li><details><summary>1959: [77.58444902749324, 13.022186113988823]</summary><ul><li><span class='ee-k'>0:</span><span class='ee-v'>77.58444902749324</span></li><li><span class='ee-k'>1:</span><span class='ee-v'>13.022186113988823</span></li></ul></details></li><li><details><summary>1960: [77.58420575947329, 13.02132914415213]</summary><ul><li><span class='ee-k'>0:</span><span class='ee-v'>77.58420575947329</span></li><li><span class='ee-k'>1:</span><span class='ee-v'>13.02132914415213</span></li></ul></details></li><li><details><summary>1961: [77.58420457272409, 13.02132576809137]</summary><ul><li><span class='ee-k'>0:</span><span class='ee-v'>77.58420457272409</span></li><li><span class='ee-k'>1:</span><span class='ee-v'>13.02132576809137</span></li></ul></details></li><li><details><summary>1962: [77.58416524607087, 13.021198549541172]</summary><ul><li><span class='ee-k'>0:</span><span class='ee-v'>77.58416524607087</span></li><li><span class='ee-k'>1:</span><span class='ee-v'>13.021198549541172</span></li></ul></details></li><li><details><summary>1963: [77.58407337478634, 13.020891167174007]</summary><ul><li><span class='ee-k'>0:</span><span class='ee-v'>77.58407337478634</span></li><li><span class='ee-k'>1:</span><span class='ee-v'>13.020891167174007</span></li></ul></details></li><li><details><summary>1964: [77.58402506194308, 13.020674823610719]</summary><ul><li><span class='ee-k'>0:</span><span class='ee-v'>77.58402506194308</span></li><li><span class='ee-k'>1:</span><span class='ee-v'>13.020674823610719</span></li></ul></details></li><li><details><summary>1965: [77.58397141679714, 13.02038851668867]</summary><ul><li><span class='ee-k'>0:</span><span class='ee-v'>77.58397141679714</span></li><li><span class='ee-k'>1:</span><span class='ee-v'>13.02038851668867</span></li></ul></details></li><li><details><summary>1966: [77.58396136382844, 13.020251971819105]</summary><ul><li><span class='ee-k'>0:</span><span class='ee-v'>77.58396136382844</span></li><li><span class='ee-k'>1:</span><span class='ee-v'>13.020251971819105</span></li></ul></details></li><li><details><summary>1967: [77.58391810466455, 13.019690012507004]</summary><ul><li><span class='ee-k'>0:</span><span class='ee-v'>77.58391810466455</span></li><li><span class='ee-k'>1:</span><span class='ee-v'>13.019690012507004</span></li></ul></details></li><li><details><summary>1968: [77.58392843794518, 13.01929804295697]</summary><ul><li><span class='ee-k'>0:</span><span class='ee-v'>77.58392843794518</span></li><li><span class='ee-k'>1:</span><span class='ee-v'>13.01929804295697</span></li></ul></details></li><li><details><summary>1969: [77.58393355626744, 13.01912520927935]</summary><ul><li><span class='ee-k'>0:</span><span class='ee-v'>77.58393355626744</span></li><li><span class='ee-k'>1:</span><span class='ee-v'>13.01912520927935</span></li></ul></details></li><li><details><summary>1970: [77.5839469500224, 13.017973191362659]</summary><ul><li><span class='ee-k'>0:</span><span class='ee-v'>77.5839469500224</span></li><li><span class='ee-k'>1:</span><span class='ee-v'>13.017973191362659</span></li></ul></details></li><li><details><summary>1971: [77.58396494517605, 13.017264941842038]</summary><ul><li><span class='ee-k'>0:</span><span class='ee-v'>77.58396494517605</span></li><li><span class='ee-k'>1:</span><span class='ee-v'>13.017264941842038</span></li></ul></details></li><li><details><summary>1972: [77.58397430117735, 13.016889921481392]</summary><ul><li><span class='ee-k'>0:</span><span class='ee-v'>77.58397430117735</span></li><li><span class='ee-k'>1:</span><span class='ee-v'>13.016889921481392</span></li></ul></details></li><li><details><summary>1973: [77.58396872375889, 13.015907487323457]</summary><ul><li><span class='ee-k'>0:</span><span class='ee-v'>77.58396872375889</span></li><li><span class='ee-k'>1:</span><span class='ee-v'>13.015907487323457</span></li></ul></details></li><li><details><summary>1974: [77.583944597612, 13.014802144392378]</summary><ul><li><span class='ee-k'>0:</span><span class='ee-v'>77.583944597612</span></li><li><span class='ee-k'>1:</span><span class='ee-v'>13.014802144392378</span></li></ul></details></li><li><details><summary>1975: [77.58397269423155, 13.0145127639303]</summary><ul><li><span class='ee-k'>0:</span><span class='ee-v'>77.58397269423155</span></li><li><span class='ee-k'>1:</span><span class='ee-v'>13.0145127639303</span></li></ul></details></li><li><details><summary>1976: [77.58399499365753, 13.014512466719722]</summary><ul><li><span class='ee-k'>0:</span><span class='ee-v'>77.58399499365753</span></li><li><span class='ee-k'>1:</span><span class='ee-v'>13.014512466719722</span></li></ul></details></li><li><details><summary>1977: [77.58464174122012, 13.01450383710544]</summary><ul><li><span class='ee-k'>0:</span><span class='ee-v'>77.58464174122012</span></li><li><span class='ee-k'>1:</span><span class='ee-v'>13.01450383710544</span></li></ul></details></li><li><details><summary>1978: [77.5852508352396, 13.014488730532698]</summary><ul><li><span class='ee-k'>0:</span><span class='ee-v'>77.5852508352396</span></li><li><span class='ee-k'>1:</span><span class='ee-v'>13.014488730532698</span></li></ul></details></li><li><details><summary>1979: [77.585507905679, 13.014456340309335]</summary><ul><li><span class='ee-k'>0:</span><span class='ee-v'>77.585507905679</span></li><li><span class='ee-k'>1:</span><span class='ee-v'>13.014456340309335</span></li></ul></details></li><li><details><summary>1980: [77.58601974396791, 13.014391848609476]</summary><ul><li><span class='ee-k'>0:</span><span class='ee-v'>77.58601974396791</span></li><li><span class='ee-k'>1:</span><span class='ee-v'>13.014391848609476</span></li></ul></details></li><li><details><summary>1981: [77.5865223526055, 13.014325853443564]</summary><ul><li><span class='ee-k'>0:</span><span class='ee-v'>77.5865223526055</span></li><li><span class='ee-k'>1:</span><span class='ee-v'>13.014325853443564</span></li></ul></details></li><li><details><summary>1982: [77.58666660566598, 13.01429844063281]</summary><ul><li><span class='ee-k'>0:</span><span class='ee-v'>77.58666660566598</span></li><li><span class='ee-k'>1:</span><span class='ee-v'>13.01429844063281</span></li></ul></details></li><li><details><summary>1983: [77.58685322296257, 13.014246889883074]</summary><ul><li><span class='ee-k'>0:</span><span class='ee-v'>77.58685322296257</span></li><li><span class='ee-k'>1:</span><span class='ee-v'>13.014246889883074</span></li></ul></details></li><li><details><summary>1984: [77.58717548123067, 13.014114934945525]</summary><ul><li><span class='ee-k'>0:</span><span class='ee-v'>77.58717548123067</span></li><li><span class='ee-k'>1:</span><span class='ee-v'>13.014114934945525</span></li></ul></details></li><li><details><summary>1985: [77.58758300340959, 13.013931310516558]</summary><ul><li><span class='ee-k'>0:</span><span class='ee-v'>77.58758300340959</span></li><li><span class='ee-k'>1:</span><span class='ee-v'>13.013931310516558</span></li></ul></details></li><li><details><summary>1986: [77.58779519222975, 13.013791418928333]</summary><ul><li><span class='ee-k'>0:</span><span class='ee-v'>77.58779519222975</span></li><li><span class='ee-k'>1:</span><span class='ee-v'>13.013791418928333</span></li></ul></details></li><li><details><summary>1987: [77.58811982607051, 13.013500208642297]</summary><ul><li><span class='ee-k'>0:</span><span class='ee-v'>77.58811982607051</span></li><li><span class='ee-k'>1:</span><span class='ee-v'>13.013500208642297</span></li></ul></details></li><li><details><summary>1988: [77.58828715011776, 13.013309946253196]</summary><ul><li><span class='ee-k'>0:</span><span class='ee-v'>77.58828715011776</span></li><li><span class='ee-k'>1:</span><span class='ee-v'>13.013309946253196</span></li></ul></details></li><li><details><summary>1989: [77.58874161322812, 13.012711400589998]</summary><ul><li><span class='ee-k'>0:</span><span class='ee-v'>77.58874161322812</span></li><li><span class='ee-k'>1:</span><span class='ee-v'>13.012711400589998</span></li></ul></details></li><li><details><summary>1990: [77.58911210102909, 13.012233398123495]</summary><ul><li><span class='ee-k'>0:</span><span class='ee-v'>77.58911210102909</span></li><li><span class='ee-k'>1:</span><span class='ee-v'>13.012233398123495</span></li></ul></details></li><li><details><summary>1991: [77.58980248793098, 13.011230467124152]</summary><ul><li><span class='ee-k'>0:</span><span class='ee-v'>77.58980248793098</span></li><li><span class='ee-k'>1:</span><span class='ee-v'>13.011230467124152</span></li></ul></details></li><li><details><summary>1992: [77.59066254015434, 13.009931094973979]</summary><ul><li><span class='ee-k'>0:</span><span class='ee-v'>77.59066254015434</span></li><li><span class='ee-k'>1:</span><span class='ee-v'>13.009931094973979</span></li></ul></details></li><li><details><summary>1993: [77.59066764097464, 13.009923138971478]</summary><ul><li><span class='ee-k'>0:</span><span class='ee-v'>77.59066764097464</span></li><li><span class='ee-k'>1:</span><span class='ee-v'>13.009923138971478</span></li></ul></details></li><li><details><summary>1994: [77.59115209389864, 13.009219267260757]</summary><ul><li><span class='ee-k'>0:</span><span class='ee-v'>77.59115209389864</span></li><li><span class='ee-k'>1:</span><span class='ee-v'>13.009219267260757</span></li></ul></details></li><li><details><summary>1995: [77.59170060862446, 13.008418765168974]</summary><ul><li><span class='ee-k'>0:</span><span class='ee-v'>77.59170060862446</span></li><li><span class='ee-k'>1:</span><span class='ee-v'>13.008418765168974</span></li></ul></details></li><li><details><summary>1996: [77.59228130790487, 13.007446288439247]</summary><ul><li><span class='ee-k'>0:</span><span class='ee-v'>77.59228130790487</span></li><li><span class='ee-k'>1:</span><span class='ee-v'>13.007446288439247</span></li></ul></details></li><li><details><summary>1997: [77.59231073172127, 13.007396305551609]</summary><ul><li><span class='ee-k'>0:</span><span class='ee-v'>77.59231073172127</span></li><li><span class='ee-k'>1:</span><span class='ee-v'>13.007396305551609</span></li></ul></details></li><li><details><summary>1998: [77.59267937515892, 13.006797484606988]</summary><ul><li><span class='ee-k'>0:</span><span class='ee-v'>77.59267937515892</span></li><li><span class='ee-k'>1:</span><span class='ee-v'>13.006797484606988</span></li></ul></details></li><li><details><summary>1999: [77.59296483340674, 13.006339527027412]</summary><ul><li><span class='ee-k'>0:</span><span class='ee-v'>77.59296483340674</span></li><li><span class='ee-k'>1:</span><span class='ee-v'>13.006339527027412</span></li></ul></details></li><li><details><summary>2000: [77.593117991853, 13.00600598444519]</summary><ul><li><span class='ee-k'>0:</span><span class='ee-v'>77.593117991853</span></li><li><span class='ee-k'>1:</span><span class='ee-v'>13.00600598444519</span></li></ul></details></li><li><details><summary>2001: [77.59314268011298, 13.005943626638194]</summary><ul><li><span class='ee-k'>0:</span><span class='ee-v'>77.59314268011298</span></li><li><span class='ee-k'>1:</span><span class='ee-v'>13.005943626638194</span></li></ul></details></li><li><details><summary>2002: [77.59317048102935, 13.005903823557802]</summary><ul><li><span class='ee-k'>0:</span><span class='ee-v'>77.59317048102935</span></li><li><span class='ee-k'>1:</span><span class='ee-v'>13.005903823557802</span></li></ul></details></li><li><details><summary>2003: [77.59323821319862, 13.005716813426176]</summary><ul><li><span class='ee-k'>0:</span><span class='ee-v'>77.59323821319862</span></li><li><span class='ee-k'>1:</span><span class='ee-v'>13.005716813426176</span></li></ul></details></li><li><details><summary>2004: [77.59326290140237, 13.005654454714199]</summary><ul><li><span class='ee-k'>0:</span><span class='ee-v'>77.59326290140237</span></li><li><span class='ee-k'>1:</span><span class='ee-v'>13.005654454714199</span></li></ul></details></li><li><details><summary>2005: [77.59343883528794, 13.004963829161929]</summary><ul><li><span class='ee-k'>0:</span><span class='ee-v'>77.59343883528794</span></li><li><span class='ee-k'>1:</span><span class='ee-v'>13.004963829161929</span></li></ul></details></li><li><details><summary>2006: [77.59355452271507, 13.0044601380359]</summary><ul><li><span class='ee-k'>0:</span><span class='ee-v'>77.59355452271507</span></li><li><span class='ee-k'>1:</span><span class='ee-v'>13.0044601380359</span></li></ul></details></li><li><details><summary>2007: [77.59377617618355, 13.003736305178405]</summary><ul><li><span class='ee-k'>0:</span><span class='ee-v'>77.59377617618355</span></li><li><span class='ee-k'>1:</span><span class='ee-v'>13.003736305178405</span></li></ul></details></li><li><details><summary>2008: [77.5940428331591, 13.002910386247855]</summary><ul><li><span class='ee-k'>0:</span><span class='ee-v'>77.5940428331591</span></li><li><span class='ee-k'>1:</span><span class='ee-v'>13.002910386247855</span></li></ul></details></li><li><details><summary>2009: [77.59419486154097, 13.002413107651439]</summary><ul><li><span class='ee-k'>0:</span><span class='ee-v'>77.59419486154097</span></li><li><span class='ee-k'>1:</span><span class='ee-v'>13.002413107651439</span></li></ul></details></li><li><details><summary>2010: [77.59428951245101, 13.002101606390532]</summary><ul><li><span class='ee-k'>0:</span><span class='ee-v'>77.59428951245101</span></li><li><span class='ee-k'>1:</span><span class='ee-v'>13.002101606390532</span></li></ul></details></li><li><details><summary>2011: [77.59434975398307, 13.00188128025484]</summary><ul><li><span class='ee-k'>0:</span><span class='ee-v'>77.59434975398307</span></li><li><span class='ee-k'>1:</span><span class='ee-v'>13.00188128025484</span></li></ul></details></li><li><details><summary>2012: [77.59436759306956, 13.001816033974423]</summary><ul><li><span class='ee-k'>0:</span><span class='ee-v'>77.59436759306956</span></li><li><span class='ee-k'>1:</span><span class='ee-v'>13.001816033974423</span></li></ul></details></li><li><details><summary>2013: [77.59438270646427, 13.001760758124659]</summary><ul><li><span class='ee-k'>0:</span><span class='ee-v'>77.59438270646427</span></li><li><span class='ee-k'>1:</span><span class='ee-v'>13.001760758124659</span></li></ul></details></li><li><details><summary>2014: [77.59438326763961, 13.00175917241063]</summary><ul><li><span class='ee-k'>0:</span><span class='ee-v'>77.59438326763961</span></li><li><span class='ee-k'>1:</span><span class='ee-v'>13.00175917241063</span></li></ul></details></li><li><details><summary>2015: [77.59447500650205, 13.001500097566662]</summary><ul><li><span class='ee-k'>0:</span><span class='ee-v'>77.59447500650205</span></li><li><span class='ee-k'>1:</span><span class='ee-v'>13.001500097566662</span></li></ul></details></li><li><details><summary>2016: [77.59465792338696, 13.000983075541171]</summary><ul><li><span class='ee-k'>0:</span><span class='ee-v'>77.59465792338696</span></li><li><span class='ee-k'>1:</span><span class='ee-v'>13.000983075541171</span></li></ul></details></li><li><details><summary>2017: [77.5946590421508, 13.000979914086622]</summary><ul><li><span class='ee-k'>0:</span><span class='ee-v'>77.5946590421508</span></li><li><span class='ee-k'>1:</span><span class='ee-v'>13.000979914086622</span></li></ul></details></li><li><details><summary>2018: [77.59469138649713, 13.000871632324783]</summary><ul><li><span class='ee-k'>0:</span><span class='ee-v'>77.59469138649713</span></li><li><span class='ee-k'>1:</span><span class='ee-v'>13.000871632324783</span></li></ul></details></li><li><details><summary>2019: [77.59470360966343, 13.000830712007017]</summary><ul><li><span class='ee-k'>0:</span><span class='ee-v'>77.59470360966343</span></li><li><span class='ee-k'>1:</span><span class='ee-v'>13.000830712007017</span></li></ul></details></li><li><details><summary>2020: [77.59481095325461, 13.000471343761928]</summary><ul><li><span class='ee-k'>0:</span><span class='ee-v'>77.59481095325461</span></li><li><span class='ee-k'>1:</span><span class='ee-v'>13.000471343761928</span></li></ul></details></li><li><details><summary>2021: [77.59497846705167, 12.999968263908372]</summary><ul><li><span class='ee-k'>0:</span><span class='ee-v'>77.59497846705167</span></li><li><span class='ee-k'>1:</span><span class='ee-v'>12.999968263908372</span></li></ul></details></li><li><details><summary>2022: [77.59509629889662, 12.99961587643017]</summary><ul><li><span class='ee-k'>0:</span><span class='ee-v'>77.59509629889662</span></li><li><span class='ee-k'>1:</span><span class='ee-v'>12.99961587643017</span></li></ul></details></li><li><details><summary>2023: [77.59565901162718, 12.997746920853892]</summary><ul><li><span class='ee-k'>0:</span><span class='ee-v'>77.59565901162718</span></li><li><span class='ee-k'>1:</span><span class='ee-v'>12.997746920853892</span></li></ul></details></li><li><details><summary>2024: [77.59582184679697, 12.997071106360023]</summary><ul><li><span class='ee-k'>0:</span><span class='ee-v'>77.59582184679697</span></li><li><span class='ee-k'>1:</span><span class='ee-v'>12.997071106360023</span></li></ul></details></li><li><details><summary>2025: [77.59592171528594, 12.996430929482633]</summary><ul><li><span class='ee-k'>0:</span><span class='ee-v'>77.59592171528594</span></li><li><span class='ee-k'>1:</span><span class='ee-v'>12.996430929482633</span></li></ul></details></li><li><details><summary>2026: [77.5961124452619, 12.99555833963813]</summary><ul><li><span class='ee-k'>0:</span><span class='ee-v'>77.5961124452619</span></li><li><span class='ee-k'>1:</span><span class='ee-v'>12.99555833963813</span></li></ul></details></li><li><details><summary>2027: [77.59623107648709, 12.995061395075838]</summary><ul><li><span class='ee-k'>0:</span><span class='ee-v'>77.59623107648709</span></li><li><span class='ee-k'>1:</span><span class='ee-v'>12.995061395075838</span></li></ul></details></li><li><details><summary>2028: [77.59625377691246, 12.994974212755693]</summary><ul><li><span class='ee-k'>0:</span><span class='ee-v'>77.59625377691246</span></li><li><span class='ee-k'>1:</span><span class='ee-v'>12.994974212755693</span></li></ul></details></li><li><details><summary>2029: [77.59622851472898, 12.994981241089958]</summary><ul><li><span class='ee-k'>0:</span><span class='ee-v'>77.59622851472898</span></li><li><span class='ee-k'>1:</span><span class='ee-v'>12.994981241089958</span></li></ul></details></li><li><details><summary>2030: [77.59622176058117, 12.994952511724389]</summary><ul><li><span class='ee-k'>0:</span><span class='ee-v'>77.59622176058117</span></li><li><span class='ee-k'>1:</span><span class='ee-v'>12.994952511724389</span></li></ul></details></li><li><details><summary>2031: [77.59619779089881, 12.99485055062938]</summary><ul><li><span class='ee-k'>0:</span><span class='ee-v'>77.59619779089881</span></li><li><span class='ee-k'>1:</span><span class='ee-v'>12.99485055062938</span></li></ul></details></li><li><details><summary>2032: [77.59611918576476, 12.994711304568522]</summary><ul><li><span class='ee-k'>0:</span><span class='ee-v'>77.59611918576476</span></li><li><span class='ee-k'>1:</span><span class='ee-v'>12.994711304568522</span></li></ul></details></li><li><details><summary>2033: [77.5961146212018, 12.994705139109515]</summary><ul><li><span class='ee-k'>0:</span><span class='ee-v'>77.5961146212018</span></li><li><span class='ee-k'>1:</span><span class='ee-v'>12.994705139109515</span></li></ul></details></li><li><details><summary>2034: [77.59610341677312, 12.994690005714613]</summary><ul><li><span class='ee-k'>0:</span><span class='ee-v'>77.59610341677312</span></li><li><span class='ee-k'>1:</span><span class='ee-v'>12.994690005714613</span></li></ul></details></li><li><details><summary>2035: [77.59500849231584, 12.995212519499278]</summary><ul><li><span class='ee-k'>0:</span><span class='ee-v'>77.59500849231584</span></li><li><span class='ee-k'>1:</span><span class='ee-v'>12.995212519499278</span></li></ul></details></li><li><details><summary>2036: [77.59467602828927, 12.995357003451288]</summary><ul><li><span class='ee-k'>0:</span><span class='ee-v'>77.59467602828927</span></li><li><span class='ee-k'>1:</span><span class='ee-v'>12.995357003451288</span></li></ul></details></li><li><details><summary>2037: [77.59440553282307, 12.995425205314014]</summary><ul><li><span class='ee-k'>0:</span><span class='ee-v'>77.59440553282307</span></li><li><span class='ee-k'>1:</span><span class='ee-v'>12.995425205314014</span></li></ul></details></li><li><details><summary>2038: [77.59417559911483, 12.995462510781557]</summary><ul><li><span class='ee-k'>0:</span><span class='ee-v'>77.59417559911483</span></li><li><span class='ee-k'>1:</span><span class='ee-v'>12.995462510781557</span></li></ul></details></li><li><details><summary>2039: [77.59395008355123, 12.995481703246613]</summary><ul><li><span class='ee-k'>0:</span><span class='ee-v'>77.59395008355123</span></li><li><span class='ee-k'>1:</span><span class='ee-v'>12.995481703246613</span></li></ul></details></li><li><details><summary>2040: [77.59346228863268, 12.99547302454632]</summary><ul><li><span class='ee-k'>0:</span><span class='ee-v'>77.59346228863268</span></li><li><span class='ee-k'>1:</span><span class='ee-v'>12.99547302454632</span></li></ul></details></li><li><details><summary>2041: [77.5917461957031, 12.995398687298904]</summary><ul><li><span class='ee-k'>0:</span><span class='ee-v'>77.5917461957031</span></li><li><span class='ee-k'>1:</span><span class='ee-v'>12.995398687298904</span></li></ul></details></li><li><details><summary>2042: [77.59148243856119, 12.995387141435085]</summary><ul><li><span class='ee-k'>0:</span><span class='ee-v'>77.59148243856119</span></li><li><span class='ee-k'>1:</span><span class='ee-v'>12.995387141435085</span></li></ul></details></li><li><details><summary>2043: [77.59143108848542, 12.995384893047614]</summary><ul><li><span class='ee-k'>0:</span><span class='ee-v'>77.59143108848542</span></li><li><span class='ee-k'>1:</span><span class='ee-v'>12.995384893047614</span></li></ul></details></li><li><details><summary>2044: [77.59017071284552, 12.995344650830615]</summary><ul><li><span class='ee-k'>0:</span><span class='ee-v'>77.59017071284552</span></li><li><span class='ee-k'>1:</span><span class='ee-v'>12.995344650830615</span></li></ul></details></li><li><details><summary>2045: [77.58967981986059, 12.995328976134996]</summary><ul><li><span class='ee-k'>0:</span><span class='ee-v'>77.58967981986059</span></li><li><span class='ee-k'>1:</span><span class='ee-v'>12.995328976134996</span></li></ul></details></li><li><details><summary>2046: [77.58967948531776, 12.995328965016673]</summary><ul><li><span class='ee-k'>0:</span><span class='ee-v'>77.58967948531776</span></li><li><span class='ee-k'>1:</span><span class='ee-v'>12.995328965016673</span></li></ul></details></li><li><details><summary>2047: [77.58955016734943, 12.995629518088991]</summary><ul><li><span class='ee-k'>0:</span><span class='ee-v'>77.58955016734943</span></li><li><span class='ee-k'>1:</span><span class='ee-v'>12.995629518088991</span></li></ul></details></li><li><details><summary>2048: [77.58951614958681, 12.995680675662802]</summary><ul><li><span class='ee-k'>0:</span><span class='ee-v'>77.58951614958681</span></li><li><span class='ee-k'>1:</span><span class='ee-v'>12.995680675662802</span></li></ul></details></li><li><details><summary>2049: [77.58949102755145, 12.99570125353451]</summary><ul><li><span class='ee-k'>0:</span><span class='ee-v'>77.58949102755145</span></li><li><span class='ee-k'>1:</span><span class='ee-v'>12.99570125353451</span></li></ul></details></li><li><details><summary>2050: [77.58912442337605, 12.995885596883818]</summary><ul><li><span class='ee-k'>0:</span><span class='ee-v'>77.58912442337605</span></li><li><span class='ee-k'>1:</span><span class='ee-v'>12.995885596883818</span></li></ul></details></li><li><details><summary>2051: [77.58909464846931, 12.99590170394164]</summary><ul><li><span class='ee-k'>0:</span><span class='ee-v'>77.58909464846931</span></li><li><span class='ee-k'>1:</span><span class='ee-v'>12.99590170394164</span></li></ul></details></li><li><details><summary>2052: [77.58800877881527, 12.996467014616416]</summary><ul><li><span class='ee-k'>0:</span><span class='ee-v'>77.58800877881527</span></li><li><span class='ee-k'>1:</span><span class='ee-v'>12.996467014616416</span></li></ul></details></li><li><details><summary>2053: [77.58799618257291, 12.996473915957989]</summary><ul><li><span class='ee-k'>0:</span><span class='ee-v'>77.58799618257291</span></li><li><span class='ee-k'>1:</span><span class='ee-v'>12.996473915957989</span></li></ul></details></li><li><details><summary>2054: [77.58751124776458, 12.996797211180406]</summary><ul><li><span class='ee-k'>0:</span><span class='ee-v'>77.58751124776458</span></li><li><span class='ee-k'>1:</span><span class='ee-v'>12.996797211180406</span></li></ul></details></li><li><details><summary>2055: [77.58731124494108, 12.99694488377372]</summary><ul><li><span class='ee-k'>0:</span><span class='ee-v'>77.58731124494108</span></li><li><span class='ee-k'>1:</span><span class='ee-v'>12.99694488377372</span></li></ul></details></li><li><details><summary>2056: [77.58681887951376, 12.99732923413406]</summary><ul><li><span class='ee-k'>0:</span><span class='ee-v'>77.58681887951376</span></li><li><span class='ee-k'>1:</span><span class='ee-v'>12.99732923413406</span></li></ul></details></li><li><details><summary>2057: [77.58658035986278, 12.997482936586502]</summary><ul><li><span class='ee-k'>0:</span><span class='ee-v'>77.58658035986278</span></li><li><span class='ee-k'>1:</span><span class='ee-v'>12.997482936586502</span></li></ul></details></li><li><details><summary>2058: [77.58655179456558, 12.997504677850465]</summary><ul><li><span class='ee-k'>0:</span><span class='ee-v'>77.58655179456558</span></li><li><span class='ee-k'>1:</span><span class='ee-v'>12.997504677850465</span></li></ul></details></li><li><details><summary>2059: [77.58648527643422, 12.997531314432885]</summary><ul><li><span class='ee-k'>0:</span><span class='ee-v'>77.58648527643422</span></li><li><span class='ee-k'>1:</span><span class='ee-v'>12.997531314432885</span></li></ul></details></li><li><details><summary>2060: [77.586379065571, 12.99756173434346]</summary><ul><li><span class='ee-k'>0:</span><span class='ee-v'>77.586379065571</span></li><li><span class='ee-k'>1:</span><span class='ee-v'>12.99756173434346</span></li></ul></details></li><li><details><summary>2061: [77.58632904625463, 12.99756900845296]</summary><ul><li><span class='ee-k'>0:</span><span class='ee-v'>77.58632904625463</span></li><li><span class='ee-k'>1:</span><span class='ee-v'>12.99756900845296</span></li></ul></details></li><li><details><summary>2062: [77.5859024697524, 12.997634239977002]</summary><ul><li><span class='ee-k'>0:</span><span class='ee-v'>77.5859024697524</span></li><li><span class='ee-k'>1:</span><span class='ee-v'>12.997634239977002</span></li></ul></details></li><li><details><summary>2063: [77.585266353945, 12.997704945513187]</summary><ul><li><span class='ee-k'>0:</span><span class='ee-v'>77.585266353945</span></li><li><span class='ee-k'>1:</span><span class='ee-v'>12.997704945513187</span></li></ul></details></li><li><details><summary>2064: [77.58521115182879, 12.997712271030268]</summary><ul><li><span class='ee-k'>0:</span><span class='ee-v'>77.58521115182879</span></li><li><span class='ee-k'>1:</span><span class='ee-v'>12.997712271030268</span></li></ul></details></li><li><details><summary>2065: [77.58436128755052, 12.997826886985914]</summary><ul><li><span class='ee-k'>0:</span><span class='ee-v'>77.58436128755052</span></li><li><span class='ee-k'>1:</span><span class='ee-v'>12.997826886985914</span></li></ul></details></li><li><details><summary>2066: [77.58430553193261, 12.99805894844313]</summary><ul><li><span class='ee-k'>0:</span><span class='ee-v'>77.58430553193261</span></li><li><span class='ee-k'>1:</span><span class='ee-v'>12.99805894844313</span></li></ul></details></li><li><details><summary>2067: [77.58429979507392, 12.998112619276242]</summary><ul><li><span class='ee-k'>0:</span><span class='ee-v'>77.58429979507392</span></li><li><span class='ee-k'>1:</span><span class='ee-v'>12.998112619276242</span></li></ul></details></li><li><details><summary>2068: [77.58428426866097, 12.998257882512338]</summary><ul><li><span class='ee-k'>0:</span><span class='ee-v'>77.58428426866097</span></li><li><span class='ee-k'>1:</span><span class='ee-v'>12.998257882512338</span></li></ul></details></li><li><details><summary>2069: [77.58424306180062, 12.998643418215455]</summary><ul><li><span class='ee-k'>0:</span><span class='ee-v'>77.58424306180062</span></li><li><span class='ee-k'>1:</span><span class='ee-v'>12.998643418215455</span></li></ul></details></li><li><details><summary>2070: [77.58420581511321, 12.998882872575997]</summary><ul><li><span class='ee-k'>0:</span><span class='ee-v'>77.58420581511321</span></li><li><span class='ee-k'>1:</span><span class='ee-v'>12.998882872575997</span></li></ul></details></li><li><details><summary>2071: [77.58417233632149, 12.999098100736104]</summary><ul><li><span class='ee-k'>0:</span><span class='ee-v'>77.58417233632149</span></li><li><span class='ee-k'>1:</span><span class='ee-v'>12.999098100736104</span></li></ul></details></li><li><details><summary>2072: [77.58416390655174, 12.999252426202167]</summary><ul><li><span class='ee-k'>0:</span><span class='ee-v'>77.58416390655174</span></li><li><span class='ee-k'>1:</span><span class='ee-v'>12.999252426202167</span></li></ul></details></li><li><details><summary>2073: [77.58416313972906, 12.999266457930185]</summary><ul><li><span class='ee-k'>0:</span><span class='ee-v'>77.58416313972906</span></li><li><span class='ee-k'>1:</span><span class='ee-v'>12.999266457930185</span></li></ul></details></li><li><details><summary>2074: [77.58418765471515, 12.999409634918567]</summary><ul><li><span class='ee-k'>0:</span><span class='ee-v'>77.58418765471515</span></li><li><span class='ee-k'>1:</span><span class='ee-v'>12.999409634918567</span></li></ul></details></li><li><details><summary>2075: [77.58418640675333, 12.999462710870404]</summary><ul><li><span class='ee-k'>0:</span><span class='ee-v'>77.58418640675333</span></li><li><span class='ee-k'>1:</span><span class='ee-v'>12.999462710870404</span></li></ul></details></li><li><details><summary>2076: [77.58340769554886, 12.999324795146649]</summary><ul><li><span class='ee-k'>0:</span><span class='ee-v'>77.58340769554886</span></li><li><span class='ee-k'>1:</span><span class='ee-v'>12.999324795146649</span></li></ul></details></li><li><details><summary>2077: [77.58315673945023, 12.999278732742733]</summary><ul><li><span class='ee-k'>0:</span><span class='ee-v'>77.58315673945023</span></li><li><span class='ee-k'>1:</span><span class='ee-v'>12.999278732742733</span></li></ul></details></li><li><details><summary>2078: [77.58299810139788, 12.999250949563109]</summary><ul><li><span class='ee-k'>0:</span><span class='ee-v'>77.58299810139788</span></li><li><span class='ee-k'>1:</span><span class='ee-v'>12.999250949563109</span></li></ul></details></li><li><details><summary>2079: [77.5820840677511, 12.998506799400083]</summary><ul><li><span class='ee-k'>0:</span><span class='ee-v'>77.5820840677511</span></li><li><span class='ee-k'>1:</span><span class='ee-v'>12.998506799400083</span></li></ul></details></li><li><details><summary>2080: [77.58205790175806, 12.998482215036924]</summary><ul><li><span class='ee-k'>0:</span><span class='ee-v'>77.58205790175806</span></li><li><span class='ee-k'>1:</span><span class='ee-v'>12.998482215036924</span></li></ul></details></li><li><details><summary>2081: [77.58187358843851, 12.998310135845358]</summary><ul><li><span class='ee-k'>0:</span><span class='ee-v'>77.58187358843851</span></li><li><span class='ee-k'>1:</span><span class='ee-v'>12.998310135845358</span></li></ul></details></li><li><details><summary>2082: [77.58167052774043, 12.998120059353736]</summary><ul><li><span class='ee-k'>0:</span><span class='ee-v'>77.58167052774043</span></li><li><span class='ee-k'>1:</span><span class='ee-v'>12.998120059353736</span></li></ul></details></li><li><details><summary>2083: [77.58160379942828, 12.998057596792876]</summary><ul><li><span class='ee-k'>0:</span><span class='ee-v'>77.58160379942828</span></li><li><span class='ee-k'>1:</span><span class='ee-v'>12.998057596792876</span></li></ul></details></li><li><details><summary>2084: [77.58156886782477, 12.998020677213752]</summary><ul><li><span class='ee-k'>0:</span><span class='ee-v'>77.58156886782477</span></li><li><span class='ee-k'>1:</span><span class='ee-v'>12.998020677213752</span></li></ul></details></li><li><details><summary>2085: [77.58127073004603, 12.997699532182246]</summary><ul><li><span class='ee-k'>0:</span><span class='ee-v'>77.58127073004603</span></li><li><span class='ee-k'>1:</span><span class='ee-v'>12.997699532182246</span></li></ul></details></li><li><details><summary>2086: [77.58086603932601, 12.997264257117498]</summary><ul><li><span class='ee-k'>0:</span><span class='ee-v'>77.58086603932601</span></li><li><span class='ee-k'>1:</span><span class='ee-v'>12.997264257117498</span></li></ul></details></li><li><details><summary>2087: [77.5808625497818, 12.9972609039006]</summary><ul><li><span class='ee-k'>0:</span><span class='ee-v'>77.5808625497818</span></li><li><span class='ee-k'>1:</span><span class='ee-v'>12.9972609039006</span></li></ul></details></li><li><details><summary>2088: [77.5808386753817, 12.99723516728416]</summary><ul><li><span class='ee-k'>0:</span><span class='ee-v'>77.5808386753817</span></li><li><span class='ee-k'>1:</span><span class='ee-v'>12.99723516728416</span></li></ul></details></li><li><details><summary>2089: [77.58074085054979, 12.997129985316406]</summary><ul><li><span class='ee-k'>0:</span><span class='ee-v'>77.58074085054979</span></li><li><span class='ee-k'>1:</span><span class='ee-v'>12.997129985316406</span></li></ul></details></li><li><details><summary>2090: [77.58053570005387, 12.996891483092684]</summary><ul><li><span class='ee-k'>0:</span><span class='ee-v'>77.58053570005387</span></li><li><span class='ee-k'>1:</span><span class='ee-v'>12.996891483092684</span></li></ul></details></li><li><details><summary>2091: [77.58034298629431, 12.996666413179168]</summary><ul><li><span class='ee-k'>0:</span><span class='ee-v'>77.58034298629431</span></li><li><span class='ee-k'>1:</span><span class='ee-v'>12.996666413179168</span></li></ul></details></li><li><details><summary>2092: [77.58031421788597, 12.996632814593331]</summary><ul><li><span class='ee-k'>0:</span><span class='ee-v'>77.58031421788597</span></li><li><span class='ee-k'>1:</span><span class='ee-v'>12.996632814593331</span></li></ul></details></li><li><details><summary>2093: [77.58025144235417, 12.996559978688587]</summary><ul><li><span class='ee-k'>0:</span><span class='ee-v'>77.58025144235417</span></li><li><span class='ee-k'>1:</span><span class='ee-v'>12.996559978688587</span></li></ul></details></li><li><details><summary>2094: [77.58022446665785, 12.996528682311624]</summary><ul><li><span class='ee-k'>0:</span><span class='ee-v'>77.58022446665785</span></li><li><span class='ee-k'>1:</span><span class='ee-v'>12.996528682311624</span></li></ul></details></li><li><details><summary>2095: [77.58019902071337, 12.996499473941626]</summary><ul><li><span class='ee-k'>0:</span><span class='ee-v'>77.58019902071337</span></li><li><span class='ee-k'>1:</span><span class='ee-v'>12.996499473941626</span></li></ul></details></li><li><details><summary>2096: [77.58014897262406, 12.996442025426473]</summary><ul><li><span class='ee-k'>0:</span><span class='ee-v'>77.58014897262406</span></li><li><span class='ee-k'>1:</span><span class='ee-v'>12.996442025426473</span></li></ul></details></li><li><details><summary>2097: [77.58011821597464, 12.996406720089468]</summary><ul><li><span class='ee-k'>0:</span><span class='ee-v'>77.58011821597464</span></li><li><span class='ee-k'>1:</span><span class='ee-v'>12.996406720089468</span></li></ul></details></li><li><details><summary>2098: [77.57999720430853, 12.996267813161419]</summary><ul><li><span class='ee-k'>0:</span><span class='ee-v'>77.57999720430853</span></li><li><span class='ee-k'>1:</span><span class='ee-v'>12.996267813161419</span></li></ul></details></li><li><details><summary>2099: [77.57988476418888, 12.99613787799174]</summary><ul><li><span class='ee-k'>0:</span><span class='ee-v'>77.57988476418888</span></li><li><span class='ee-k'>1:</span><span class='ee-v'>12.99613787799174</span></li></ul></details></li><li><details><summary>2100: [77.57986269563362, 12.996112397949082]</summary><ul><li><span class='ee-k'>0:</span><span class='ee-v'>77.57986269563362</span></li><li><span class='ee-k'>1:</span><span class='ee-v'>12.996112397949082</span></li></ul></details></li><li><details><summary>2101: [77.57968600844777, 12.995908398979104]</summary><ul><li><span class='ee-k'>0:</span><span class='ee-v'>77.57968600844777</span></li><li><span class='ee-k'>1:</span><span class='ee-v'>12.995908398979104</span></li></ul></details></li><li><details><summary>2102: [77.57945794481313, 12.995681416215055]</summary><ul><li><span class='ee-k'>0:</span><span class='ee-v'>77.57945794481313</span></li><li><span class='ee-k'>1:</span><span class='ee-v'>12.995681416215055</span></li></ul></details></li><li><details><summary>2103: [77.57923162143202, 12.99545554519005]</summary><ul><li><span class='ee-k'>0:</span><span class='ee-v'>77.57923162143202</span></li><li><span class='ee-k'>1:</span><span class='ee-v'>12.99545554519005</span></li></ul></details></li><li><details><summary>2104: [77.57899441843996, 12.995235427570366]</summary><ul><li><span class='ee-k'>0:</span><span class='ee-v'>77.57899441843996</span></li><li><span class='ee-k'>1:</span><span class='ee-v'>12.995235427570366</span></li></ul></details></li><li><details><summary>2105: [77.57875427129669, 12.995011819983805]</summary><ul><li><span class='ee-k'>0:</span><span class='ee-v'>77.57875427129669</span></li><li><span class='ee-k'>1:</span><span class='ee-v'>12.995011819983805</span></li></ul></details></li><li><details><summary>2106: [77.5784957300698, 12.994771085679194]</summary><ul><li><span class='ee-k'>0:</span><span class='ee-v'>77.5784957300698</span></li><li><span class='ee-k'>1:</span><span class='ee-v'>12.994771085679194</span></li></ul></details></li><li><details><summary>2107: [77.57826359872074, 12.994554939822603]</summary><ul><li><span class='ee-k'>0:</span><span class='ee-v'>77.57826359872074</span></li><li><span class='ee-k'>1:</span><span class='ee-v'>12.994554939822603</span></li></ul></details></li><li><details><summary>2108: [77.57814167714747, 12.994457900868763]</summary><ul><li><span class='ee-k'>0:</span><span class='ee-v'>77.57814167714747</span></li><li><span class='ee-k'>1:</span><span class='ee-v'>12.994457900868763</span></li></ul></details></li><li><details><summary>2109: [77.5779390495549, 12.994296163403948]</summary><ul><li><span class='ee-k'>0:</span><span class='ee-v'>77.5779390495549</span></li><li><span class='ee-k'>1:</span><span class='ee-v'>12.994296163403948</span></li></ul></details></li><li><details><summary>2110: [77.5776534160171, 12.994069750011237]</summary><ul><li><span class='ee-k'>0:</span><span class='ee-v'>77.5776534160171</span></li><li><span class='ee-k'>1:</span><span class='ee-v'>12.994069750011237</span></li></ul></details></li><li><details><summary>2111: [77.57713205906543, 12.993654823072532]</summary><ul><li><span class='ee-k'>0:</span><span class='ee-v'>77.57713205906543</span></li><li><span class='ee-k'>1:</span><span class='ee-v'>12.993654823072532</span></li></ul></details></li><li><details><summary>2112: [77.57712245781633, 12.993672987247622]</summary><ul><li><span class='ee-k'>0:</span><span class='ee-v'>77.57712245781633</span></li><li><span class='ee-k'>1:</span><span class='ee-v'>12.993672987247622</span></li></ul></details></li><li><details><summary>2113: [77.57710790098683, 12.993657321433258]</summary><ul><li><span class='ee-k'>0:</span><span class='ee-v'>77.57710790098683</span></li><li><span class='ee-k'>1:</span><span class='ee-v'>12.993657321433258</span></li></ul></details></li><li><details><summary>2114: [77.57718242878079, 12.99351868997106]</summary><ul><li><span class='ee-k'>0:</span><span class='ee-v'>77.57718242878079</span></li><li><span class='ee-k'>1:</span><span class='ee-v'>12.99351868997106</span></li></ul></details></li><li><details><summary>2115: [77.57722470317562, 12.993440054718771]</summary><ul><li><span class='ee-k'>0:</span><span class='ee-v'>77.57722470317562</span></li><li><span class='ee-k'>1:</span><span class='ee-v'>12.993440054718771</span></li></ul></details></li><li><details><summary>2116: [77.57726857660732, 12.993358444813664]</summary><ul><li><span class='ee-k'>0:</span><span class='ee-v'>77.57726857660732</span></li><li><span class='ee-k'>1:</span><span class='ee-v'>12.993358444813664</span></li></ul></details></li><li><details><summary>2117: [77.57729906181915, 12.993301737514635]</summary><ul><li><span class='ee-k'>0:</span><span class='ee-v'>77.57729906181915</span></li><li><span class='ee-k'>1:</span><span class='ee-v'>12.993301737514635</span></li></ul></details></li><li><details><summary>2118: [77.57776772912909, 12.992429955539869]</summary><ul><li><span class='ee-k'>0:</span><span class='ee-v'>77.57776772912909</span></li><li><span class='ee-k'>1:</span><span class='ee-v'>12.992429955539869</span></li></ul></details></li><li><details><summary>2119: [77.57795081807421, 12.992089384591683]</summary><ul><li><span class='ee-k'>0:</span><span class='ee-v'>77.57795081807421</span></li><li><span class='ee-k'>1:</span><span class='ee-v'>12.992089384591683</span></li></ul></details></li><li><details><summary>2120: [77.57757117504718, 12.991736292253693]</summary><ul><li><span class='ee-k'>0:</span><span class='ee-v'>77.57757117504718</span></li><li><span class='ee-k'>1:</span><span class='ee-v'>12.991736292253693</span></li></ul></details></li><li><details><summary>2121: [77.57779546292156, 12.991653885524794]</summary><ul><li><span class='ee-k'>0:</span><span class='ee-v'>77.57779546292156</span></li><li><span class='ee-k'>1:</span><span class='ee-v'>12.991653885524794</span></li></ul></details></li><li><details><summary>2122: [77.57840434367002, 12.991455859633108]</summary><ul><li><span class='ee-k'>0:</span><span class='ee-v'>77.57840434367002</span></li><li><span class='ee-k'>1:</span><span class='ee-v'>12.991455859633108</span></li></ul></details></li><li><details><summary>2123: [77.5791544123605, 12.991213516915021]</summary><ul><li><span class='ee-k'>0:</span><span class='ee-v'>77.5791544123605</span></li><li><span class='ee-k'>1:</span><span class='ee-v'>12.991213516915021</span></li></ul></details></li><li><details><summary>2124: [77.57916128649173, 12.991211153003212]</summary><ul><li><span class='ee-k'>0:</span><span class='ee-v'>77.57916128649173</span></li><li><span class='ee-k'>1:</span><span class='ee-v'>12.991211153003212</span></li></ul></details></li><li><details><summary>2125: [77.57924908307491, 12.991180956274174]</summary><ul><li><span class='ee-k'>0:</span><span class='ee-v'>77.57924908307491</span></li><li><span class='ee-k'>1:</span><span class='ee-v'>12.991180956274174</span></li></ul></details></li><li><details><summary>2126: [77.57942942980715, 12.991192716899764]</summary><ul><li><span class='ee-k'>0:</span><span class='ee-v'>77.57942942980715</span></li><li><span class='ee-k'>1:</span><span class='ee-v'>12.991192716899764</span></li></ul></details></li><li><details><summary>2127: [77.57945529148476, 12.99118794284142]</summary><ul><li><span class='ee-k'>0:</span><span class='ee-v'>77.57945529148476</span></li><li><span class='ee-k'>1:</span><span class='ee-v'>12.99118794284142</span></li></ul></details></li><li><details><summary>2128: [77.57967490206443, 12.991098805308804]</summary><ul><li><span class='ee-k'>0:</span><span class='ee-v'>77.57967490206443</span></li><li><span class='ee-k'>1:</span><span class='ee-v'>12.991098805308804</span></li></ul></details></li><li><details><summary>2129: [77.57989600640768, 12.990987066707847]</summary><ul><li><span class='ee-k'>0:</span><span class='ee-v'>77.57989600640768</span></li><li><span class='ee-k'>1:</span><span class='ee-v'>12.990987066707847</span></li></ul></details></li><li><details><summary>2130: [77.57988241448976, 12.990953322607869]</summary><ul><li><span class='ee-k'>0:</span><span class='ee-v'>77.57988241448976</span></li><li><span class='ee-k'>1:</span><span class='ee-v'>12.990953322607869</span></li></ul></details></li><li><details><summary>2131: [77.57977734366867, 12.990703660825858]</summary><ul><li><span class='ee-k'>0:</span><span class='ee-v'>77.57977734366867</span></li><li><span class='ee-k'>1:</span><span class='ee-v'>12.990703660825858</span></li></ul></details></li><li><details><summary>2132: [77.57960031007548, 12.990399377777424]</summary><ul><li><span class='ee-k'>0:</span><span class='ee-v'>77.57960031007548</span></li><li><span class='ee-k'>1:</span><span class='ee-v'>12.990399377777424</span></li></ul></details></li><li><details><summary>2133: [77.57939129216116, 12.990120256834674]</summary><ul><li><span class='ee-k'>0:</span><span class='ee-v'>77.57939129216116</span></li><li><span class='ee-k'>1:</span><span class='ee-v'>12.990120256834674</span></li></ul></details></li><li><details><summary>2134: [77.57905318663866, 12.989610560344397]</summary><ul><li><span class='ee-k'>0:</span><span class='ee-v'>77.57905318663866</span></li><li><span class='ee-k'>1:</span><span class='ee-v'>12.989610560344397</span></li></ul></details></li><li><details><summary>2135: [77.5784104173332, 12.988641571646228]</summary><ul><li><span class='ee-k'>0:</span><span class='ee-v'>77.5784104173332</span></li><li><span class='ee-k'>1:</span><span class='ee-v'>12.988641571646228</span></li></ul></details></li><li><details><summary>2136: [77.57795595601509, 12.987945616414091]</summary><ul><li><span class='ee-k'>0:</span><span class='ee-v'>77.57795595601509</span></li><li><span class='ee-k'>1:</span><span class='ee-v'>12.987945616414091</span></li></ul></details></li><li><details><summary>2137: [77.57795166137046, 12.987939039495032]</summary><ul><li><span class='ee-k'>0:</span><span class='ee-v'>77.57795166137046</span></li><li><span class='ee-k'>1:</span><span class='ee-v'>12.987939039495032</span></li></ul></details></li><li><details><summary>2138: [77.57794882136625, 12.987934690489736]</summary><ul><li><span class='ee-k'>0:</span><span class='ee-v'>77.57794882136625</span></li><li><span class='ee-k'>1:</span><span class='ee-v'>12.987934690489736</span></li></ul></details></li><li><details><summary>2139: [77.57788548007353, 12.987841884824828]</summary><ul><li><span class='ee-k'>0:</span><span class='ee-v'>77.57788548007353</span></li><li><span class='ee-k'>1:</span><span class='ee-v'>12.987841884824828</span></li></ul></details></li><li><details><summary>2140: [77.57787046207736, 12.987819881392715]</summary><ul><li><span class='ee-k'>0:</span><span class='ee-v'>77.57787046207736</span></li><li><span class='ee-k'>1:</span><span class='ee-v'>12.987819881392715</span></li></ul></details></li><li><details><summary>2141: [77.57786006271859, 12.987804605251416]</summary><ul><li><span class='ee-k'>0:</span><span class='ee-v'>77.57786006271859</span></li><li><span class='ee-k'>1:</span><span class='ee-v'>12.987804605251416</span></li></ul></details></li><li><details><summary>2142: [77.57785838077848, 12.987802133855352]</summary><ul><li><span class='ee-k'>0:</span><span class='ee-v'>77.57785838077848</span></li><li><span class='ee-k'>1:</span><span class='ee-v'>12.987802133855352</span></li></ul></details></li><li><details><summary>2143: [77.57748051749118, 12.987247072763665]</summary><ul><li><span class='ee-k'>0:</span><span class='ee-v'>77.57748051749118</span></li><li><span class='ee-k'>1:</span><span class='ee-v'>12.987247072763665</span></li></ul></details></li><li><details><summary>2144: [77.57713092064417, 12.986720883685173]</summary><ul><li><span class='ee-k'>0:</span><span class='ee-v'>77.57713092064417</span></li><li><span class='ee-k'>1:</span><span class='ee-v'>12.986720883685173</span></li></ul></details></li><li><details><summary>2145: [77.57696992525283, 12.98647856309755]</summary><ul><li><span class='ee-k'>0:</span><span class='ee-v'>77.57696992525283</span></li><li><span class='ee-k'>1:</span><span class='ee-v'>12.98647856309755</span></li></ul></details></li><li><details><summary>2146: [77.57670860080145, 12.986143492281016]</summary><ul><li><span class='ee-k'>0:</span><span class='ee-v'>77.57670860080145</span></li><li><span class='ee-k'>1:</span><span class='ee-v'>12.986143492281016</span></li></ul></details></li><li><details><summary>2147: [77.57656613994425, 12.98596082808795]</summary><ul><li><span class='ee-k'>0:</span><span class='ee-v'>77.57656613994425</span></li><li><span class='ee-k'>1:</span><span class='ee-v'>12.98596082808795</span></li></ul></details></li><li><details><summary>2148: [77.5760975710943, 12.985302571055708]</summary><ul><li><span class='ee-k'>0:</span><span class='ee-v'>77.5760975710943</span></li><li><span class='ee-k'>1:</span><span class='ee-v'>12.985302571055708</span></li></ul></details></li><li><details><summary>2149: [77.57579573545254, 12.984955478115756]</summary><ul><li><span class='ee-k'>0:</span><span class='ee-v'>77.57579573545254</span></li><li><span class='ee-k'>1:</span><span class='ee-v'>12.984955478115756</span></li></ul></details></li><li><details><summary>2150: [77.57559461327983, 12.984771136011554]</summary><ul><li><span class='ee-k'>0:</span><span class='ee-v'>77.57559461327983</span></li><li><span class='ee-k'>1:</span><span class='ee-v'>12.984771136011554</span></li></ul></details></li><li><details><summary>2151: [77.57541000742783, 12.98462502646064]</summary><ul><li><span class='ee-k'>0:</span><span class='ee-v'>77.57541000742783</span></li><li><span class='ee-k'>1:</span><span class='ee-v'>12.98462502646064</span></li></ul></details></li><li><details><summary>2152: [77.5751729408089, 12.984472660792076]</summary><ul><li><span class='ee-k'>0:</span><span class='ee-v'>77.5751729408089</span></li><li><span class='ee-k'>1:</span><span class='ee-v'>12.984472660792076</span></li></ul></details></li><li><details><summary>2153: [77.5749281516909, 12.984353121310264]</summary><ul><li><span class='ee-k'>0:</span><span class='ee-v'>77.5749281516909</span></li><li><span class='ee-k'>1:</span><span class='ee-v'>12.984353121310264</span></li></ul></details></li><li><details><summary>2154: [77.57479801979852, 12.984296816057359]</summary><ul><li><span class='ee-k'>0:</span><span class='ee-v'>77.57479801979852</span></li><li><span class='ee-k'>1:</span><span class='ee-v'>12.984296816057359</span></li></ul></details></li><li><details><summary>2155: [77.57479838772564, 12.984291127022775]</summary><ul><li><span class='ee-k'>0:</span><span class='ee-v'>77.57479838772564</span></li><li><span class='ee-k'>1:</span><span class='ee-v'>12.984291127022775</span></li></ul></details></li><li><details><summary>2156: [77.57480050286938, 12.98425839497657]</summary><ul><li><span class='ee-k'>0:</span><span class='ee-v'>77.57480050286938</span></li><li><span class='ee-k'>1:</span><span class='ee-v'>12.98425839497657</span></li></ul></details></li><li><details><summary>2157: [77.57479176194038, 12.984136516305316]</summary><ul><li><span class='ee-k'>0:</span><span class='ee-v'>77.57479176194038</span></li><li><span class='ee-k'>1:</span><span class='ee-v'>12.984136516305316</span></li></ul></details></li><li><details><summary>2158: [77.57677494268947, 12.983818721534321]</summary><ul><li><span class='ee-k'>0:</span><span class='ee-v'>77.57677494268947</span></li><li><span class='ee-k'>1:</span><span class='ee-v'>12.983818721534321</span></li></ul></details></li><li><details><summary>2159: [77.57695723784485, 12.983796586337935]</summary><ul><li><span class='ee-k'>0:</span><span class='ee-v'>77.57695723784485</span></li><li><span class='ee-k'>1:</span><span class='ee-v'>12.983796586337935</span></li></ul></details></li><li><details><summary>2160: [77.57702278894516, 12.983788031143206]</summary><ul><li><span class='ee-k'>0:</span><span class='ee-v'>77.57702278894516</span></li><li><span class='ee-k'>1:</span><span class='ee-v'>12.983788031143206</span></li></ul></details></li><li><details><summary>2161: [77.57708024496212, 12.983776168292898]</summary><ul><li><span class='ee-k'>0:</span><span class='ee-v'>77.57708024496212</span></li><li><span class='ee-k'>1:</span><span class='ee-v'>12.983776168292898</span></li></ul></details></li><li><details><summary>2162: [77.57712620977006, 12.983766678004226]</summary><ul><li><span class='ee-k'>0:</span><span class='ee-v'>77.57712620977006</span></li><li><span class='ee-k'>1:</span><span class='ee-v'>12.983766678004226</span></li></ul></details></li><li><details><summary>2163: [77.57729105840406, 12.983727776011964]</summary><ul><li><span class='ee-k'>0:</span><span class='ee-v'>77.57729105840406</span></li><li><span class='ee-k'>1:</span><span class='ee-v'>12.983727776011964</span></li></ul></details></li><li><details><summary>2164: [77.57744517782929, 12.983709307849459]</summary><ul><li><span class='ee-k'>0:</span><span class='ee-v'>77.57744517782929</span></li><li><span class='ee-k'>1:</span><span class='ee-v'>12.983709307849459</span></li></ul></details></li><li><details><summary>2165: [77.57758798577677, 12.983654814006686]</summary><ul><li><span class='ee-k'>0:</span><span class='ee-v'>77.57758798577677</span></li><li><span class='ee-k'>1:</span><span class='ee-v'>12.983654814006686</span></li></ul></details></li><li><details><summary>2166: [77.57738442257339, 12.983568747171425]</summary><ul><li><span class='ee-k'>0:</span><span class='ee-v'>77.57738442257339</span></li><li><span class='ee-k'>1:</span><span class='ee-v'>12.983568747171425</span></li></ul></details></li><li><details><summary>2167: [77.5772436017345, 12.983480928608266]</summary><ul><li><span class='ee-k'>0:</span><span class='ee-v'>77.5772436017345</span></li><li><span class='ee-k'>1:</span><span class='ee-v'>12.983480928608266</span></li></ul></details></li><li><details><summary>2168: [77.57713029928132, 12.983381543990264]</summary><ul><li><span class='ee-k'>0:</span><span class='ee-v'>77.57713029928132</span></li><li><span class='ee-k'>1:</span><span class='ee-v'>12.983381543990264</span></li></ul></details></li><li><details><summary>2169: [77.57695007207863, 12.983157469930942]</summary><ul><li><span class='ee-k'>0:</span><span class='ee-v'>77.57695007207863</span></li><li><span class='ee-k'>1:</span><span class='ee-v'>12.983157469930942</span></li></ul></details></li><li><details><summary>2170: [77.57676953615946, 12.982847571440303]</summary><ul><li><span class='ee-k'>0:</span><span class='ee-v'>77.57676953615946</span></li><li><span class='ee-k'>1:</span><span class='ee-v'>12.982847571440303</span></li></ul></details></li><li><details><summary>2171: [77.57669258514613, 12.982643929891928]</summary><ul><li><span class='ee-k'>0:</span><span class='ee-v'>77.57669258514613</span></li><li><span class='ee-k'>1:</span><span class='ee-v'>12.982643929891928</span></li></ul></details></li><li><details><summary>2172: [77.57663256204, 12.98235090522943]</summary><ul><li><span class='ee-k'>0:</span><span class='ee-v'>77.57663256204</span></li><li><span class='ee-k'>1:</span><span class='ee-v'>12.98235090522943</span></li></ul></details></li><li><details><summary>2173: [77.576582983595, 12.98206568212388]</summary><ul><li><span class='ee-k'>0:</span><span class='ee-v'>77.576582983595</span></li><li><span class='ee-k'>1:</span><span class='ee-v'>12.98206568212388</span></li></ul></details></li><li><details><summary>2174: [77.57659540850392, 12.981762904702968]</summary><ul><li><span class='ee-k'>0:</span><span class='ee-v'>77.57659540850392</span></li><li><span class='ee-k'>1:</span><span class='ee-v'>12.981762904702968</span></li></ul></details></li><li><details><summary>2175: [77.57662059330768, 12.981580836620859]</summary><ul><li><span class='ee-k'>0:</span><span class='ee-v'>77.57662059330768</span></li><li><span class='ee-k'>1:</span><span class='ee-v'>12.981580836620859</span></li></ul></details></li><li><details><summary>2176: [77.57667732090077, 12.981442498801092]</summary><ul><li><span class='ee-k'>0:</span><span class='ee-v'>77.57667732090077</span></li><li><span class='ee-k'>1:</span><span class='ee-v'>12.981442498801092</span></li></ul></details></li><li><details><summary>2177: [77.57670733885227, 12.981338304979799]</summary><ul><li><span class='ee-k'>0:</span><span class='ee-v'>77.57670733885227</span></li><li><span class='ee-k'>1:</span><span class='ee-v'>12.981338304979799</span></li></ul></details></li><li><details><summary>2178: [77.57680059807404, 12.981169113698625]</summary><ul><li><span class='ee-k'>0:</span><span class='ee-v'>77.57680059807404</span></li><li><span class='ee-k'>1:</span><span class='ee-v'>12.981169113698625</span></li></ul></details></li><li><details><summary>2179: [77.5769572048376, 12.981001639692238]</summary><ul><li><span class='ee-k'>0:</span><span class='ee-v'>77.5769572048376</span></li><li><span class='ee-k'>1:</span><span class='ee-v'>12.981001639692238</span></li></ul></details></li><li><details><summary>2180: [77.57699992269188, 12.980955957164015]</summary><ul><li><span class='ee-k'>0:</span><span class='ee-v'>77.57699992269188</span></li><li><span class='ee-k'>1:</span><span class='ee-v'>12.980955957164015</span></li></ul></details></li><li><details><summary>2181: [77.57714540892562, 12.980770437709534]</summary><ul><li><span class='ee-k'>0:</span><span class='ee-v'>77.57714540892562</span></li><li><span class='ee-k'>1:</span><span class='ee-v'>12.980770437709534</span></li></ul></details></li><li><details><summary>2182: [77.57724918831278, 12.980672288348863]</summary><ul><li><span class='ee-k'>0:</span><span class='ee-v'>77.57724918831278</span></li><li><span class='ee-k'>1:</span><span class='ee-v'>12.980672288348863</span></li></ul></details></li><li><details><summary>2183: [77.57743426014423, 12.980584625931101]</summary><ul><li><span class='ee-k'>0:</span><span class='ee-v'>77.57743426014423</span></li><li><span class='ee-k'>1:</span><span class='ee-v'>12.980584625931101</span></li></ul></details></li><li><details><summary>2184: [77.57754883302907, 12.98052815378357]</summary><ul><li><span class='ee-k'>0:</span><span class='ee-v'>77.57754883302907</span></li><li><span class='ee-k'>1:</span><span class='ee-v'>12.98052815378357</span></li></ul></details></li><li><details><summary>2185: [77.57791956480787, 12.98046575324246]</summary><ul><li><span class='ee-k'>0:</span><span class='ee-v'>77.57791956480787</span></li><li><span class='ee-k'>1:</span><span class='ee-v'>12.98046575324246</span></li></ul></details></li><li><details><summary>2186: [77.57823433030954, 12.980447950263883]</summary><ul><li><span class='ee-k'>0:</span><span class='ee-v'>77.57823433030954</span></li><li><span class='ee-k'>1:</span><span class='ee-v'>12.980447950263883</span></li></ul></details></li><li><details><summary>2187: [77.57895802208634, 12.980386564237978]</summary><ul><li><span class='ee-k'>0:</span><span class='ee-v'>77.57895802208634</span></li><li><span class='ee-k'>1:</span><span class='ee-v'>12.980386564237978</span></li></ul></details></li><li><details><summary>2188: [77.58043271843259, 12.980288359852041]</summary><ul><li><span class='ee-k'>0:</span><span class='ee-v'>77.58043271843259</span></li><li><span class='ee-k'>1:</span><span class='ee-v'>12.980288359852041</span></li></ul></details></li><li><details><summary>2189: [77.58075327956476, 12.980218548381064]</summary><ul><li><span class='ee-k'>0:</span><span class='ee-v'>77.58075327956476</span></li><li><span class='ee-k'>1:</span><span class='ee-v'>12.980218548381064</span></li></ul></details></li><li><details><summary>2190: [77.58109462888986, 12.980098840772227]</summary><ul><li><span class='ee-k'>0:</span><span class='ee-v'>77.58109462888986</span></li><li><span class='ee-k'>1:</span><span class='ee-v'>12.980098840772227</span></li></ul></details></li><li><details><summary>2191: [77.58167054380328, 12.979778045852989]</summary><ul><li><span class='ee-k'>0:</span><span class='ee-v'>77.58167054380328</span></li><li><span class='ee-k'>1:</span><span class='ee-v'>12.979778045852989</span></li></ul></details></li><li><details><summary>2192: [77.58195016660287, 12.979591192182419]</summary><ul><li><span class='ee-k'>0:</span><span class='ee-v'>77.58195016660287</span></li><li><span class='ee-k'>1:</span><span class='ee-v'>12.979591192182419</span></li></ul></details></li><li><details><summary>2193: [77.58252406842755, 12.979207123330458]</summary><ul><li><span class='ee-k'>0:</span><span class='ee-v'>77.58252406842755</span></li><li><span class='ee-k'>1:</span><span class='ee-v'>12.979207123330458</span></li></ul></details></li><li><details><summary>2194: [77.58348835430913, 12.978561796333736]</summary><ul><li><span class='ee-k'>0:</span><span class='ee-v'>77.58348835430913</span></li><li><span class='ee-k'>1:</span><span class='ee-v'>12.978561796333736</span></li></ul></details></li><li><details><summary>2195: [77.58445083015532, 12.977928855417227]</summary><ul><li><span class='ee-k'>0:</span><span class='ee-v'>77.58445083015532</span></li><li><span class='ee-k'>1:</span><span class='ee-v'>12.977928855417227</span></li></ul></details></li><li><details><summary>2196: [77.58423918331421, 12.977561677935972]</summary><ul><li><span class='ee-k'>0:</span><span class='ee-v'>77.58423918331421</span></li><li><span class='ee-k'>1:</span><span class='ee-v'>12.977561677935972</span></li></ul></details></li><li><details><summary>2197: [77.58329190889538, 12.976154947788805]</summary><ul><li><span class='ee-k'>0:</span><span class='ee-v'>77.58329190889538</span></li><li><span class='ee-k'>1:</span><span class='ee-v'>12.976154947788805</span></li></ul></details></li><li><details><summary>2198: [77.58252334431405, 12.975110117053474]</summary><ul><li><span class='ee-k'>0:</span><span class='ee-v'>77.58252334431405</span></li><li><span class='ee-k'>1:</span><span class='ee-v'>12.975110117053474</span></li></ul></details></li><li><details><summary>2199: [77.58219756678055, 12.974667233520453]</summary><ul><li><span class='ee-k'>0:</span><span class='ee-v'>77.58219756678055</span></li><li><span class='ee-k'>1:</span><span class='ee-v'>12.974667233520453</span></li></ul></details></li><li><details><summary>2200: [77.58217420063272, 12.974634715767532]</summary><ul><li><span class='ee-k'>0:</span><span class='ee-v'>77.58217420063272</span></li><li><span class='ee-k'>1:</span><span class='ee-v'>12.974634715767532</span></li></ul></details></li><li><details><summary>2201: [77.58164944109862, 12.973826547705208]</summary><ul><li><span class='ee-k'>0:</span><span class='ee-v'>77.58164944109862</span></li><li><span class='ee-k'>1:</span><span class='ee-v'>12.973826547705208</span></li></ul></details></li><li><details><summary>2202: [77.58163067895676, 12.973797652145887]</summary><ul><li><span class='ee-k'>0:</span><span class='ee-v'>77.58163067895676</span></li><li><span class='ee-k'>1:</span><span class='ee-v'>12.973797652145887</span></li></ul></details></li><li><details><summary>2203: [77.58155169167067, 12.97367969318082]</summary><ul><li><span class='ee-k'>0:</span><span class='ee-v'>77.58155169167067</span></li><li><span class='ee-k'>1:</span><span class='ee-v'>12.97367969318082</span></li></ul></details></li><li><details><summary>2204: [77.5814487924723, 12.973526024455282]</summary><ul><li><span class='ee-k'>0:</span><span class='ee-v'>77.5814487924723</span></li><li><span class='ee-k'>1:</span><span class='ee-v'>12.973526024455282</span></li></ul></details></li><li><details><summary>2205: [77.58133770757358, 12.973360132023952]</summary><ul><li><span class='ee-k'>0:</span><span class='ee-v'>77.58133770757358</span></li><li><span class='ee-k'>1:</span><span class='ee-v'>12.973360132023952</span></li></ul></details></li><li><details><summary>2206: [77.58128968255456, 12.973304036925883]</summary><ul><li><span class='ee-k'>0:</span><span class='ee-v'>77.58128968255456</span></li><li><span class='ee-k'>1:</span><span class='ee-v'>12.973304036925883</span></li></ul></details></li><li><details><summary>2207: [77.58108652944549, 12.97306674658582]</summary><ul><li><span class='ee-k'>0:</span><span class='ee-v'>77.58108652944549</span></li><li><span class='ee-k'>1:</span><span class='ee-v'>12.97306674658582</span></li></ul></details></li><li><details><summary>2208: [77.58148500100678, 12.972848224740115]</summary><ul><li><span class='ee-k'>0:</span><span class='ee-v'>77.58148500100678</span></li><li><span class='ee-k'>1:</span><span class='ee-v'>12.972848224740115</span></li></ul></details></li><li><details><summary>2209: [77.5816687742519, 12.972747021800018]</summary><ul><li><span class='ee-k'>0:</span><span class='ee-v'>77.5816687742519</span></li><li><span class='ee-k'>1:</span><span class='ee-v'>12.972747021800018</span></li></ul></details></li><li><details><summary>2210: [77.58267413826688, 12.972031225600807]</summary><ul><li><span class='ee-k'>0:</span><span class='ee-v'>77.58267413826688</span></li><li><span class='ee-k'>1:</span><span class='ee-v'>12.972031225600807</span></li></ul></details></li><li><details><summary>2211: [77.58287082924838, 12.971842937426917]</summary><ul><li><span class='ee-k'>0:</span><span class='ee-v'>77.58287082924838</span></li><li><span class='ee-k'>1:</span><span class='ee-v'>12.971842937426917</span></li></ul></details></li><li><details><summary>2212: [77.58287082479909, 12.971842863388865]</summary><ul><li><span class='ee-k'>0:</span><span class='ee-v'>77.58287082479909</span></li><li><span class='ee-k'>1:</span><span class='ee-v'>12.971842863388865</span></li></ul></details></li></ul></details></li></ul></details></li><li><span class='ee-k'>geodesic:</span><span class='ee-v'>False</span></li></ul></details></li><li><details><summary>properties: Object (11 properties)</summary><ul><li><span class='ee-k'>KGISTownCo:</span><span class='ee-v'>2003</span></li><li><span class='ee-k'>OBJECTID:</span><span class='ee-v'>3</span></li><li><span class='ee-k'>SHAPE_Area:</span><span class='ee-v'>49957771.8445</span></li><li><span class='ee-k'>SHAPE_Leng:</span><span class='ee-v'>54410.5620646</span></li><li><span class='ee-k'>ZONEID:</span><span class='ee-v'>7</span></li><li><span class='ee-k'>ZoneCode:</span><span class='ee-v'>20037</span></li><li><span class='ee-k'>ZoneName:</span><span class='ee-v'>WEST</span></li><li><span class='ee-k'>created_da:</span><span class='ee-v'>None</span></li><li><span class='ee-k'>created_us:</span><span class='ee-v'></span></li><li><span class='ee-k'>last_edi_1:</span><span class='ee-v'>None</span></li><li><span class='ee-k'>last_edite:</span><span class='ee-v'></span></li></ul></details></li></ul></details></li></ul></details></li></ul></details></li></ul></div></div>"
            ]
          },
          "metadata": {},
          "execution_count": 10
        }
      ]
    },
    {
      "cell_type": "code",
      "source": [
        "ndvi = ee.ImageCollection(\"LANDSAT/COMPOSITES/C02/T1_L2_ANNUAL_NDVI\")\\\n",
        "  .filterBounds(smallzone)\\\n",
        "  .filterDate('2013-01-01', '2024-12-31')"
      ],
      "metadata": {
        "colab": {
          "base_uri": "https://localhost:8080/",
          "height": 17
        },
        "id": "1tIx-PK9KhsQ",
        "outputId": "9aaaa016-241c-482e-d036-8a088e4c6ac5"
      },
      "execution_count": null,
      "outputs": [
        {
          "output_type": "display_data",
          "data": {
            "text/plain": [
              "<IPython.core.display.HTML object>"
            ],
            "text/html": [
              "\n",
              "            <style>\n",
              "                .geemap-dark {\n",
              "                    --jp-widgets-color: white;\n",
              "                    --jp-widgets-label-color: white;\n",
              "                    --jp-ui-font-color1: white;\n",
              "                    --jp-layout-color2: #454545;\n",
              "                    background-color: #383838;\n",
              "                }\n",
              "\n",
              "                .geemap-dark .jupyter-button {\n",
              "                    --jp-layout-color3: #383838;\n",
              "                }\n",
              "\n",
              "                .geemap-colab {\n",
              "                    background-color: var(--colab-primary-surface-color, white);\n",
              "                }\n",
              "\n",
              "                .geemap-colab .jupyter-button {\n",
              "                    --jp-layout-color3: var(--colab-primary-surface-color, white);\n",
              "                }\n",
              "            </style>\n",
              "            "
            ]
          },
          "metadata": {}
        }
      ]
    },
    {
      "cell_type": "code",
      "source": [
        "ndvi"
      ],
      "metadata": {
        "id": "DkUJ_eWsKnhh",
        "outputId": "80ca8419-d240-489e-c30b-89133dff898b",
        "colab": {
          "base_uri": "https://localhost:8080/",
          "height": 68
        }
      },
      "execution_count": null,
      "outputs": [
        {
          "output_type": "display_data",
          "data": {
            "text/plain": [
              "<IPython.core.display.HTML object>"
            ],
            "text/html": [
              "\n",
              "            <style>\n",
              "                .geemap-dark {\n",
              "                    --jp-widgets-color: white;\n",
              "                    --jp-widgets-label-color: white;\n",
              "                    --jp-ui-font-color1: white;\n",
              "                    --jp-layout-color2: #454545;\n",
              "                    background-color: #383838;\n",
              "                }\n",
              "\n",
              "                .geemap-dark .jupyter-button {\n",
              "                    --jp-layout-color3: #383838;\n",
              "                }\n",
              "\n",
              "                .geemap-colab {\n",
              "                    background-color: var(--colab-primary-surface-color, white);\n",
              "                }\n",
              "\n",
              "                .geemap-colab .jupyter-button {\n",
              "                    --jp-layout-color3: var(--colab-primary-surface-color, white);\n",
              "                }\n",
              "            </style>\n",
              "            "
            ]
          },
          "metadata": {}
        },
        {
          "output_type": "execute_result",
          "data": {
            "text/plain": [
              "<ee.imagecollection.ImageCollection at 0x7e4c6ea9e7e0>"
            ],
            "text/html": [
              "<div><style>:root {\n",
              "  --font-color-primary: var(--jp-content-font-color0, rgba(0, 0, 0, 1));\n",
              "  --font-color-secondary: var(--jp-content-font-color2, rgba(0, 0, 0, 0.7));\n",
              "  --font-color-accent: rgba(123, 31, 162, 1);\n",
              "  --border-color: var(--jp-border-color2, #e0e0e0);\n",
              "  --background-color: var(--jp-layout-color0, white);\n",
              "  --background-color-row-even: var(--jp-layout-color1, white);\n",
              "  --background-color-row-odd: var(--jp-layout-color2, #eeeeee);\n",
              "}\n",
              "\n",
              "html[theme=\"dark\"],\n",
              "body[data-theme=\"dark\"],\n",
              "body.vscode-dark {\n",
              "  --font-color-primary: rgba(255, 255, 255, 1);\n",
              "  --font-color-secondary: rgba(255, 255, 255, 0.7);\n",
              "  --font-color-accent: rgb(173, 132, 190);\n",
              "  --border-color: #2e2e2e;\n",
              "  --background-color: #111111;\n",
              "  --background-color-row-even: #111111;\n",
              "  --background-color-row-odd: #313131;\n",
              "}\n",
              "\n",
              ".eerepr {\n",
              "  padding: 1em;\n",
              "  line-height: 1.5em;\n",
              "  min-width: 300px;\n",
              "  max-width: 1200px;\n",
              "  overflow-y: scroll;\n",
              "  max-height: 600px;\n",
              "  border: 1px solid var(--border-color);\n",
              "  font-family: monospace;\n",
              "  font-size: 14px;\n",
              "}\n",
              "\n",
              ".eerepr li {\n",
              "  list-style-type: none;\n",
              "  margin: 0;\n",
              "}\n",
              "\n",
              ".eerepr ul {\n",
              "  padding-left: 1.5em !important;\n",
              "  margin: 0;\n",
              "}\n",
              "\n",
              ".eerepr > ul {\n",
              "  padding-left: 0 !important;\n",
              "}\n",
              "\n",
              ".eerepr summary {\n",
              "  color: var(--font-color-secondary);\n",
              "  cursor: pointer;\n",
              "  margin: 0;\n",
              "}\n",
              "\n",
              ".eerepr summary:hover {\n",
              "  color: var(--font-color-primary);\n",
              "  background-color: var(--background-color-row-odd)\n",
              "}\n",
              "\n",
              ".ee-k {\n",
              "  color: var(--font-color-accent);\n",
              "  margin-right: 6px;\n",
              "}\n",
              "\n",
              ".ee-v {\n",
              "  color: var(--font-color-primary);\n",
              "}\n",
              "\n",
              ".eerepr details > summary::before {\n",
              "  content: '▼';\n",
              "  display: inline-block;\n",
              "  margin-right: 6px;\n",
              "  transition: transform 0.2s;\n",
              "  transform: rotate(-90deg);\n",
              "}\n",
              "\n",
              ".eerepr details[open] > summary::before {\n",
              "  transform: rotate(0deg);\n",
              "}\n",
              "\n",
              ".eerepr details summary::-webkit-details-marker {\n",
              "  display:none;\n",
              "}\n",
              "\n",
              ".eerepr details summary {\n",
              "  list-style-type: none;\n",
              "}\n",
              "</style><div class='eerepr'><ul><li><details><summary>ImageCollection LANDSAT/COMPOSITES/C02/T1_L2_ANNUAL_NDVI  (12 elements)</summary><ul><li><span class='ee-k'>type:</span><span class='ee-v'>ImageCollection</span></li><li><span class='ee-k'>id:</span><span class='ee-v'>LANDSAT/COMPOSITES/C02/T1_L2_ANNUAL_NDVI</span></li><li><span class='ee-k'>version:</span><span class='ee-v'>1758392285735551</span></li><li><details><summary>bands: List (1 element)</summary><ul><li><details><summary>0: \"NDVI\", double</summary><ul><li><span class='ee-k'>id:</span><span class='ee-v'>NDVI</span></li><li><details><summary>data_type: double</summary><ul><li><span class='ee-k'>type:</span><span class='ee-v'>PixelType</span></li><li><span class='ee-k'>max:</span><span class='ee-v'>1</span></li><li><span class='ee-k'>min:</span><span class='ee-v'>-1</span></li><li><span class='ee-k'>precision:</span><span class='ee-v'>double</span></li></ul></details></li></ul></details></li></ul></details></li><li><details><summary>features: List (12 elements)</summary><ul><li><details><summary>0: Image LANDSAT/COMPOSITES/C02/T1_L2_ANNUAL_NDVI/2013 (1 band)</summary><ul><li><span class='ee-k'>type:</span><span class='ee-v'>Image</span></li><li><span class='ee-k'>id:</span><span class='ee-v'>LANDSAT/COMPOSITES/C02/T1_L2_ANNUAL_NDVI/2013</span></li><li><span class='ee-k'>version:</span><span class='ee-v'>1758392285735551</span></li><li><details><summary>bands: List (1 element)</summary><ul><li><details><summary>0: \"NDVI\", double, EPSG:4326</summary><ul><li><span class='ee-k'>id:</span><span class='ee-v'>NDVI</span></li><li><span class='ee-k'>crs:</span><span class='ee-v'>EPSG:4326</span></li><li><details><summary>crs_transform: [1, 0, 0, 0, 1, 0]</summary><ul><li><span class='ee-k'>0:</span><span class='ee-v'>1</span></li><li><span class='ee-k'>1:</span><span class='ee-v'>0</span></li><li><span class='ee-k'>2:</span><span class='ee-v'>0</span></li><li><span class='ee-k'>3:</span><span class='ee-v'>0</span></li><li><span class='ee-k'>4:</span><span class='ee-v'>1</span></li><li><span class='ee-k'>5:</span><span class='ee-v'>0</span></li></ul></details></li><li><details><summary>data_type: double</summary><ul><li><span class='ee-k'>type:</span><span class='ee-v'>PixelType</span></li><li><span class='ee-k'>max:</span><span class='ee-v'>1</span></li><li><span class='ee-k'>min:</span><span class='ee-v'>-1</span></li><li><span class='ee-k'>precision:</span><span class='ee-v'>double</span></li></ul></details></li></ul></details></li></ul></details></li><li><details><summary>properties: Object (3 properties)</summary><ul><li><span class='ee-k'>system:index:</span><span class='ee-v'>2013</span></li><li><span class='ee-k'>system:time_end:</span><span class='ee-v'>1388534400000</span></li><li><span class='ee-k'>system:time_start:</span><span class='ee-v'>1356998400000</span></li></ul></details></li></ul></details></li><li><details><summary>1: Image LANDSAT/COMPOSITES/C02/T1_L2_ANNUAL_NDVI/2014 (1 band)</summary><ul><li><span class='ee-k'>type:</span><span class='ee-v'>Image</span></li><li><span class='ee-k'>id:</span><span class='ee-v'>LANDSAT/COMPOSITES/C02/T1_L2_ANNUAL_NDVI/2014</span></li><li><span class='ee-k'>version:</span><span class='ee-v'>1758392285735551</span></li><li><details><summary>bands: List (1 element)</summary><ul><li><details><summary>0: \"NDVI\", double, EPSG:4326</summary><ul><li><span class='ee-k'>id:</span><span class='ee-v'>NDVI</span></li><li><span class='ee-k'>crs:</span><span class='ee-v'>EPSG:4326</span></li><li><details><summary>crs_transform: [1, 0, 0, 0, 1, 0]</summary><ul><li><span class='ee-k'>0:</span><span class='ee-v'>1</span></li><li><span class='ee-k'>1:</span><span class='ee-v'>0</span></li><li><span class='ee-k'>2:</span><span class='ee-v'>0</span></li><li><span class='ee-k'>3:</span><span class='ee-v'>0</span></li><li><span class='ee-k'>4:</span><span class='ee-v'>1</span></li><li><span class='ee-k'>5:</span><span class='ee-v'>0</span></li></ul></details></li><li><details><summary>data_type: double</summary><ul><li><span class='ee-k'>type:</span><span class='ee-v'>PixelType</span></li><li><span class='ee-k'>max:</span><span class='ee-v'>1</span></li><li><span class='ee-k'>min:</span><span class='ee-v'>-1</span></li><li><span class='ee-k'>precision:</span><span class='ee-v'>double</span></li></ul></details></li></ul></details></li></ul></details></li><li><details><summary>properties: Object (3 properties)</summary><ul><li><span class='ee-k'>system:index:</span><span class='ee-v'>2014</span></li><li><span class='ee-k'>system:time_end:</span><span class='ee-v'>1420070400000</span></li><li><span class='ee-k'>system:time_start:</span><span class='ee-v'>1388534400000</span></li></ul></details></li></ul></details></li><li><details><summary>2: Image LANDSAT/COMPOSITES/C02/T1_L2_ANNUAL_NDVI/2015 (1 band)</summary><ul><li><span class='ee-k'>type:</span><span class='ee-v'>Image</span></li><li><span class='ee-k'>id:</span><span class='ee-v'>LANDSAT/COMPOSITES/C02/T1_L2_ANNUAL_NDVI/2015</span></li><li><span class='ee-k'>version:</span><span class='ee-v'>1758392285735551</span></li><li><details><summary>bands: List (1 element)</summary><ul><li><details><summary>0: \"NDVI\", double, EPSG:4326</summary><ul><li><span class='ee-k'>id:</span><span class='ee-v'>NDVI</span></li><li><span class='ee-k'>crs:</span><span class='ee-v'>EPSG:4326</span></li><li><details><summary>crs_transform: [1, 0, 0, 0, 1, 0]</summary><ul><li><span class='ee-k'>0:</span><span class='ee-v'>1</span></li><li><span class='ee-k'>1:</span><span class='ee-v'>0</span></li><li><span class='ee-k'>2:</span><span class='ee-v'>0</span></li><li><span class='ee-k'>3:</span><span class='ee-v'>0</span></li><li><span class='ee-k'>4:</span><span class='ee-v'>1</span></li><li><span class='ee-k'>5:</span><span class='ee-v'>0</span></li></ul></details></li><li><details><summary>data_type: double</summary><ul><li><span class='ee-k'>type:</span><span class='ee-v'>PixelType</span></li><li><span class='ee-k'>max:</span><span class='ee-v'>1</span></li><li><span class='ee-k'>min:</span><span class='ee-v'>-1</span></li><li><span class='ee-k'>precision:</span><span class='ee-v'>double</span></li></ul></details></li></ul></details></li></ul></details></li><li><details><summary>properties: Object (3 properties)</summary><ul><li><span class='ee-k'>system:index:</span><span class='ee-v'>2015</span></li><li><span class='ee-k'>system:time_end:</span><span class='ee-v'>1451606400000</span></li><li><span class='ee-k'>system:time_start:</span><span class='ee-v'>1420070400000</span></li></ul></details></li></ul></details></li><li><details><summary>3: Image LANDSAT/COMPOSITES/C02/T1_L2_ANNUAL_NDVI/2016 (1 band)</summary><ul><li><span class='ee-k'>type:</span><span class='ee-v'>Image</span></li><li><span class='ee-k'>id:</span><span class='ee-v'>LANDSAT/COMPOSITES/C02/T1_L2_ANNUAL_NDVI/2016</span></li><li><span class='ee-k'>version:</span><span class='ee-v'>1758392285735551</span></li><li><details><summary>bands: List (1 element)</summary><ul><li><details><summary>0: \"NDVI\", double, EPSG:4326</summary><ul><li><span class='ee-k'>id:</span><span class='ee-v'>NDVI</span></li><li><span class='ee-k'>crs:</span><span class='ee-v'>EPSG:4326</span></li><li><details><summary>crs_transform: [1, 0, 0, 0, 1, 0]</summary><ul><li><span class='ee-k'>0:</span><span class='ee-v'>1</span></li><li><span class='ee-k'>1:</span><span class='ee-v'>0</span></li><li><span class='ee-k'>2:</span><span class='ee-v'>0</span></li><li><span class='ee-k'>3:</span><span class='ee-v'>0</span></li><li><span class='ee-k'>4:</span><span class='ee-v'>1</span></li><li><span class='ee-k'>5:</span><span class='ee-v'>0</span></li></ul></details></li><li><details><summary>data_type: double</summary><ul><li><span class='ee-k'>type:</span><span class='ee-v'>PixelType</span></li><li><span class='ee-k'>max:</span><span class='ee-v'>1</span></li><li><span class='ee-k'>min:</span><span class='ee-v'>-1</span></li><li><span class='ee-k'>precision:</span><span class='ee-v'>double</span></li></ul></details></li></ul></details></li></ul></details></li><li><details><summary>properties: Object (3 properties)</summary><ul><li><span class='ee-k'>system:index:</span><span class='ee-v'>2016</span></li><li><span class='ee-k'>system:time_end:</span><span class='ee-v'>1483228800000</span></li><li><span class='ee-k'>system:time_start:</span><span class='ee-v'>1451606400000</span></li></ul></details></li></ul></details></li><li><details><summary>4: Image LANDSAT/COMPOSITES/C02/T1_L2_ANNUAL_NDVI/2017 (1 band)</summary><ul><li><span class='ee-k'>type:</span><span class='ee-v'>Image</span></li><li><span class='ee-k'>id:</span><span class='ee-v'>LANDSAT/COMPOSITES/C02/T1_L2_ANNUAL_NDVI/2017</span></li><li><span class='ee-k'>version:</span><span class='ee-v'>1758392285735551</span></li><li><details><summary>bands: List (1 element)</summary><ul><li><details><summary>0: \"NDVI\", double, EPSG:4326</summary><ul><li><span class='ee-k'>id:</span><span class='ee-v'>NDVI</span></li><li><span class='ee-k'>crs:</span><span class='ee-v'>EPSG:4326</span></li><li><details><summary>crs_transform: [1, 0, 0, 0, 1, 0]</summary><ul><li><span class='ee-k'>0:</span><span class='ee-v'>1</span></li><li><span class='ee-k'>1:</span><span class='ee-v'>0</span></li><li><span class='ee-k'>2:</span><span class='ee-v'>0</span></li><li><span class='ee-k'>3:</span><span class='ee-v'>0</span></li><li><span class='ee-k'>4:</span><span class='ee-v'>1</span></li><li><span class='ee-k'>5:</span><span class='ee-v'>0</span></li></ul></details></li><li><details><summary>data_type: double</summary><ul><li><span class='ee-k'>type:</span><span class='ee-v'>PixelType</span></li><li><span class='ee-k'>max:</span><span class='ee-v'>1</span></li><li><span class='ee-k'>min:</span><span class='ee-v'>-1</span></li><li><span class='ee-k'>precision:</span><span class='ee-v'>double</span></li></ul></details></li></ul></details></li></ul></details></li><li><details><summary>properties: Object (3 properties)</summary><ul><li><span class='ee-k'>system:index:</span><span class='ee-v'>2017</span></li><li><span class='ee-k'>system:time_end:</span><span class='ee-v'>1514764800000</span></li><li><span class='ee-k'>system:time_start:</span><span class='ee-v'>1483228800000</span></li></ul></details></li></ul></details></li><li><details><summary>5: Image LANDSAT/COMPOSITES/C02/T1_L2_ANNUAL_NDVI/2018 (1 band)</summary><ul><li><span class='ee-k'>type:</span><span class='ee-v'>Image</span></li><li><span class='ee-k'>id:</span><span class='ee-v'>LANDSAT/COMPOSITES/C02/T1_L2_ANNUAL_NDVI/2018</span></li><li><span class='ee-k'>version:</span><span class='ee-v'>1758392285735551</span></li><li><details><summary>bands: List (1 element)</summary><ul><li><details><summary>0: \"NDVI\", double, EPSG:4326</summary><ul><li><span class='ee-k'>id:</span><span class='ee-v'>NDVI</span></li><li><span class='ee-k'>crs:</span><span class='ee-v'>EPSG:4326</span></li><li><details><summary>crs_transform: [1, 0, 0, 0, 1, 0]</summary><ul><li><span class='ee-k'>0:</span><span class='ee-v'>1</span></li><li><span class='ee-k'>1:</span><span class='ee-v'>0</span></li><li><span class='ee-k'>2:</span><span class='ee-v'>0</span></li><li><span class='ee-k'>3:</span><span class='ee-v'>0</span></li><li><span class='ee-k'>4:</span><span class='ee-v'>1</span></li><li><span class='ee-k'>5:</span><span class='ee-v'>0</span></li></ul></details></li><li><details><summary>data_type: double</summary><ul><li><span class='ee-k'>type:</span><span class='ee-v'>PixelType</span></li><li><span class='ee-k'>max:</span><span class='ee-v'>1</span></li><li><span class='ee-k'>min:</span><span class='ee-v'>-1</span></li><li><span class='ee-k'>precision:</span><span class='ee-v'>double</span></li></ul></details></li></ul></details></li></ul></details></li><li><details><summary>properties: Object (3 properties)</summary><ul><li><span class='ee-k'>system:index:</span><span class='ee-v'>2018</span></li><li><span class='ee-k'>system:time_end:</span><span class='ee-v'>1546300800000</span></li><li><span class='ee-k'>system:time_start:</span><span class='ee-v'>1514764800000</span></li></ul></details></li></ul></details></li><li><details><summary>6: Image LANDSAT/COMPOSITES/C02/T1_L2_ANNUAL_NDVI/2019 (1 band)</summary><ul><li><span class='ee-k'>type:</span><span class='ee-v'>Image</span></li><li><span class='ee-k'>id:</span><span class='ee-v'>LANDSAT/COMPOSITES/C02/T1_L2_ANNUAL_NDVI/2019</span></li><li><span class='ee-k'>version:</span><span class='ee-v'>1758392285735551</span></li><li><details><summary>bands: List (1 element)</summary><ul><li><details><summary>0: \"NDVI\", double, EPSG:4326</summary><ul><li><span class='ee-k'>id:</span><span class='ee-v'>NDVI</span></li><li><span class='ee-k'>crs:</span><span class='ee-v'>EPSG:4326</span></li><li><details><summary>crs_transform: [1, 0, 0, 0, 1, 0]</summary><ul><li><span class='ee-k'>0:</span><span class='ee-v'>1</span></li><li><span class='ee-k'>1:</span><span class='ee-v'>0</span></li><li><span class='ee-k'>2:</span><span class='ee-v'>0</span></li><li><span class='ee-k'>3:</span><span class='ee-v'>0</span></li><li><span class='ee-k'>4:</span><span class='ee-v'>1</span></li><li><span class='ee-k'>5:</span><span class='ee-v'>0</span></li></ul></details></li><li><details><summary>data_type: double</summary><ul><li><span class='ee-k'>type:</span><span class='ee-v'>PixelType</span></li><li><span class='ee-k'>max:</span><span class='ee-v'>1</span></li><li><span class='ee-k'>min:</span><span class='ee-v'>-1</span></li><li><span class='ee-k'>precision:</span><span class='ee-v'>double</span></li></ul></details></li></ul></details></li></ul></details></li><li><details><summary>properties: Object (3 properties)</summary><ul><li><span class='ee-k'>system:index:</span><span class='ee-v'>2019</span></li><li><span class='ee-k'>system:time_end:</span><span class='ee-v'>1577836800000</span></li><li><span class='ee-k'>system:time_start:</span><span class='ee-v'>1546300800000</span></li></ul></details></li></ul></details></li><li><details><summary>7: Image LANDSAT/COMPOSITES/C02/T1_L2_ANNUAL_NDVI/2020 (1 band)</summary><ul><li><span class='ee-k'>type:</span><span class='ee-v'>Image</span></li><li><span class='ee-k'>id:</span><span class='ee-v'>LANDSAT/COMPOSITES/C02/T1_L2_ANNUAL_NDVI/2020</span></li><li><span class='ee-k'>version:</span><span class='ee-v'>1758392285735551</span></li><li><details><summary>bands: List (1 element)</summary><ul><li><details><summary>0: \"NDVI\", double, EPSG:4326</summary><ul><li><span class='ee-k'>id:</span><span class='ee-v'>NDVI</span></li><li><span class='ee-k'>crs:</span><span class='ee-v'>EPSG:4326</span></li><li><details><summary>crs_transform: [1, 0, 0, 0, 1, 0]</summary><ul><li><span class='ee-k'>0:</span><span class='ee-v'>1</span></li><li><span class='ee-k'>1:</span><span class='ee-v'>0</span></li><li><span class='ee-k'>2:</span><span class='ee-v'>0</span></li><li><span class='ee-k'>3:</span><span class='ee-v'>0</span></li><li><span class='ee-k'>4:</span><span class='ee-v'>1</span></li><li><span class='ee-k'>5:</span><span class='ee-v'>0</span></li></ul></details></li><li><details><summary>data_type: double</summary><ul><li><span class='ee-k'>type:</span><span class='ee-v'>PixelType</span></li><li><span class='ee-k'>max:</span><span class='ee-v'>1</span></li><li><span class='ee-k'>min:</span><span class='ee-v'>-1</span></li><li><span class='ee-k'>precision:</span><span class='ee-v'>double</span></li></ul></details></li></ul></details></li></ul></details></li><li><details><summary>properties: Object (3 properties)</summary><ul><li><span class='ee-k'>system:index:</span><span class='ee-v'>2020</span></li><li><span class='ee-k'>system:time_end:</span><span class='ee-v'>1609459200000</span></li><li><span class='ee-k'>system:time_start:</span><span class='ee-v'>1577836800000</span></li></ul></details></li></ul></details></li><li><details><summary>8: Image LANDSAT/COMPOSITES/C02/T1_L2_ANNUAL_NDVI/2021 (1 band)</summary><ul><li><span class='ee-k'>type:</span><span class='ee-v'>Image</span></li><li><span class='ee-k'>id:</span><span class='ee-v'>LANDSAT/COMPOSITES/C02/T1_L2_ANNUAL_NDVI/2021</span></li><li><span class='ee-k'>version:</span><span class='ee-v'>1758392285735551</span></li><li><details><summary>bands: List (1 element)</summary><ul><li><details><summary>0: \"NDVI\", double, EPSG:4326</summary><ul><li><span class='ee-k'>id:</span><span class='ee-v'>NDVI</span></li><li><span class='ee-k'>crs:</span><span class='ee-v'>EPSG:4326</span></li><li><details><summary>crs_transform: [1, 0, 0, 0, 1, 0]</summary><ul><li><span class='ee-k'>0:</span><span class='ee-v'>1</span></li><li><span class='ee-k'>1:</span><span class='ee-v'>0</span></li><li><span class='ee-k'>2:</span><span class='ee-v'>0</span></li><li><span class='ee-k'>3:</span><span class='ee-v'>0</span></li><li><span class='ee-k'>4:</span><span class='ee-v'>1</span></li><li><span class='ee-k'>5:</span><span class='ee-v'>0</span></li></ul></details></li><li><details><summary>data_type: double</summary><ul><li><span class='ee-k'>type:</span><span class='ee-v'>PixelType</span></li><li><span class='ee-k'>max:</span><span class='ee-v'>1</span></li><li><span class='ee-k'>min:</span><span class='ee-v'>-1</span></li><li><span class='ee-k'>precision:</span><span class='ee-v'>double</span></li></ul></details></li></ul></details></li></ul></details></li><li><details><summary>properties: Object (3 properties)</summary><ul><li><span class='ee-k'>system:index:</span><span class='ee-v'>2021</span></li><li><span class='ee-k'>system:time_end:</span><span class='ee-v'>1640995200000</span></li><li><span class='ee-k'>system:time_start:</span><span class='ee-v'>1609459200000</span></li></ul></details></li></ul></details></li><li><details><summary>9: Image LANDSAT/COMPOSITES/C02/T1_L2_ANNUAL_NDVI/2022 (1 band)</summary><ul><li><span class='ee-k'>type:</span><span class='ee-v'>Image</span></li><li><span class='ee-k'>id:</span><span class='ee-v'>LANDSAT/COMPOSITES/C02/T1_L2_ANNUAL_NDVI/2022</span></li><li><span class='ee-k'>version:</span><span class='ee-v'>1758392285735551</span></li><li><details><summary>bands: List (1 element)</summary><ul><li><details><summary>0: \"NDVI\", double, EPSG:4326</summary><ul><li><span class='ee-k'>id:</span><span class='ee-v'>NDVI</span></li><li><span class='ee-k'>crs:</span><span class='ee-v'>EPSG:4326</span></li><li><details><summary>crs_transform: [1, 0, 0, 0, 1, 0]</summary><ul><li><span class='ee-k'>0:</span><span class='ee-v'>1</span></li><li><span class='ee-k'>1:</span><span class='ee-v'>0</span></li><li><span class='ee-k'>2:</span><span class='ee-v'>0</span></li><li><span class='ee-k'>3:</span><span class='ee-v'>0</span></li><li><span class='ee-k'>4:</span><span class='ee-v'>1</span></li><li><span class='ee-k'>5:</span><span class='ee-v'>0</span></li></ul></details></li><li><details><summary>data_type: double</summary><ul><li><span class='ee-k'>type:</span><span class='ee-v'>PixelType</span></li><li><span class='ee-k'>max:</span><span class='ee-v'>1</span></li><li><span class='ee-k'>min:</span><span class='ee-v'>-1</span></li><li><span class='ee-k'>precision:</span><span class='ee-v'>double</span></li></ul></details></li></ul></details></li></ul></details></li><li><details><summary>properties: Object (3 properties)</summary><ul><li><span class='ee-k'>system:index:</span><span class='ee-v'>2022</span></li><li><span class='ee-k'>system:time_end:</span><span class='ee-v'>1672531200000</span></li><li><span class='ee-k'>system:time_start:</span><span class='ee-v'>1640995200000</span></li></ul></details></li></ul></details></li><li><details><summary>10: Image LANDSAT/COMPOSITES/C02/T1_L2_ANNUAL_NDVI/2023 (1 band)</summary><ul><li><span class='ee-k'>type:</span><span class='ee-v'>Image</span></li><li><span class='ee-k'>id:</span><span class='ee-v'>LANDSAT/COMPOSITES/C02/T1_L2_ANNUAL_NDVI/2023</span></li><li><span class='ee-k'>version:</span><span class='ee-v'>1758392285735551</span></li><li><details><summary>bands: List (1 element)</summary><ul><li><details><summary>0: \"NDVI\", double, EPSG:4326</summary><ul><li><span class='ee-k'>id:</span><span class='ee-v'>NDVI</span></li><li><span class='ee-k'>crs:</span><span class='ee-v'>EPSG:4326</span></li><li><details><summary>crs_transform: [1, 0, 0, 0, 1, 0]</summary><ul><li><span class='ee-k'>0:</span><span class='ee-v'>1</span></li><li><span class='ee-k'>1:</span><span class='ee-v'>0</span></li><li><span class='ee-k'>2:</span><span class='ee-v'>0</span></li><li><span class='ee-k'>3:</span><span class='ee-v'>0</span></li><li><span class='ee-k'>4:</span><span class='ee-v'>1</span></li><li><span class='ee-k'>5:</span><span class='ee-v'>0</span></li></ul></details></li><li><details><summary>data_type: double</summary><ul><li><span class='ee-k'>type:</span><span class='ee-v'>PixelType</span></li><li><span class='ee-k'>max:</span><span class='ee-v'>1</span></li><li><span class='ee-k'>min:</span><span class='ee-v'>-1</span></li><li><span class='ee-k'>precision:</span><span class='ee-v'>double</span></li></ul></details></li></ul></details></li></ul></details></li><li><details><summary>properties: Object (3 properties)</summary><ul><li><span class='ee-k'>system:index:</span><span class='ee-v'>2023</span></li><li><span class='ee-k'>system:time_end:</span><span class='ee-v'>1704067200000</span></li><li><span class='ee-k'>system:time_start:</span><span class='ee-v'>1672531200000</span></li></ul></details></li></ul></details></li><li><details><summary>11: Image LANDSAT/COMPOSITES/C02/T1_L2_ANNUAL_NDVI/2024 (1 band)</summary><ul><li><span class='ee-k'>type:</span><span class='ee-v'>Image</span></li><li><span class='ee-k'>id:</span><span class='ee-v'>LANDSAT/COMPOSITES/C02/T1_L2_ANNUAL_NDVI/2024</span></li><li><span class='ee-k'>version:</span><span class='ee-v'>1758392285735551</span></li><li><details><summary>bands: List (1 element)</summary><ul><li><details><summary>0: \"NDVI\", double, EPSG:4326</summary><ul><li><span class='ee-k'>id:</span><span class='ee-v'>NDVI</span></li><li><span class='ee-k'>crs:</span><span class='ee-v'>EPSG:4326</span></li><li><details><summary>crs_transform: [1, 0, 0, 0, 1, 0]</summary><ul><li><span class='ee-k'>0:</span><span class='ee-v'>1</span></li><li><span class='ee-k'>1:</span><span class='ee-v'>0</span></li><li><span class='ee-k'>2:</span><span class='ee-v'>0</span></li><li><span class='ee-k'>3:</span><span class='ee-v'>0</span></li><li><span class='ee-k'>4:</span><span class='ee-v'>1</span></li><li><span class='ee-k'>5:</span><span class='ee-v'>0</span></li></ul></details></li><li><details><summary>data_type: double</summary><ul><li><span class='ee-k'>type:</span><span class='ee-v'>PixelType</span></li><li><span class='ee-k'>max:</span><span class='ee-v'>1</span></li><li><span class='ee-k'>min:</span><span class='ee-v'>-1</span></li><li><span class='ee-k'>precision:</span><span class='ee-v'>double</span></li></ul></details></li></ul></details></li></ul></details></li><li><details><summary>properties: Object (3 properties)</summary><ul><li><span class='ee-k'>system:index:</span><span class='ee-v'>2024</span></li><li><span class='ee-k'>system:time_end:</span><span class='ee-v'>1735689600000</span></li><li><span class='ee-k'>system:time_start:</span><span class='ee-v'>1704067200000</span></li></ul></details></li></ul></details></li></ul></details></li></ul></details></li></ul></div></div>"
            ]
          },
          "metadata": {},
          "execution_count": 14
        }
      ]
    },
    {
      "cell_type": "markdown",
      "metadata": {
        "id": "872d3783"
      },
      "source": [
        "# Task\n",
        "Calculate and visualize the year-over-year percentage change in tree cover within the 'smallzone' region of Bangalore from 2013 to 2024 using the downloaded LANDSAT NDVI ANNUAL images."
      ]
    },
    {
      "cell_type": "markdown",
      "metadata": {
        "id": "72713f16"
      },
      "source": [
        "## Define a function to calculate tree cover\n",
        "\n",
        "### Subtask:\n",
        "Create a function that takes a single NDVI image and the `smallzone` geometry, and calculates the percentage of pixels within the `smallzone` that exceed a certain NDVI threshold (representing tree cover).\n"
      ]
    },
    {
      "cell_type": "markdown",
      "metadata": {
        "id": "a8e8f08c"
      },
      "source": [
        "**Reasoning**:\n",
        "Define a function to calculate tree cover percentage within a given geometry using an NDVI image and a threshold, as per the instructions.\n",
        "\n"
      ]
    },
    {
      "cell_type": "code",
      "metadata": {
        "colab": {
          "base_uri": "https://localhost:8080/",
          "height": 17
        },
        "id": "c0f7e2f6",
        "outputId": "102dd7c2-5bb1-450f-d0a1-038dbf952098"
      },
      "source": [
        "def calculate_tree_cover_percentage(image, geometry):\n",
        "  \"\"\"Calculates the percentage of tree cover within a geometry from an NDVI image.\n",
        "\n",
        "  Args:\n",
        "    image: An ee.Image representing NDVI data.\n",
        "    geometry: An ee.FeatureCollection representing the region of interest.\n",
        "\n",
        "  Returns:\n",
        "    The percentage of tree cover as a float.\n",
        "  \"\"\"\n",
        "  # Mask the image to the geometry\n",
        "  masked_image = image.clip(geometry)\n",
        "\n",
        "  # Define NDVI threshold for tree cover\n",
        "  ndvi_threshold = 0.3\n",
        "\n",
        "  # Create a binary image: 1 for tree cover, 0 otherwise\n",
        "  tree_cover_pixels = masked_image.gt(ndvi_threshold)\n",
        "\n",
        "  # Calculate the total number of pixels within the masked geometry\n",
        "  total_pixels = masked_image.select('NDVI').mask().reduceRegion(\n",
        "      reducer=ee.Reducer.sum(),\n",
        "      geometry=geometry,\n",
        "      scale=30, # Set an appropriate scale\n",
        "      maxPixels=1e9\n",
        "  ).get('mask')\n",
        "\n",
        "  # Calculate the number of tree cover pixels\n",
        "  tree_cover_count = tree_cover_pixels.reduceRegion(\n",
        "      reducer=ee.Reducer.sum(),\n",
        "      geometry=geometry,\n",
        "      scale=30, # Use the same scale\n",
        "      maxPixels=1e9\n",
        "  ).get('NDVI') # Assuming the NDVI band is named 'NDVI'\n",
        "\n",
        "  # Calculate the percentage of tree cover\n",
        "  tree_cover_percentage = ee.Number(tree_cover_count).divide(total_pixels).multiply(100)\n",
        "\n",
        "  return tree_cover_percentage"
      ],
      "execution_count": null,
      "outputs": [
        {
          "output_type": "display_data",
          "data": {
            "text/plain": [
              "<IPython.core.display.HTML object>"
            ],
            "text/html": [
              "\n",
              "            <style>\n",
              "                .geemap-dark {\n",
              "                    --jp-widgets-color: white;\n",
              "                    --jp-widgets-label-color: white;\n",
              "                    --jp-ui-font-color1: white;\n",
              "                    --jp-layout-color2: #454545;\n",
              "                    background-color: #383838;\n",
              "                }\n",
              "\n",
              "                .geemap-dark .jupyter-button {\n",
              "                    --jp-layout-color3: #383838;\n",
              "                }\n",
              "\n",
              "                .geemap-colab {\n",
              "                    background-color: var(--colab-primary-surface-color, white);\n",
              "                }\n",
              "\n",
              "                .geemap-colab .jupyter-button {\n",
              "                    --jp-layout-color3: var(--colab-primary-surface-color, white);\n",
              "                }\n",
              "            </style>\n",
              "            "
            ]
          },
          "metadata": {}
        }
      ]
    },
    {
      "cell_type": "markdown",
      "metadata": {
        "id": "7ad1e639"
      },
      "source": [
        "## Apply the function to the image collection\n",
        "\n",
        "### Subtask:\n",
        "Map the defined function over the `ndvi` image collection to calculate the tree cover percentage for each year.\n"
      ]
    },
    {
      "cell_type": "markdown",
      "metadata": {
        "id": "3478a1ec"
      },
      "source": [
        "**Reasoning**:\n",
        "Map the `calculate_tree_cover_percentage` function over the `ndvi` image collection.\n",
        "\n"
      ]
    },
    {
      "cell_type": "code",
      "metadata": {
        "colab": {
          "base_uri": "https://localhost:8080/",
          "height": 17
        },
        "id": "0e8219e3",
        "outputId": "6ba4fa8e-dcb2-4fb1-e7dd-7eb57f23381e"
      },
      "source": [
        "tree_cover_percentages = ndvi.map(lambda image: calculate_tree_cover_percentage(image, smallzone))"
      ],
      "execution_count": null,
      "outputs": [
        {
          "output_type": "display_data",
          "data": {
            "text/plain": [
              "<IPython.core.display.HTML object>"
            ],
            "text/html": [
              "\n",
              "            <style>\n",
              "                .geemap-dark {\n",
              "                    --jp-widgets-color: white;\n",
              "                    --jp-widgets-label-color: white;\n",
              "                    --jp-ui-font-color1: white;\n",
              "                    --jp-layout-color2: #454545;\n",
              "                    background-color: #383838;\n",
              "                }\n",
              "\n",
              "                .geemap-dark .jupyter-button {\n",
              "                    --jp-layout-color3: #383838;\n",
              "                }\n",
              "\n",
              "                .geemap-colab {\n",
              "                    background-color: var(--colab-primary-surface-color, white);\n",
              "                }\n",
              "\n",
              "                .geemap-colab .jupyter-button {\n",
              "                    --jp-layout-color3: var(--colab-primary-surface-color, white);\n",
              "                }\n",
              "            </style>\n",
              "            "
            ]
          },
          "metadata": {}
        }
      ]
    },
    {
      "cell_type": "code",
      "source": [
        "tree_cover_percentages"
      ],
      "metadata": {
        "colab": {
          "base_uri": "https://localhost:8080/",
          "height": 34
        },
        "id": "v4Q_sRjSf_Ex",
        "outputId": "0a9bf12c-ba4e-4e7d-f1ec-065331cee06b"
      },
      "execution_count": null,
      "outputs": [
        {
          "output_type": "display_data",
          "data": {
            "text/plain": [
              "<IPython.core.display.HTML object>"
            ],
            "text/html": [
              "\n",
              "            <style>\n",
              "                .geemap-dark {\n",
              "                    --jp-widgets-color: white;\n",
              "                    --jp-widgets-label-color: white;\n",
              "                    --jp-ui-font-color1: white;\n",
              "                    --jp-layout-color2: #454545;\n",
              "                    background-color: #383838;\n",
              "                }\n",
              "\n",
              "                .geemap-dark .jupyter-button {\n",
              "                    --jp-layout-color3: #383838;\n",
              "                }\n",
              "\n",
              "                .geemap-colab {\n",
              "                    background-color: var(--colab-primary-surface-color, white);\n",
              "                }\n",
              "\n",
              "                .geemap-colab .jupyter-button {\n",
              "                    --jp-layout-color3: var(--colab-primary-surface-color, white);\n",
              "                }\n",
              "            </style>\n",
              "            "
            ]
          },
          "metadata": {}
        },
        {
          "output_type": "execute_result",
          "data": {
            "text/plain": [
              "<ee.imagecollection.ImageCollection at 0x7e4c6e61bfe0>"
            ],
            "text/html": [
              "<pre>&lt;ee.imagecollection.ImageCollection object at 0x7e4c6e61bfe0&gt;</pre>"
            ]
          },
          "metadata": {},
          "execution_count": 38
        }
      ]
    },
    {
      "cell_type": "markdown",
      "metadata": {
        "id": "ed1d0e53"
      },
      "source": [
        "## Extract the results\n",
        "\n",
        "### Subtask:\n",
        "Convert the calculated tree cover percentages for each year into a format that can be easily used for visualization (e.g., a list or dictionary).\n"
      ]
    },
    {
      "cell_type": "markdown",
      "metadata": {
        "id": "22ce6cd8"
      },
      "source": [
        "**Reasoning**:\n",
        "Convert the Earth Engine collection of tree cover percentages into a Python list of dictionaries for easier visualization.\n",
        "\n"
      ]
    },
    {
      "cell_type": "markdown",
      "metadata": {
        "id": "2a777959"
      },
      "source": [
        "**Reasoning**:\n",
        "The previous code failed because the mapped function returned a number, but `Collection.map` expects a Feature or Image. I need to modify the mapped function to return a Feature containing the year and percentage.\n",
        "\n"
      ]
    },
    {
      "cell_type": "markdown",
      "metadata": {
        "id": "28a5f178"
      },
      "source": [
        "**Reasoning**:\n",
        "The error message \"Dictionary does not contain key: 'mask'\" indicates that the `reduceRegion` operation on the masked image's mask is not returning a dictionary with the key 'mask'. This could be because the masked image is entirely masked out or has no pixels within the geometry at the given scale. I need to adjust how the total pixels are calculated. Instead of reducing the mask, I can reduce a constant image masked by the original image's mask and clipped by the geometry.\n",
        "\n"
      ]
    },
    {
      "cell_type": "code",
      "metadata": {
        "colab": {
          "base_uri": "https://localhost:8080/",
          "height": 54
        },
        "id": "8DlmZbTYfmAW",
        "outputId": "4ba64d39-26b9-40a1-a8fb-72bc6a09529d"
      },
      "source": [
        "def calculate_tree_cover_percentage_feature(image, geometry):\n",
        "  \"\"\"Calculates the percentage of tree cover within a geometry from an NDVI image and returns a Feature.\n",
        "\n",
        "  Args:\n",
        "    image: An ee.Image representing NDVI data.\n",
        "    geometry: An ee.FeatureCollection representing the region of interest.\n",
        "\n",
        "  Returns:\n",
        "    An ee.Feature containing the year and the percentage of tree cover.\n",
        "  \"\"\"\n",
        "  # Mask the image to the geometry\n",
        "  masked_image = image.clip(geometry)\n",
        "\n",
        "  # Define NDVI threshold for tree cover\n",
        "  ndvi_threshold = 0.3\n",
        "\n",
        "  # Create a binary image: 1 for tree cover, 0 otherwise\n",
        "  tree_cover_pixels = masked_image.gt(ndvi_threshold)\n",
        "\n",
        "  # Calculate the total number of pixels within the masked geometry by reducing a constant image\n",
        "  total_pixels = ee.Image.constant(1).updateMask(masked_image.select('NDVI').mask()).reduceRegion(\n",
        "      reducer=ee.Reducer.sum(),\n",
        "      geometry=geometry,\n",
        "      scale=30, # Set an appropriate scale\n",
        "      maxPixels=1e9\n",
        "  ).get('constant') # The key will be the band name of the constant image\n",
        "\n",
        "  # Calculate the number of tree cover pixels\n",
        "  tree_cover_count = tree_cover_pixels.reduceRegion(\n",
        "      reducer=ee.Reducer.sum(),\n",
        "      geometry=geometry,\n",
        "      scale=30, # Use the same scale\n",
        "      maxPixels=1e9\n",
        "  ).get('NDVI') # Assuming the NDVI band is named 'NDVI'\n",
        "\n",
        "  # Calculate the percentage of tree cover, handling cases where total_pixels might be zero or None\n",
        "  tree_cover_percentage = ee.Algorithms.If(\n",
        "      ee.Number(total_pixels).gt(0),\n",
        "      ee.Number(tree_cover_count).divide(total_pixels).multiply(100),\n",
        "      0 # Return 0 if there are no pixels in the geometry\n",
        "  )\n",
        "\n",
        "\n",
        "  # Get the year from the image\n",
        "  year = ee.Date(image.get('system:time_start')).get('year')\n",
        "\n",
        "  # Create a Feature with the year and percentage\n",
        "  feature = ee.Feature(None, {'year': year, 'percentage': tree_cover_percentage})\n",
        "\n",
        "  return feature\n",
        "\n",
        "tree_cover_features = ndvi.map(lambda image: calculate_tree_cover_percentage_feature(image, smallzone))\n",
        "\n",
        "tree_cover_list = tree_cover_features.getInfo()\n",
        "\n",
        "year_percentage_list = []\n",
        "for item in tree_cover_list['features']:\n",
        "    year = item['properties']['year']\n",
        "    percentage = item['properties']['percentage']\n",
        "    year_percentage_list.append({'year': year, 'percentage': percentage})\n",
        "\n",
        "print(year_percentage_list)"
      ],
      "execution_count": null,
      "outputs": [
        {
          "output_type": "display_data",
          "data": {
            "text/plain": [
              "<IPython.core.display.HTML object>"
            ],
            "text/html": [
              "\n",
              "            <style>\n",
              "                .geemap-dark {\n",
              "                    --jp-widgets-color: white;\n",
              "                    --jp-widgets-label-color: white;\n",
              "                    --jp-ui-font-color1: white;\n",
              "                    --jp-layout-color2: #454545;\n",
              "                    background-color: #383838;\n",
              "                }\n",
              "\n",
              "                .geemap-dark .jupyter-button {\n",
              "                    --jp-layout-color3: #383838;\n",
              "                }\n",
              "\n",
              "                .geemap-colab {\n",
              "                    background-color: var(--colab-primary-surface-color, white);\n",
              "                }\n",
              "\n",
              "                .geemap-colab .jupyter-button {\n",
              "                    --jp-layout-color3: var(--colab-primary-surface-color, white);\n",
              "                }\n",
              "            </style>\n",
              "            "
            ]
          },
          "metadata": {}
        },
        {
          "output_type": "stream",
          "name": "stdout",
          "text": [
            "[{'year': 2013, 'percentage': 29.61035836831847}, {'year': 2014, 'percentage': 26.269781373153517}, {'year': 2015, 'percentage': 32.327589602522565}, {'year': 2016, 'percentage': 28.868143725184325}, {'year': 2017, 'percentage': 33.425521124088235}, {'year': 2018, 'percentage': 33.62805054757679}, {'year': 2019, 'percentage': 30.094457486151654}, {'year': 2020, 'percentage': 36.19636388608738}, {'year': 2021, 'percentage': 45.62405164644944}, {'year': 2022, 'percentage': 39.79287952943669}, {'year': 2023, 'percentage': 37.65465358599266}, {'year': 2024, 'percentage': 34.17253237042993}]\n"
          ]
        }
      ]
    },
    {
      "cell_type": "markdown",
      "metadata": {
        "id": "3292893b"
      },
      "source": [
        "## Summary:\n",
        "\n",
        "### Data Analysis Key Findings\n",
        "\n",
        "* A function was successfully defined to calculate the percentage of tree cover within a geometry from an NDVI image, using an NDVI threshold of 0.3.\n",
        "* The tree cover percentage for each year from 2013 to 2024 within the 'smallzone' region was calculated by applying the defined function to the NDVI image collection.\n",
        "* The calculated tree cover percentages for each year were successfully extracted into a Python list of dictionaries, with each dictionary containing the year and its corresponding percentage.\n",
        "* A line plot was generated showing the year-over-year change in tree cover percentage from 2013 to 2024.\n",
        "\n",
        "### Insights or Next Steps\n",
        "\n",
        "* Analyze the trend in the generated plot to understand the overall change in tree cover in the 'smallzone' over the specified period.\n",
        "* Consider investigating potential factors that might be contributing to any observed changes in tree cover, such as urbanization, policy changes, or environmental factors."
      ]
    },
    {
      "cell_type": "markdown",
      "metadata": {
        "id": "41cb32cc"
      },
      "source": [
        "## Visualize the region on a map"
      ]
    },
    {
      "cell_type": "code",
      "metadata": {
        "colab": {
          "base_uri": "https://localhost:8080/",
          "height": 621,
          "referenced_widgets": [
            "adaaafc63c334fab91d19e31e02154b6",
            "904fe10094144547b510a0654c685cb0",
            "0cd5aa7a6e054eab8703ff7733545fec",
            "f5e0cfacef1b412caa32f3b9a53eee62",
            "c528b24fa0264ca69082e48f0e207dac",
            "72a34f0ae6514a69a7efca7e7e297009",
            "f47de84d9fc44f2fa6eae7eaec100454",
            "44d684e60e3844a79b1d1ae6660e6010",
            "f03071ce0d704f528d8b231abc820ec9",
            "143c936ead6a4ee794e94cedbc85abb6",
            "58b573ef51c34922b4b842bf22ba1741",
            "bdace35764f247f59a1e53ea417748a8",
            "bb0459caf749414d8f3cf8af73aec6b4",
            "c4aa8e8bdedc4abe97af5ef733f8aabd",
            "2999f409d17e458eadfe2a11d90b5ab4",
            "ed90e022064f43f6a69e5e495da44ffb",
            "848491f8bfb0453baff3a7e28d5de47e",
            "294349c004914685806e0d44866c7fc4",
            "f9f56eb6e1664c3bae8b01df2dd98a5b",
            "4270d3441e3d4ae2bae3cfd4f14ab65e",
            "427f467e4c2b45caa9a19ce15de90c0e",
            "f5e24069a5bc46a59028441dc7c6e5e6",
            "446f342e3f5e4011832d3131cd78b062",
            "badf186a60a347f3bd436eac9be4897a",
            "66bbffc7d8d24837845897c9b1c71683",
            "e45eafb5f59e43aebb39f9d890c14535",
            "b3ee511fe9b04e5a920b6403fa9c8122",
            "8fc74078bd2b46c59da9eb207c9e7f32",
            "fd364edfea6b468f90bf92b6ed78665a",
            "223b0f343cd3434285bcd29a1a93295d",
            "dfe42f7dd40f4cb996e0beb5470abf5b",
            "3f6725836d6647969e11298073d58ae6",
            "964a0cf9975a419caa51219757605a5a",
            "0bd514c5613b4e8da2d9c5f3b18f42a8",
            "9e06875b0cdb49fc80aa167828cb6f6d",
            "daa96354550c423a8e35f49ae174cf7b",
            "36a7c4749bd5443f912865d200b79db6",
            "921c1c1358a74328adf830f715c8a8fe",
            "9c73b6c93e944a74bc9ccb49d5be28c3",
            "1551133dbb4d4d91a6fc1a716c1d3c03",
            "de08cd547b52480ca7de4a3608a4b8cd",
            "d9267454ef994d04b3a5ac5c08eec99e",
            "c28924500b5346b6a8c9c111c2e9257d",
            "a242e32a3a3f44e1865558d2eb85f1fb",
            "607c8a8bce9648c2b608318eaeb7fcf5",
            "c1de2fa20fd2432a9538e615e81db171",
            "b483264c75004216a7a55fda6238072c",
            "5911fa89b00b409ab61cacd9793f28e7",
            "0ea27a7af11b4228bc2c104f9adbf915",
            "ef796a6ce9824f1f882982e2abaef00e",
            "05ce42f629994c7fb2a59916df25fa6d",
            "3d96e0998c6d485a9bf69f50c7b247df",
            "82d753a217a64b4eb5fe61bd0a13107c",
            "8d8b983eb71449b4b35df6cbf8a4d0b1",
            "7219191ab3564a1ab37df5eee8816ddb",
            "504ab1cfcd8d4787920947710bb2029e",
            "beaa00586ac347d59822617ce1cf023d",
            "f8f8f68c97b541b5b1a5d822d8792663",
            "927e4f35c4d143eaaf66289157f11518",
            "02618c3fd66b447ca6bf245a56445887",
            "93951b49ec6c4d86a1febd66556ae8a6",
            "e5eef05645b5481584ee8b6b1395e068",
            "add074ed633845e2ad3fc482ba1daa20",
            "562d6a2946584c0ea39e0c21bd2e387b",
            "5322323a9ddf4a05b1a4392ac651b4ec",
            "2f2aee88f63449959fd68365f80db957",
            "0aee8e1c9e514419be00c859939121b4",
            "ca2bd753f252467eb83313b08994fe5e",
            "bf08d8376dc24ca59cf02126630f2e2a",
            "cfd67cce21494155a718645a377214f1",
            "b9a860721a6a421781a7329ec3b400ce",
            "e26f8e6353394197beb1f6367fdbb428",
            "458086597cdc45e9b1228476ff07f7f9",
            "73b17d8ac7474ba38d682d55ff43952e",
            "3a163207c39a417088f993eed0175e41"
          ]
        },
        "id": "d55642c3",
        "outputId": "72afdb3c-f3c0-4374-854c-21fc5e5cff81"
      },
      "source": [
        "Map = geemap.Map()\n",
        "Map.add_layer(smallzone, {}, 'Smallzone')\n",
        "Map.center_object(smallzone, 12)\n",
        "Map"
      ],
      "execution_count": null,
      "outputs": [
        {
          "output_type": "display_data",
          "data": {
            "text/plain": [
              "<IPython.core.display.HTML object>"
            ],
            "text/html": [
              "\n",
              "            <style>\n",
              "                .geemap-dark {\n",
              "                    --jp-widgets-color: white;\n",
              "                    --jp-widgets-label-color: white;\n",
              "                    --jp-ui-font-color1: white;\n",
              "                    --jp-layout-color2: #454545;\n",
              "                    background-color: #383838;\n",
              "                }\n",
              "\n",
              "                .geemap-dark .jupyter-button {\n",
              "                    --jp-layout-color3: #383838;\n",
              "                }\n",
              "\n",
              "                .geemap-colab {\n",
              "                    background-color: var(--colab-primary-surface-color, white);\n",
              "                }\n",
              "\n",
              "                .geemap-colab .jupyter-button {\n",
              "                    --jp-layout-color3: var(--colab-primary-surface-color, white);\n",
              "                }\n",
              "            </style>\n",
              "            "
            ]
          },
          "metadata": {}
        },
        {
          "output_type": "display_data",
          "data": {
            "text/plain": [
              "Map(center=[12.990385039285822, 77.5530050751905], controls=(WidgetControl(options=['position', 'transparent_b…"
            ],
            "application/vnd.jupyter.widget-view+json": {
              "version_major": 2,
              "version_minor": 0,
              "model_id": "adaaafc63c334fab91d19e31e02154b6"
            }
          },
          "metadata": {
            "application/vnd.jupyter.widget-view+json": {
              "colab": {
                "custom_widget_manager": {
                  "url": "https://ssl.gstatic.com/colaboratory-static/widgets/colab-cdn-widget-manager/2b70e893a8ba7c0f/manager.min.js"
                }
              }
            }
          }
        }
      ]
    },
    {
      "cell_type": "markdown",
      "metadata": {
        "id": "fd7276ca"
      },
      "source": [
        "## Visualize the year-over-year change\n",
        "\n",
        "### Subtask:\n",
        "Visualize the year-over-year change in tree cover within the 'smallzone' region of Bangalore from 2013 to 2024.\n"
      ]
    },
    {
      "cell_type": "markdown",
      "metadata": {
        "id": "8a6accaa"
      },
      "source": [
        "**Reasoning**:\n",
        "Create a list of years and a list of tree cover percentages from the `year_percentage_list`, then create a line plot to visualize the year-over-year tree cover change.\n",
        "\n"
      ]
    },
    {
      "cell_type": "code",
      "metadata": {
        "colab": {
          "base_uri": "https://localhost:8080/",
          "height": 523
        },
        "id": "40daf9ed",
        "outputId": "9c7dc1e3-91e3-4fbd-c500-090d885f4d2f"
      },
      "source": [
        "import matplotlib.pyplot as plt\n",
        "\n",
        "years = [item['year'] for item in year_percentage_list]\n",
        "percentages = [item['percentage'] for item in year_percentage_list]\n",
        "\n",
        "plt.figure(figsize=(10, 6))\n",
        "plt.plot(years, percentages, marker='o', linestyle='-')\n",
        "plt.xlabel(\"Year\")\n",
        "plt.ylabel(\"Tree Cover Percentage (%)\")\n",
        "plt.title(\"Year-over-Year Tree Cover Change in Smallzone\")\n",
        "plt.grid(True)\n",
        "plt.show()"
      ],
      "execution_count": null,
      "outputs": [
        {
          "output_type": "display_data",
          "data": {
            "text/plain": [
              "<IPython.core.display.HTML object>"
            ],
            "text/html": [
              "\n",
              "            <style>\n",
              "                .geemap-dark {\n",
              "                    --jp-widgets-color: white;\n",
              "                    --jp-widgets-label-color: white;\n",
              "                    --jp-ui-font-color1: white;\n",
              "                    --jp-layout-color2: #454545;\n",
              "                    background-color: #383838;\n",
              "                }\n",
              "\n",
              "                .geemap-dark .jupyter-button {\n",
              "                    --jp-layout-color3: #383838;\n",
              "                }\n",
              "\n",
              "                .geemap-colab {\n",
              "                    background-color: var(--colab-primary-surface-color, white);\n",
              "                }\n",
              "\n",
              "                .geemap-colab .jupyter-button {\n",
              "                    --jp-layout-color3: var(--colab-primary-surface-color, white);\n",
              "                }\n",
              "            </style>\n",
              "            "
            ]
          },
          "metadata": {}
        },
        {
          "output_type": "display_data",
          "data": {
            "text/plain": [
              "<Figure size 1000x600 with 1 Axes>"
            ],
            "image/png": "[encoded data removed]"
          },
          "metadata": {}
        }
      ]
    },
    {
      "cell_type": "markdown",
      "metadata": {
        "id": "a576bfd9"
      },
      "source": [
        "## Summary:\n",
        "\n",
        "### Data Analysis Key Findings\n",
        "\n",
        "*   A function was successfully defined to calculate the percentage of tree cover within a geometry from an NDVI image, using an NDVI threshold of 0.3.\n",
        "*   The tree cover percentage for each year from 2013 to 2024 within the 'smallzone' region was calculated by applying the defined function to the NDVI image collection.\n",
        "*   The calculated tree cover percentages for each year were successfully extracted into a Python list of dictionaries, with each dictionary containing the year and its corresponding percentage.\n",
        "*   A line plot was generated showing the year-over-year change in tree cover percentage from 2013 to 2024.\n",
        "\n",
        "### Insights or Next Steps\n",
        "\n",
        "*   Analyze the trend in the generated plot to understand the overall change in tree cover in the 'smallzone' over the specified period.\n",
        "*   Consider investigating potential factors that might be contributing to any observed changes in tree cover, such as urbanization, policy changes, or environmental factors.\n"
      ]
    }
  ]
}